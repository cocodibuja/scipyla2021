{
  "nbformat": 4,
  "nbformat_minor": 0,
  "metadata": {
    "colab": {
      "name": "Scipyla2021",
      "provenance": [],
      "collapsed_sections": [],
      "authorship_tag": "ABX9TyPLJCP+57neP5Jx8zpkOF1H"
    },
    "kernelspec": {
      "name": "python3",
      "display_name": "Python 3"
    },
    "language_info": {
      "name": "python"
    }
  },
  "cells": [
    {
      "cell_type": "markdown",
      "source": [
        "# Taller: Análizando de datos desde un VPS\n",
        "\n",
        "\n",
        "*   Ariel Ramos\n",
        "*   Nico Quiroz\n",
        "\n"
      ],
      "metadata": {
        "id": "Cyws9ywWVmM4"
      }
    },
    {
      "cell_type": "markdown",
      "source": [
        "<img src=\"https://www.scipy.lat/es/_images/scipy.png\" alt=\"logo Scipy\">"
      ],
      "metadata": {
        "id": "vh5GUpmTVDGG"
      }
    },
    {
      "cell_type": "markdown",
      "source": [
        "\n",
        "\n",
        "Temario \n",
        "\n",
        "\n",
        "1.   Introducción VPS \n",
        "2.   Obtener los datos desde Weather ☀⛅🌦🌧\n",
        "3.   Abrir archivos con Pandas 🐼 📄**.csv**\n",
        "\n",
        "\n",
        "\n",
        "\n",
        "\n"
      ],
      "metadata": {
        "id": "tuXoJelOYnFZ"
      }
    },
    {
      "cell_type": "markdown",
      "source": [
        " ## VPS  Servidor Privado Virtual 🖥💻☁ ¿Qué es VPS y para que sirve?\n",
        "\n",
        "<img src=\"https://tricolor-scilla-68c.notion.site/image/https%3A%2F%2Fs3-us-west-2.amazonaws.com%2Fsecure.notion-static.com%2F41a77e84-97a2-42a0-b0ed-f5d6d1ef88d2%2FUntitled.png?table=block&id=92db9c6b-2ace-4f67-853e-495ef70bd90e&spaceId=62aa27de-48fd-4703-8a40-2de64b627b11&width=1760&userId=&cache=v2\" width=\"500\" alt=\"VPS digitalexa.unsa\">\n",
        "\n"
      ],
      "metadata": {
        "id": "1fhn5sNBZbL2"
      }
    },
    {
      "cell_type": "code",
      "source": [
        "#  paquetes se han instalado\n",
        "!pip list"
      ],
      "metadata": {
        "colab": {
          "base_uri": "https://localhost:8080/"
        },
        "id": "V9tgPyA6Mnyu",
        "outputId": "42d9c061-0965-41e4-90b0-485406050692"
      },
      "execution_count": null,
      "outputs": [
        {
          "output_type": "stream",
          "name": "stdout",
          "text": [
            "Package                       Version\n",
            "----------------------------- --------------\n",
            "absl-py                       0.12.0\n",
            "alabaster                     0.7.12\n",
            "albumentations                0.1.12\n",
            "altair                        4.1.0\n",
            "appdirs                       1.4.4\n",
            "argcomplete                   1.12.3\n",
            "argon2-cffi                   21.1.0\n",
            "arviz                         0.11.4\n",
            "astor                         0.8.1\n",
            "astropy                       4.3.1\n",
            "astunparse                    1.6.3\n",
            "atari-py                      0.2.9\n",
            "atomicwrites                  1.4.0\n",
            "attrs                         21.2.0\n",
            "audioread                     2.1.9\n",
            "autograd                      1.3\n",
            "Babel                         2.9.1\n",
            "backcall                      0.2.0\n",
            "beautifulsoup4                4.6.3\n",
            "bleach                        4.1.0\n",
            "blis                          0.4.1\n",
            "bokeh                         2.3.3\n",
            "Bottleneck                    1.3.2\n",
            "branca                        0.4.2\n",
            "bs4                           0.0.1\n",
            "CacheControl                  0.12.10\n",
            "cached-property               1.5.2\n",
            "cachetools                    4.2.4\n",
            "catalogue                     1.0.0\n",
            "certifi                       2021.10.8\n",
            "cffi                          1.15.0\n",
            "cftime                        1.5.1.1\n",
            "chardet                       3.0.4\n",
            "charset-normalizer            2.0.8\n",
            "click                         7.1.2\n",
            "cloudpickle                   1.3.0\n",
            "cmake                         3.12.0\n",
            "cmdstanpy                     0.9.5\n",
            "colorcet                      2.0.6\n",
            "colorlover                    0.3.0\n",
            "community                     1.0.0b1\n",
            "contextlib2                   0.5.5\n",
            "convertdate                   2.3.2\n",
            "coverage                      3.7.1\n",
            "coveralls                     0.5\n",
            "crcmod                        1.7\n",
            "cufflinks                     0.17.3\n",
            "cvxopt                        1.2.7\n",
            "cvxpy                         1.0.31\n",
            "cycler                        0.11.0\n",
            "cymem                         2.0.6\n",
            "Cython                        0.29.24\n",
            "daft                          0.0.4\n",
            "dask                          2.12.0\n",
            "datascience                   0.10.6\n",
            "debugpy                       1.0.0\n",
            "decorator                     4.4.2\n",
            "defusedxml                    0.7.1\n",
            "descartes                     1.1.0\n",
            "dill                          0.3.4\n",
            "distributed                   1.25.3\n",
            "dlib                          19.18.0\n",
            "dm-tree                       0.1.6\n",
            "docopt                        0.6.2\n",
            "docutils                      0.17.1\n",
            "dopamine-rl                   1.0.5\n",
            "earthengine-api               0.1.290\n",
            "easydict                      1.9\n",
            "ecos                          2.0.7.post1\n",
            "editdistance                  0.5.3\n",
            "en-core-web-sm                2.2.5\n",
            "entrypoints                   0.3\n",
            "ephem                         4.1\n",
            "et-xmlfile                    1.1.0\n",
            "fa2                           0.3.5\n",
            "fastai                        1.0.61\n",
            "fastdtw                       0.3.4\n",
            "fastprogress                  1.0.0\n",
            "fastrlock                     0.8\n",
            "fbprophet                     0.7.1\n",
            "feather-format                0.4.1\n",
            "filelock                      3.4.0\n",
            "firebase-admin                4.4.0\n",
            "fix-yahoo-finance             0.0.22\n",
            "Flask                         1.1.4\n",
            "flatbuffers                   2.0\n",
            "folium                        0.8.3\n",
            "future                        0.16.0\n",
            "gast                          0.4.0\n",
            "GDAL                          2.2.2\n",
            "gdown                         3.6.4\n",
            "gensim                        3.6.0\n",
            "geographiclib                 1.52\n",
            "geopy                         1.17.0\n",
            "gin-config                    0.5.0\n",
            "glob2                         0.7\n",
            "google                        2.0.3\n",
            "google-api-core               1.26.3\n",
            "google-api-python-client      1.12.8\n",
            "google-auth                   1.35.0\n",
            "google-auth-httplib2          0.0.4\n",
            "google-auth-oauthlib          0.4.6\n",
            "google-cloud-bigquery         1.21.0\n",
            "google-cloud-bigquery-storage 1.1.0\n",
            "google-cloud-core             1.0.3\n",
            "google-cloud-datastore        1.8.0\n",
            "google-cloud-firestore        1.7.0\n",
            "google-cloud-language         1.2.0\n",
            "google-cloud-storage          1.18.1\n",
            "google-cloud-translate        1.5.0\n",
            "google-colab                  1.0.0\n",
            "google-pasta                  0.2.0\n",
            "google-resumable-media        0.4.1\n",
            "googleapis-common-protos      1.53.0\n",
            "googledrivedownloader         0.4\n",
            "graphviz                      0.10.1\n",
            "greenlet                      1.1.2\n",
            "grpcio                        1.42.0\n",
            "gspread                       3.0.1\n",
            "gspread-dataframe             3.0.8\n",
            "gym                           0.17.3\n",
            "h5py                          3.1.0\n",
            "HeapDict                      1.0.1\n",
            "hijri-converter               2.2.2\n",
            "holidays                      0.10.5.2\n",
            "holoviews                     1.14.6\n",
            "html5lib                      1.0.1\n",
            "httpimport                    0.5.18\n",
            "httplib2                      0.17.4\n",
            "httplib2shim                  0.0.3\n",
            "humanize                      0.5.1\n",
            "hyperopt                      0.1.2\n",
            "ideep4py                      2.0.0.post3\n",
            "idna                          2.10\n",
            "imageio                       2.4.1\n",
            "imagesize                     1.3.0\n",
            "imbalanced-learn              0.8.1\n",
            "imblearn                      0.0\n",
            "imgaug                        0.2.9\n",
            "importlib-metadata            4.8.2\n",
            "importlib-resources           5.4.0\n",
            "imutils                       0.5.4\n",
            "inflect                       2.1.0\n",
            "iniconfig                     1.1.1\n",
            "intel-openmp                  2021.4.0\n",
            "intervaltree                  2.1.0\n",
            "ipykernel                     4.10.1\n",
            "ipython                       5.5.0\n",
            "ipython-genutils              0.2.0\n",
            "ipython-sql                   0.3.9\n",
            "ipywidgets                    7.6.5\n",
            "itsdangerous                  1.1.0\n",
            "jax                           0.2.25\n",
            "jaxlib                        0.1.71+cuda111\n",
            "jdcal                         1.4.1\n",
            "jedi                          0.18.1\n",
            "jieba                         0.42.1\n",
            "Jinja2                        2.11.3\n",
            "joblib                        1.1.0\n",
            "jpeg4py                       0.1.4\n",
            "jsonschema                    2.6.0\n",
            "jupyter                       1.0.0\n",
            "jupyter-client                5.3.5\n",
            "jupyter-console               5.2.0\n",
            "jupyter-core                  4.9.1\n",
            "jupyterlab-pygments           0.1.2\n",
            "jupyterlab-widgets            1.0.2\n",
            "kaggle                        1.5.12\n",
            "kapre                         0.3.6\n",
            "keras                         2.7.0\n",
            "Keras-Preprocessing           1.1.2\n",
            "keras-vis                     0.4.1\n",
            "kiwisolver                    1.3.2\n",
            "korean-lunar-calendar         0.2.1\n",
            "libclang                      12.0.0\n",
            "librosa                       0.8.1\n",
            "lightgbm                      2.2.3\n",
            "llvmlite                      0.34.0\n",
            "lmdb                          0.99\n",
            "LunarCalendar                 0.0.9\n",
            "lxml                          4.2.6\n",
            "Markdown                      3.3.6\n",
            "MarkupSafe                    2.0.1\n",
            "matplotlib                    3.2.2\n",
            "matplotlib-inline             0.1.3\n",
            "matplotlib-venn               0.11.6\n",
            "missingno                     0.5.0\n",
            "mistune                       0.8.4\n",
            "mizani                        0.6.0\n",
            "mkl                           2019.0\n",
            "mlxtend                       0.14.0\n",
            "more-itertools                8.12.0\n",
            "moviepy                       0.2.3.5\n",
            "mpmath                        1.2.1\n",
            "msgpack                       1.0.3\n",
            "multiprocess                  0.70.12.2\n",
            "multitasking                  0.0.10\n",
            "murmurhash                    1.0.6\n",
            "music21                       5.5.0\n",
            "natsort                       5.5.0\n",
            "nbclient                      0.5.9\n",
            "nbconvert                     5.6.1\n",
            "nbformat                      5.1.3\n",
            "nest-asyncio                  1.5.4\n",
            "netCDF4                       1.5.8\n",
            "networkx                      2.6.3\n",
            "nibabel                       3.0.2\n",
            "nltk                          3.2.5\n",
            "notebook                      5.3.1\n",
            "numba                         0.51.2\n",
            "numexpr                       2.7.3\n",
            "numpy                         1.19.5\n",
            "nvidia-ml-py3                 7.352.0\n",
            "oauth2client                  4.1.3\n",
            "oauthlib                      3.1.1\n",
            "okgrade                       0.4.3\n",
            "opencv-contrib-python         4.1.2.30\n",
            "opencv-python                 4.1.2.30\n",
            "openpyxl                      2.5.9\n",
            "opt-einsum                    3.3.0\n",
            "osqp                          0.6.2.post0\n",
            "packaging                     21.3\n",
            "palettable                    3.3.0\n",
            "pandas                        1.1.5\n",
            "pandas-datareader             0.9.0\n",
            "pandas-gbq                    0.13.3\n",
            "pandas-profiling              1.4.1\n",
            "pandocfilters                 1.5.0\n",
            "panel                         0.12.1\n",
            "param                         1.12.0\n",
            "parso                         0.8.3\n",
            "pathlib                       1.0.1\n",
            "patsy                         0.5.2\n",
            "pep517                        0.12.0\n",
            "pexpect                       4.8.0\n",
            "pickleshare                   0.7.5\n",
            "Pillow                        7.1.2\n",
            "pip                           21.1.3\n",
            "pip-tools                     6.2.0\n",
            "plac                          1.1.3\n",
            "plotly                        4.4.1\n",
            "plotnine                      0.6.0\n",
            "pluggy                        0.7.1\n",
            "pooch                         1.5.2\n",
            "portpicker                    1.3.9\n",
            "prefetch-generator            1.0.1\n",
            "preshed                       3.0.6\n",
            "prettytable                   2.4.0\n",
            "progressbar2                  3.38.0\n",
            "prometheus-client             0.12.0\n",
            "promise                       2.3\n",
            "prompt-toolkit                1.0.18\n",
            "protobuf                      3.17.3\n",
            "psutil                        5.4.8\n",
            "psycopg2                      2.7.6.1\n",
            "ptyprocess                    0.7.0\n",
            "py                            1.11.0\n",
            "pyarrow                       3.0.0\n",
            "pyasn1                        0.4.8\n",
            "pyasn1-modules                0.2.8\n",
            "pycocotools                   2.0.3\n",
            "pycparser                     2.21\n",
            "pyct                          0.4.8\n",
            "pydata-google-auth            1.2.0\n",
            "pydot                         1.3.0\n",
            "pydot-ng                      2.0.0\n",
            "pydotplus                     2.0.2\n",
            "PyDrive                       1.3.1\n",
            "pyemd                         0.5.1\n",
            "pyerfa                        2.0.0.1\n",
            "pyglet                        1.5.0\n",
            "Pygments                      2.6.1\n",
            "pygobject                     3.26.1\n",
            "pymc3                         3.11.4\n",
            "PyMeeus                       0.5.11\n",
            "pymongo                       3.12.1\n",
            "pymystem3                     0.2.0\n",
            "PyOpenGL                      3.1.5\n",
            "pyparsing                     3.0.6\n",
            "pyrsistent                    0.18.0\n",
            "pysndfile                     1.3.8\n",
            "PySocks                       1.7.1\n",
            "pystan                        2.19.1.1\n",
            "pytest                        3.6.4\n",
            "python-apt                    0.0.0\n",
            "python-chess                  0.23.11\n",
            "python-dateutil               2.8.2\n",
            "python-louvain                0.15\n",
            "python-slugify                5.0.2\n",
            "python-utils                  2.5.6\n",
            "pytz                          2018.9\n",
            "pyviz-comms                   2.1.0\n",
            "PyWavelets                    1.2.0\n",
            "PyYAML                        3.13\n",
            "pyzmq                         22.3.0\n",
            "qdldl                         0.1.5.post0\n",
            "qtconsole                     5.2.1\n",
            "QtPy                          1.11.2\n",
            "regex                         2019.12.20\n",
            "requests                      2.23.0\n",
            "requests-oauthlib             1.3.0\n",
            "resampy                       0.2.2\n",
            "retrying                      1.3.3\n",
            "rpy2                          3.4.5\n",
            "rsa                           4.8\n",
            "scikit-image                  0.18.3\n",
            "scikit-learn                  1.0.1\n",
            "scipy                         1.4.1\n",
            "screen-resolution-extra       0.0.0\n",
            "scs                           2.1.4\n",
            "seaborn                       0.11.2\n",
            "semver                        2.13.0\n",
            "Send2Trash                    1.8.0\n",
            "setuptools                    57.4.0\n",
            "setuptools-git                1.2\n",
            "Shapely                       1.8.0\n",
            "simplegeneric                 0.8.1\n",
            "six                           1.15.0\n",
            "sklearn                       0.0\n",
            "sklearn-pandas                1.8.0\n",
            "smart-open                    5.2.1\n",
            "snowballstemmer               2.2.0\n",
            "sortedcontainers              2.4.0\n",
            "SoundFile                     0.10.3.post1\n",
            "spacy                         2.2.4\n",
            "Sphinx                        1.8.6\n",
            "sphinxcontrib-serializinghtml 1.1.5\n",
            "sphinxcontrib-websupport      1.2.4\n",
            "SQLAlchemy                    1.4.27\n",
            "sqlparse                      0.4.2\n",
            "srsly                         1.0.5\n",
            "statsmodels                   0.10.2\n",
            "sympy                         1.7.1\n",
            "tables                        3.4.4\n",
            "tabulate                      0.8.9\n",
            "tblib                         1.7.0\n",
            "tensorboard                   2.7.0\n",
            "tensorboard-data-server       0.6.1\n",
            "tensorboard-plugin-wit        1.8.0\n",
            "tensorflow                    2.7.0\n",
            "tensorflow-datasets           4.0.1\n",
            "tensorflow-estimator          2.7.0\n",
            "tensorflow-gcs-config         2.7.0\n",
            "tensorflow-hub                0.12.0\n",
            "tensorflow-io-gcs-filesystem  0.22.0\n",
            "tensorflow-metadata           1.4.0\n",
            "tensorflow-probability        0.15.0\n",
            "termcolor                     1.1.0\n",
            "terminado                     0.12.1\n",
            "testpath                      0.5.0\n",
            "text-unidecode                1.3\n",
            "textblob                      0.15.3\n",
            "Theano-PyMC                   1.1.2\n",
            "thinc                         7.4.0\n",
            "threadpoolctl                 3.0.0\n",
            "tifffile                      2021.11.2\n",
            "toml                          0.10.2\n",
            "tomli                         1.2.2\n",
            "toolz                         0.11.2\n",
            "torch                         1.10.0+cu111\n",
            "torchaudio                    0.10.0+cu111\n",
            "torchsummary                  1.5.1\n",
            "torchtext                     0.11.0\n",
            "torchvision                   0.11.1+cu111\n",
            "tornado                       5.1.1\n",
            "tqdm                          4.62.3\n",
            "traitlets                     5.1.1\n",
            "tweepy                        3.10.0\n",
            "typeguard                     2.7.1\n",
            "typing-extensions             3.10.0.2\n",
            "tzlocal                       1.5.1\n",
            "uritemplate                   3.0.1\n",
            "urllib3                       1.24.3\n",
            "vega-datasets                 0.9.0\n",
            "wasabi                        0.8.2\n",
            "wcwidth                       0.2.5\n",
            "webencodings                  0.5.1\n",
            "Werkzeug                      1.0.1\n",
            "wheel                         0.37.0\n",
            "widgetsnbextension            3.5.2\n",
            "wordcloud                     1.5.0\n",
            "wrapt                         1.13.3\n",
            "xarray                        0.18.2\n",
            "xgboost                       0.90\n",
            "xkit                          0.0.0\n",
            "xlrd                          1.1.0\n",
            "xlwt                          1.3.0\n",
            "yellowbrick                   1.3.post1\n",
            "zict                          2.0.0\n",
            "zipp                          3.6.0\n"
          ]
        }
      ]
    },
    {
      "cell_type": "markdown",
      "source": [
        "## Obtener datos Global Weather Data for SWAT (repositorio de informacion meteorológica)\n",
        "[Global Weather Data for SWAT](https://globalweather.tamu.edu/)\n",
        "\n",
        "\n",
        "<img src=\"https://tricolor-scilla-68c.notion.site/image/https%3A%2F%2Fs3-us-west-2.amazonaws.com%2Fsecure.notion-static.com%2Ff83f0d8e-b911-4e20-b7d2-07732acd305a%2FUntitled.png?table=block&id=500edae4-0d33-4373-8a8e-9f293a7b9f1e&spaceId=62aa27de-48fd-4703-8a40-2de64b627b11&width=1750&userId=&cache=v2\" width=\"500\" alt=\"Global Weather Data\">\n",
        "\n"
      ],
      "metadata": {
        "id": "Zwp_I_elZr-5"
      }
    },
    {
      "cell_type": "markdown",
      "source": [
        "### [Pandas](https://pandas.pydata.org/)\n",
        "\n",
        "<img src=\"https://tricolor-scilla-68c.notion.site/image/https%3A%2F%2Fs3-us-west-2.amazonaws.com%2Fsecure.notion-static.com%2Fdc0dd082-a3da-4d41-a435-3c36877fd4f6%2FUntitled.png?table=block&id=74c62c2e-c4c7-4cd5-831a-7ca72f759e5e&spaceId=62aa27de-48fd-4703-8a40-2de64b627b11&width=640&userId=&cache=v2\" width=\"500\" alt=\"Global Weather Data\">\n",
        "\n",
        "\n"
      ],
      "metadata": {
        "id": "s8Uo2eNdQA00"
      }
    },
    {
      "cell_type": "code",
      "source": [
        "import pandas as pd"
      ],
      "metadata": {
        "id": "7fk8L4gUZajk"
      },
      "execution_count": null,
      "outputs": []
    },
    {
      "cell_type": "code",
      "source": [
        "ruta = \"https://raw.githubusercontent.com/cocodibuja/scipyla2021/main/weatherdata--304-622.csv\"\n",
        "df_weather = pd.read_csv(ruta)\n",
        "print(df_weather)"
      ],
      "metadata": {
        "colab": {
          "base_uri": "https://localhost:8080/"
        },
        "id": "Ho_l4WtTS79K",
        "outputId": "f5d679da-6537-44dd-a917-56ad7f7ba2e0"
      },
      "execution_count": null,
      "outputs": [
        {
          "output_type": "stream",
          "name": "stdout",
          "text": [
            "            Date  Longitude  ...      Solar  Unnamed: 10\n",
            "0       1/1/1979   -62.1875  ...  32.456311          NaN\n",
            "1       1/2/1979   -62.1875  ...  20.985752          NaN\n",
            "2       1/3/1979   -62.1875  ...  28.406984          NaN\n",
            "3       1/4/1979   -62.1875  ...  30.222842          NaN\n",
            "4       1/5/1979   -62.1875  ...  30.734881          NaN\n",
            "...          ...        ...  ...        ...          ...\n",
            "12982  7/27/2014   -62.1875  ...  13.388504          NaN\n",
            "12983  7/28/2014   -62.1875  ...  15.112251          NaN\n",
            "12984  7/29/2014   -62.1875  ...   6.979922          NaN\n",
            "12985  7/30/2014   -62.1875  ...   1.954017          NaN\n",
            "12986  7/31/2014   -62.1875  ...   8.233861          NaN\n",
            "\n",
            "[12987 rows x 11 columns]\n"
          ]
        }
      ]
    },
    {
      "cell_type": "code",
      "source": [
        "# dimensiones / forma\n",
        "df_weather.shape"
      ],
      "metadata": {
        "colab": {
          "base_uri": "https://localhost:8080/"
        },
        "id": "ZEzI2K-fWEXg",
        "outputId": "c39f191f-29ab-4ae0-efe4-b856f211c083"
      },
      "execution_count": null,
      "outputs": [
        {
          "output_type": "execute_result",
          "data": {
            "text/plain": [
              "(12987, 11)"
            ]
          },
          "metadata": {},
          "execution_count": 4
        }
      ]
    },
    {
      "cell_type": "code",
      "source": [
        "#primeros valores\n",
        "df_weather.head(10)"
      ],
      "metadata": {
        "colab": {
          "base_uri": "https://localhost:8080/",
          "height": 363
        },
        "id": "qhA5FjV1TQWN",
        "outputId": "08713ab9-6465-4336-cfa8-7299954e08bf"
      },
      "execution_count": null,
      "outputs": [
        {
          "output_type": "execute_result",
          "data": {
            "text/html": [
              "<div>\n",
              "<style scoped>\n",
              "    .dataframe tbody tr th:only-of-type {\n",
              "        vertical-align: middle;\n",
              "    }\n",
              "\n",
              "    .dataframe tbody tr th {\n",
              "        vertical-align: top;\n",
              "    }\n",
              "\n",
              "    .dataframe thead th {\n",
              "        text-align: right;\n",
              "    }\n",
              "</style>\n",
              "<table border=\"1\" class=\"dataframe\">\n",
              "  <thead>\n",
              "    <tr style=\"text-align: right;\">\n",
              "      <th></th>\n",
              "      <th>Date</th>\n",
              "      <th>Longitude</th>\n",
              "      <th>Latitude</th>\n",
              "      <th>Elevation</th>\n",
              "      <th>Max Temperature</th>\n",
              "      <th>Min Temperature</th>\n",
              "      <th>Precipitation</th>\n",
              "      <th>Wind</th>\n",
              "      <th>Relative Humidity</th>\n",
              "      <th>Solar</th>\n",
              "      <th>Unnamed: 10</th>\n",
              "    </tr>\n",
              "  </thead>\n",
              "  <tbody>\n",
              "    <tr>\n",
              "      <th>0</th>\n",
              "      <td>1/1/1979</td>\n",
              "      <td>-62.1875</td>\n",
              "      <td>-30.442301</td>\n",
              "      <td>75</td>\n",
              "      <td>34.968</td>\n",
              "      <td>18.019</td>\n",
              "      <td>0.346756</td>\n",
              "      <td>3.459731</td>\n",
              "      <td>0.539945</td>\n",
              "      <td>32.456311</td>\n",
              "      <td>NaN</td>\n",
              "    </tr>\n",
              "    <tr>\n",
              "      <th>1</th>\n",
              "      <td>1/2/1979</td>\n",
              "      <td>-62.1875</td>\n",
              "      <td>-30.442301</td>\n",
              "      <td>75</td>\n",
              "      <td>32.055</td>\n",
              "      <td>21.653</td>\n",
              "      <td>10.099693</td>\n",
              "      <td>3.182952</td>\n",
              "      <td>0.810696</td>\n",
              "      <td>20.985752</td>\n",
              "      <td>NaN</td>\n",
              "    </tr>\n",
              "    <tr>\n",
              "      <th>2</th>\n",
              "      <td>1/3/1979</td>\n",
              "      <td>-62.1875</td>\n",
              "      <td>-30.442301</td>\n",
              "      <td>75</td>\n",
              "      <td>32.643</td>\n",
              "      <td>19.994</td>\n",
              "      <td>0.000000</td>\n",
              "      <td>3.529763</td>\n",
              "      <td>0.638956</td>\n",
              "      <td>28.406984</td>\n",
              "      <td>NaN</td>\n",
              "    </tr>\n",
              "    <tr>\n",
              "      <th>3</th>\n",
              "      <td>1/4/1979</td>\n",
              "      <td>-62.1875</td>\n",
              "      <td>-30.442301</td>\n",
              "      <td>75</td>\n",
              "      <td>33.438</td>\n",
              "      <td>19.572</td>\n",
              "      <td>0.000000</td>\n",
              "      <td>3.430782</td>\n",
              "      <td>0.480420</td>\n",
              "      <td>30.222842</td>\n",
              "      <td>NaN</td>\n",
              "    </tr>\n",
              "    <tr>\n",
              "      <th>4</th>\n",
              "      <td>1/5/1979</td>\n",
              "      <td>-62.1875</td>\n",
              "      <td>-30.442301</td>\n",
              "      <td>75</td>\n",
              "      <td>35.729</td>\n",
              "      <td>20.306</td>\n",
              "      <td>0.000000</td>\n",
              "      <td>3.149614</td>\n",
              "      <td>0.445070</td>\n",
              "      <td>30.734881</td>\n",
              "      <td>NaN</td>\n",
              "    </tr>\n",
              "    <tr>\n",
              "      <th>5</th>\n",
              "      <td>1/6/1979</td>\n",
              "      <td>-62.1875</td>\n",
              "      <td>-30.442301</td>\n",
              "      <td>75</td>\n",
              "      <td>35.078</td>\n",
              "      <td>20.860</td>\n",
              "      <td>5.386732</td>\n",
              "      <td>3.897308</td>\n",
              "      <td>0.525130</td>\n",
              "      <td>25.913470</td>\n",
              "      <td>NaN</td>\n",
              "    </tr>\n",
              "    <tr>\n",
              "      <th>6</th>\n",
              "      <td>1/7/1979</td>\n",
              "      <td>-62.1875</td>\n",
              "      <td>-30.442301</td>\n",
              "      <td>75</td>\n",
              "      <td>31.511</td>\n",
              "      <td>18.435</td>\n",
              "      <td>14.177524</td>\n",
              "      <td>3.911551</td>\n",
              "      <td>0.644332</td>\n",
              "      <td>25.930351</td>\n",
              "      <td>NaN</td>\n",
              "    </tr>\n",
              "    <tr>\n",
              "      <th>7</th>\n",
              "      <td>1/8/1979</td>\n",
              "      <td>-62.1875</td>\n",
              "      <td>-30.442301</td>\n",
              "      <td>75</td>\n",
              "      <td>35.209</td>\n",
              "      <td>20.347</td>\n",
              "      <td>0.000000</td>\n",
              "      <td>4.374720</td>\n",
              "      <td>0.386730</td>\n",
              "      <td>32.974373</td>\n",
              "      <td>NaN</td>\n",
              "    </tr>\n",
              "    <tr>\n",
              "      <th>8</th>\n",
              "      <td>1/9/1979</td>\n",
              "      <td>-62.1875</td>\n",
              "      <td>-30.442301</td>\n",
              "      <td>75</td>\n",
              "      <td>36.087</td>\n",
              "      <td>20.501</td>\n",
              "      <td>0.000000</td>\n",
              "      <td>3.389024</td>\n",
              "      <td>0.379797</td>\n",
              "      <td>26.602368</td>\n",
              "      <td>NaN</td>\n",
              "    </tr>\n",
              "    <tr>\n",
              "      <th>9</th>\n",
              "      <td>1/10/1979</td>\n",
              "      <td>-62.1875</td>\n",
              "      <td>-30.442301</td>\n",
              "      <td>75</td>\n",
              "      <td>35.307</td>\n",
              "      <td>26.974</td>\n",
              "      <td>0.411987</td>\n",
              "      <td>3.351850</td>\n",
              "      <td>0.483311</td>\n",
              "      <td>15.340276</td>\n",
              "      <td>NaN</td>\n",
              "    </tr>\n",
              "  </tbody>\n",
              "</table>\n",
              "</div>"
            ],
            "text/plain": [
              "        Date  Longitude   Latitude  ...  Relative Humidity      Solar  Unnamed: 10\n",
              "0   1/1/1979   -62.1875 -30.442301  ...           0.539945  32.456311          NaN\n",
              "1   1/2/1979   -62.1875 -30.442301  ...           0.810696  20.985752          NaN\n",
              "2   1/3/1979   -62.1875 -30.442301  ...           0.638956  28.406984          NaN\n",
              "3   1/4/1979   -62.1875 -30.442301  ...           0.480420  30.222842          NaN\n",
              "4   1/5/1979   -62.1875 -30.442301  ...           0.445070  30.734881          NaN\n",
              "5   1/6/1979   -62.1875 -30.442301  ...           0.525130  25.913470          NaN\n",
              "6   1/7/1979   -62.1875 -30.442301  ...           0.644332  25.930351          NaN\n",
              "7   1/8/1979   -62.1875 -30.442301  ...           0.386730  32.974373          NaN\n",
              "8   1/9/1979   -62.1875 -30.442301  ...           0.379797  26.602368          NaN\n",
              "9  1/10/1979   -62.1875 -30.442301  ...           0.483311  15.340276          NaN\n",
              "\n",
              "[10 rows x 11 columns]"
            ]
          },
          "metadata": {},
          "execution_count": 5
        }
      ]
    },
    {
      "cell_type": "code",
      "source": [
        "#últimos valores\n",
        "df_weather.tail(5)"
      ],
      "metadata": {
        "colab": {
          "base_uri": "https://localhost:8080/",
          "height": 206
        },
        "id": "KXBPQsC1T7xu",
        "outputId": "25548cd6-d378-4f8d-9151-2f8703711c3f"
      },
      "execution_count": null,
      "outputs": [
        {
          "output_type": "execute_result",
          "data": {
            "text/html": [
              "<div>\n",
              "<style scoped>\n",
              "    .dataframe tbody tr th:only-of-type {\n",
              "        vertical-align: middle;\n",
              "    }\n",
              "\n",
              "    .dataframe tbody tr th {\n",
              "        vertical-align: top;\n",
              "    }\n",
              "\n",
              "    .dataframe thead th {\n",
              "        text-align: right;\n",
              "    }\n",
              "</style>\n",
              "<table border=\"1\" class=\"dataframe\">\n",
              "  <thead>\n",
              "    <tr style=\"text-align: right;\">\n",
              "      <th></th>\n",
              "      <th>Date</th>\n",
              "      <th>Longitude</th>\n",
              "      <th>Latitude</th>\n",
              "      <th>Elevation</th>\n",
              "      <th>Max Temperature</th>\n",
              "      <th>Min Temperature</th>\n",
              "      <th>Precipitation</th>\n",
              "      <th>Wind</th>\n",
              "      <th>Relative Humidity</th>\n",
              "      <th>Solar</th>\n",
              "      <th>Unnamed: 10</th>\n",
              "    </tr>\n",
              "  </thead>\n",
              "  <tbody>\n",
              "    <tr>\n",
              "      <th>12982</th>\n",
              "      <td>7/27/2014</td>\n",
              "      <td>-62.1875</td>\n",
              "      <td>-30.442301</td>\n",
              "      <td>75</td>\n",
              "      <td>15.938</td>\n",
              "      <td>5.081</td>\n",
              "      <td>0.000000</td>\n",
              "      <td>2.627763</td>\n",
              "      <td>0.639303</td>\n",
              "      <td>13.388504</td>\n",
              "      <td>NaN</td>\n",
              "    </tr>\n",
              "    <tr>\n",
              "      <th>12983</th>\n",
              "      <td>7/28/2014</td>\n",
              "      <td>-62.1875</td>\n",
              "      <td>-30.442301</td>\n",
              "      <td>75</td>\n",
              "      <td>20.470</td>\n",
              "      <td>6.121</td>\n",
              "      <td>0.000000</td>\n",
              "      <td>3.853856</td>\n",
              "      <td>0.698549</td>\n",
              "      <td>15.112251</td>\n",
              "      <td>NaN</td>\n",
              "    </tr>\n",
              "    <tr>\n",
              "      <th>12984</th>\n",
              "      <td>7/29/2014</td>\n",
              "      <td>-62.1875</td>\n",
              "      <td>-30.442301</td>\n",
              "      <td>75</td>\n",
              "      <td>22.072</td>\n",
              "      <td>12.764</td>\n",
              "      <td>0.209427</td>\n",
              "      <td>2.890072</td>\n",
              "      <td>0.785835</td>\n",
              "      <td>6.979922</td>\n",
              "      <td>NaN</td>\n",
              "    </tr>\n",
              "    <tr>\n",
              "      <th>12985</th>\n",
              "      <td>7/30/2014</td>\n",
              "      <td>-62.1875</td>\n",
              "      <td>-30.442301</td>\n",
              "      <td>75</td>\n",
              "      <td>18.200</td>\n",
              "      <td>15.068</td>\n",
              "      <td>2.204133</td>\n",
              "      <td>2.457414</td>\n",
              "      <td>0.827991</td>\n",
              "      <td>1.954017</td>\n",
              "      <td>NaN</td>\n",
              "    </tr>\n",
              "    <tr>\n",
              "      <th>12986</th>\n",
              "      <td>7/31/2014</td>\n",
              "      <td>-62.1875</td>\n",
              "      <td>-30.442301</td>\n",
              "      <td>75</td>\n",
              "      <td>22.298</td>\n",
              "      <td>15.538</td>\n",
              "      <td>1.692579</td>\n",
              "      <td>1.438762</td>\n",
              "      <td>0.841980</td>\n",
              "      <td>8.233861</td>\n",
              "      <td>NaN</td>\n",
              "    </tr>\n",
              "  </tbody>\n",
              "</table>\n",
              "</div>"
            ],
            "text/plain": [
              "            Date  Longitude  ...      Solar  Unnamed: 10\n",
              "12982  7/27/2014   -62.1875  ...  13.388504          NaN\n",
              "12983  7/28/2014   -62.1875  ...  15.112251          NaN\n",
              "12984  7/29/2014   -62.1875  ...   6.979922          NaN\n",
              "12985  7/30/2014   -62.1875  ...   1.954017          NaN\n",
              "12986  7/31/2014   -62.1875  ...   8.233861          NaN\n",
              "\n",
              "[5 rows x 11 columns]"
            ]
          },
          "metadata": {},
          "execution_count": 6
        }
      ]
    },
    {
      "cell_type": "code",
      "source": [
        "# nombres de las columnas\n",
        "print(df_weather.columns.values)"
      ],
      "metadata": {
        "colab": {
          "base_uri": "https://localhost:8080/"
        },
        "id": "DLuZhqQ7Vo4w",
        "outputId": "f251547e-3cdd-4497-c145-798e8bab04d3"
      },
      "execution_count": null,
      "outputs": [
        {
          "output_type": "stream",
          "name": "stdout",
          "text": [
            "['Date' 'Longitude' 'Latitude' 'Elevation' 'Max Temperature'\n",
            " 'Min Temperature' 'Precipitation' 'Wind' 'Relative Humidity' 'Solar'\n",
            " 'Unnamed: 10']\n"
          ]
        }
      ]
    },
    {
      "cell_type": "code",
      "source": [
        "#borramos una columna en particular\n",
        "del df_weather['Unnamed: 10']"
      ],
      "metadata": {
        "id": "ZQ26jOlyZKnK"
      },
      "execution_count": null,
      "outputs": []
    },
    {
      "cell_type": "code",
      "source": [
        "df_weather"
      ],
      "metadata": {
        "colab": {
          "base_uri": "https://localhost:8080/",
          "height": 423
        },
        "id": "s4RTLMVsZgGr",
        "outputId": "792dfa1d-de3e-49d9-9d0f-813dbdf3e6d6"
      },
      "execution_count": null,
      "outputs": [
        {
          "output_type": "execute_result",
          "data": {
            "text/html": [
              "<div>\n",
              "<style scoped>\n",
              "    .dataframe tbody tr th:only-of-type {\n",
              "        vertical-align: middle;\n",
              "    }\n",
              "\n",
              "    .dataframe tbody tr th {\n",
              "        vertical-align: top;\n",
              "    }\n",
              "\n",
              "    .dataframe thead th {\n",
              "        text-align: right;\n",
              "    }\n",
              "</style>\n",
              "<table border=\"1\" class=\"dataframe\">\n",
              "  <thead>\n",
              "    <tr style=\"text-align: right;\">\n",
              "      <th></th>\n",
              "      <th>Date</th>\n",
              "      <th>Longitude</th>\n",
              "      <th>Latitude</th>\n",
              "      <th>Elevation</th>\n",
              "      <th>Max Temperature</th>\n",
              "      <th>Min Temperature</th>\n",
              "      <th>Precipitation</th>\n",
              "      <th>Wind</th>\n",
              "      <th>Relative Humidity</th>\n",
              "      <th>Solar</th>\n",
              "    </tr>\n",
              "  </thead>\n",
              "  <tbody>\n",
              "    <tr>\n",
              "      <th>0</th>\n",
              "      <td>1/1/1979</td>\n",
              "      <td>-62.1875</td>\n",
              "      <td>-30.442301</td>\n",
              "      <td>75</td>\n",
              "      <td>34.968</td>\n",
              "      <td>18.019</td>\n",
              "      <td>0.346756</td>\n",
              "      <td>3.459731</td>\n",
              "      <td>0.539945</td>\n",
              "      <td>32.456311</td>\n",
              "    </tr>\n",
              "    <tr>\n",
              "      <th>1</th>\n",
              "      <td>1/2/1979</td>\n",
              "      <td>-62.1875</td>\n",
              "      <td>-30.442301</td>\n",
              "      <td>75</td>\n",
              "      <td>32.055</td>\n",
              "      <td>21.653</td>\n",
              "      <td>10.099693</td>\n",
              "      <td>3.182952</td>\n",
              "      <td>0.810696</td>\n",
              "      <td>20.985752</td>\n",
              "    </tr>\n",
              "    <tr>\n",
              "      <th>2</th>\n",
              "      <td>1/3/1979</td>\n",
              "      <td>-62.1875</td>\n",
              "      <td>-30.442301</td>\n",
              "      <td>75</td>\n",
              "      <td>32.643</td>\n",
              "      <td>19.994</td>\n",
              "      <td>0.000000</td>\n",
              "      <td>3.529763</td>\n",
              "      <td>0.638956</td>\n",
              "      <td>28.406984</td>\n",
              "    </tr>\n",
              "    <tr>\n",
              "      <th>3</th>\n",
              "      <td>1/4/1979</td>\n",
              "      <td>-62.1875</td>\n",
              "      <td>-30.442301</td>\n",
              "      <td>75</td>\n",
              "      <td>33.438</td>\n",
              "      <td>19.572</td>\n",
              "      <td>0.000000</td>\n",
              "      <td>3.430782</td>\n",
              "      <td>0.480420</td>\n",
              "      <td>30.222842</td>\n",
              "    </tr>\n",
              "    <tr>\n",
              "      <th>4</th>\n",
              "      <td>1/5/1979</td>\n",
              "      <td>-62.1875</td>\n",
              "      <td>-30.442301</td>\n",
              "      <td>75</td>\n",
              "      <td>35.729</td>\n",
              "      <td>20.306</td>\n",
              "      <td>0.000000</td>\n",
              "      <td>3.149614</td>\n",
              "      <td>0.445070</td>\n",
              "      <td>30.734881</td>\n",
              "    </tr>\n",
              "    <tr>\n",
              "      <th>...</th>\n",
              "      <td>...</td>\n",
              "      <td>...</td>\n",
              "      <td>...</td>\n",
              "      <td>...</td>\n",
              "      <td>...</td>\n",
              "      <td>...</td>\n",
              "      <td>...</td>\n",
              "      <td>...</td>\n",
              "      <td>...</td>\n",
              "      <td>...</td>\n",
              "    </tr>\n",
              "    <tr>\n",
              "      <th>12982</th>\n",
              "      <td>7/27/2014</td>\n",
              "      <td>-62.1875</td>\n",
              "      <td>-30.442301</td>\n",
              "      <td>75</td>\n",
              "      <td>15.938</td>\n",
              "      <td>5.081</td>\n",
              "      <td>0.000000</td>\n",
              "      <td>2.627763</td>\n",
              "      <td>0.639303</td>\n",
              "      <td>13.388504</td>\n",
              "    </tr>\n",
              "    <tr>\n",
              "      <th>12983</th>\n",
              "      <td>7/28/2014</td>\n",
              "      <td>-62.1875</td>\n",
              "      <td>-30.442301</td>\n",
              "      <td>75</td>\n",
              "      <td>20.470</td>\n",
              "      <td>6.121</td>\n",
              "      <td>0.000000</td>\n",
              "      <td>3.853856</td>\n",
              "      <td>0.698549</td>\n",
              "      <td>15.112251</td>\n",
              "    </tr>\n",
              "    <tr>\n",
              "      <th>12984</th>\n",
              "      <td>7/29/2014</td>\n",
              "      <td>-62.1875</td>\n",
              "      <td>-30.442301</td>\n",
              "      <td>75</td>\n",
              "      <td>22.072</td>\n",
              "      <td>12.764</td>\n",
              "      <td>0.209427</td>\n",
              "      <td>2.890072</td>\n",
              "      <td>0.785835</td>\n",
              "      <td>6.979922</td>\n",
              "    </tr>\n",
              "    <tr>\n",
              "      <th>12985</th>\n",
              "      <td>7/30/2014</td>\n",
              "      <td>-62.1875</td>\n",
              "      <td>-30.442301</td>\n",
              "      <td>75</td>\n",
              "      <td>18.200</td>\n",
              "      <td>15.068</td>\n",
              "      <td>2.204133</td>\n",
              "      <td>2.457414</td>\n",
              "      <td>0.827991</td>\n",
              "      <td>1.954017</td>\n",
              "    </tr>\n",
              "    <tr>\n",
              "      <th>12986</th>\n",
              "      <td>7/31/2014</td>\n",
              "      <td>-62.1875</td>\n",
              "      <td>-30.442301</td>\n",
              "      <td>75</td>\n",
              "      <td>22.298</td>\n",
              "      <td>15.538</td>\n",
              "      <td>1.692579</td>\n",
              "      <td>1.438762</td>\n",
              "      <td>0.841980</td>\n",
              "      <td>8.233861</td>\n",
              "    </tr>\n",
              "  </tbody>\n",
              "</table>\n",
              "<p>12987 rows × 10 columns</p>\n",
              "</div>"
            ],
            "text/plain": [
              "            Date  Longitude   Latitude  ...      Wind  Relative Humidity      Solar\n",
              "0       1/1/1979   -62.1875 -30.442301  ...  3.459731           0.539945  32.456311\n",
              "1       1/2/1979   -62.1875 -30.442301  ...  3.182952           0.810696  20.985752\n",
              "2       1/3/1979   -62.1875 -30.442301  ...  3.529763           0.638956  28.406984\n",
              "3       1/4/1979   -62.1875 -30.442301  ...  3.430782           0.480420  30.222842\n",
              "4       1/5/1979   -62.1875 -30.442301  ...  3.149614           0.445070  30.734881\n",
              "...          ...        ...        ...  ...       ...                ...        ...\n",
              "12982  7/27/2014   -62.1875 -30.442301  ...  2.627763           0.639303  13.388504\n",
              "12983  7/28/2014   -62.1875 -30.442301  ...  3.853856           0.698549  15.112251\n",
              "12984  7/29/2014   -62.1875 -30.442301  ...  2.890072           0.785835   6.979922\n",
              "12985  7/30/2014   -62.1875 -30.442301  ...  2.457414           0.827991   1.954017\n",
              "12986  7/31/2014   -62.1875 -30.442301  ...  1.438762           0.841980   8.233861\n",
              "\n",
              "[12987 rows x 10 columns]"
            ]
          },
          "metadata": {},
          "execution_count": 9
        }
      ]
    },
    {
      "cell_type": "code",
      "source": [
        "### Veamos Longitude,Latitude,Elevation"
      ],
      "metadata": {
        "id": "4eLezeb7aT0Z"
      },
      "execution_count": null,
      "outputs": []
    },
    {
      "cell_type": "code",
      "source": [
        "df_weather['Longitude'].plot()\n"
      ],
      "metadata": {
        "colab": {
          "base_uri": "https://localhost:8080/",
          "height": 282
        },
        "id": "8SiV0TEdZpVZ",
        "outputId": "1b863c6d-fd11-41d5-ce8e-2f5fa4e21ec0"
      },
      "execution_count": null,
      "outputs": [
        {
          "output_type": "execute_result",
          "data": {
            "text/plain": [
              "<matplotlib.axes._subplots.AxesSubplot at 0x7ff321251e10>"
            ]
          },
          "metadata": {},
          "execution_count": 11
        },
        {
          "output_type": "display_data",
          "data": {
            "image/png": "[encoded data removed]",
            "text/plain": [
              "<Figure size 432x288 with 1 Axes>"
            ]
          },
          "metadata": {
            "needs_background": "light"
          }
        }
      ]
    },
    {
      "cell_type": "code",
      "source": [
        "df_weather['Longitude'].unique()"
      ],
      "metadata": {
        "colab": {
          "base_uri": "https://localhost:8080/"
        },
        "id": "w2DIIe5JareG",
        "outputId": "340baedd-57f4-4b0b-e5e2-cc954602d1b9"
      },
      "execution_count": null,
      "outputs": [
        {
          "output_type": "execute_result",
          "data": {
            "text/plain": [
              "array([-62.1875])"
            ]
          },
          "metadata": {},
          "execution_count": 12
        }
      ]
    },
    {
      "cell_type": "code",
      "source": [
        "print(df_weather['Latitude'].unique())\n",
        "df_weather['Latitude'].plot()"
      ],
      "metadata": {
        "colab": {
          "base_uri": "https://localhost:8080/",
          "height": 300
        },
        "id": "EC3Zn5Eea1_6",
        "outputId": "165ef30f-de78-4098-d676-7eb4ab838151"
      },
      "execution_count": null,
      "outputs": [
        {
          "output_type": "stream",
          "name": "stdout",
          "text": [
            "[-30.4423008]\n"
          ]
        },
        {
          "output_type": "execute_result",
          "data": {
            "text/plain": [
              "<matplotlib.axes._subplots.AxesSubplot at 0x7ff321128210>"
            ]
          },
          "metadata": {},
          "execution_count": 13
        },
        {
          "output_type": "display_data",
          "data": {
            "image/png": "[encoded data removed]",
            "text/plain": [
              "<Figure size 432x288 with 1 Axes>"
            ]
          },
          "metadata": {
            "needs_background": "light"
          }
        }
      ]
    },
    {
      "cell_type": "code",
      "source": [
        "print(df_weather['Elevation'].unique())\n",
        "df_weather['Elevation'].plot()"
      ],
      "metadata": {
        "colab": {
          "base_uri": "https://localhost:8080/",
          "height": 301
        },
        "id": "8GhrTUfLa_EI",
        "outputId": "9fd35b70-43b8-4248-d973-308e606e2b21"
      },
      "execution_count": null,
      "outputs": [
        {
          "output_type": "stream",
          "name": "stdout",
          "text": [
            "[75]\n"
          ]
        },
        {
          "output_type": "execute_result",
          "data": {
            "text/plain": [
              "<matplotlib.axes._subplots.AxesSubplot at 0x7ff3282b5050>"
            ]
          },
          "metadata": {},
          "execution_count": 14
        },
        {
          "output_type": "display_data",
          "data": {
            "image/png": "[encoded data removed]",
            "text/plain": [
              "<Figure size 432x288 with 1 Axes>"
            ]
          },
          "metadata": {
            "needs_background": "light"
          }
        }
      ]
    },
    {
      "cell_type": "markdown",
      "source": [
        "\n",
        "**Longitude** -30.442301  **Latitude** 75  **Elevation** 34.968"
      ],
      "metadata": {
        "id": "ETjexYLEbMZa"
      }
    },
    {
      "cell_type": "code",
      "source": [
        "#borramos varias columnas Longitude, Latitude, Elevation\n",
        "       \n",
        "df_weather = df_weather.drop(['Longitude', 'Latitude', 'Elevation'], axis =1)\n",
        "# en caso de tener muchas columnas que borrar... => solo nos quedamos con \n",
        "# aquellas columnas de nuestro interés\n",
        "df_opcion_2 = df_weather[['Date', 'Max Temperature',\n",
        "       'Min Temperature', 'Precipitation', 'Wind', 'Relative Humidity',\n",
        "       'Solar']]"
      ],
      "metadata": {
        "id": "w5jM_G7obcyG"
      },
      "execution_count": null,
      "outputs": []
    },
    {
      "cell_type": "code",
      "source": [
        "df_weather.head()"
      ],
      "metadata": {
        "colab": {
          "base_uri": "https://localhost:8080/",
          "height": 206
        },
        "id": "CFgNalGUdVyI",
        "outputId": "19736400-8633-494b-e913-df04a3cc5c6f"
      },
      "execution_count": null,
      "outputs": [
        {
          "output_type": "execute_result",
          "data": {
            "text/html": [
              "<div>\n",
              "<style scoped>\n",
              "    .dataframe tbody tr th:only-of-type {\n",
              "        vertical-align: middle;\n",
              "    }\n",
              "\n",
              "    .dataframe tbody tr th {\n",
              "        vertical-align: top;\n",
              "    }\n",
              "\n",
              "    .dataframe thead th {\n",
              "        text-align: right;\n",
              "    }\n",
              "</style>\n",
              "<table border=\"1\" class=\"dataframe\">\n",
              "  <thead>\n",
              "    <tr style=\"text-align: right;\">\n",
              "      <th></th>\n",
              "      <th>Date</th>\n",
              "      <th>Max Temperature</th>\n",
              "      <th>Min Temperature</th>\n",
              "      <th>Precipitation</th>\n",
              "      <th>Wind</th>\n",
              "      <th>Relative Humidity</th>\n",
              "      <th>Solar</th>\n",
              "    </tr>\n",
              "  </thead>\n",
              "  <tbody>\n",
              "    <tr>\n",
              "      <th>0</th>\n",
              "      <td>1/1/1979</td>\n",
              "      <td>34.968</td>\n",
              "      <td>18.019</td>\n",
              "      <td>0.346756</td>\n",
              "      <td>3.459731</td>\n",
              "      <td>0.539945</td>\n",
              "      <td>32.456311</td>\n",
              "    </tr>\n",
              "    <tr>\n",
              "      <th>1</th>\n",
              "      <td>1/2/1979</td>\n",
              "      <td>32.055</td>\n",
              "      <td>21.653</td>\n",
              "      <td>10.099693</td>\n",
              "      <td>3.182952</td>\n",
              "      <td>0.810696</td>\n",
              "      <td>20.985752</td>\n",
              "    </tr>\n",
              "    <tr>\n",
              "      <th>2</th>\n",
              "      <td>1/3/1979</td>\n",
              "      <td>32.643</td>\n",
              "      <td>19.994</td>\n",
              "      <td>0.000000</td>\n",
              "      <td>3.529763</td>\n",
              "      <td>0.638956</td>\n",
              "      <td>28.406984</td>\n",
              "    </tr>\n",
              "    <tr>\n",
              "      <th>3</th>\n",
              "      <td>1/4/1979</td>\n",
              "      <td>33.438</td>\n",
              "      <td>19.572</td>\n",
              "      <td>0.000000</td>\n",
              "      <td>3.430782</td>\n",
              "      <td>0.480420</td>\n",
              "      <td>30.222842</td>\n",
              "    </tr>\n",
              "    <tr>\n",
              "      <th>4</th>\n",
              "      <td>1/5/1979</td>\n",
              "      <td>35.729</td>\n",
              "      <td>20.306</td>\n",
              "      <td>0.000000</td>\n",
              "      <td>3.149614</td>\n",
              "      <td>0.445070</td>\n",
              "      <td>30.734881</td>\n",
              "    </tr>\n",
              "  </tbody>\n",
              "</table>\n",
              "</div>"
            ],
            "text/plain": [
              "       Date  Max Temperature  ...  Relative Humidity      Solar\n",
              "0  1/1/1979           34.968  ...           0.539945  32.456311\n",
              "1  1/2/1979           32.055  ...           0.810696  20.985752\n",
              "2  1/3/1979           32.643  ...           0.638956  28.406984\n",
              "3  1/4/1979           33.438  ...           0.480420  30.222842\n",
              "4  1/5/1979           35.729  ...           0.445070  30.734881\n",
              "\n",
              "[5 rows x 7 columns]"
            ]
          },
          "metadata": {},
          "execution_count": 23
        }
      ]
    },
    {
      "cell_type": "code",
      "source": [
        "df_weather['Max Temperature'].max()"
      ],
      "metadata": {
        "colab": {
          "base_uri": "https://localhost:8080/"
        },
        "id": "fMhp18UldNfi",
        "outputId": "c3a50d67-7f71-4555-d2ec-71d553b9abb1"
      },
      "execution_count": null,
      "outputs": [
        {
          "output_type": "execute_result",
          "data": {
            "text/plain": [
              "47.861000000000004"
            ]
          },
          "metadata": {},
          "execution_count": 24
        }
      ]
    },
    {
      "cell_type": "code",
      "source": [
        "df_weather['Max Temperature'].min()"
      ],
      "metadata": {
        "colab": {
          "base_uri": "https://localhost:8080/"
        },
        "id": "VVh2lvM8d-X1",
        "outputId": "a0563b0d-1c0b-483d-bdad-363e6de022b2"
      },
      "execution_count": null,
      "outputs": [
        {
          "output_type": "execute_result",
          "data": {
            "text/plain": [
              "4.60599999999999"
            ]
          },
          "metadata": {},
          "execution_count": 25
        }
      ]
    },
    {
      "cell_type": "code",
      "source": [
        "df_weather['Min Temperature'].max()"
      ],
      "metadata": {
        "colab": {
          "base_uri": "https://localhost:8080/"
        },
        "id": "erYO2WlZed73",
        "outputId": "b5e9cdf5-b6e4-4de6-87fa-0f1bf19d7568"
      },
      "execution_count": null,
      "outputs": [
        {
          "output_type": "execute_result",
          "data": {
            "text/plain": [
              "34.181999999999995"
            ]
          },
          "metadata": {},
          "execution_count": 27
        }
      ]
    },
    {
      "cell_type": "code",
      "source": [
        "df_weather['Min Temperature'].min()"
      ],
      "metadata": {
        "colab": {
          "base_uri": "https://localhost:8080/"
        },
        "id": "O_TgUmhuel9I",
        "outputId": "f3a6d614-9552-49d9-c0ab-c3c48919acd9"
      },
      "execution_count": null,
      "outputs": [
        {
          "output_type": "execute_result",
          "data": {
            "text/plain": [
              "-2.48200000000003"
            ]
          },
          "metadata": {},
          "execution_count": 28
        }
      ]
    },
    {
      "cell_type": "code",
      "source": [
        ""
      ],
      "metadata": {
        "id": "dKceITI0hyL-"
      },
      "execution_count": null,
      "outputs": []
    },
    {
      "cell_type": "markdown",
      "source": [
        "### ¿Cuál fue la Mínima Temp cuando fué la Máxima Temp?"
      ],
      "metadata": {
        "id": "gSrOodvEffyX"
      }
    },
    {
      "cell_type": "code",
      "source": [
        "max_temperature_max = df_weather['Max Temperature'].max()"
      ],
      "metadata": {
        "id": "Qt4EuSq4eqi5"
      },
      "execution_count": null,
      "outputs": []
    },
    {
      "cell_type": "code",
      "source": [
        "df_weather[df_weather['Max Temperature']==max_temperature_max]"
      ],
      "metadata": {
        "colab": {
          "base_uri": "https://localhost:8080/",
          "height": 81
        },
        "id": "uSP7brkQfO7M",
        "outputId": "669e9890-8929-45d8-804e-5b1b60d3da4e"
      },
      "execution_count": null,
      "outputs": [
        {
          "output_type": "execute_result",
          "data": {
            "text/html": [
              "<div>\n",
              "<style scoped>\n",
              "    .dataframe tbody tr th:only-of-type {\n",
              "        vertical-align: middle;\n",
              "    }\n",
              "\n",
              "    .dataframe tbody tr th {\n",
              "        vertical-align: top;\n",
              "    }\n",
              "\n",
              "    .dataframe thead th {\n",
              "        text-align: right;\n",
              "    }\n",
              "</style>\n",
              "<table border=\"1\" class=\"dataframe\">\n",
              "  <thead>\n",
              "    <tr style=\"text-align: right;\">\n",
              "      <th></th>\n",
              "      <th>Date</th>\n",
              "      <th>Max Temperature</th>\n",
              "      <th>Min Temperature</th>\n",
              "      <th>Precipitation</th>\n",
              "      <th>Wind</th>\n",
              "      <th>Relative Humidity</th>\n",
              "      <th>Solar</th>\n",
              "    </tr>\n",
              "  </thead>\n",
              "  <tbody>\n",
              "    <tr>\n",
              "      <th>6186</th>\n",
              "      <td>12/18/1995</td>\n",
              "      <td>47.861</td>\n",
              "      <td>24.453</td>\n",
              "      <td>0.0</td>\n",
              "      <td>2.147444</td>\n",
              "      <td>0.173862</td>\n",
              "      <td>34.003298</td>\n",
              "    </tr>\n",
              "  </tbody>\n",
              "</table>\n",
              "</div>"
            ],
            "text/plain": [
              "            Date  Max Temperature  ...  Relative Humidity      Solar\n",
              "6186  12/18/1995           47.861  ...           0.173862  34.003298\n",
              "\n",
              "[1 rows x 7 columns]"
            ]
          },
          "metadata": {},
          "execution_count": 31
        }
      ]
    },
    {
      "cell_type": "code",
      "source": [
        "df_weather['Max Temperature'][1:100].plot();\n",
        "df_weather['Min Temperature'][1:100].plot();\n"
      ],
      "metadata": {
        "colab": {
          "base_uri": "https://localhost:8080/",
          "height": 265
        },
        "id": "Z0sq4xOzifM9",
        "outputId": "14837d38-e434-47ec-c29a-8d30830e5ced"
      },
      "execution_count": null,
      "outputs": [
        {
          "output_type": "display_data",
          "data": {
            "image/png": "[encoded data removed]",
            "text/plain": [
              "<Figure size 432x288 with 1 Axes>"
            ]
          },
          "metadata": {
            "needs_background": "light"
          }
        }
      ]
    },
    {
      "cell_type": "code",
      "source": [
        "df_weather.sort_values('Max Temperature')#,ascending=False)"
      ],
      "metadata": {
        "colab": {
          "base_uri": "https://localhost:8080/",
          "height": 423
        },
        "id": "_wDhm8z51A8a",
        "outputId": "4d76d593-e402-49ba-cf62-97062ff0fd7c"
      },
      "execution_count": null,
      "outputs": [
        {
          "output_type": "execute_result",
          "data": {
            "text/html": [
              "<div>\n",
              "<style scoped>\n",
              "    .dataframe tbody tr th:only-of-type {\n",
              "        vertical-align: middle;\n",
              "    }\n",
              "\n",
              "    .dataframe tbody tr th {\n",
              "        vertical-align: top;\n",
              "    }\n",
              "\n",
              "    .dataframe thead th {\n",
              "        text-align: right;\n",
              "    }\n",
              "</style>\n",
              "<table border=\"1\" class=\"dataframe\">\n",
              "  <thead>\n",
              "    <tr style=\"text-align: right;\">\n",
              "      <th></th>\n",
              "      <th>Date</th>\n",
              "      <th>Max Temperature</th>\n",
              "      <th>Min Temperature</th>\n",
              "      <th>Precipitation</th>\n",
              "      <th>Wind</th>\n",
              "      <th>Relative Humidity</th>\n",
              "      <th>Solar</th>\n",
              "      <th>seasons</th>\n",
              "      <th>Seasons</th>\n",
              "    </tr>\n",
              "  </thead>\n",
              "  <tbody>\n",
              "    <tr>\n",
              "      <th>7852</th>\n",
              "      <td>2000-07-10</td>\n",
              "      <td>4.606</td>\n",
              "      <td>2.298</td>\n",
              "      <td>14.295104</td>\n",
              "      <td>7.762582</td>\n",
              "      <td>0.916285</td>\n",
              "      <td>1.713825</td>\n",
              "      <td>verano</td>\n",
              "      <td>verano</td>\n",
              "    </tr>\n",
              "    <tr>\n",
              "      <th>11558</th>\n",
              "      <td>2010-09-02</td>\n",
              "      <td>7.181</td>\n",
              "      <td>5.525</td>\n",
              "      <td>2.950859</td>\n",
              "      <td>5.568770</td>\n",
              "      <td>0.886776</td>\n",
              "      <td>2.743932</td>\n",
              "      <td>verano</td>\n",
              "      <td>verano</td>\n",
              "    </tr>\n",
              "    <tr>\n",
              "      <th>11891</th>\n",
              "      <td>2011-08-01</td>\n",
              "      <td>7.206</td>\n",
              "      <td>2.091</td>\n",
              "      <td>7.340240</td>\n",
              "      <td>3.002304</td>\n",
              "      <td>0.825034</td>\n",
              "      <td>7.920778</td>\n",
              "      <td>verano</td>\n",
              "      <td>verano</td>\n",
              "    </tr>\n",
              "    <tr>\n",
              "      <th>7851</th>\n",
              "      <td>2000-07-09</td>\n",
              "      <td>7.278</td>\n",
              "      <td>4.123</td>\n",
              "      <td>5.495737</td>\n",
              "      <td>6.136346</td>\n",
              "      <td>0.871805</td>\n",
              "      <td>1.097381</td>\n",
              "      <td>verano</td>\n",
              "      <td>verano</td>\n",
              "    </tr>\n",
              "    <tr>\n",
              "      <th>7494</th>\n",
              "      <td>1999-07-18</td>\n",
              "      <td>7.528</td>\n",
              "      <td>1.280</td>\n",
              "      <td>0.020599</td>\n",
              "      <td>2.357784</td>\n",
              "      <td>0.855063</td>\n",
              "      <td>10.174500</td>\n",
              "      <td>verano</td>\n",
              "      <td>verano</td>\n",
              "    </tr>\n",
              "    <tr>\n",
              "      <th>...</th>\n",
              "      <td>...</td>\n",
              "      <td>...</td>\n",
              "      <td>...</td>\n",
              "      <td>...</td>\n",
              "      <td>...</td>\n",
              "      <td>...</td>\n",
              "      <td>...</td>\n",
              "      <td>...</td>\n",
              "      <td>...</td>\n",
              "    </tr>\n",
              "    <tr>\n",
              "      <th>12769</th>\n",
              "      <td>2013-12-26</td>\n",
              "      <td>45.631</td>\n",
              "      <td>27.673</td>\n",
              "      <td>0.000000</td>\n",
              "      <td>2.798165</td>\n",
              "      <td>0.250465</td>\n",
              "      <td>30.254004</td>\n",
              "      <td>invierno</td>\n",
              "      <td>invierno</td>\n",
              "    </tr>\n",
              "    <tr>\n",
              "      <th>5830</th>\n",
              "      <td>1994-12-27</td>\n",
              "      <td>45.676</td>\n",
              "      <td>28.222</td>\n",
              "      <td>0.000000</td>\n",
              "      <td>4.298026</td>\n",
              "      <td>0.211402</td>\n",
              "      <td>24.448616</td>\n",
              "      <td>invierno</td>\n",
              "      <td>invierno</td>\n",
              "    </tr>\n",
              "    <tr>\n",
              "      <th>3593</th>\n",
              "      <td>1988-11-11</td>\n",
              "      <td>46.672</td>\n",
              "      <td>22.481</td>\n",
              "      <td>0.003433</td>\n",
              "      <td>6.647054</td>\n",
              "      <td>0.299292</td>\n",
              "      <td>20.369306</td>\n",
              "      <td>otoño</td>\n",
              "      <td>otoño</td>\n",
              "    </tr>\n",
              "    <tr>\n",
              "      <th>6578</th>\n",
              "      <td>1997-01-13</td>\n",
              "      <td>46.871</td>\n",
              "      <td>29.138</td>\n",
              "      <td>0.000000</td>\n",
              "      <td>3.204081</td>\n",
              "      <td>0.181772</td>\n",
              "      <td>33.118928</td>\n",
              "      <td>invierno</td>\n",
              "      <td>invierno</td>\n",
              "    </tr>\n",
              "    <tr>\n",
              "      <th>6186</th>\n",
              "      <td>1995-12-18</td>\n",
              "      <td>47.861</td>\n",
              "      <td>24.453</td>\n",
              "      <td>0.000000</td>\n",
              "      <td>2.147444</td>\n",
              "      <td>0.173862</td>\n",
              "      <td>34.003298</td>\n",
              "      <td>otoño</td>\n",
              "      <td>otoño</td>\n",
              "    </tr>\n",
              "  </tbody>\n",
              "</table>\n",
              "<p>12987 rows × 9 columns</p>\n",
              "</div>"
            ],
            "text/plain": [
              "            Date  Max Temperature  ...   seasons   Seasons\n",
              "7852  2000-07-10            4.606  ...    verano    verano\n",
              "11558 2010-09-02            7.181  ...    verano    verano\n",
              "11891 2011-08-01            7.206  ...    verano    verano\n",
              "7851  2000-07-09            7.278  ...    verano    verano\n",
              "7494  1999-07-18            7.528  ...    verano    verano\n",
              "...          ...              ...  ...       ...       ...\n",
              "12769 2013-12-26           45.631  ...  invierno  invierno\n",
              "5830  1994-12-27           45.676  ...  invierno  invierno\n",
              "3593  1988-11-11           46.672  ...     otoño     otoño\n",
              "6578  1997-01-13           46.871  ...  invierno  invierno\n",
              "6186  1995-12-18           47.861  ...     otoño     otoño\n",
              "\n",
              "[12987 rows x 9 columns]"
            ]
          },
          "metadata": {},
          "execution_count": 131
        }
      ]
    },
    {
      "cell_type": "markdown",
      "source": [
        "### ¿Max Temp >= Min Temp? "
      ],
      "metadata": {
        "id": "7MMN1H9nfz-8"
      }
    },
    {
      "cell_type": "code",
      "source": [
        "sum(df_weather['Max Temperature']>=df_weather['Min Temperature'])"
      ],
      "metadata": {
        "id": "nUJzze5zgDUI"
      },
      "execution_count": null,
      "outputs": []
    },
    {
      "cell_type": "markdown",
      "source": [
        "### ¿hubo muchas precipitaciones?  ==> 🌧>0"
      ],
      "metadata": {
        "id": "Fs9zh5hmgYX8"
      }
    },
    {
      "cell_type": "code",
      "source": [
        "dias_lluvia = sum(df_weather['Precipitation']>0)"
      ],
      "metadata": {
        "id": "87Z6C9VNg2h-"
      },
      "execution_count": null,
      "outputs": []
    },
    {
      "cell_type": "code",
      "source": [
        "total_dias = df_weather.shape[0]\n",
        "porcentaje = dias_lluvia/total_dias*100\n",
        "porcentaje"
      ],
      "metadata": {
        "colab": {
          "base_uri": "https://localhost:8080/"
        },
        "id": "O3BxWemZhHs1",
        "outputId": "c7c4c77a-8298-4947-c518-cd8902ddd8fd"
      },
      "execution_count": null,
      "outputs": [
        {
          "output_type": "execute_result",
          "data": {
            "text/plain": [
              "41.12574112574113"
            ]
          },
          "metadata": {},
          "execution_count": 41
        }
      ]
    },
    {
      "cell_type": "markdown",
      "source": [
        "### Trabajemos con Días ¿ Cuántos años hay registrados?"
      ],
      "metadata": {
        "id": "JSVQW6Yrhm1e"
      }
    },
    {
      "cell_type": "code",
      "source": [
        "int(total_dias/365)"
      ],
      "metadata": {
        "colab": {
          "base_uri": "https://localhost:8080/"
        },
        "id": "O2FMFd1Jhfud",
        "outputId": "23d04215-57d1-4bc4-bac6-6deb6438760d"
      },
      "execution_count": null,
      "outputs": [
        {
          "output_type": "execute_result",
          "data": {
            "text/plain": [
              "35"
            ]
          },
          "metadata": {},
          "execution_count": 44
        }
      ]
    },
    {
      "cell_type": "code",
      "source": [
        "df_weather['Date'].max()"
      ],
      "metadata": {
        "colab": {
          "base_uri": "https://localhost:8080/"
        },
        "id": "QLrnR68piIEU",
        "outputId": "7c8a96d5-6313-4c2b-bbe8-11d7e79d3163"
      },
      "execution_count": null,
      "outputs": [
        {
          "output_type": "execute_result",
          "data": {
            "text/plain": [
              "Timestamp('2014-07-31 00:00:00')"
            ]
          },
          "metadata": {},
          "execution_count": 53
        }
      ]
    },
    {
      "cell_type": "code",
      "source": [
        "df_weather['Date'].tail(5)"
      ],
      "metadata": {
        "colab": {
          "base_uri": "https://localhost:8080/"
        },
        "id": "PO7f6cCiiRgI",
        "outputId": "5ba716bb-f8bd-4d02-cfa5-c1c686bb025b"
      },
      "execution_count": null,
      "outputs": [
        {
          "output_type": "execute_result",
          "data": {
            "text/plain": [
              "12982    7/27/2014\n",
              "12983    7/28/2014\n",
              "12984    7/29/2014\n",
              "12985    7/30/2014\n",
              "12986    7/31/2014\n",
              "Name: Date, dtype: object"
            ]
          },
          "metadata": {},
          "execution_count": 46
        }
      ]
    },
    {
      "cell_type": "code",
      "source": [
        "# solucionemos el Date\n",
        "df_weather['Date'] = pd.to_datetime(df_weather['Date'])#.dt.date"
      ],
      "metadata": {
        "id": "UaQDCzEWiXRU"
      },
      "execution_count": null,
      "outputs": []
    },
    {
      "cell_type": "code",
      "source": [
        "df_weather['Date'].max()"
      ],
      "metadata": {
        "colab": {
          "base_uri": "https://localhost:8080/"
        },
        "id": "7ahBSfkejJ1s",
        "outputId": "dd400d31-e079-4863-ce99-5305b7fe0d97"
      },
      "execution_count": null,
      "outputs": [
        {
          "output_type": "execute_result",
          "data": {
            "text/plain": [
              "Timestamp('2014-07-31 00:00:00')"
            ]
          },
          "metadata": {},
          "execution_count": 99
        }
      ]
    },
    {
      "cell_type": "code",
      "source": [
        "!pip install funpymodeling #Pablo Casas\n",
        "from funpymodeling.exploratory import status"
      ],
      "metadata": {
        "id": "NxbhbkWlnS5n"
      },
      "execution_count": null,
      "outputs": []
    },
    {
      "cell_type": "code",
      "source": [
        "status(df_weather)"
      ],
      "metadata": {
        "colab": {
          "base_uri": "https://localhost:8080/",
          "height": 269
        },
        "id": "0bu-_El7n4Ma",
        "outputId": "1b8d7aec-1d8a-4785-b2cf-a2215d6413bd"
      },
      "execution_count": null,
      "outputs": [
        {
          "output_type": "execute_result",
          "data": {
            "text/html": [
              "<div>\n",
              "<style scoped>\n",
              "    .dataframe tbody tr th:only-of-type {\n",
              "        vertical-align: middle;\n",
              "    }\n",
              "\n",
              "    .dataframe tbody tr th {\n",
              "        vertical-align: top;\n",
              "    }\n",
              "\n",
              "    .dataframe thead th {\n",
              "        text-align: right;\n",
              "    }\n",
              "</style>\n",
              "<table border=\"1\" class=\"dataframe\">\n",
              "  <thead>\n",
              "    <tr style=\"text-align: right;\">\n",
              "      <th></th>\n",
              "      <th>variable</th>\n",
              "      <th>q_nan</th>\n",
              "      <th>p_nan</th>\n",
              "      <th>q_zeros</th>\n",
              "      <th>p_zeros</th>\n",
              "      <th>unique</th>\n",
              "      <th>type</th>\n",
              "    </tr>\n",
              "  </thead>\n",
              "  <tbody>\n",
              "    <tr>\n",
              "      <th>0</th>\n",
              "      <td>Date</td>\n",
              "      <td>0</td>\n",
              "      <td>0.0</td>\n",
              "      <td>0</td>\n",
              "      <td>0.000000</td>\n",
              "      <td>12987</td>\n",
              "      <td>object</td>\n",
              "    </tr>\n",
              "    <tr>\n",
              "      <th>1</th>\n",
              "      <td>Max Temperature</td>\n",
              "      <td>0</td>\n",
              "      <td>0.0</td>\n",
              "      <td>0</td>\n",
              "      <td>0.000000</td>\n",
              "      <td>10537</td>\n",
              "      <td>float64</td>\n",
              "    </tr>\n",
              "    <tr>\n",
              "      <th>2</th>\n",
              "      <td>Min Temperature</td>\n",
              "      <td>0</td>\n",
              "      <td>0.0</td>\n",
              "      <td>0</td>\n",
              "      <td>0.000000</td>\n",
              "      <td>9952</td>\n",
              "      <td>float64</td>\n",
              "    </tr>\n",
              "    <tr>\n",
              "      <th>3</th>\n",
              "      <td>Precipitation</td>\n",
              "      <td>0</td>\n",
              "      <td>0.0</td>\n",
              "      <td>7646</td>\n",
              "      <td>0.588743</td>\n",
              "      <td>4547</td>\n",
              "      <td>float64</td>\n",
              "    </tr>\n",
              "    <tr>\n",
              "      <th>4</th>\n",
              "      <td>Wind</td>\n",
              "      <td>0</td>\n",
              "      <td>0.0</td>\n",
              "      <td>0</td>\n",
              "      <td>0.000000</td>\n",
              "      <td>12987</td>\n",
              "      <td>float64</td>\n",
              "    </tr>\n",
              "    <tr>\n",
              "      <th>5</th>\n",
              "      <td>Relative Humidity</td>\n",
              "      <td>0</td>\n",
              "      <td>0.0</td>\n",
              "      <td>0</td>\n",
              "      <td>0.000000</td>\n",
              "      <td>12987</td>\n",
              "      <td>float64</td>\n",
              "    </tr>\n",
              "    <tr>\n",
              "      <th>6</th>\n",
              "      <td>Solar</td>\n",
              "      <td>0</td>\n",
              "      <td>0.0</td>\n",
              "      <td>1</td>\n",
              "      <td>0.000077</td>\n",
              "      <td>12986</td>\n",
              "      <td>float64</td>\n",
              "    </tr>\n",
              "  </tbody>\n",
              "</table>\n",
              "</div>"
            ],
            "text/plain": [
              "            variable  q_nan  p_nan  q_zeros   p_zeros  unique     type\n",
              "0               Date      0    0.0        0  0.000000   12987   object\n",
              "1    Max Temperature      0    0.0        0  0.000000   10537  float64\n",
              "2    Min Temperature      0    0.0        0  0.000000    9952  float64\n",
              "3      Precipitation      0    0.0     7646  0.588743    4547  float64\n",
              "4               Wind      0    0.0        0  0.000000   12987  float64\n",
              "5  Relative Humidity      0    0.0        0  0.000000   12987  float64\n",
              "6              Solar      0    0.0        1  0.000077   12986  float64"
            ]
          },
          "metadata": {},
          "execution_count": 65
        }
      ]
    },
    {
      "cell_type": "markdown",
      "source": [
        "## Estaciones ☀⛅🌦🌧"
      ],
      "metadata": {
        "id": "CmSLK7wVzt55"
      }
    },
    {
      "cell_type": "markdown",
      "source": [
        "https://es.stackoverflow.com/"
      ],
      "metadata": {
        "id": "HSnvqtBv2aue"
      }
    },
    {
      "cell_type": "code",
      "source": [
        "\n",
        "# https://es.stackoverflow.com/questions/412121/convertir-fechas-a-estaciones\n",
        "from datetime import date, datetime\n",
        "\n",
        "\n",
        "def get_season(fecha):\n",
        "  '''ingresa una fecha y devuelve la estación del año'''\n",
        "  Y = fecha.year\n",
        "  estaciones = [('invierno', datetime(Y,  1,  1),  datetime(Y,  3, 20)),\n",
        "              ('primavera', datetime(Y,  3, 21),  datetime(Y,  6, 20)),\n",
        "              ('verano', datetime(Y,  6, 21),  datetime(Y,  9, 22)),\n",
        "              ('otoño', datetime(Y,  9, 23),  datetime(Y, 12, 20)),\n",
        "              ('invierno', datetime(Y, 12, 21),  datetime(Y, 12, 31))]\n",
        "\n",
        "  for estacion, inicio, fin in estaciones:\n",
        "    if inicio <= fecha <= fin:\n",
        "      return estacion"
      ],
      "metadata": {
        "id": "MdEPvXXprmaO"
      },
      "execution_count": null,
      "outputs": []
    },
    {
      "cell_type": "code",
      "source": [
        "df_weather['Seasons'] = df_weather['Date'].apply(get_season)"
      ],
      "metadata": {
        "id": "iKAvdxlzyEM9"
      },
      "execution_count": null,
      "outputs": []
    },
    {
      "cell_type": "code",
      "source": [
        "df_weather"
      ],
      "metadata": {
        "colab": {
          "base_uri": "https://localhost:8080/",
          "height": 423
        },
        "id": "gBL3iMED0lgU",
        "outputId": "6ea37a71-63c3-4a79-d5ad-7a78dcfa59c6"
      },
      "execution_count": null,
      "outputs": [
        {
          "output_type": "execute_result",
          "data": {
            "text/html": [
              "<div>\n",
              "<style scoped>\n",
              "    .dataframe tbody tr th:only-of-type {\n",
              "        vertical-align: middle;\n",
              "    }\n",
              "\n",
              "    .dataframe tbody tr th {\n",
              "        vertical-align: top;\n",
              "    }\n",
              "\n",
              "    .dataframe thead th {\n",
              "        text-align: right;\n",
              "    }\n",
              "</style>\n",
              "<table border=\"1\" class=\"dataframe\">\n",
              "  <thead>\n",
              "    <tr style=\"text-align: right;\">\n",
              "      <th></th>\n",
              "      <th>Date</th>\n",
              "      <th>Max Temperature</th>\n",
              "      <th>Min Temperature</th>\n",
              "      <th>Precipitation</th>\n",
              "      <th>Wind</th>\n",
              "      <th>Relative Humidity</th>\n",
              "      <th>Solar</th>\n",
              "      <th>seasons</th>\n",
              "      <th>Seasons</th>\n",
              "    </tr>\n",
              "  </thead>\n",
              "  <tbody>\n",
              "    <tr>\n",
              "      <th>0</th>\n",
              "      <td>1979-01-01</td>\n",
              "      <td>34.968</td>\n",
              "      <td>18.019</td>\n",
              "      <td>0.346756</td>\n",
              "      <td>3.459731</td>\n",
              "      <td>0.539945</td>\n",
              "      <td>32.456311</td>\n",
              "      <td>invierno</td>\n",
              "      <td>invierno</td>\n",
              "    </tr>\n",
              "    <tr>\n",
              "      <th>1</th>\n",
              "      <td>1979-01-02</td>\n",
              "      <td>32.055</td>\n",
              "      <td>21.653</td>\n",
              "      <td>10.099693</td>\n",
              "      <td>3.182952</td>\n",
              "      <td>0.810696</td>\n",
              "      <td>20.985752</td>\n",
              "      <td>invierno</td>\n",
              "      <td>invierno</td>\n",
              "    </tr>\n",
              "    <tr>\n",
              "      <th>2</th>\n",
              "      <td>1979-01-03</td>\n",
              "      <td>32.643</td>\n",
              "      <td>19.994</td>\n",
              "      <td>0.000000</td>\n",
              "      <td>3.529763</td>\n",
              "      <td>0.638956</td>\n",
              "      <td>28.406984</td>\n",
              "      <td>invierno</td>\n",
              "      <td>invierno</td>\n",
              "    </tr>\n",
              "    <tr>\n",
              "      <th>3</th>\n",
              "      <td>1979-01-04</td>\n",
              "      <td>33.438</td>\n",
              "      <td>19.572</td>\n",
              "      <td>0.000000</td>\n",
              "      <td>3.430782</td>\n",
              "      <td>0.480420</td>\n",
              "      <td>30.222842</td>\n",
              "      <td>invierno</td>\n",
              "      <td>invierno</td>\n",
              "    </tr>\n",
              "    <tr>\n",
              "      <th>4</th>\n",
              "      <td>1979-01-05</td>\n",
              "      <td>35.729</td>\n",
              "      <td>20.306</td>\n",
              "      <td>0.000000</td>\n",
              "      <td>3.149614</td>\n",
              "      <td>0.445070</td>\n",
              "      <td>30.734881</td>\n",
              "      <td>invierno</td>\n",
              "      <td>invierno</td>\n",
              "    </tr>\n",
              "    <tr>\n",
              "      <th>...</th>\n",
              "      <td>...</td>\n",
              "      <td>...</td>\n",
              "      <td>...</td>\n",
              "      <td>...</td>\n",
              "      <td>...</td>\n",
              "      <td>...</td>\n",
              "      <td>...</td>\n",
              "      <td>...</td>\n",
              "      <td>...</td>\n",
              "    </tr>\n",
              "    <tr>\n",
              "      <th>12982</th>\n",
              "      <td>2014-07-27</td>\n",
              "      <td>15.938</td>\n",
              "      <td>5.081</td>\n",
              "      <td>0.000000</td>\n",
              "      <td>2.627763</td>\n",
              "      <td>0.639303</td>\n",
              "      <td>13.388504</td>\n",
              "      <td>verano</td>\n",
              "      <td>verano</td>\n",
              "    </tr>\n",
              "    <tr>\n",
              "      <th>12983</th>\n",
              "      <td>2014-07-28</td>\n",
              "      <td>20.470</td>\n",
              "      <td>6.121</td>\n",
              "      <td>0.000000</td>\n",
              "      <td>3.853856</td>\n",
              "      <td>0.698549</td>\n",
              "      <td>15.112251</td>\n",
              "      <td>verano</td>\n",
              "      <td>verano</td>\n",
              "    </tr>\n",
              "    <tr>\n",
              "      <th>12984</th>\n",
              "      <td>2014-07-29</td>\n",
              "      <td>22.072</td>\n",
              "      <td>12.764</td>\n",
              "      <td>0.209427</td>\n",
              "      <td>2.890072</td>\n",
              "      <td>0.785835</td>\n",
              "      <td>6.979922</td>\n",
              "      <td>verano</td>\n",
              "      <td>verano</td>\n",
              "    </tr>\n",
              "    <tr>\n",
              "      <th>12985</th>\n",
              "      <td>2014-07-30</td>\n",
              "      <td>18.200</td>\n",
              "      <td>15.068</td>\n",
              "      <td>2.204133</td>\n",
              "      <td>2.457414</td>\n",
              "      <td>0.827991</td>\n",
              "      <td>1.954017</td>\n",
              "      <td>verano</td>\n",
              "      <td>verano</td>\n",
              "    </tr>\n",
              "    <tr>\n",
              "      <th>12986</th>\n",
              "      <td>2014-07-31</td>\n",
              "      <td>22.298</td>\n",
              "      <td>15.538</td>\n",
              "      <td>1.692579</td>\n",
              "      <td>1.438762</td>\n",
              "      <td>0.841980</td>\n",
              "      <td>8.233861</td>\n",
              "      <td>verano</td>\n",
              "      <td>verano</td>\n",
              "    </tr>\n",
              "  </tbody>\n",
              "</table>\n",
              "<p>12987 rows × 9 columns</p>\n",
              "</div>"
            ],
            "text/plain": [
              "            Date  Max Temperature  ...   seasons   Seasons\n",
              "0     1979-01-01           34.968  ...  invierno  invierno\n",
              "1     1979-01-02           32.055  ...  invierno  invierno\n",
              "2     1979-01-03           32.643  ...  invierno  invierno\n",
              "3     1979-01-04           33.438  ...  invierno  invierno\n",
              "4     1979-01-05           35.729  ...  invierno  invierno\n",
              "...          ...              ...  ...       ...       ...\n",
              "12982 2014-07-27           15.938  ...    verano    verano\n",
              "12983 2014-07-28           20.470  ...    verano    verano\n",
              "12984 2014-07-29           22.072  ...    verano    verano\n",
              "12985 2014-07-30           18.200  ...    verano    verano\n",
              "12986 2014-07-31           22.298  ...    verano    verano\n",
              "\n",
              "[12987 rows x 9 columns]"
            ]
          },
          "metadata": {},
          "execution_count": 133
        }
      ]
    },
    {
      "cell_type": "code",
      "source": [
        "df_weather_1979 = df_weather[df_weather['Date'].dt.strftime('%Y') == '1979']\n",
        "df_weather_1979"
      ],
      "metadata": {
        "colab": {
          "base_uri": "https://localhost:8080/",
          "height": 423
        },
        "id": "ploLWn3Y7PT4",
        "outputId": "ca1612da-0ef3-46a5-8603-efd03869cf30"
      },
      "execution_count": null,
      "outputs": [
        {
          "output_type": "execute_result",
          "data": {
            "text/html": [
              "<div>\n",
              "<style scoped>\n",
              "    .dataframe tbody tr th:only-of-type {\n",
              "        vertical-align: middle;\n",
              "    }\n",
              "\n",
              "    .dataframe tbody tr th {\n",
              "        vertical-align: top;\n",
              "    }\n",
              "\n",
              "    .dataframe thead th {\n",
              "        text-align: right;\n",
              "    }\n",
              "</style>\n",
              "<table border=\"1\" class=\"dataframe\">\n",
              "  <thead>\n",
              "    <tr style=\"text-align: right;\">\n",
              "      <th></th>\n",
              "      <th>Date</th>\n",
              "      <th>Max Temperature</th>\n",
              "      <th>Min Temperature</th>\n",
              "      <th>Precipitation</th>\n",
              "      <th>Wind</th>\n",
              "      <th>Relative Humidity</th>\n",
              "      <th>Solar</th>\n",
              "      <th>seasons</th>\n",
              "      <th>Seasons</th>\n",
              "    </tr>\n",
              "  </thead>\n",
              "  <tbody>\n",
              "    <tr>\n",
              "      <th>0</th>\n",
              "      <td>1979-01-01</td>\n",
              "      <td>34.968</td>\n",
              "      <td>18.019</td>\n",
              "      <td>0.346756</td>\n",
              "      <td>3.459731</td>\n",
              "      <td>0.539945</td>\n",
              "      <td>32.456311</td>\n",
              "      <td>invierno</td>\n",
              "      <td>invierno</td>\n",
              "    </tr>\n",
              "    <tr>\n",
              "      <th>1</th>\n",
              "      <td>1979-01-02</td>\n",
              "      <td>32.055</td>\n",
              "      <td>21.653</td>\n",
              "      <td>10.099693</td>\n",
              "      <td>3.182952</td>\n",
              "      <td>0.810696</td>\n",
              "      <td>20.985752</td>\n",
              "      <td>invierno</td>\n",
              "      <td>invierno</td>\n",
              "    </tr>\n",
              "    <tr>\n",
              "      <th>2</th>\n",
              "      <td>1979-01-03</td>\n",
              "      <td>32.643</td>\n",
              "      <td>19.994</td>\n",
              "      <td>0.000000</td>\n",
              "      <td>3.529763</td>\n",
              "      <td>0.638956</td>\n",
              "      <td>28.406984</td>\n",
              "      <td>invierno</td>\n",
              "      <td>invierno</td>\n",
              "    </tr>\n",
              "    <tr>\n",
              "      <th>3</th>\n",
              "      <td>1979-01-04</td>\n",
              "      <td>33.438</td>\n",
              "      <td>19.572</td>\n",
              "      <td>0.000000</td>\n",
              "      <td>3.430782</td>\n",
              "      <td>0.480420</td>\n",
              "      <td>30.222842</td>\n",
              "      <td>invierno</td>\n",
              "      <td>invierno</td>\n",
              "    </tr>\n",
              "    <tr>\n",
              "      <th>4</th>\n",
              "      <td>1979-01-05</td>\n",
              "      <td>35.729</td>\n",
              "      <td>20.306</td>\n",
              "      <td>0.000000</td>\n",
              "      <td>3.149614</td>\n",
              "      <td>0.445070</td>\n",
              "      <td>30.734881</td>\n",
              "      <td>invierno</td>\n",
              "      <td>invierno</td>\n",
              "    </tr>\n",
              "    <tr>\n",
              "      <th>...</th>\n",
              "      <td>...</td>\n",
              "      <td>...</td>\n",
              "      <td>...</td>\n",
              "      <td>...</td>\n",
              "      <td>...</td>\n",
              "      <td>...</td>\n",
              "      <td>...</td>\n",
              "      <td>...</td>\n",
              "      <td>...</td>\n",
              "    </tr>\n",
              "    <tr>\n",
              "      <th>360</th>\n",
              "      <td>1979-12-27</td>\n",
              "      <td>35.324</td>\n",
              "      <td>22.784</td>\n",
              "      <td>0.000000</td>\n",
              "      <td>3.780902</td>\n",
              "      <td>0.442893</td>\n",
              "      <td>20.371162</td>\n",
              "      <td>invierno</td>\n",
              "      <td>invierno</td>\n",
              "    </tr>\n",
              "    <tr>\n",
              "      <th>361</th>\n",
              "      <td>1979-12-28</td>\n",
              "      <td>38.261</td>\n",
              "      <td>23.624</td>\n",
              "      <td>0.000000</td>\n",
              "      <td>3.537752</td>\n",
              "      <td>0.389390</td>\n",
              "      <td>31.743168</td>\n",
              "      <td>invierno</td>\n",
              "      <td>invierno</td>\n",
              "    </tr>\n",
              "    <tr>\n",
              "      <th>362</th>\n",
              "      <td>1979-12-29</td>\n",
              "      <td>39.916</td>\n",
              "      <td>20.690</td>\n",
              "      <td>32.617391</td>\n",
              "      <td>3.726482</td>\n",
              "      <td>0.462747</td>\n",
              "      <td>25.796300</td>\n",
              "      <td>invierno</td>\n",
              "      <td>invierno</td>\n",
              "    </tr>\n",
              "    <tr>\n",
              "      <th>363</th>\n",
              "      <td>1979-12-30</td>\n",
              "      <td>26.792</td>\n",
              "      <td>19.273</td>\n",
              "      <td>35.909856</td>\n",
              "      <td>7.929832</td>\n",
              "      <td>0.548297</td>\n",
              "      <td>28.245828</td>\n",
              "      <td>invierno</td>\n",
              "      <td>invierno</td>\n",
              "    </tr>\n",
              "    <tr>\n",
              "      <th>364</th>\n",
              "      <td>1979-12-31</td>\n",
              "      <td>28.022</td>\n",
              "      <td>13.273</td>\n",
              "      <td>0.000000</td>\n",
              "      <td>2.969045</td>\n",
              "      <td>0.359350</td>\n",
              "      <td>35.175714</td>\n",
              "      <td>invierno</td>\n",
              "      <td>invierno</td>\n",
              "    </tr>\n",
              "  </tbody>\n",
              "</table>\n",
              "<p>365 rows × 9 columns</p>\n",
              "</div>"
            ],
            "text/plain": [
              "          Date  Max Temperature  Min Temperature  ...      Solar   seasons   Seasons\n",
              "0   1979-01-01           34.968           18.019  ...  32.456311  invierno  invierno\n",
              "1   1979-01-02           32.055           21.653  ...  20.985752  invierno  invierno\n",
              "2   1979-01-03           32.643           19.994  ...  28.406984  invierno  invierno\n",
              "3   1979-01-04           33.438           19.572  ...  30.222842  invierno  invierno\n",
              "4   1979-01-05           35.729           20.306  ...  30.734881  invierno  invierno\n",
              "..         ...              ...              ...  ...        ...       ...       ...\n",
              "360 1979-12-27           35.324           22.784  ...  20.371162  invierno  invierno\n",
              "361 1979-12-28           38.261           23.624  ...  31.743168  invierno  invierno\n",
              "362 1979-12-29           39.916           20.690  ...  25.796300  invierno  invierno\n",
              "363 1979-12-30           26.792           19.273  ...  28.245828  invierno  invierno\n",
              "364 1979-12-31           28.022           13.273  ...  35.175714  invierno  invierno\n",
              "\n",
              "[365 rows x 9 columns]"
            ]
          },
          "metadata": {},
          "execution_count": 134
        }
      ]
    },
    {
      "cell_type": "code",
      "source": [
        "sum(df_weather_1979['Precipitation'][df_weather_1979['Seasons'] == 'invierno']>0)/sum(df_weather_1979['Precipitation'])"
      ],
      "metadata": {
        "colab": {
          "base_uri": "https://localhost:8080/"
        },
        "id": "1wsY5XvD82Ee",
        "outputId": "50c1f7a9-0a9c-4eb1-fc86-44cbc51ac3ef"
      },
      "execution_count": null,
      "outputs": [
        {
          "output_type": "execute_result",
          "data": {
            "text/plain": [
              "0.03315573641665993"
            ]
          },
          "metadata": {},
          "execution_count": 141
        }
      ]
    },
    {
      "cell_type": "code",
      "source": [
        "import matplotlib.pyplot as plt\n",
        "\n",
        "# Pie chart, where the slices will be ordered and plotted counter-clockwise:\n",
        "labels = 'Frogs', 'Hogs', 'Dogs', 'Logs'\n",
        "sizes = [15, 30, 45, 10]\n",
        "explode = (0, 0.1, 0, 0)  # only \"explode\" the 2nd slice (i.e. 'Hogs')\n",
        "\n",
        "fig1, ax1 = plt.subplots()\n",
        "ax1.pie(sizes, explode=explode, labels=labels, autopct='%1.1f%%',\n",
        "        shadow=True, startangle=90)\n",
        "ax1.axis('equal')  # Equal aspect ratio ensures that pie is drawn as a circle.\n",
        "\n",
        "plt.show()"
      ],
      "metadata": {
        "colab": {
          "base_uri": "https://localhost:8080/",
          "height": 248
        },
        "id": "wRCwrk9Z9PPo",
        "outputId": "cdf8e4c4-6c5c-4db8-ebdd-2d392b7d4999"
      },
      "execution_count": null,
      "outputs": [
        {
          "output_type": "display_data",
          "data": {
            "image/png": "[encoded data removed]",
            "text/plain": [
              "<Figure size 432x288 with 1 Axes>"
            ]
          },
          "metadata": {}
        }
      ]
    },
    {
      "cell_type": "markdown",
      "metadata": {
        "id": "W_Ro76FDy_mv"
      },
      "source": [
        "\n",
        "\n",
        "![](https://www.notion.so/image/https%3A%2F%2Fs3-us-west-2.amazonaws.com%2Fsecure.notion-static.com%2Ffa3748de-b07b-4cef-a636-3c1063aa134f%2FUntitled.png?table=block&id=2c462201-ceb3-4c52-aaa4-214cf334dee5&spaceId=62aa27de-48fd-4703-8a40-2de64b627b11&width=330&userId=&cache=v2)\n",
        "\n",
        "[plotly](https://plotly.com/python/)"
      ]
    },
    {
      "cell_type": "code",
      "source": [
        "import plotly.express as px"
      ],
      "metadata": {
        "id": "VXWZWNYYjLMl"
      },
      "execution_count": null,
      "outputs": []
    },
    {
      "cell_type": "code",
      "source": [
        "fig = px.line(df_weather, x='Date', y=\"Precipitation\")\n",
        "fig.show()"
      ],
      "metadata": {
        "colab": {
          "base_uri": "https://localhost:8080/",
          "height": 542
        },
        "id": "0vOreglalyFf",
        "outputId": "60f18e44-f3a3-45a0-dbd0-35a3d23a3542"
      },
      "execution_count": null,
      "outputs": [
        {
          "output_type": "display_data",
          "data": {
            "text/html": [
              "<html>\n",
              "<head><meta charset=\"utf-8\" /></head>\n",
              "<body>\n",
              "    <div>\n",
              "            <script src=\"https://cdnjs.cloudflare.com/ajax/libs/mathjax/2.7.5/MathJax.js?config=TeX-AMS-MML_SVG\"></script><script type=\"text/javascript\">if (window.MathJax) {MathJax.Hub.Config({SVG: {font: \"STIX-Web\"}});}</script>\n",
              "                <script type=\"text/javascript\">window.PlotlyConfig = {MathJaxConfig: 'local'};</script>\n",
              "        <script src=\"https://cdn.plot.ly/plotly-latest.min.js\"></script>    \n",
              "            <div id=\"ab450725-6ea8-4e4f-b216-358a111fd2c3\" class=\"plotly-graph-div\" style=\"height:525px; width:100%;\"></div>\n",
              "            <script type=\"text/javascript\">\n",
              "                \n",
              "                    window.PLOTLYENV=window.PLOTLYENV || {};\n",
              "                    \n",
              "                if (document.getElementById(\"ab450725-6ea8-4e4f-b216-358a111fd2c3\")) {\n",
              "                    Plotly.newPlot(\n",
              "                        'ab450725-6ea8-4e4f-b216-358a111fd2c3',\n",
              "                        [{\"hoverlabel\": {\"namelength\": 0}, \"hovertemplate\": \"Date=%{x}<br>Precipitation=%{y}\", \"legendgroup\": \"\", \"line\": {\"color\": \"#636efa\", \"dash\": \"solid\"}, \"mode\": \"lines\", \"name\": \"\", \"showlegend\": false, \"type\": \"scattergl\", \"x\": [\"1979-01-01\", \"1979-01-02\", \"1979-01-03\", \"1979-01-04\", \"1979-01-05\", \"1979-01-06\", \"1979-01-07\", \"1979-01-08\", \"1979-01-09\", \"1979-01-10\", \"1979-01-11\", \"1979-01-12\", \"1979-01-13\", \"1979-01-14\", \"1979-01-15\", \"1979-01-16\", \"1979-01-17\", \"1979-01-18\", \"1979-01-19\", \"1979-01-20\", \"1979-01-21\", \"1979-01-22\", \"1979-01-23\", \"1979-01-24\", \"1979-01-25\", \"1979-01-26\", \"1979-01-27\", \"1979-01-28\", \"1979-01-29\", \"1979-01-30\", \"1979-01-31\", \"1979-02-01\", \"1979-02-02\", \"1979-02-03\", \"1979-02-04\", \"1979-02-05\", \"1979-02-06\", \"1979-02-07\", \"1979-02-08\", \"1979-02-09\", \"1979-02-10\", \"1979-02-11\", \"1979-02-12\", \"1979-02-13\", \"1979-02-14\", \"1979-02-15\", \"1979-02-16\", \"1979-02-17\", \"1979-02-18\", \"1979-02-19\", \"1979-02-20\", \"1979-02-21\", \"1979-02-22\", \"1979-02-23\", \"1979-02-24\", \"1979-02-25\", \"1979-02-26\", \"1979-02-27\", \"1979-02-28\", \"1979-03-01\", \"1979-03-02\", \"1979-03-03\", \"1979-03-04\", \"1979-03-05\", \"1979-03-06\", \"1979-03-07\", \"1979-03-08\", \"1979-03-09\", \"1979-03-10\", \"1979-03-11\", \"1979-03-12\", \"1979-03-13\", \"1979-03-14\", \"1979-03-15\", \"1979-03-16\", \"1979-03-17\", \"1979-03-18\", \"1979-03-19\", \"1979-03-20\", \"1979-03-21\", \"1979-03-22\", \"1979-03-23\", \"1979-03-24\", \"1979-03-25\", \"1979-03-26\", \"1979-03-27\", \"1979-03-28\", \"1979-03-29\", \"1979-03-30\", \"1979-03-31\", \"1979-04-01\", \"1979-04-02\", \"1979-04-03\", \"1979-04-04\", \"1979-04-05\", \"1979-04-06\", \"1979-04-07\", \"1979-04-08\", \"1979-04-09\", \"1979-04-10\", \"1979-04-11\", \"1979-04-12\", \"1979-04-13\", \"1979-04-14\", \"1979-04-15\", \"1979-04-16\", \"1979-04-17\", \"1979-04-18\", \"1979-04-19\", \"1979-04-20\", \"1979-04-21\", \"1979-04-22\", \"1979-04-23\", \"1979-04-24\", \"1979-04-25\", \"1979-04-26\", \"1979-04-27\", \"1979-04-28\", \"1979-04-29\", \"1979-04-30\", \"1979-05-01\", \"1979-05-02\", \"1979-05-03\", \"1979-05-04\", \"1979-05-05\", \"1979-05-06\", \"1979-05-07\", \"1979-05-08\", \"1979-05-09\", \"1979-05-10\", \"1979-05-11\", \"1979-05-12\", \"1979-05-13\", \"1979-05-14\", \"1979-05-15\", \"1979-05-16\", \"1979-05-17\", \"1979-05-18\", \"1979-05-19\", \"1979-05-20\", \"1979-05-21\", \"1979-05-22\", \"1979-05-23\", \"1979-05-24\", \"1979-05-25\", \"1979-05-26\", \"1979-05-27\", \"1979-05-28\", \"1979-05-29\", \"1979-05-30\", \"1979-05-31\", \"1979-06-01\", \"1979-06-02\", \"1979-06-03\", \"1979-06-04\", \"1979-06-05\", \"1979-06-06\", \"1979-06-07\", \"1979-06-08\", \"1979-06-09\", \"1979-06-10\", \"1979-06-11\", \"1979-06-12\", \"1979-06-13\", \"1979-06-14\", \"1979-06-15\", \"1979-06-16\", \"1979-06-17\", \"1979-06-18\", \"1979-06-19\", \"1979-06-20\", \"1979-06-21\", \"1979-06-22\", \"1979-06-23\", \"1979-06-24\", \"1979-06-25\", \"1979-06-26\", \"1979-06-27\", \"1979-06-28\", \"1979-06-29\", \"1979-06-30\", \"1979-07-01\", \"1979-07-02\", \"1979-07-03\", \"1979-07-04\", \"1979-07-05\", \"1979-07-06\", \"1979-07-07\", \"1979-07-08\", \"1979-07-09\", \"1979-07-10\", \"1979-07-11\", \"1979-07-12\", \"1979-07-13\", \"1979-07-14\", \"1979-07-15\", \"1979-07-16\", \"1979-07-17\", \"1979-07-18\", \"1979-07-19\", \"1979-07-20\", \"1979-07-21\", \"1979-07-22\", \"1979-07-23\", \"1979-07-24\", \"1979-07-25\", \"1979-07-26\", \"1979-07-27\", \"1979-07-28\", \"1979-07-29\", \"1979-07-30\", \"1979-07-31\", \"1979-08-01\", \"1979-08-02\", \"1979-08-03\", \"1979-08-04\", \"1979-08-05\", \"1979-08-06\", \"1979-08-07\", \"1979-08-08\", \"1979-08-09\", \"1979-08-10\", \"1979-08-11\", \"1979-08-12\", \"1979-08-13\", \"1979-08-14\", \"1979-08-15\", \"1979-08-16\", \"1979-08-17\", \"1979-08-18\", \"1979-08-19\", \"1979-08-20\", \"1979-08-21\", \"1979-08-22\", \"1979-08-23\", \"1979-08-24\", \"1979-08-25\", \"1979-08-26\", \"1979-08-27\", \"1979-08-28\", \"1979-08-29\", \"1979-08-30\", \"1979-08-31\", \"1979-09-01\", \"1979-09-02\", \"1979-09-03\", \"1979-09-04\", \"1979-09-05\", \"1979-09-06\", \"1979-09-07\", \"1979-09-08\", \"1979-09-09\", \"1979-09-10\", \"1979-09-11\", \"1979-09-12\", \"1979-09-13\", \"1979-09-14\", \"1979-09-15\", \"1979-09-16\", \"1979-09-17\", \"1979-09-18\", \"1979-09-19\", \"1979-09-20\", \"1979-09-21\", \"1979-09-22\", \"1979-09-23\", \"1979-09-24\", \"1979-09-25\", \"1979-09-26\", \"1979-09-27\", \"1979-09-28\", \"1979-09-29\", \"1979-09-30\", \"1979-10-01\", \"1979-10-02\", \"1979-10-03\", \"1979-10-04\", \"1979-10-05\", \"1979-10-06\", \"1979-10-07\", \"1979-10-08\", \"1979-10-09\", \"1979-10-10\", \"1979-10-11\", \"1979-10-12\", \"1979-10-13\", \"1979-10-14\", \"1979-10-15\", \"1979-10-16\", \"1979-10-17\", \"1979-10-18\", \"1979-10-19\", \"1979-10-20\", \"1979-10-21\", \"1979-10-22\", \"1979-10-23\", \"1979-10-24\", \"1979-10-25\", \"1979-10-26\", \"1979-10-27\", \"1979-10-28\", \"1979-10-29\", \"1979-10-30\", \"1979-10-31\", \"1979-11-01\", \"1979-11-02\", \"1979-11-03\", \"1979-11-04\", \"1979-11-05\", \"1979-11-06\", \"1979-11-07\", \"1979-11-08\", \"1979-11-09\", \"1979-11-10\", \"1979-11-11\", \"1979-11-12\", \"1979-11-13\", \"1979-11-14\", \"1979-11-15\", \"1979-11-16\", \"1979-11-17\", \"1979-11-18\", \"1979-11-19\", \"1979-11-20\", \"1979-11-21\", \"1979-11-22\", \"1979-11-23\", \"1979-11-24\", \"1979-11-25\", \"1979-11-26\", \"1979-11-27\", \"1979-11-28\", \"1979-11-29\", \"1979-11-30\", \"1979-12-01\", \"1979-12-02\", \"1979-12-03\", \"1979-12-04\", \"1979-12-05\", \"1979-12-06\", \"1979-12-07\", \"1979-12-08\", \"1979-12-09\", \"1979-12-10\", \"1979-12-11\", \"1979-12-12\", \"1979-12-13\", \"1979-12-14\", \"1979-12-15\", \"1979-12-16\", \"1979-12-17\", \"1979-12-18\", \"1979-12-19\", \"1979-12-20\", \"1979-12-21\", \"1979-12-22\", \"1979-12-23\", \"1979-12-24\", \"1979-12-25\", \"1979-12-26\", \"1979-12-27\", \"1979-12-28\", \"1979-12-29\", \"1979-12-30\", \"1979-12-31\", \"1980-01-01\", \"1980-01-02\", \"1980-01-03\", \"1980-01-04\", \"1980-01-05\", \"1980-01-06\", \"1980-01-07\", \"1980-01-08\", \"1980-01-09\", \"1980-01-10\", \"1980-01-11\", \"1980-01-12\", \"1980-01-13\", \"1980-01-14\", \"1980-01-15\", \"1980-01-16\", \"1980-01-17\", \"1980-01-18\", \"1980-01-19\", \"1980-01-20\", \"1980-01-21\", \"1980-01-22\", \"1980-01-23\", \"1980-01-24\", \"1980-01-25\", \"1980-01-26\", \"1980-01-27\", \"1980-01-28\", \"1980-01-29\", \"1980-01-30\", \"1980-01-31\", \"1980-02-01\", \"1980-02-02\", \"1980-02-03\", \"1980-02-04\", \"1980-02-05\", \"1980-02-06\", \"1980-02-07\", \"1980-02-08\", \"1980-02-09\", \"1980-02-10\", \"1980-02-11\", \"1980-02-12\", \"1980-02-13\", \"1980-02-14\", \"1980-02-15\", \"1980-02-16\", \"1980-02-17\", \"1980-02-18\", \"1980-02-19\", \"1980-02-20\", \"1980-02-21\", \"1980-02-22\", \"1980-02-23\", \"1980-02-24\", \"1980-02-25\", \"1980-02-26\", \"1980-02-27\", \"1980-02-28\", \"1980-02-29\", \"1980-03-01\", \"1980-03-02\", \"1980-03-03\", \"1980-03-04\", \"1980-03-05\", \"1980-03-06\", \"1980-03-07\", \"1980-03-08\", \"1980-03-09\", \"1980-03-10\", \"1980-03-11\", \"1980-03-12\", \"1980-03-13\", \"1980-03-14\", \"1980-03-15\", \"1980-03-16\", \"1980-03-17\", \"1980-03-18\", \"1980-03-19\", \"1980-03-20\", \"1980-03-21\", \"1980-03-22\", \"1980-03-23\", \"1980-03-24\", \"1980-03-25\", \"1980-03-26\", \"1980-03-27\", \"1980-03-28\", \"1980-03-29\", \"1980-03-30\", \"1980-03-31\", \"1980-04-01\", \"1980-04-02\", \"1980-04-03\", \"1980-04-04\", \"1980-04-05\", \"1980-04-06\", \"1980-04-07\", \"1980-04-08\", \"1980-04-09\", \"1980-04-10\", \"1980-04-11\", \"1980-04-12\", \"1980-04-13\", \"1980-04-14\", \"1980-04-15\", \"1980-04-16\", \"1980-04-17\", \"1980-04-18\", \"1980-04-19\", \"1980-04-20\", \"1980-04-21\", \"1980-04-22\", \"1980-04-23\", \"1980-04-24\", \"1980-04-25\", \"1980-04-26\", \"1980-04-27\", \"1980-04-28\", \"1980-04-29\", \"1980-04-30\", \"1980-05-01\", \"1980-05-02\", \"1980-05-03\", \"1980-05-04\", \"1980-05-05\", \"1980-05-06\", \"1980-05-07\", \"1980-05-08\", \"1980-05-09\", \"1980-05-10\", \"1980-05-11\", \"1980-05-12\", \"1980-05-13\", \"1980-05-14\", \"1980-05-15\", \"1980-05-16\", \"1980-05-17\", \"1980-05-18\", \"1980-05-19\", \"1980-05-20\", \"1980-05-21\", \"1980-05-22\", \"1980-05-23\", \"1980-05-24\", \"1980-05-25\", \"1980-05-26\", \"1980-05-27\", \"1980-05-28\", \"1980-05-29\", \"1980-05-30\", \"1980-05-31\", \"1980-06-01\", \"1980-06-02\", \"1980-06-03\", \"1980-06-04\", \"1980-06-05\", \"1980-06-06\", \"1980-06-07\", \"1980-06-08\", \"1980-06-09\", \"1980-06-10\", \"1980-06-11\", \"1980-06-12\", \"1980-06-13\", \"1980-06-14\", \"1980-06-15\", \"1980-06-16\", \"1980-06-17\", \"1980-06-18\", \"1980-06-19\", \"1980-06-20\", \"1980-06-21\", \"1980-06-22\", \"1980-06-23\", \"1980-06-24\", \"1980-06-25\", \"1980-06-26\", \"1980-06-27\", \"1980-06-28\", \"1980-06-29\", \"1980-06-30\", \"1980-07-01\", \"1980-07-02\", \"1980-07-03\", \"1980-07-04\", \"1980-07-05\", \"1980-07-06\", \"1980-07-07\", \"1980-07-08\", \"1980-07-09\", \"1980-07-10\", \"1980-07-11\", \"1980-07-12\", \"1980-07-13\", \"1980-07-14\", \"1980-07-15\", \"1980-07-16\", \"1980-07-17\", \"1980-07-18\", \"1980-07-19\", \"1980-07-20\", \"1980-07-21\", \"1980-07-22\", \"1980-07-23\", \"1980-07-24\", \"1980-07-25\", \"1980-07-26\", \"1980-07-27\", \"1980-07-28\", \"1980-07-29\", \"1980-07-30\", \"1980-07-31\", \"1980-08-01\", \"1980-08-02\", \"1980-08-03\", \"1980-08-04\", \"1980-08-05\", \"1980-08-06\", \"1980-08-07\", \"1980-08-08\", \"1980-08-09\", \"1980-08-10\", \"1980-08-11\", \"1980-08-12\", \"1980-08-13\", \"1980-08-14\", \"1980-08-15\", \"1980-08-16\", \"1980-08-17\", \"1980-08-18\", \"1980-08-19\", \"1980-08-20\", \"1980-08-21\", \"1980-08-22\", \"1980-08-23\", \"1980-08-24\", \"1980-08-25\", \"1980-08-26\", \"1980-08-27\", \"1980-08-28\", \"1980-08-29\", \"1980-08-30\", \"1980-08-31\", \"1980-09-01\", \"1980-09-02\", \"1980-09-03\", \"1980-09-04\", \"1980-09-05\", \"1980-09-06\", \"1980-09-07\", \"1980-09-08\", \"1980-09-09\", \"1980-09-10\", \"1980-09-11\", \"1980-09-12\", \"1980-09-13\", \"1980-09-14\", \"1980-09-15\", \"1980-09-16\", \"1980-09-17\", \"1980-09-18\", \"1980-09-19\", \"1980-09-20\", \"1980-09-21\", \"1980-09-22\", \"1980-09-23\", \"1980-09-24\", \"1980-09-25\", \"1980-09-26\", \"1980-09-27\", \"1980-09-28\", \"1980-09-29\", \"1980-09-30\", \"1980-10-01\", \"1980-10-02\", \"1980-10-03\", \"1980-10-04\", \"1980-10-05\", \"1980-10-06\", \"1980-10-07\", \"1980-10-08\", \"1980-10-09\", \"1980-10-10\", \"1980-10-11\", \"1980-10-12\", \"1980-10-13\", \"1980-10-14\", \"1980-10-15\", \"1980-10-16\", \"1980-10-17\", \"1980-10-18\", \"1980-10-19\", \"1980-10-20\", \"1980-10-21\", \"1980-10-22\", \"1980-10-23\", \"1980-10-24\", \"1980-10-25\", \"1980-10-26\", \"1980-10-27\", \"1980-10-28\", \"1980-10-29\", \"1980-10-30\", \"1980-10-31\", \"1980-11-01\", \"1980-11-02\", \"1980-11-03\", \"1980-11-04\", \"1980-11-05\", \"1980-11-06\", \"1980-11-07\", \"1980-11-08\", \"1980-11-09\", \"1980-11-10\", \"1980-11-11\", \"1980-11-12\", \"1980-11-13\", \"1980-11-14\", \"1980-11-15\", \"1980-11-16\", \"1980-11-17\", \"1980-11-18\", \"1980-11-19\", \"1980-11-20\", \"1980-11-21\", \"1980-11-22\", \"1980-11-23\", \"1980-11-24\", \"1980-11-25\", \"1980-11-26\", \"1980-11-27\", \"1980-11-28\", \"1980-11-29\", \"1980-11-30\", \"1980-12-01\", \"1980-12-02\", \"1980-12-03\", \"1980-12-04\", \"1980-12-05\", \"1980-12-06\", \"1980-12-07\", \"1980-12-08\", \"1980-12-09\", \"1980-12-10\", \"1980-12-11\", \"1980-12-12\", \"1980-12-13\", \"1980-12-14\", \"1980-12-15\", \"1980-12-16\", \"1980-12-17\", \"1980-12-18\", \"1980-12-19\", \"1980-12-20\", \"1980-12-21\", \"1980-12-22\", \"1980-12-23\", \"1980-12-24\", \"1980-12-25\", \"1980-12-26\", \"1980-12-27\", \"1980-12-28\", \"1980-12-29\", \"1980-12-30\", \"1980-12-31\", \"1981-01-01\", \"1981-01-02\", \"1981-01-03\", \"1981-01-04\", \"1981-01-05\", \"1981-01-06\", \"1981-01-07\", \"1981-01-08\", \"1981-01-09\", \"1981-01-10\", \"1981-01-11\", \"1981-01-12\", \"1981-01-13\", \"1981-01-14\", \"1981-01-15\", \"1981-01-16\", \"1981-01-17\", \"1981-01-18\", \"1981-01-19\", \"1981-01-20\", \"1981-01-21\", \"1981-01-22\", \"1981-01-23\", \"1981-01-24\", \"1981-01-25\", \"1981-01-26\", \"1981-01-27\", \"1981-01-28\", \"1981-01-29\", \"1981-01-30\", \"1981-01-31\", \"1981-02-01\", \"1981-02-02\", \"1981-02-03\", \"1981-02-04\", \"1981-02-05\", \"1981-02-06\", \"1981-02-07\", \"1981-02-08\", \"1981-02-09\", \"1981-02-10\", \"1981-02-11\", \"1981-02-12\", \"1981-02-13\", \"1981-02-14\", \"1981-02-15\", \"1981-02-16\", \"1981-02-17\", \"1981-02-18\", \"1981-02-19\", \"1981-02-20\", \"1981-02-21\", \"1981-02-22\", \"1981-02-23\", \"1981-02-24\", \"1981-02-25\", \"1981-02-26\", \"1981-02-27\", \"1981-02-28\", \"1981-03-01\", \"1981-03-02\", \"1981-03-03\", \"1981-03-04\", \"1981-03-05\", \"1981-03-06\", \"1981-03-07\", \"1981-03-08\", \"1981-03-09\", \"1981-03-10\", \"1981-03-11\", \"1981-03-12\", \"1981-03-13\", \"1981-03-14\", \"1981-03-15\", \"1981-03-16\", \"1981-03-17\", \"1981-03-18\", \"1981-03-19\", \"1981-03-20\", \"1981-03-21\", \"1981-03-22\", \"1981-03-23\", \"1981-03-24\", \"1981-03-25\", \"1981-03-26\", \"1981-03-27\", \"1981-03-28\", \"1981-03-29\", \"1981-03-30\", \"1981-03-31\", \"1981-04-01\", \"1981-04-02\", \"1981-04-03\", \"1981-04-04\", \"1981-04-05\", \"1981-04-06\", \"1981-04-07\", \"1981-04-08\", \"1981-04-09\", \"1981-04-10\", \"1981-04-11\", \"1981-04-12\", \"1981-04-13\", \"1981-04-14\", \"1981-04-15\", \"1981-04-16\", \"1981-04-17\", \"1981-04-18\", \"1981-04-19\", \"1981-04-20\", \"1981-04-21\", \"1981-04-22\", \"1981-04-23\", \"1981-04-24\", \"1981-04-25\", \"1981-04-26\", \"1981-04-27\", \"1981-04-28\", \"1981-04-29\", \"1981-04-30\", \"1981-05-01\", \"1981-05-02\", \"1981-05-03\", \"1981-05-04\", \"1981-05-05\", \"1981-05-06\", \"1981-05-07\", \"1981-05-08\", \"1981-05-09\", \"1981-05-10\", \"1981-05-11\", \"1981-05-12\", \"1981-05-13\", \"1981-05-14\", \"1981-05-15\", \"1981-05-16\", \"1981-05-17\", \"1981-05-18\", \"1981-05-19\", \"1981-05-20\", \"1981-05-21\", \"1981-05-22\", \"1981-05-23\", \"1981-05-24\", \"1981-05-25\", \"1981-05-26\", \"1981-05-27\", \"1981-05-28\", \"1981-05-29\", \"1981-05-30\", \"1981-05-31\", \"1981-06-01\", \"1981-06-02\", \"1981-06-03\", \"1981-06-04\", \"1981-06-05\", \"1981-06-06\", \"1981-06-07\", \"1981-06-08\", \"1981-06-09\", \"1981-06-10\", \"1981-06-11\", \"1981-06-12\", \"1981-06-13\", \"1981-06-14\", \"1981-06-15\", \"1981-06-16\", \"1981-06-17\", \"1981-06-18\", \"1981-06-19\", \"1981-06-20\", \"1981-06-21\", \"1981-06-22\", \"1981-06-23\", \"1981-06-24\", \"1981-06-25\", \"1981-06-26\", \"1981-06-27\", \"1981-06-28\", \"1981-06-29\", \"1981-06-30\", \"1981-07-01\", \"1981-07-02\", \"1981-07-03\", \"1981-07-04\", \"1981-07-05\", \"1981-07-06\", \"1981-07-07\", \"1981-07-08\", \"1981-07-09\", \"1981-07-10\", \"1981-07-11\", \"1981-07-12\", \"1981-07-13\", \"1981-07-14\", \"1981-07-15\", \"1981-07-16\", \"1981-07-17\", \"1981-07-18\", \"1981-07-19\", \"1981-07-20\", \"1981-07-21\", \"1981-07-22\", \"1981-07-23\", \"1981-07-24\", \"1981-07-25\", \"1981-07-26\", \"1981-07-27\", \"1981-07-28\", \"1981-07-29\", \"1981-07-30\", \"1981-07-31\", \"1981-08-01\", \"1981-08-02\", \"1981-08-03\", \"1981-08-04\", \"1981-08-05\", \"1981-08-06\", \"1981-08-07\", \"1981-08-08\", \"1981-08-09\", \"1981-08-10\", \"1981-08-11\", \"1981-08-12\", \"1981-08-13\", \"1981-08-14\", \"1981-08-15\", \"1981-08-16\", \"1981-08-17\", \"1981-08-18\", \"1981-08-19\", \"1981-08-20\", \"1981-08-21\", \"1981-08-22\", \"1981-08-23\", \"1981-08-24\", \"1981-08-25\", \"1981-08-26\", \"1981-08-27\", \"1981-08-28\", \"1981-08-29\", \"1981-08-30\", \"1981-08-31\", \"1981-09-01\", \"1981-09-02\", \"1981-09-03\", \"1981-09-04\", \"1981-09-05\", \"1981-09-06\", \"1981-09-07\", \"1981-09-08\", \"1981-09-09\", \"1981-09-10\", \"1981-09-11\", \"1981-09-12\", \"1981-09-13\", \"1981-09-14\", \"1981-09-15\", \"1981-09-16\", \"1981-09-17\", \"1981-09-18\", \"1981-09-19\", \"1981-09-20\", \"1981-09-21\", \"1981-09-22\", \"1981-09-23\", \"1981-09-24\", \"1981-09-25\", \"1981-09-26\", \"1981-09-27\", \"1981-09-28\", \"1981-09-29\", \"1981-09-30\", \"1981-10-01\", \"1981-10-02\", \"1981-10-03\", \"1981-10-04\", \"1981-10-05\", \"1981-10-06\", \"1981-10-07\", \"1981-10-08\", \"1981-10-09\", \"1981-10-10\", \"1981-10-11\", \"1981-10-12\", \"1981-10-13\", \"1981-10-14\", \"1981-10-15\", \"1981-10-16\", \"1981-10-17\", \"1981-10-18\", \"1981-10-19\", \"1981-10-20\", \"1981-10-21\", \"1981-10-22\", \"1981-10-23\", \"1981-10-24\", \"1981-10-25\", \"1981-10-26\", \"1981-10-27\", \"1981-10-28\", \"1981-10-29\", \"1981-10-30\", \"1981-10-31\", \"1981-11-01\", \"1981-11-02\", \"1981-11-03\", \"1981-11-04\", \"1981-11-05\", \"1981-11-06\", \"1981-11-07\", \"1981-11-08\", \"1981-11-09\", \"1981-11-10\", \"1981-11-11\", \"1981-11-12\", \"1981-11-13\", \"1981-11-14\", \"1981-11-15\", \"1981-11-16\", \"1981-11-17\", \"1981-11-18\", \"1981-11-19\", \"1981-11-20\", \"1981-11-21\", \"1981-11-22\", \"1981-11-23\", \"1981-11-24\", \"1981-11-25\", \"1981-11-26\", \"1981-11-27\", \"1981-11-28\", \"1981-11-29\", \"1981-11-30\", \"1981-12-01\", \"1981-12-02\", \"1981-12-03\", \"1981-12-04\", \"1981-12-05\", \"1981-12-06\", \"1981-12-07\", \"1981-12-08\", \"1981-12-09\", \"1981-12-10\", \"1981-12-11\", \"1981-12-12\", \"1981-12-13\", \"1981-12-14\", \"1981-12-15\", \"1981-12-16\", \"1981-12-17\", \"1981-12-18\", \"1981-12-19\", \"1981-12-20\", \"1981-12-21\", \"1981-12-22\", \"1981-12-23\", \"1981-12-24\", \"1981-12-25\", \"1981-12-26\", \"1981-12-27\", \"1981-12-28\", \"1981-12-29\", \"1981-12-30\", \"1981-12-31\", \"1982-01-01\", \"1982-01-02\", \"1982-01-03\", \"1982-01-04\", \"1982-01-05\", \"1982-01-06\", \"1982-01-07\", \"1982-01-08\", \"1982-01-09\", \"1982-01-10\", \"1982-01-11\", \"1982-01-12\", \"1982-01-13\", \"1982-01-14\", \"1982-01-15\", \"1982-01-16\", \"1982-01-17\", \"1982-01-18\", \"1982-01-19\", \"1982-01-20\", \"1982-01-21\", \"1982-01-22\", \"1982-01-23\", \"1982-01-24\", \"1982-01-25\", \"1982-01-26\", \"1982-01-27\", \"1982-01-28\", \"1982-01-29\", \"1982-01-30\", \"1982-01-31\", \"1982-02-01\", \"1982-02-02\", \"1982-02-03\", \"1982-02-04\", \"1982-02-05\", \"1982-02-06\", \"1982-02-07\", \"1982-02-08\", \"1982-02-09\", \"1982-02-10\", \"1982-02-11\", \"1982-02-12\", \"1982-02-13\", \"1982-02-14\", \"1982-02-15\", \"1982-02-16\", \"1982-02-17\", \"1982-02-18\", \"1982-02-19\", \"1982-02-20\", \"1982-02-21\", \"1982-02-22\", \"1982-02-23\", \"1982-02-24\", \"1982-02-25\", \"1982-02-26\", \"1982-02-27\", \"1982-02-28\", \"1982-03-01\", \"1982-03-02\", \"1982-03-03\", \"1982-03-04\", \"1982-03-05\", \"1982-03-06\", \"1982-03-07\", \"1982-03-08\", \"1982-03-09\", \"1982-03-10\", \"1982-03-11\", \"1982-03-12\", \"1982-03-13\", \"1982-03-14\", \"1982-03-15\", \"1982-03-16\", \"1982-03-17\", \"1982-03-18\", \"1982-03-19\", \"1982-03-20\", \"1982-03-21\", \"1982-03-22\", \"1982-03-23\", \"1982-03-24\", \"1982-03-25\", \"1982-03-26\", \"1982-03-27\", \"1982-03-28\", \"1982-03-29\", \"1982-03-30\", \"1982-03-31\", \"1982-04-01\", \"1982-04-02\", \"1982-04-03\", \"1982-04-04\", \"1982-04-05\", \"1982-04-06\", \"1982-04-07\", \"1982-04-08\", \"1982-04-09\", \"1982-04-10\", \"1982-04-11\", \"1982-04-12\", \"1982-04-13\", \"1982-04-14\", \"1982-04-15\", \"1982-04-16\", \"1982-04-17\", \"1982-04-18\", \"1982-04-19\", \"1982-04-20\", \"1982-04-21\", \"1982-04-22\", \"1982-04-23\", \"1982-04-24\", \"1982-04-25\", \"1982-04-26\", \"1982-04-27\", \"1982-04-28\", \"1982-04-29\", \"1982-04-30\", \"1982-05-01\", \"1982-05-02\", \"1982-05-03\", \"1982-05-04\", \"1982-05-05\", \"1982-05-06\", \"1982-05-07\", \"1982-05-08\", \"1982-05-09\", \"1982-05-10\", \"1982-05-11\", \"1982-05-12\", \"1982-05-13\", \"1982-05-14\", \"1982-05-15\", \"1982-05-16\", \"1982-05-17\", \"1982-05-18\", \"1982-05-19\", \"1982-05-20\", \"1982-05-21\", \"1982-05-22\", \"1982-05-23\", \"1982-05-24\", \"1982-05-25\", \"1982-05-26\", \"1982-05-27\", \"1982-05-28\", \"1982-05-29\", \"1982-05-30\", \"1982-05-31\", \"1982-06-01\", \"1982-06-02\", \"1982-06-03\", \"1982-06-04\", \"1982-06-05\", \"1982-06-06\", \"1982-06-07\", \"1982-06-08\", \"1982-06-09\", \"1982-06-10\", \"1982-06-11\", \"1982-06-12\", \"1982-06-13\", \"1982-06-14\", \"1982-06-15\", \"1982-06-16\", \"1982-06-17\", \"1982-06-18\", \"1982-06-19\", \"1982-06-20\", \"1982-06-21\", \"1982-06-22\", \"1982-06-23\", \"1982-06-24\", \"1982-06-25\", \"1982-06-26\", \"1982-06-27\", \"1982-06-28\", \"1982-06-29\", \"1982-06-30\", \"1982-07-01\", \"1982-07-02\", \"1982-07-03\", \"1982-07-04\", \"1982-07-05\", \"1982-07-06\", \"1982-07-07\", \"1982-07-08\", \"1982-07-09\", \"1982-07-10\", \"1982-07-11\", \"1982-07-12\", \"1982-07-13\", \"1982-07-14\", \"1982-07-15\", \"1982-07-16\", \"1982-07-17\", \"1982-07-18\", \"1982-07-19\", \"1982-07-20\", \"1982-07-21\", \"1982-07-22\", \"1982-07-23\", \"1982-07-24\", \"1982-07-25\", \"1982-07-26\", \"1982-07-27\", \"1982-07-28\", \"1982-07-29\", \"1982-07-30\", \"1982-07-31\", \"1982-08-01\", \"1982-08-02\", \"1982-08-03\", \"1982-08-04\", \"1982-08-05\", \"1982-08-06\", \"1982-08-07\", \"1982-08-08\", \"1982-08-09\", \"1982-08-10\", \"1982-08-11\", \"1982-08-12\", \"1982-08-13\", \"1982-08-14\", \"1982-08-15\", \"1982-08-16\", \"1982-08-17\", \"1982-08-18\", \"1982-08-19\", \"1982-08-20\", \"1982-08-21\", \"1982-08-22\", \"1982-08-23\", \"1982-08-24\", \"1982-08-25\", \"1982-08-26\", \"1982-08-27\", \"1982-08-28\", \"1982-08-29\", \"1982-08-30\", \"1982-08-31\", \"1982-09-01\", \"1982-09-02\", \"1982-09-03\", \"1982-09-04\", \"1982-09-05\", \"1982-09-06\", \"1982-09-07\", \"1982-09-08\", \"1982-09-09\", \"1982-09-10\", \"1982-09-11\", \"1982-09-12\", \"1982-09-13\", \"1982-09-14\", \"1982-09-15\", \"1982-09-16\", \"1982-09-17\", \"1982-09-18\", \"1982-09-19\", \"1982-09-20\", \"1982-09-21\", \"1982-09-22\", \"1982-09-23\", \"1982-09-24\", \"1982-09-25\", \"1982-09-26\", \"1982-09-27\", \"1982-09-28\", \"1982-09-29\", \"1982-09-30\", \"1982-10-01\", \"1982-10-02\", \"1982-10-03\", \"1982-10-04\", \"1982-10-05\", \"1982-10-06\", \"1982-10-07\", \"1982-10-08\", \"1982-10-09\", \"1982-10-10\", \"1982-10-11\", \"1982-10-12\", \"1982-10-13\", \"1982-10-14\", \"1982-10-15\", \"1982-10-16\", \"1982-10-17\", \"1982-10-18\", \"1982-10-19\", \"1982-10-20\", \"1982-10-21\", \"1982-10-22\", \"1982-10-23\", \"1982-10-24\", \"1982-10-25\", \"1982-10-26\", \"1982-10-27\", \"1982-10-28\", \"1982-10-29\", \"1982-10-30\", \"1982-10-31\", \"1982-11-01\", \"1982-11-02\", \"1982-11-03\", \"1982-11-04\", \"1982-11-05\", \"1982-11-06\", \"1982-11-07\", \"1982-11-08\", \"1982-11-09\", \"1982-11-10\", \"1982-11-11\", \"1982-11-12\", \"1982-11-13\", \"1982-11-14\", \"1982-11-15\", \"1982-11-16\", \"1982-11-17\", \"1982-11-18\", \"1982-11-19\", \"1982-11-20\", \"1982-11-21\", \"1982-11-22\", \"1982-11-23\", \"1982-11-24\", \"1982-11-25\", \"1982-11-26\", \"1982-11-27\", \"1982-11-28\", \"1982-11-29\", \"1982-11-30\", \"1982-12-01\", \"1982-12-02\", \"1982-12-03\", \"1982-12-04\", \"1982-12-05\", \"1982-12-06\", \"1982-12-07\", \"1982-12-08\", \"1982-12-09\", \"1982-12-10\", \"1982-12-11\", \"1982-12-12\", \"1982-12-13\", \"1982-12-14\", \"1982-12-15\", \"1982-12-16\", \"1982-12-17\", \"1982-12-18\", \"1982-12-19\", \"1982-12-20\", \"1982-12-21\", \"1982-12-22\", \"1982-12-23\", \"1982-12-24\", \"1982-12-25\", \"1982-12-26\", \"1982-12-27\", \"1982-12-28\", \"1982-12-29\", \"1982-12-30\", \"1982-12-31\", \"1983-01-01\", \"1983-01-02\", \"1983-01-03\", \"1983-01-04\", \"1983-01-05\", \"1983-01-06\", \"1983-01-07\", \"1983-01-08\", \"1983-01-09\", \"1983-01-10\", \"1983-01-11\", \"1983-01-12\", \"1983-01-13\", \"1983-01-14\", \"1983-01-15\", \"1983-01-16\", \"1983-01-17\", \"1983-01-18\", \"1983-01-19\", \"1983-01-20\", \"1983-01-21\", \"1983-01-22\", \"1983-01-23\", \"1983-01-24\", \"1983-01-25\", \"1983-01-26\", \"1983-01-27\", \"1983-01-28\", \"1983-01-29\", \"1983-01-30\", \"1983-01-31\", \"1983-02-01\", \"1983-02-02\", \"1983-02-03\", \"1983-02-04\", \"1983-02-05\", \"1983-02-06\", \"1983-02-07\", \"1983-02-08\", \"1983-02-09\", \"1983-02-10\", \"1983-02-11\", \"1983-02-12\", \"1983-02-13\", \"1983-02-14\", \"1983-02-15\", \"1983-02-16\", \"1983-02-17\", \"1983-02-18\", \"1983-02-19\", \"1983-02-20\", \"1983-02-21\", \"1983-02-22\", \"1983-02-23\", \"1983-02-24\", \"1983-02-25\", \"1983-02-26\", \"1983-02-27\", \"1983-02-28\", \"1983-03-01\", \"1983-03-02\", \"1983-03-03\", \"1983-03-04\", \"1983-03-05\", \"1983-03-06\", \"1983-03-07\", \"1983-03-08\", \"1983-03-09\", \"1983-03-10\", \"1983-03-11\", \"1983-03-12\", \"1983-03-13\", \"1983-03-14\", \"1983-03-15\", \"1983-03-16\", \"1983-03-17\", \"1983-03-18\", \"1983-03-19\", \"1983-03-20\", \"1983-03-21\", \"1983-03-22\", \"1983-03-23\", \"1983-03-24\", \"1983-03-25\", \"1983-03-26\", \"1983-03-27\", \"1983-03-28\", \"1983-03-29\", \"1983-03-30\", \"1983-03-31\", \"1983-04-01\", \"1983-04-02\", \"1983-04-03\", \"1983-04-04\", \"1983-04-05\", \"1983-04-06\", \"1983-04-07\", \"1983-04-08\", \"1983-04-09\", \"1983-04-10\", \"1983-04-11\", \"1983-04-12\", \"1983-04-13\", \"1983-04-14\", \"1983-04-15\", \"1983-04-16\", \"1983-04-17\", \"1983-04-18\", \"1983-04-19\", \"1983-04-20\", \"1983-04-21\", \"1983-04-22\", \"1983-04-23\", \"1983-04-24\", \"1983-04-25\", \"1983-04-26\", \"1983-04-27\", \"1983-04-28\", \"1983-04-29\", \"1983-04-30\", \"1983-05-01\", \"1983-05-02\", \"1983-05-03\", \"1983-05-04\", \"1983-05-05\", \"1983-05-06\", \"1983-05-07\", \"1983-05-08\", \"1983-05-09\", \"1983-05-10\", \"1983-05-11\", \"1983-05-12\", \"1983-05-13\", \"1983-05-14\", \"1983-05-15\", \"1983-05-16\", \"1983-05-17\", \"1983-05-18\", \"1983-05-19\", \"1983-05-20\", \"1983-05-21\", \"1983-05-22\", \"1983-05-23\", \"1983-05-24\", \"1983-05-25\", \"1983-05-26\", \"1983-05-27\", \"1983-05-28\", \"1983-05-29\", \"1983-05-30\", \"1983-05-31\", \"1983-06-01\", \"1983-06-02\", \"1983-06-03\", \"1983-06-04\", \"1983-06-05\", \"1983-06-06\", \"1983-06-07\", \"1983-06-08\", \"1983-06-09\", \"1983-06-10\", \"1983-06-11\", \"1983-06-12\", \"1983-06-13\", \"1983-06-14\", \"1983-06-15\", \"1983-06-16\", \"1983-06-17\", \"1983-06-18\", \"1983-06-19\", \"1983-06-20\", \"1983-06-21\", \"1983-06-22\", \"1983-06-23\", \"1983-06-24\", \"1983-06-25\", \"1983-06-26\", \"1983-06-27\", \"1983-06-28\", \"1983-06-29\", \"1983-06-30\", \"1983-07-01\", \"1983-07-02\", \"1983-07-03\", \"1983-07-04\", \"1983-07-05\", \"1983-07-06\", \"1983-07-07\", \"1983-07-08\", \"1983-07-09\", \"1983-07-10\", \"1983-07-11\", \"1983-07-12\", \"1983-07-13\", \"1983-07-14\", \"1983-07-15\", \"1983-07-16\", \"1983-07-17\", \"1983-07-18\", \"1983-07-19\", \"1983-07-20\", \"1983-07-21\", \"1983-07-22\", \"1983-07-23\", \"1983-07-24\", \"1983-07-25\", \"1983-07-26\", \"1983-07-27\", \"1983-07-28\", \"1983-07-29\", \"1983-07-30\", \"1983-07-31\", \"1983-08-01\", \"1983-08-02\", \"1983-08-03\", \"1983-08-04\", \"1983-08-05\", \"1983-08-06\", \"1983-08-07\", \"1983-08-08\", \"1983-08-09\", \"1983-08-10\", \"1983-08-11\", \"1983-08-12\", \"1983-08-13\", \"1983-08-14\", \"1983-08-15\", \"1983-08-16\", \"1983-08-17\", \"1983-08-18\", \"1983-08-19\", \"1983-08-20\", \"1983-08-21\", \"1983-08-22\", \"1983-08-23\", \"1983-08-24\", \"1983-08-25\", \"1983-08-26\", \"1983-08-27\", \"1983-08-28\", \"1983-08-29\", \"1983-08-30\", \"1983-08-31\", \"1983-09-01\", \"1983-09-02\", \"1983-09-03\", \"1983-09-04\", \"1983-09-05\", \"1983-09-06\", \"1983-09-07\", \"1983-09-08\", \"1983-09-09\", \"1983-09-10\", \"1983-09-11\", \"1983-09-12\", \"1983-09-13\", \"1983-09-14\", \"1983-09-15\", \"1983-09-16\", \"1983-09-17\", \"1983-09-18\", \"1983-09-19\", \"1983-09-20\", \"1983-09-21\", \"1983-09-22\", \"1983-09-23\", \"1983-09-24\", \"1983-09-25\", \"1983-09-26\", \"1983-09-27\", \"1983-09-28\", \"1983-09-29\", \"1983-09-30\", \"1983-10-01\", \"1983-10-02\", \"1983-10-03\", \"1983-10-04\", \"1983-10-05\", \"1983-10-06\", \"1983-10-07\", \"1983-10-08\", \"1983-10-09\", \"1983-10-10\", \"1983-10-11\", \"1983-10-12\", \"1983-10-13\", \"1983-10-14\", \"1983-10-15\", \"1983-10-16\", \"1983-10-17\", \"1983-10-18\", \"1983-10-19\", \"1983-10-20\", \"1983-10-21\", \"1983-10-22\", \"1983-10-23\", \"1983-10-24\", \"1983-10-25\", \"1983-10-26\", \"1983-10-27\", \"1983-10-28\", \"1983-10-29\", \"1983-10-30\", \"1983-10-31\", \"1983-11-01\", \"1983-11-02\", \"1983-11-03\", \"1983-11-04\", \"1983-11-05\", \"1983-11-06\", \"1983-11-07\", \"1983-11-08\", \"1983-11-09\", \"1983-11-10\", \"1983-11-11\", \"1983-11-12\", \"1983-11-13\", \"1983-11-14\", \"1983-11-15\", \"1983-11-16\", \"1983-11-17\", \"1983-11-18\", \"1983-11-19\", \"1983-11-20\", \"1983-11-21\", \"1983-11-22\", \"1983-11-23\", \"1983-11-24\", \"1983-11-25\", \"1983-11-26\", \"1983-11-27\", \"1983-11-28\", \"1983-11-29\", \"1983-11-30\", \"1983-12-01\", \"1983-12-02\", \"1983-12-03\", \"1983-12-04\", \"1983-12-05\", \"1983-12-06\", \"1983-12-07\", \"1983-12-08\", \"1983-12-09\", \"1983-12-10\", \"1983-12-11\", \"1983-12-12\", \"1983-12-13\", \"1983-12-14\", \"1983-12-15\", \"1983-12-16\", \"1983-12-17\", \"1983-12-18\", \"1983-12-19\", \"1983-12-20\", \"1983-12-21\", \"1983-12-22\", \"1983-12-23\", \"1983-12-24\", \"1983-12-25\", \"1983-12-26\", \"1983-12-27\", \"1983-12-28\", \"1983-12-29\", \"1983-12-30\", \"1983-12-31\", \"1984-01-01\", \"1984-01-02\", \"1984-01-03\", \"1984-01-04\", \"1984-01-05\", \"1984-01-06\", \"1984-01-07\", \"1984-01-08\", \"1984-01-09\", \"1984-01-10\", \"1984-01-11\", \"1984-01-12\", \"1984-01-13\", \"1984-01-14\", \"1984-01-15\", \"1984-01-16\", \"1984-01-17\", \"1984-01-18\", \"1984-01-19\", \"1984-01-20\", \"1984-01-21\", \"1984-01-22\", \"1984-01-23\", \"1984-01-24\", \"1984-01-25\", \"1984-01-26\", \"1984-01-27\", \"1984-01-28\", \"1984-01-29\", \"1984-01-30\", \"1984-01-31\", \"1984-02-01\", \"1984-02-02\", \"1984-02-03\", \"1984-02-04\", \"1984-02-05\", \"1984-02-06\", \"1984-02-07\", \"1984-02-08\", \"1984-02-09\", \"1984-02-10\", \"1984-02-11\", \"1984-02-12\", \"1984-02-13\", \"1984-02-14\", \"1984-02-15\", \"1984-02-16\", \"1984-02-17\", \"1984-02-18\", \"1984-02-19\", \"1984-02-20\", \"1984-02-21\", \"1984-02-22\", \"1984-02-23\", \"1984-02-24\", \"1984-02-25\", \"1984-02-26\", \"1984-02-27\", \"1984-02-28\", \"1984-02-29\", \"1984-03-01\", \"1984-03-02\", \"1984-03-03\", \"1984-03-04\", \"1984-03-05\", \"1984-03-06\", \"1984-03-07\", \"1984-03-08\", \"1984-03-09\", \"1984-03-10\", \"1984-03-11\", \"1984-03-12\", \"1984-03-13\", \"1984-03-14\", \"1984-03-15\", \"1984-03-16\", \"1984-03-17\", \"1984-03-18\", \"1984-03-19\", \"1984-03-20\", \"1984-03-21\", \"1984-03-22\", \"1984-03-23\", \"1984-03-24\", \"1984-03-25\", \"1984-03-26\", \"1984-03-27\", \"1984-03-28\", \"1984-03-29\", \"1984-03-30\", \"1984-03-31\", \"1984-04-01\", \"1984-04-02\", \"1984-04-03\", \"1984-04-04\", \"1984-04-05\", \"1984-04-06\", \"1984-04-07\", \"1984-04-08\", \"1984-04-09\", \"1984-04-10\", \"1984-04-11\", \"1984-04-12\", \"1984-04-13\", \"1984-04-14\", \"1984-04-15\", \"1984-04-16\", \"1984-04-17\", \"1984-04-18\", \"1984-04-19\", \"1984-04-20\", \"1984-04-21\", \"1984-04-22\", \"1984-04-23\", \"1984-04-24\", \"1984-04-25\", \"1984-04-26\", \"1984-04-27\", \"1984-04-28\", \"1984-04-29\", \"1984-04-30\", \"1984-05-01\", \"1984-05-02\", \"1984-05-03\", \"1984-05-04\", \"1984-05-05\", \"1984-05-06\", \"1984-05-07\", \"1984-05-08\", \"1984-05-09\", \"1984-05-10\", \"1984-05-11\", \"1984-05-12\", \"1984-05-13\", \"1984-05-14\", \"1984-05-15\", \"1984-05-16\", \"1984-05-17\", \"1984-05-18\", \"1984-05-19\", \"1984-05-20\", \"1984-05-21\", \"1984-05-22\", \"1984-05-23\", \"1984-05-24\", \"1984-05-25\", \"1984-05-26\", \"1984-05-27\", \"1984-05-28\", \"1984-05-29\", \"1984-05-30\", \"1984-05-31\", \"1984-06-01\", \"1984-06-02\", \"1984-06-03\", \"1984-06-04\", \"1984-06-05\", \"1984-06-06\", \"1984-06-07\", \"1984-06-08\", \"1984-06-09\", \"1984-06-10\", \"1984-06-11\", \"1984-06-12\", \"1984-06-13\", \"1984-06-14\", \"1984-06-15\", \"1984-06-16\", \"1984-06-17\", \"1984-06-18\", \"1984-06-19\", \"1984-06-20\", \"1984-06-21\", \"1984-06-22\", \"1984-06-23\", \"1984-06-24\", \"1984-06-25\", \"1984-06-26\", \"1984-06-27\", \"1984-06-28\", \"1984-06-29\", \"1984-06-30\", \"1984-07-01\", \"1984-07-02\", \"1984-07-03\", \"1984-07-04\", \"1984-07-05\", \"1984-07-06\", \"1984-07-07\", \"1984-07-08\", \"1984-07-09\", \"1984-07-10\", \"1984-07-11\", \"1984-07-12\", \"1984-07-13\", \"1984-07-14\", \"1984-07-15\", \"1984-07-16\", \"1984-07-17\", \"1984-07-18\", \"1984-07-19\", \"1984-07-20\", \"1984-07-21\", \"1984-07-22\", \"1984-07-23\", \"1984-07-24\", \"1984-07-25\", \"1984-07-26\", \"1984-07-27\", \"1984-07-28\", \"1984-07-29\", \"1984-07-30\", \"1984-07-31\", \"1984-08-01\", \"1984-08-02\", \"1984-08-03\", \"1984-08-04\", \"1984-08-05\", \"1984-08-06\", \"1984-08-07\", \"1984-08-08\", \"1984-08-09\", \"1984-08-10\", \"1984-08-11\", \"1984-08-12\", \"1984-08-13\", \"1984-08-14\", \"1984-08-15\", \"1984-08-16\", \"1984-08-17\", \"1984-08-18\", \"1984-08-19\", \"1984-08-20\", \"1984-08-21\", \"1984-08-22\", \"1984-08-23\", \"1984-08-24\", \"1984-08-25\", \"1984-08-26\", \"1984-08-27\", \"1984-08-28\", \"1984-08-29\", \"1984-08-30\", \"1984-08-31\", \"1984-09-01\", \"1984-09-02\", \"1984-09-03\", \"1984-09-04\", \"1984-09-05\", \"1984-09-06\", \"1984-09-07\", \"1984-09-08\", \"1984-09-09\", \"1984-09-10\", \"1984-09-11\", \"1984-09-12\", \"1984-09-13\", \"1984-09-14\", \"1984-09-15\", \"1984-09-16\", \"1984-09-17\", \"1984-09-18\", \"1984-09-19\", \"1984-09-20\", \"1984-09-21\", \"1984-09-22\", \"1984-09-23\", \"1984-09-24\", \"1984-09-25\", \"1984-09-26\", \"1984-09-27\", \"1984-09-28\", \"1984-09-29\", \"1984-09-30\", \"1984-10-01\", \"1984-10-02\", \"1984-10-03\", \"1984-10-04\", \"1984-10-05\", \"1984-10-06\", \"1984-10-07\", \"1984-10-08\", \"1984-10-09\", \"1984-10-10\", \"1984-10-11\", \"1984-10-12\", \"1984-10-13\", \"1984-10-14\", \"1984-10-15\", \"1984-10-16\", \"1984-10-17\", \"1984-10-18\", \"1984-10-19\", \"1984-10-20\", \"1984-10-21\", \"1984-10-22\", \"1984-10-23\", \"1984-10-24\", \"1984-10-25\", \"1984-10-26\", \"1984-10-27\", \"1984-10-28\", \"1984-10-29\", \"1984-10-30\", \"1984-10-31\", \"1984-11-01\", \"1984-11-02\", \"1984-11-03\", \"1984-11-04\", \"1984-11-05\", \"1984-11-06\", \"1984-11-07\", \"1984-11-08\", \"1984-11-09\", \"1984-11-10\", \"1984-11-11\", \"1984-11-12\", \"1984-11-13\", \"1984-11-14\", \"1984-11-15\", \"1984-11-16\", \"1984-11-17\", \"1984-11-18\", \"1984-11-19\", \"1984-11-20\", \"1984-11-21\", \"1984-11-22\", \"1984-11-23\", \"1984-11-24\", \"1984-11-25\", \"1984-11-26\", \"1984-11-27\", \"1984-11-28\", \"1984-11-29\", \"1984-11-30\", \"1984-12-01\", \"1984-12-02\", \"1984-12-03\", \"1984-12-04\", \"1984-12-05\", \"1984-12-06\", \"1984-12-07\", \"1984-12-08\", \"1984-12-09\", \"1984-12-10\", \"1984-12-11\", \"1984-12-12\", \"1984-12-13\", \"1984-12-14\", \"1984-12-15\", \"1984-12-16\", \"1984-12-17\", \"1984-12-18\", \"1984-12-19\", \"1984-12-20\", \"1984-12-21\", \"1984-12-22\", \"1984-12-23\", \"1984-12-24\", \"1984-12-25\", \"1984-12-26\", \"1984-12-27\", \"1984-12-28\", \"1984-12-29\", \"1984-12-30\", \"1984-12-31\", \"1985-01-01\", \"1985-01-02\", \"1985-01-03\", \"1985-01-04\", \"1985-01-05\", \"1985-01-06\", \"1985-01-07\", \"1985-01-08\", \"1985-01-09\", \"1985-01-10\", \"1985-01-11\", \"1985-01-12\", \"1985-01-13\", \"1985-01-14\", \"1985-01-15\", \"1985-01-16\", \"1985-01-17\", \"1985-01-18\", \"1985-01-19\", \"1985-01-20\", \"1985-01-21\", \"1985-01-22\", \"1985-01-23\", \"1985-01-24\", \"1985-01-25\", \"1985-01-26\", \"1985-01-27\", \"1985-01-28\", \"1985-01-29\", \"1985-01-30\", \"1985-01-31\", \"1985-02-01\", \"1985-02-02\", \"1985-02-03\", \"1985-02-04\", \"1985-02-05\", \"1985-02-06\", \"1985-02-07\", \"1985-02-08\", \"1985-02-09\", \"1985-02-10\", \"1985-02-11\", \"1985-02-12\", \"1985-02-13\", \"1985-02-14\", \"1985-02-15\", \"1985-02-16\", \"1985-02-17\", \"1985-02-18\", \"1985-02-19\", \"1985-02-20\", \"1985-02-21\", \"1985-02-22\", \"1985-02-23\", \"1985-02-24\", \"1985-02-25\", \"1985-02-26\", \"1985-02-27\", \"1985-02-28\", \"1985-03-01\", \"1985-03-02\", \"1985-03-03\", \"1985-03-04\", \"1985-03-05\", \"1985-03-06\", \"1985-03-07\", \"1985-03-08\", \"1985-03-09\", \"1985-03-10\", \"1985-03-11\", \"1985-03-12\", \"1985-03-13\", \"1985-03-14\", \"1985-03-15\", \"1985-03-16\", \"1985-03-17\", \"1985-03-18\", \"1985-03-19\", \"1985-03-20\", \"1985-03-21\", \"1985-03-22\", \"1985-03-23\", \"1985-03-24\", \"1985-03-25\", \"1985-03-26\", \"1985-03-27\", \"1985-03-28\", \"1985-03-29\", \"1985-03-30\", \"1985-03-31\", \"1985-04-01\", \"1985-04-02\", \"1985-04-03\", \"1985-04-04\", \"1985-04-05\", \"1985-04-06\", \"1985-04-07\", \"1985-04-08\", \"1985-04-09\", \"1985-04-10\", \"1985-04-11\", \"1985-04-12\", \"1985-04-13\", \"1985-04-14\", \"1985-04-15\", \"1985-04-16\", \"1985-04-17\", \"1985-04-18\", \"1985-04-19\", \"1985-04-20\", \"1985-04-21\", \"1985-04-22\", \"1985-04-23\", \"1985-04-24\", \"1985-04-25\", \"1985-04-26\", \"1985-04-27\", \"1985-04-28\", \"1985-04-29\", \"1985-04-30\", \"1985-05-01\", \"1985-05-02\", \"1985-05-03\", \"1985-05-04\", \"1985-05-05\", \"1985-05-06\", \"1985-05-07\", \"1985-05-08\", \"1985-05-09\", \"1985-05-10\", \"1985-05-11\", \"1985-05-12\", \"1985-05-13\", \"1985-05-14\", \"1985-05-15\", \"1985-05-16\", \"1985-05-17\", \"1985-05-18\", \"1985-05-19\", \"1985-05-20\", \"1985-05-21\", \"1985-05-22\", \"1985-05-23\", \"1985-05-24\", \"1985-05-25\", \"1985-05-26\", \"1985-05-27\", \"1985-05-28\", \"1985-05-29\", \"1985-05-30\", \"1985-05-31\", \"1985-06-01\", \"1985-06-02\", \"1985-06-03\", \"1985-06-04\", \"1985-06-05\", \"1985-06-06\", \"1985-06-07\", \"1985-06-08\", \"1985-06-09\", \"1985-06-10\", \"1985-06-11\", \"1985-06-12\", \"1985-06-13\", \"1985-06-14\", \"1985-06-15\", \"1985-06-16\", \"1985-06-17\", \"1985-06-18\", \"1985-06-19\", \"1985-06-20\", \"1985-06-21\", \"1985-06-22\", \"1985-06-23\", \"1985-06-24\", \"1985-06-25\", \"1985-06-26\", \"1985-06-27\", \"1985-06-28\", \"1985-06-29\", \"1985-06-30\", \"1985-07-01\", \"1985-07-02\", \"1985-07-03\", \"1985-07-04\", \"1985-07-05\", \"1985-07-06\", \"1985-07-07\", \"1985-07-08\", \"1985-07-09\", \"1985-07-10\", \"1985-07-11\", \"1985-07-12\", \"1985-07-13\", \"1985-07-14\", \"1985-07-15\", \"1985-07-16\", \"1985-07-17\", \"1985-07-18\", \"1985-07-19\", \"1985-07-20\", \"1985-07-21\", \"1985-07-22\", \"1985-07-23\", \"1985-07-24\", \"1985-07-25\", \"1985-07-26\", \"1985-07-27\", \"1985-07-28\", \"1985-07-29\", \"1985-07-30\", \"1985-07-31\", \"1985-08-01\", \"1985-08-02\", \"1985-08-03\", \"1985-08-04\", \"1985-08-05\", \"1985-08-06\", \"1985-08-07\", \"1985-08-08\", \"1985-08-09\", \"1985-08-10\", \"1985-08-11\", \"1985-08-12\", \"1985-08-13\", \"1985-08-14\", \"1985-08-15\", \"1985-08-16\", \"1985-08-17\", \"1985-08-18\", \"1985-08-19\", \"1985-08-20\", \"1985-08-21\", \"1985-08-22\", \"1985-08-23\", \"1985-08-24\", \"1985-08-25\", \"1985-08-26\", \"1985-08-27\", \"1985-08-28\", \"1985-08-29\", \"1985-08-30\", \"1985-08-31\", \"1985-09-01\", \"1985-09-02\", \"1985-09-03\", \"1985-09-04\", \"1985-09-05\", \"1985-09-06\", \"1985-09-07\", \"1985-09-08\", \"1985-09-09\", \"1985-09-10\", \"1985-09-11\", \"1985-09-12\", \"1985-09-13\", \"1985-09-14\", \"1985-09-15\", \"1985-09-16\", \"1985-09-17\", \"1985-09-18\", \"1985-09-19\", \"1985-09-20\", \"1985-09-21\", \"1985-09-22\", \"1985-09-23\", \"1985-09-24\", \"1985-09-25\", \"1985-09-26\", \"1985-09-27\", \"1985-09-28\", \"1985-09-29\", \"1985-09-30\", \"1985-10-01\", \"1985-10-02\", \"1985-10-03\", \"1985-10-04\", \"1985-10-05\", \"1985-10-06\", \"1985-10-07\", \"1985-10-08\", \"1985-10-09\", \"1985-10-10\", \"1985-10-11\", \"1985-10-12\", \"1985-10-13\", \"1985-10-14\", \"1985-10-15\", \"1985-10-16\", \"1985-10-17\", \"1985-10-18\", \"1985-10-19\", \"1985-10-20\", \"1985-10-21\", \"1985-10-22\", \"1985-10-23\", \"1985-10-24\", \"1985-10-25\", \"1985-10-26\", \"1985-10-27\", \"1985-10-28\", \"1985-10-29\", \"1985-10-30\", \"1985-10-31\", \"1985-11-01\", \"1985-11-02\", \"1985-11-03\", \"1985-11-04\", \"1985-11-05\", \"1985-11-06\", \"1985-11-07\", \"1985-11-08\", \"1985-11-09\", \"1985-11-10\", \"1985-11-11\", \"1985-11-12\", \"1985-11-13\", \"1985-11-14\", \"1985-11-15\", \"1985-11-16\", \"1985-11-17\", \"1985-11-18\", \"1985-11-19\", \"1985-11-20\", \"1985-11-21\", \"1985-11-22\", \"1985-11-23\", \"1985-11-24\", \"1985-11-25\", \"1985-11-26\", \"1985-11-27\", \"1985-11-28\", \"1985-11-29\", \"1985-11-30\", \"1985-12-01\", \"1985-12-02\", \"1985-12-03\", \"1985-12-04\", \"1985-12-05\", \"1985-12-06\", \"1985-12-07\", \"1985-12-08\", \"1985-12-09\", \"1985-12-10\", \"1985-12-11\", \"1985-12-12\", \"1985-12-13\", \"1985-12-14\", \"1985-12-15\", \"1985-12-16\", \"1985-12-17\", \"1985-12-18\", \"1985-12-19\", \"1985-12-20\", \"1985-12-21\", \"1985-12-22\", \"1985-12-23\", \"1985-12-24\", \"1985-12-25\", \"1985-12-26\", \"1985-12-27\", \"1985-12-28\", \"1985-12-29\", \"1985-12-30\", \"1985-12-31\", \"1986-01-01\", \"1986-01-02\", \"1986-01-03\", \"1986-01-04\", \"1986-01-05\", \"1986-01-06\", \"1986-01-07\", \"1986-01-08\", \"1986-01-09\", \"1986-01-10\", \"1986-01-11\", \"1986-01-12\", \"1986-01-13\", \"1986-01-14\", \"1986-01-15\", \"1986-01-16\", \"1986-01-17\", \"1986-01-18\", \"1986-01-19\", \"1986-01-20\", \"1986-01-21\", \"1986-01-22\", \"1986-01-23\", \"1986-01-24\", \"1986-01-25\", \"1986-01-26\", \"1986-01-27\", \"1986-01-28\", \"1986-01-29\", \"1986-01-30\", \"1986-01-31\", \"1986-02-01\", \"1986-02-02\", \"1986-02-03\", \"1986-02-04\", \"1986-02-05\", \"1986-02-06\", \"1986-02-07\", \"1986-02-08\", \"1986-02-09\", \"1986-02-10\", \"1986-02-11\", \"1986-02-12\", \"1986-02-13\", \"1986-02-14\", \"1986-02-15\", \"1986-02-16\", \"1986-02-17\", \"1986-02-18\", \"1986-02-19\", \"1986-02-20\", \"1986-02-21\", \"1986-02-22\", \"1986-02-23\", \"1986-02-24\", \"1986-02-25\", \"1986-02-26\", \"1986-02-27\", \"1986-02-28\", \"1986-03-01\", \"1986-03-02\", \"1986-03-03\", \"1986-03-04\", \"1986-03-05\", \"1986-03-06\", \"1986-03-07\", \"1986-03-08\", \"1986-03-09\", \"1986-03-10\", \"1986-03-11\", \"1986-03-12\", \"1986-03-13\", \"1986-03-14\", \"1986-03-15\", \"1986-03-16\", \"1986-03-17\", \"1986-03-18\", \"1986-03-19\", \"1986-03-20\", \"1986-03-21\", \"1986-03-22\", \"1986-03-23\", \"1986-03-24\", \"1986-03-25\", \"1986-03-26\", \"1986-03-27\", \"1986-03-28\", \"1986-03-29\", \"1986-03-30\", \"1986-03-31\", \"1986-04-01\", \"1986-04-02\", \"1986-04-03\", \"1986-04-04\", \"1986-04-05\", \"1986-04-06\", \"1986-04-07\", \"1986-04-08\", \"1986-04-09\", \"1986-04-10\", \"1986-04-11\", \"1986-04-12\", \"1986-04-13\", \"1986-04-14\", \"1986-04-15\", \"1986-04-16\", \"1986-04-17\", \"1986-04-18\", \"1986-04-19\", \"1986-04-20\", \"1986-04-21\", \"1986-04-22\", \"1986-04-23\", \"1986-04-24\", \"1986-04-25\", \"1986-04-26\", \"1986-04-27\", \"1986-04-28\", \"1986-04-29\", \"1986-04-30\", \"1986-05-01\", \"1986-05-02\", \"1986-05-03\", \"1986-05-04\", \"1986-05-05\", \"1986-05-06\", \"1986-05-07\", \"1986-05-08\", \"1986-05-09\", \"1986-05-10\", \"1986-05-11\", \"1986-05-12\", \"1986-05-13\", \"1986-05-14\", \"1986-05-15\", \"1986-05-16\", \"1986-05-17\", \"1986-05-18\", \"1986-05-19\", \"1986-05-20\", \"1986-05-21\", \"1986-05-22\", \"1986-05-23\", \"1986-05-24\", \"1986-05-25\", \"1986-05-26\", \"1986-05-27\", \"1986-05-28\", \"1986-05-29\", \"1986-05-31\", \"1986-06-01\", \"1986-06-02\", \"1986-06-03\", \"1986-06-04\", \"1986-06-05\", \"1986-06-06\", \"1986-06-07\", \"1986-06-08\", \"1986-06-09\", \"1986-06-10\", \"1986-06-11\", \"1986-06-12\", \"1986-06-13\", \"1986-06-14\", \"1986-06-15\", \"1986-06-16\", \"1986-06-17\", \"1986-06-18\", \"1986-06-19\", \"1986-06-20\", \"1986-06-21\", \"1986-06-22\", \"1986-06-23\", \"1986-06-24\", \"1986-06-25\", \"1986-06-26\", \"1986-06-27\", \"1986-06-28\", \"1986-06-29\", \"1986-06-30\", \"1986-07-01\", \"1986-07-02\", \"1986-07-03\", \"1986-07-04\", \"1986-07-05\", \"1986-07-06\", \"1986-07-07\", \"1986-07-08\", \"1986-07-09\", \"1986-07-10\", \"1986-07-11\", \"1986-07-12\", \"1986-07-13\", \"1986-07-14\", \"1986-07-15\", \"1986-07-16\", \"1986-07-17\", \"1986-07-18\", \"1986-07-19\", \"1986-07-20\", \"1986-07-21\", \"1986-07-22\", \"1986-07-23\", \"1986-07-24\", \"1986-07-25\", \"1986-07-26\", \"1986-07-27\", \"1986-07-28\", \"1986-07-29\", \"1986-07-30\", \"1986-07-31\", \"1986-08-01\", \"1986-08-02\", \"1986-08-03\", \"1986-08-04\", \"1986-08-05\", \"1986-08-06\", \"1986-08-07\", \"1986-08-08\", \"1986-08-09\", \"1986-08-10\", \"1986-08-11\", \"1986-08-12\", \"1986-08-13\", \"1986-08-14\", \"1986-08-15\", \"1986-08-16\", \"1986-08-17\", \"1986-08-18\", \"1986-08-19\", \"1986-08-20\", \"1986-08-21\", \"1986-08-22\", \"1986-08-23\", \"1986-08-24\", \"1986-08-25\", \"1986-08-26\", \"1986-08-27\", \"1986-08-28\", \"1986-08-29\", \"1986-08-30\", \"1986-08-31\", \"1986-09-01\", \"1986-09-02\", \"1986-09-03\", \"1986-09-04\", \"1986-09-05\", \"1986-09-06\", \"1986-09-07\", \"1986-09-08\", \"1986-09-09\", \"1986-09-10\", \"1986-09-11\", \"1986-09-12\", \"1986-09-13\", \"1986-09-14\", \"1986-09-15\", \"1986-09-16\", \"1986-09-17\", \"1986-09-18\", \"1986-09-19\", \"1986-09-20\", \"1986-09-21\", \"1986-09-22\", \"1986-09-23\", \"1986-09-24\", \"1986-09-25\", \"1986-09-26\", \"1986-09-27\", \"1986-09-28\", \"1986-09-29\", \"1986-09-30\", \"1986-10-01\", \"1986-10-02\", \"1986-10-03\", \"1986-10-04\", \"1986-10-05\", \"1986-10-06\", \"1986-10-07\", \"1986-10-08\", \"1986-10-09\", \"1986-10-10\", \"1986-10-11\", \"1986-10-12\", \"1986-10-13\", \"1986-10-14\", \"1986-10-15\", \"1986-10-16\", \"1986-10-17\", \"1986-10-18\", \"1986-10-19\", \"1986-10-20\", \"1986-10-21\", \"1986-10-22\", \"1986-10-23\", \"1986-10-24\", \"1986-10-25\", \"1986-10-26\", \"1986-10-27\", \"1986-10-28\", \"1986-10-29\", \"1986-10-30\", \"1986-10-31\", \"1986-11-01\", \"1986-11-02\", \"1986-11-03\", \"1986-11-04\", \"1986-11-05\", \"1986-11-06\", \"1986-11-07\", \"1986-11-08\", \"1986-11-09\", \"1986-11-10\", \"1986-11-11\", \"1986-11-12\", \"1986-11-13\", \"1986-11-14\", \"1986-11-15\", \"1986-11-16\", \"1986-11-17\", \"1986-11-18\", \"1986-11-19\", \"1986-11-20\", \"1986-11-21\", \"1986-11-22\", \"1986-11-23\", \"1986-11-24\", \"1986-11-25\", \"1986-11-26\", \"1986-11-27\", \"1986-11-28\", \"1986-11-29\", \"1986-11-30\", \"1986-12-01\", \"1986-12-02\", \"1986-12-03\", \"1986-12-04\", \"1986-12-05\", \"1986-12-06\", \"1986-12-07\", \"1986-12-08\", \"1986-12-09\", \"1986-12-10\", \"1986-12-11\", \"1986-12-12\", \"1986-12-13\", \"1986-12-14\", \"1986-12-15\", \"1986-12-16\", \"1986-12-17\", \"1986-12-18\", \"1986-12-19\", \"1986-12-20\", \"1986-12-21\", \"1986-12-22\", \"1986-12-23\", \"1987-01-01\", \"1987-01-02\", \"1987-01-03\", \"1987-01-04\", \"1987-01-05\", \"1987-01-06\", \"1987-01-07\", \"1987-01-08\", \"1987-01-09\", \"1987-01-10\", \"1987-01-11\", \"1987-01-12\", \"1987-01-13\", \"1987-01-14\", \"1987-01-15\", \"1987-01-16\", \"1987-01-17\", \"1987-01-18\", \"1987-01-19\", \"1987-01-20\", \"1987-01-21\", \"1987-01-22\", \"1987-01-23\", \"1987-01-24\", \"1987-01-25\", \"1987-01-26\", \"1987-01-27\", \"1987-01-28\", \"1987-01-29\", \"1987-01-30\", \"1987-01-31\", \"1987-02-01\", \"1987-02-02\", \"1987-02-03\", \"1987-02-04\", \"1987-02-05\", \"1987-02-06\", \"1987-02-07\", \"1987-02-08\", \"1987-02-09\", \"1987-02-10\", \"1987-02-11\", \"1987-02-12\", \"1987-02-13\", \"1987-02-14\", \"1987-02-15\", \"1987-02-16\", \"1987-02-17\", \"1987-02-18\", \"1987-02-19\", \"1987-02-20\", \"1987-02-21\", \"1987-02-22\", \"1987-02-23\", \"1987-02-24\", \"1987-02-25\", \"1987-02-26\", \"1987-02-27\", \"1987-02-28\", \"1987-03-01\", \"1987-03-02\", \"1987-03-03\", \"1987-03-04\", \"1987-03-05\", \"1987-03-06\", \"1987-03-07\", \"1987-03-08\", \"1987-03-09\", \"1987-03-10\", \"1987-03-11\", \"1987-03-12\", \"1987-03-13\", \"1987-03-14\", \"1987-03-15\", \"1987-03-16\", \"1987-03-17\", \"1987-03-18\", \"1987-03-19\", \"1987-03-20\", \"1987-03-21\", \"1987-03-22\", \"1987-03-23\", \"1987-03-24\", \"1987-03-25\", \"1987-03-26\", \"1987-03-27\", \"1987-03-28\", \"1987-03-29\", \"1987-03-30\", \"1987-03-31\", \"1987-04-01\", \"1987-04-02\", \"1987-04-03\", \"1987-04-04\", \"1987-04-05\", \"1987-04-06\", \"1987-04-07\", \"1987-04-08\", \"1987-04-09\", \"1987-04-10\", \"1987-04-11\", \"1987-04-12\", \"1987-04-13\", \"1987-04-14\", \"1987-04-15\", \"1987-04-16\", \"1987-04-17\", \"1987-04-18\", \"1987-04-19\", \"1987-04-20\", \"1987-04-21\", \"1987-04-22\", \"1987-04-23\", \"1987-04-24\", \"1987-04-25\", \"1987-04-26\", \"1987-04-27\", \"1987-04-28\", \"1987-04-29\", \"1987-04-30\", \"1987-05-01\", \"1987-05-02\", \"1987-05-03\", \"1987-05-04\", \"1987-05-05\", \"1987-05-06\", \"1987-05-07\", \"1987-05-08\", \"1987-05-09\", \"1987-05-10\", \"1987-05-11\", \"1987-05-12\", \"1987-05-13\", \"1987-05-14\", \"1987-05-15\", \"1987-05-16\", \"1987-05-17\", \"1987-05-18\", \"1987-05-19\", \"1987-05-20\", \"1987-05-21\", \"1987-05-22\", \"1987-05-23\", \"1987-05-24\", \"1987-05-25\", \"1987-05-26\", \"1987-05-27\", \"1987-05-28\", \"1987-05-29\", \"1987-05-30\", \"1987-05-31\", \"1987-06-01\", \"1987-06-02\", \"1987-06-03\", \"1987-06-04\", \"1987-06-05\", \"1987-06-06\", \"1987-06-07\", \"1987-06-08\", \"1987-06-09\", \"1987-06-10\", \"1987-06-11\", \"1987-06-12\", \"1987-06-13\", \"1987-06-14\", \"1987-06-15\", \"1987-06-16\", \"1987-06-17\", \"1987-06-18\", \"1987-06-19\", \"1987-06-20\", \"1987-06-21\", \"1987-06-22\", \"1987-06-23\", \"1987-06-24\", \"1987-06-25\", \"1987-06-26\", \"1987-06-27\", \"1987-06-28\", \"1987-06-29\", \"1987-06-30\", \"1987-07-01\", \"1987-07-02\", \"1987-07-03\", \"1987-07-04\", \"1987-07-05\", \"1987-07-06\", \"1987-07-07\", \"1987-07-08\", \"1987-07-09\", \"1987-07-10\", \"1987-07-11\", \"1987-07-12\", \"1987-07-13\", \"1987-07-14\", \"1987-07-15\", \"1987-07-16\", \"1987-07-17\", \"1987-07-18\", \"1987-07-19\", \"1987-07-20\", \"1987-07-21\", \"1987-07-22\", \"1987-07-23\", \"1987-07-24\", \"1987-07-25\", \"1987-07-26\", \"1987-07-27\", \"1987-07-28\", \"1987-07-29\", \"1987-07-30\", \"1987-07-31\", \"1987-08-01\", \"1987-08-02\", \"1987-08-03\", \"1987-08-04\", \"1987-08-05\", \"1987-08-06\", \"1987-08-07\", \"1987-08-08\", \"1987-08-09\", \"1987-08-10\", \"1987-08-11\", \"1987-08-12\", \"1987-08-13\", \"1987-08-14\", \"1987-08-15\", \"1987-08-16\", \"1987-08-17\", \"1987-08-18\", \"1987-08-19\", \"1987-08-20\", \"1987-08-21\", \"1987-08-22\", \"1987-08-23\", \"1987-08-24\", \"1987-08-25\", \"1987-08-26\", \"1987-08-27\", \"1987-08-28\", \"1987-08-29\", \"1987-08-30\", \"1987-08-31\", \"1987-09-01\", \"1987-09-02\", \"1987-09-03\", \"1987-09-04\", \"1987-09-05\", \"1987-09-06\", \"1987-09-07\", \"1987-09-08\", \"1987-09-09\", \"1987-09-10\", \"1987-09-11\", \"1987-09-12\", \"1987-09-13\", \"1987-09-14\", \"1987-09-15\", \"1987-09-16\", \"1987-09-17\", \"1987-09-18\", \"1987-09-19\", \"1987-09-20\", \"1987-09-21\", \"1987-09-22\", \"1987-09-23\", \"1987-09-24\", \"1987-09-25\", \"1987-09-26\", \"1987-09-27\", \"1987-09-28\", \"1987-09-29\", \"1987-09-30\", \"1987-10-01\", \"1987-10-02\", \"1987-10-03\", \"1987-10-04\", \"1987-10-05\", \"1987-10-06\", \"1987-10-07\", \"1987-10-08\", \"1987-10-09\", \"1987-10-10\", \"1987-10-11\", \"1987-10-12\", \"1987-10-13\", \"1987-10-14\", \"1987-10-15\", \"1987-10-16\", \"1987-10-17\", \"1987-10-18\", \"1987-10-19\", \"1987-10-20\", \"1987-10-21\", \"1987-10-22\", \"1987-10-23\", \"1987-10-24\", \"1987-10-25\", \"1987-10-26\", \"1987-10-27\", \"1987-10-28\", \"1987-10-29\", \"1987-10-30\", \"1987-10-31\", \"1987-11-01\", \"1987-11-02\", \"1987-11-03\", \"1987-11-04\", \"1987-11-05\", \"1987-11-06\", \"1987-11-07\", \"1987-11-08\", \"1987-11-09\", \"1987-11-10\", \"1987-11-11\", \"1987-11-12\", \"1987-11-13\", \"1987-11-14\", \"1987-11-15\", \"1987-11-16\", \"1987-11-17\", \"1987-11-18\", \"1987-11-19\", \"1987-11-20\", \"1987-11-21\", \"1987-11-22\", \"1987-11-23\", \"1987-11-24\", \"1987-11-25\", \"1987-11-26\", \"1987-11-27\", \"1987-11-28\", \"1987-11-29\", \"1987-11-30\", \"1987-12-01\", \"1987-12-02\", \"1987-12-03\", \"1987-12-04\", \"1987-12-05\", \"1987-12-06\", \"1987-12-07\", \"1987-12-08\", \"1987-12-09\", \"1987-12-10\", \"1987-12-11\", \"1987-12-12\", \"1987-12-13\", \"1987-12-14\", \"1987-12-15\", \"1987-12-16\", \"1987-12-17\", \"1987-12-18\", \"1987-12-19\", \"1987-12-20\", \"1987-12-21\", \"1987-12-22\", \"1987-12-23\", \"1987-12-24\", \"1987-12-25\", \"1987-12-26\", \"1987-12-27\", \"1987-12-28\", \"1987-12-29\", \"1987-12-30\", \"1987-12-31\", \"1988-01-01\", \"1988-01-02\", \"1988-01-03\", \"1988-01-04\", \"1988-01-05\", \"1988-01-06\", \"1988-01-07\", \"1988-01-08\", \"1988-01-09\", \"1988-01-10\", \"1988-01-11\", \"1988-01-12\", \"1988-01-13\", \"1988-01-14\", \"1988-01-15\", \"1988-01-16\", \"1988-01-17\", \"1988-01-18\", \"1988-01-19\", \"1988-01-20\", \"1988-01-21\", \"1988-01-22\", \"1988-01-23\", \"1988-01-24\", \"1988-01-25\", \"1988-01-26\", \"1988-01-27\", \"1988-01-28\", \"1988-01-29\", \"1988-01-30\", \"1988-01-31\", \"1988-02-01\", \"1988-02-02\", \"1988-02-03\", \"1988-02-04\", \"1988-02-05\", \"1988-02-06\", \"1988-02-07\", \"1988-02-08\", \"1988-02-09\", \"1988-02-10\", \"1988-02-11\", \"1988-02-12\", \"1988-02-13\", \"1988-02-14\", \"1988-02-15\", \"1988-02-16\", \"1988-02-17\", \"1988-02-18\", \"1988-02-19\", \"1988-02-20\", \"1988-02-21\", \"1988-02-22\", \"1988-02-23\", \"1988-02-24\", \"1988-02-25\", \"1988-02-26\", \"1988-02-27\", \"1988-02-28\", \"1988-02-29\", \"1988-03-01\", \"1988-03-02\", \"1988-03-03\", \"1988-03-04\", \"1988-03-05\", \"1988-03-06\", \"1988-03-07\", \"1988-03-08\", \"1988-03-09\", \"1988-03-10\", \"1988-03-11\", \"1988-03-12\", \"1988-03-13\", \"1988-03-14\", \"1988-03-15\", \"1988-03-16\", \"1988-03-17\", \"1988-03-18\", \"1988-03-19\", \"1988-03-20\", \"1988-03-21\", \"1988-03-22\", \"1988-03-23\", \"1988-03-24\", \"1988-03-25\", \"1988-03-26\", \"1988-03-27\", \"1988-03-28\", \"1988-03-29\", \"1988-03-30\", \"1988-03-31\", \"1988-04-01\", \"1988-04-02\", \"1988-04-03\", \"1988-04-04\", \"1988-04-05\", \"1988-04-06\", \"1988-04-07\", \"1988-04-08\", \"1988-04-09\", \"1988-04-10\", \"1988-04-11\", \"1988-04-12\", \"1988-04-13\", \"1988-04-14\", \"1988-04-15\", \"1988-04-16\", \"1988-04-17\", \"1988-04-18\", \"1988-04-19\", \"1988-04-20\", \"1988-04-21\", \"1988-04-22\", \"1988-04-23\", \"1988-04-24\", \"1988-04-25\", \"1988-04-26\", \"1988-04-27\", \"1988-04-28\", \"1988-04-29\", \"1988-04-30\", \"1988-05-01\", \"1988-05-02\", \"1988-05-03\", \"1988-05-04\", \"1988-05-05\", \"1988-05-06\", \"1988-05-07\", \"1988-05-08\", \"1988-05-09\", \"1988-05-10\", \"1988-05-11\", \"1988-05-12\", \"1988-05-13\", \"1988-05-14\", \"1988-05-15\", \"1988-05-16\", \"1988-05-17\", \"1988-05-18\", \"1988-05-19\", \"1988-05-20\", \"1988-05-21\", \"1988-05-22\", \"1988-05-23\", \"1988-05-24\", \"1988-05-25\", \"1988-05-26\", \"1988-05-27\", \"1988-05-28\", \"1988-05-29\", \"1988-05-30\", \"1988-05-31\", \"1988-06-01\", \"1988-06-02\", \"1988-06-03\", \"1988-06-04\", \"1988-06-05\", \"1988-06-06\", \"1988-06-07\", \"1988-06-08\", \"1988-06-09\", \"1988-06-10\", \"1988-06-11\", \"1988-06-12\", \"1988-06-13\", \"1988-06-14\", \"1988-06-15\", \"1988-06-16\", \"1988-06-17\", \"1988-06-18\", \"1988-06-19\", \"1988-06-20\", \"1988-06-21\", \"1988-06-22\", \"1988-06-23\", \"1988-06-24\", \"1988-06-25\", \"1988-06-26\", \"1988-06-27\", \"1988-06-28\", \"1988-06-29\", \"1988-06-30\", \"1988-07-01\", \"1988-07-02\", \"1988-07-03\", \"1988-07-04\", \"1988-07-05\", \"1988-07-06\", \"1988-07-07\", \"1988-07-08\", \"1988-07-09\", \"1988-07-10\", \"1988-07-11\", \"1988-07-12\", \"1988-07-13\", \"1988-07-14\", \"1988-07-15\", \"1988-07-16\", \"1988-07-17\", \"1988-07-18\", \"1988-07-19\", \"1988-07-20\", \"1988-07-21\", \"1988-07-22\", \"1988-07-23\", \"1988-07-24\", \"1988-07-25\", \"1988-07-26\", \"1988-07-27\", \"1988-07-28\", \"1988-07-29\", \"1988-07-30\", \"1988-07-31\", \"1988-08-01\", \"1988-08-02\", \"1988-08-03\", \"1988-08-04\", \"1988-08-05\", \"1988-08-06\", \"1988-08-07\", \"1988-08-08\", \"1988-08-09\", \"1988-08-10\", \"1988-08-11\", \"1988-08-12\", \"1988-08-13\", \"1988-08-14\", \"1988-08-15\", \"1988-08-16\", \"1988-08-17\", \"1988-08-18\", \"1988-08-19\", \"1988-08-20\", \"1988-08-21\", \"1988-08-22\", \"1988-08-23\", \"1988-08-24\", \"1988-08-25\", \"1988-08-26\", \"1988-08-27\", \"1988-08-28\", \"1988-08-29\", \"1988-08-30\", \"1988-08-31\", \"1988-09-01\", \"1988-09-02\", \"1988-09-03\", \"1988-09-04\", \"1988-09-05\", \"1988-09-06\", \"1988-09-07\", \"1988-09-08\", \"1988-09-09\", \"1988-09-10\", \"1988-09-11\", \"1988-09-12\", \"1988-09-13\", \"1988-09-14\", \"1988-09-15\", \"1988-09-16\", \"1988-09-17\", \"1988-09-18\", \"1988-09-19\", \"1988-09-20\", \"1988-09-21\", \"1988-09-22\", \"1988-09-23\", \"1988-09-24\", \"1988-09-25\", \"1988-09-26\", \"1988-09-27\", \"1988-09-28\", \"1988-09-29\", \"1988-09-30\", \"1988-10-01\", \"1988-10-02\", \"1988-10-03\", \"1988-10-04\", \"1988-10-05\", \"1988-10-06\", \"1988-10-07\", \"1988-10-08\", \"1988-10-09\", \"1988-10-10\", \"1988-10-11\", \"1988-10-12\", \"1988-10-13\", \"1988-10-14\", \"1988-10-15\", \"1988-10-16\", \"1988-10-17\", \"1988-10-18\", \"1988-10-19\", \"1988-10-20\", \"1988-10-21\", \"1988-10-22\", \"1988-10-23\", \"1988-10-24\", \"1988-10-25\", \"1988-10-26\", \"1988-10-27\", \"1988-10-28\", \"1988-10-29\", \"1988-10-30\", \"1988-10-31\", \"1988-11-01\", \"1988-11-02\", \"1988-11-03\", \"1988-11-04\", \"1988-11-05\", \"1988-11-06\", \"1988-11-07\", \"1988-11-08\", \"1988-11-09\", \"1988-11-10\", \"1988-11-11\", \"1988-11-12\", \"1988-11-13\", \"1988-11-14\", \"1988-11-15\", \"1988-11-16\", \"1988-11-17\", \"1988-11-18\", \"1988-11-19\", \"1988-11-20\", \"1988-11-21\", \"1988-11-22\", \"1988-11-23\", \"1988-11-24\", \"1988-11-25\", \"1988-11-26\", \"1988-11-27\", \"1988-11-28\", \"1988-11-29\", \"1988-11-30\", \"1988-12-01\", \"1988-12-02\", \"1988-12-03\", \"1988-12-04\", \"1988-12-05\", \"1988-12-06\", \"1988-12-07\", \"1988-12-08\", \"1988-12-09\", \"1988-12-10\", \"1988-12-11\", \"1988-12-12\", \"1988-12-13\", \"1988-12-14\", \"1988-12-15\", \"1988-12-16\", \"1988-12-17\", \"1988-12-18\", \"1988-12-19\", \"1988-12-20\", \"1988-12-21\", \"1988-12-22\", \"1988-12-23\", \"1988-12-24\", \"1988-12-25\", \"1988-12-26\", \"1988-12-27\", \"1988-12-28\", \"1988-12-29\", \"1988-12-30\", \"1988-12-31\", \"1989-01-01\", \"1989-01-02\", \"1989-01-03\", \"1989-01-04\", \"1989-01-05\", \"1989-01-06\", \"1989-01-07\", \"1989-01-08\", \"1989-01-09\", \"1989-01-10\", \"1989-01-11\", \"1989-01-12\", \"1989-01-13\", \"1989-01-14\", \"1989-01-15\", \"1989-01-16\", \"1989-01-17\", \"1989-01-18\", \"1989-01-19\", \"1989-01-20\", \"1989-01-21\", \"1989-01-22\", \"1989-01-23\", \"1989-01-24\", \"1989-01-25\", \"1989-01-26\", \"1989-01-27\", \"1989-01-28\", \"1989-01-29\", \"1989-01-30\", \"1989-01-31\", \"1989-02-01\", \"1989-02-02\", \"1989-02-03\", \"1989-02-04\", \"1989-02-05\", \"1989-02-06\", \"1989-02-07\", \"1989-02-08\", \"1989-02-09\", \"1989-02-10\", \"1989-02-11\", \"1989-02-12\", \"1989-02-13\", \"1989-02-14\", \"1989-02-15\", \"1989-02-16\", \"1989-02-17\", \"1989-02-18\", \"1989-02-19\", \"1989-02-20\", \"1989-02-21\", \"1989-02-22\", \"1989-02-23\", \"1989-02-24\", \"1989-02-25\", \"1989-02-26\", \"1989-02-27\", \"1989-02-28\", \"1989-03-01\", \"1989-03-02\", \"1989-03-03\", \"1989-03-04\", \"1989-03-05\", \"1989-03-06\", \"1989-03-07\", \"1989-03-08\", \"1989-03-09\", \"1989-03-10\", \"1989-03-11\", \"1989-03-12\", \"1989-03-13\", \"1989-03-14\", \"1989-03-15\", \"1989-03-16\", \"1989-03-17\", \"1989-03-18\", \"1989-03-19\", \"1989-03-20\", \"1989-03-21\", \"1989-03-22\", \"1989-03-23\", \"1989-03-24\", \"1989-03-25\", \"1989-03-26\", \"1989-03-27\", \"1989-03-28\", \"1989-03-29\", \"1989-03-30\", \"1989-03-31\", \"1989-04-01\", \"1989-04-02\", \"1989-04-03\", \"1989-04-04\", \"1989-04-05\", \"1989-04-06\", \"1989-04-07\", \"1989-04-08\", \"1989-04-09\", \"1989-04-10\", \"1989-04-11\", \"1989-04-12\", \"1989-04-13\", \"1989-04-14\", \"1989-04-15\", \"1989-04-16\", \"1989-04-17\", \"1989-04-18\", \"1989-04-19\", \"1989-04-20\", \"1989-04-21\", \"1989-04-22\", \"1989-04-23\", \"1989-04-24\", \"1989-04-25\", \"1989-04-26\", \"1989-04-27\", \"1989-04-28\", \"1989-04-29\", \"1989-04-30\", \"1989-05-01\", \"1989-05-02\", \"1989-05-03\", \"1989-05-04\", \"1989-05-05\", \"1989-05-06\", \"1989-05-07\", \"1989-05-08\", \"1989-05-09\", \"1989-05-10\", \"1989-05-11\", \"1989-05-12\", \"1989-05-13\", \"1989-05-14\", \"1989-05-15\", \"1989-05-16\", \"1989-05-17\", \"1989-05-18\", \"1989-05-19\", \"1989-05-20\", \"1989-05-21\", \"1989-05-22\", \"1989-05-23\", \"1989-05-24\", \"1989-05-25\", \"1989-05-26\", \"1989-05-27\", \"1989-05-28\", \"1989-05-29\", \"1989-05-30\", \"1989-05-31\", \"1989-06-01\", \"1989-06-02\", \"1989-06-03\", \"1989-06-04\", \"1989-06-05\", \"1989-06-06\", \"1989-06-07\", \"1989-06-08\", \"1989-06-09\", \"1989-06-10\", \"1989-06-11\", \"1989-06-12\", \"1989-06-13\", \"1989-06-14\", \"1989-06-15\", \"1989-06-16\", \"1989-06-17\", \"1989-06-18\", \"1989-06-19\", \"1989-06-20\", \"1989-06-21\", \"1989-06-22\", \"1989-06-23\", \"1989-06-24\", \"1989-06-25\", \"1989-06-26\", \"1989-06-27\", \"1989-06-28\", \"1989-06-29\", \"1989-06-30\", \"1989-07-01\", \"1989-07-02\", \"1989-07-03\", \"1989-07-04\", \"1989-07-05\", \"1989-07-06\", \"1989-07-07\", \"1989-07-08\", \"1989-07-09\", \"1989-07-10\", \"1989-07-11\", \"1989-07-12\", \"1989-07-13\", \"1989-07-14\", \"1989-07-15\", \"1989-07-16\", \"1989-07-17\", \"1989-07-18\", \"1989-07-19\", \"1989-07-20\", \"1989-07-21\", \"1989-07-22\", \"1989-07-23\", \"1989-07-24\", \"1989-07-25\", \"1989-07-26\", \"1989-07-27\", \"1989-07-28\", \"1989-07-29\", \"1989-07-30\", \"1989-07-31\", \"1989-08-01\", \"1989-08-02\", \"1989-08-03\", \"1989-08-04\", \"1989-08-05\", \"1989-08-06\", \"1989-08-07\", \"1989-08-08\", \"1989-08-09\", \"1989-08-10\", \"1989-08-11\", \"1989-08-12\", \"1989-08-13\", \"1989-08-14\", \"1989-08-15\", \"1989-08-16\", \"1989-08-17\", \"1989-08-18\", \"1989-08-19\", \"1989-08-20\", \"1989-08-21\", \"1989-08-22\", \"1989-08-23\", \"1989-08-24\", \"1989-08-25\", \"1989-08-26\", \"1989-08-27\", \"1989-08-28\", \"1989-08-29\", \"1989-08-30\", \"1989-08-31\", \"1989-09-01\", \"1989-09-02\", \"1989-09-03\", \"1989-09-04\", \"1989-09-05\", \"1989-09-06\", \"1989-09-07\", \"1989-09-08\", \"1989-09-09\", \"1989-09-10\", \"1989-09-11\", \"1989-09-12\", \"1989-09-13\", \"1989-09-14\", \"1989-09-15\", \"1989-09-16\", \"1989-09-17\", \"1989-09-18\", \"1989-09-19\", \"1989-09-20\", \"1989-09-21\", \"1989-09-22\", \"1989-09-23\", \"1989-09-24\", \"1989-09-25\", \"1989-09-26\", \"1989-09-27\", \"1989-09-28\", \"1989-09-29\", \"1989-09-30\", \"1989-10-01\", \"1989-10-02\", \"1989-10-03\", \"1989-10-04\", \"1989-10-05\", \"1989-10-06\", \"1989-10-07\", \"1989-10-08\", \"1989-10-09\", \"1989-10-10\", \"1989-10-11\", \"1989-10-12\", \"1989-10-13\", \"1989-10-14\", \"1989-10-15\", \"1989-10-16\", \"1989-10-17\", \"1989-10-18\", \"1989-10-19\", \"1989-10-20\", \"1989-10-21\", \"1989-10-22\", \"1989-10-23\", \"1989-10-24\", \"1989-10-25\", \"1989-10-26\", \"1989-10-27\", \"1989-10-28\", \"1989-10-29\", \"1989-10-30\", \"1989-10-31\", \"1989-11-01\", \"1989-11-02\", \"1989-11-03\", \"1989-11-04\", \"1989-11-05\", \"1989-11-06\", \"1989-11-07\", \"1989-11-08\", \"1989-11-09\", \"1989-11-10\", \"1989-11-11\", \"1989-11-12\", \"1989-11-13\", \"1989-11-14\", \"1989-11-15\", \"1989-11-16\", \"1989-11-17\", \"1989-11-18\", \"1989-11-19\", \"1989-11-20\", \"1989-11-21\", \"1989-11-22\", \"1989-11-23\", \"1989-11-24\", \"1989-11-25\", \"1989-11-26\", \"1989-11-27\", \"1989-11-28\", \"1989-11-29\", \"1989-11-30\", \"1989-12-01\", \"1989-12-02\", \"1989-12-03\", \"1989-12-04\", \"1989-12-05\", \"1989-12-06\", \"1989-12-07\", \"1989-12-08\", \"1989-12-09\", \"1989-12-10\", \"1989-12-11\", \"1989-12-12\", \"1989-12-13\", \"1989-12-14\", \"1989-12-15\", \"1989-12-16\", \"1989-12-17\", \"1989-12-18\", \"1989-12-19\", \"1989-12-20\", \"1989-12-21\", \"1989-12-22\", \"1989-12-23\", \"1989-12-24\", \"1989-12-25\", \"1989-12-26\", \"1989-12-27\", \"1989-12-28\", \"1989-12-29\", \"1989-12-30\", \"1989-12-31\", \"1990-01-01\", \"1990-01-02\", \"1990-01-03\", \"1990-01-04\", \"1990-01-05\", \"1990-01-06\", \"1990-01-07\", \"1990-01-08\", \"1990-01-09\", \"1990-01-10\", \"1990-01-11\", \"1990-01-12\", \"1990-01-13\", \"1990-01-14\", \"1990-01-15\", \"1990-01-16\", \"1990-01-17\", \"1990-01-18\", \"1990-01-19\", \"1990-01-20\", \"1990-01-21\", \"1990-01-22\", \"1990-01-23\", \"1990-01-24\", \"1990-01-25\", \"1990-01-26\", \"1990-01-27\", \"1990-01-28\", \"1990-01-29\", \"1990-01-30\", \"1990-01-31\", \"1990-02-01\", \"1990-02-02\", \"1990-02-03\", \"1990-02-04\", \"1990-02-05\", \"1990-02-06\", \"1990-02-07\", \"1990-02-08\", \"1990-02-09\", \"1990-02-10\", \"1990-02-11\", \"1990-02-12\", \"1990-02-13\", \"1990-02-14\", \"1990-02-15\", \"1990-02-16\", \"1990-02-17\", \"1990-02-18\", \"1990-02-19\", \"1990-02-20\", \"1990-02-21\", \"1990-02-22\", \"1990-02-23\", \"1990-02-24\", \"1990-02-25\", \"1990-02-26\", \"1990-02-27\", \"1990-02-28\", \"1990-03-01\", \"1990-03-02\", \"1990-03-03\", \"1990-03-04\", \"1990-03-05\", \"1990-03-06\", \"1990-03-07\", \"1990-03-08\", \"1990-03-09\", \"1990-03-10\", \"1990-03-11\", \"1990-03-12\", \"1990-03-13\", \"1990-03-14\", \"1990-03-15\", \"1990-03-16\", \"1990-03-17\", \"1990-03-18\", \"1990-03-19\", \"1990-03-20\", \"1990-03-21\", \"1990-03-22\", \"1990-03-23\", \"1990-03-24\", \"1990-03-25\", \"1990-03-26\", \"1990-03-27\", \"1990-03-28\", \"1990-03-29\", \"1990-03-30\", \"1990-03-31\", \"1990-04-01\", \"1990-04-02\", \"1990-04-03\", \"1990-04-04\", \"1990-04-05\", \"1990-04-06\", \"1990-04-07\", \"1990-04-08\", \"1990-04-09\", \"1990-04-10\", \"1990-04-11\", \"1990-04-12\", \"1990-04-13\", \"1990-04-14\", \"1990-04-15\", \"1990-04-16\", \"1990-04-17\", \"1990-04-18\", \"1990-04-19\", \"1990-04-20\", \"1990-04-21\", \"1990-04-22\", \"1990-04-23\", \"1990-04-24\", \"1990-04-25\", \"1990-04-26\", \"1990-04-27\", \"1990-04-28\", \"1990-04-29\", \"1990-04-30\", \"1990-05-01\", \"1990-05-02\", \"1990-05-03\", \"1990-05-04\", \"1990-05-05\", \"1990-05-06\", \"1990-05-07\", \"1990-05-08\", \"1990-05-09\", \"1990-05-10\", \"1990-05-11\", \"1990-05-12\", \"1990-05-13\", \"1990-05-14\", \"1990-05-15\", \"1990-05-16\", \"1990-05-17\", \"1990-05-18\", \"1990-05-19\", \"1990-05-20\", \"1990-05-21\", \"1990-05-22\", \"1990-05-23\", \"1990-05-24\", \"1990-05-25\", \"1990-05-26\", \"1990-05-27\", \"1990-05-28\", \"1990-05-29\", \"1990-05-30\", \"1990-05-31\", \"1990-06-01\", \"1990-06-02\", \"1990-06-03\", \"1990-06-04\", \"1990-06-05\", \"1990-06-06\", \"1990-06-07\", \"1990-06-08\", \"1990-06-09\", \"1990-06-10\", \"1990-06-11\", \"1990-06-12\", \"1990-06-13\", \"1990-06-14\", \"1990-06-15\", \"1990-06-16\", \"1990-06-17\", \"1990-06-18\", \"1990-06-19\", \"1990-06-20\", \"1990-06-21\", \"1990-06-22\", \"1990-06-23\", \"1990-06-24\", \"1990-06-25\", \"1990-06-26\", \"1990-06-27\", \"1990-06-28\", \"1990-06-29\", \"1990-06-30\", \"1990-07-01\", \"1990-07-02\", \"1990-07-03\", \"1990-07-04\", \"1990-07-05\", \"1990-07-06\", \"1990-07-07\", \"1990-07-08\", \"1990-07-09\", \"1990-07-10\", \"1990-07-11\", \"1990-07-12\", \"1990-07-13\", \"1990-07-14\", \"1990-07-15\", \"1990-07-16\", \"1990-07-17\", \"1990-07-18\", \"1990-07-19\", \"1990-07-20\", \"1990-07-21\", \"1990-07-22\", \"1990-07-23\", \"1990-07-24\", \"1990-07-25\", \"1990-07-26\", \"1990-07-27\", \"1990-07-28\", \"1990-07-29\", \"1990-07-30\", \"1990-07-31\", \"1990-08-01\", \"1990-08-02\", \"1990-08-03\", \"1990-08-04\", \"1990-08-05\", \"1990-08-06\", \"1990-08-07\", \"1990-08-08\", \"1990-08-09\", \"1990-08-10\", \"1990-08-11\", \"1990-08-12\", \"1990-08-13\", \"1990-08-14\", \"1990-08-15\", \"1990-08-16\", \"1990-08-17\", \"1990-08-18\", \"1990-08-19\", \"1990-08-20\", \"1990-08-21\", \"1990-08-22\", \"1990-08-23\", \"1990-08-24\", \"1990-08-25\", \"1990-08-26\", \"1990-08-27\", \"1990-08-28\", \"1990-08-29\", \"1990-08-30\", \"1990-08-31\", \"1990-09-01\", \"1990-09-02\", \"1990-09-03\", \"1990-09-04\", \"1990-09-05\", \"1990-09-06\", \"1990-09-07\", \"1990-09-08\", \"1990-09-09\", \"1990-09-10\", \"1990-09-11\", \"1990-09-12\", \"1990-09-13\", \"1990-09-14\", \"1990-09-15\", \"1990-09-16\", \"1990-09-17\", \"1990-09-18\", \"1990-09-19\", \"1990-09-20\", \"1990-09-21\", \"1990-09-22\", \"1990-09-23\", \"1990-09-24\", \"1990-09-25\", \"1990-09-26\", \"1990-09-27\", \"1990-09-28\", \"1990-09-29\", \"1990-09-30\", \"1990-10-01\", \"1990-10-02\", \"1990-10-03\", \"1990-10-04\", \"1990-10-05\", \"1990-10-06\", \"1990-10-07\", \"1990-10-08\", \"1990-10-09\", \"1990-10-10\", \"1990-10-11\", \"1990-10-12\", \"1990-10-13\", \"1990-10-14\", \"1990-10-15\", \"1990-10-16\", \"1990-10-17\", \"1990-10-18\", \"1990-10-19\", \"1990-10-20\", \"1990-10-21\", \"1990-10-22\", \"1990-10-23\", \"1990-10-24\", \"1990-10-25\", \"1990-10-26\", \"1990-10-27\", \"1990-10-28\", \"1990-10-29\", \"1990-10-30\", \"1990-10-31\", \"1990-11-01\", \"1990-11-02\", \"1990-11-03\", \"1990-11-04\", \"1990-11-05\", \"1990-11-06\", \"1990-11-07\", \"1990-11-08\", \"1990-11-09\", \"1990-11-10\", \"1990-11-11\", \"1990-11-12\", \"1990-11-13\", \"1990-11-14\", \"1990-11-15\", \"1990-11-16\", \"1990-11-17\", \"1990-11-18\", \"1990-11-19\", \"1990-11-20\", \"1990-11-21\", \"1990-11-22\", \"1990-11-23\", \"1990-11-24\", \"1990-11-25\", \"1990-11-26\", \"1990-11-27\", \"1990-11-28\", \"1990-11-29\", \"1990-11-30\", \"1990-12-01\", \"1990-12-02\", \"1990-12-03\", \"1990-12-04\", \"1990-12-05\", \"1990-12-06\", \"1990-12-07\", \"1990-12-08\", \"1990-12-09\", \"1990-12-10\", \"1990-12-11\", \"1990-12-12\", \"1990-12-13\", \"1990-12-14\", \"1990-12-15\", \"1990-12-16\", \"1990-12-17\", \"1990-12-18\", \"1990-12-19\", \"1990-12-20\", \"1990-12-21\", \"1990-12-22\", \"1990-12-23\", \"1990-12-24\", \"1990-12-25\", \"1990-12-26\", \"1990-12-27\", \"1990-12-28\", \"1990-12-29\", \"1990-12-30\", \"1990-12-31\", \"1991-01-01\", \"1991-01-02\", \"1991-01-03\", \"1991-01-04\", \"1991-01-05\", \"1991-01-06\", \"1991-01-07\", \"1991-01-08\", \"1991-01-09\", \"1991-01-10\", \"1991-01-11\", \"1991-01-12\", \"1991-01-13\", \"1991-01-14\", \"1991-01-15\", \"1991-01-16\", \"1991-01-17\", \"1991-01-18\", \"1991-01-19\", \"1991-01-20\", \"1991-01-21\", \"1991-01-22\", \"1991-01-23\", \"1991-01-24\", \"1991-01-25\", \"1991-01-26\", \"1991-01-27\", \"1991-01-28\", \"1991-01-29\", \"1991-01-30\", \"1991-01-31\", \"1991-02-01\", \"1991-02-02\", \"1991-02-03\", \"1991-02-04\", \"1991-02-05\", \"1991-02-06\", \"1991-02-07\", \"1991-02-08\", \"1991-02-09\", \"1991-02-10\", \"1991-02-11\", \"1991-02-12\", \"1991-02-13\", \"1991-02-14\", \"1991-02-15\", \"1991-02-16\", \"1991-02-17\", \"1991-02-18\", \"1991-02-19\", \"1991-02-20\", \"1991-02-21\", \"1991-02-22\", \"1991-02-23\", \"1991-02-24\", \"1991-02-25\", \"1991-02-26\", \"1991-02-27\", \"1991-02-28\", \"1991-03-01\", \"1991-03-02\", \"1991-03-03\", \"1991-03-04\", \"1991-03-05\", \"1991-03-06\", \"1991-03-07\", \"1991-03-08\", \"1991-03-09\", \"1991-03-10\", \"1991-03-11\", \"1991-03-12\", \"1991-03-13\", \"1991-03-14\", \"1991-03-15\", \"1991-03-16\", \"1991-03-17\", \"1991-03-18\", \"1991-03-19\", \"1991-03-20\", \"1991-03-21\", \"1991-03-22\", \"1991-03-23\", \"1991-03-24\", \"1991-03-25\", \"1991-03-26\", \"1991-03-27\", \"1991-03-28\", \"1991-03-29\", \"1991-03-30\", \"1991-03-31\", \"1991-04-01\", \"1991-04-02\", \"1991-04-03\", \"1991-04-04\", \"1991-04-05\", \"1991-04-06\", \"1991-04-07\", \"1991-04-08\", \"1991-04-09\", \"1991-04-10\", \"1991-04-11\", \"1991-04-12\", \"1991-04-13\", \"1991-04-14\", \"1991-04-15\", \"1991-04-16\", \"1991-04-17\", \"1991-04-18\", \"1991-04-19\", \"1991-04-20\", \"1991-04-21\", \"1991-04-22\", \"1991-04-23\", \"1991-04-24\", \"1991-04-25\", \"1991-04-26\", \"1991-04-27\", \"1991-04-28\", \"1991-04-29\", \"1991-04-30\", \"1991-05-01\", \"1991-05-02\", \"1991-05-03\", \"1991-05-04\", \"1991-05-05\", \"1991-05-06\", \"1991-05-07\", \"1991-05-08\", \"1991-05-09\", \"1991-05-10\", \"1991-05-11\", \"1991-05-12\", \"1991-05-13\", \"1991-05-14\", \"1991-05-15\", \"1991-05-16\", \"1991-05-17\", \"1991-05-18\", \"1991-05-19\", \"1991-05-20\", \"1991-05-21\", \"1991-05-22\", \"1991-05-23\", \"1991-05-24\", \"1991-05-25\", \"1991-05-26\", \"1991-05-27\", \"1991-05-28\", \"1991-05-29\", \"1991-05-30\", \"1991-05-31\", \"1991-06-01\", \"1991-06-02\", \"1991-06-03\", \"1991-06-04\", \"1991-06-05\", \"1991-06-06\", \"1991-06-07\", \"1991-06-08\", \"1991-06-09\", \"1991-06-10\", \"1991-06-11\", \"1991-06-12\", \"1991-06-13\", \"1991-06-14\", \"1991-06-15\", \"1991-06-16\", \"1991-06-17\", \"1991-06-18\", \"1991-06-19\", \"1991-06-20\", \"1991-06-21\", \"1991-06-22\", \"1991-06-23\", \"1991-06-24\", \"1991-06-25\", \"1991-06-26\", \"1991-06-27\", \"1991-06-28\", \"1991-06-29\", \"1991-06-30\", \"1991-07-01\", \"1991-07-02\", \"1991-07-03\", \"1991-07-04\", \"1991-07-05\", \"1991-07-06\", \"1991-07-07\", \"1991-07-08\", \"1991-07-09\", \"1991-07-10\", \"1991-07-11\", \"1991-07-12\", \"1991-07-13\", \"1991-07-14\", \"1991-07-15\", \"1991-07-16\", \"1991-07-17\", \"1991-07-18\", \"1991-07-19\", \"1991-07-20\", \"1991-07-21\", \"1991-07-22\", \"1991-07-23\", \"1991-07-24\", \"1991-07-25\", \"1991-07-26\", \"1991-07-27\", \"1991-07-28\", \"1991-07-29\", \"1991-07-30\", \"1991-07-31\", \"1991-08-01\", \"1991-08-02\", \"1991-08-03\", \"1991-08-04\", \"1991-08-05\", \"1991-08-06\", \"1991-08-07\", \"1991-08-08\", \"1991-08-09\", \"1991-08-10\", \"1991-08-11\", \"1991-08-12\", \"1991-08-13\", \"1991-08-14\", \"1991-08-15\", \"1991-08-16\", \"1991-08-17\", \"1991-08-18\", \"1991-08-19\", \"1991-08-20\", \"1991-08-21\", \"1991-08-22\", \"1991-08-23\", \"1991-08-24\", \"1991-08-25\", \"1991-08-26\", \"1991-08-27\", \"1991-08-28\", \"1991-08-29\", \"1991-08-30\", \"1991-08-31\", \"1991-09-01\", \"1991-09-02\", \"1991-09-03\", \"1991-09-04\", \"1991-09-05\", \"1991-09-06\", \"1991-09-07\", \"1991-09-08\", \"1991-09-09\", \"1991-09-10\", \"1991-09-11\", \"1991-09-12\", \"1991-09-13\", \"1991-09-14\", \"1991-09-15\", \"1991-09-16\", \"1991-09-17\", \"1991-09-18\", \"1991-09-19\", \"1991-09-20\", \"1991-09-21\", \"1991-09-22\", \"1991-09-23\", \"1991-09-24\", \"1991-09-25\", \"1991-09-26\", \"1991-09-27\", \"1991-09-28\", \"1991-09-29\", \"1991-09-30\", \"1991-10-01\", \"1991-10-02\", \"1991-10-03\", \"1991-10-04\", \"1991-10-05\", \"1991-10-06\", \"1991-10-07\", \"1991-10-08\", \"1991-10-09\", \"1991-10-10\", \"1991-10-11\", \"1991-10-12\", \"1991-10-13\", \"1991-10-14\", \"1991-10-15\", \"1991-10-16\", \"1991-10-17\", \"1991-10-18\", \"1991-10-19\", \"1991-10-20\", \"1991-10-21\", \"1991-10-22\", \"1991-10-23\", \"1991-10-24\", \"1991-10-25\", \"1991-10-26\", \"1991-10-27\", \"1991-10-28\", \"1991-10-29\", \"1991-10-30\", \"1991-10-31\", \"1991-11-01\", \"1991-11-02\", \"1991-11-03\", \"1991-11-04\", \"1991-11-05\", \"1991-11-06\", \"1991-11-07\", \"1991-11-08\", \"1991-11-09\", \"1991-11-10\", \"1991-11-11\", \"1991-11-12\", \"1991-11-13\", \"1991-11-14\", \"1991-11-15\", \"1991-11-16\", \"1991-11-17\", \"1991-11-18\", \"1991-11-19\", \"1991-11-20\", \"1991-11-21\", \"1991-11-22\", \"1991-11-23\", \"1991-11-24\", \"1991-11-25\", \"1991-11-26\", \"1991-11-27\", \"1991-11-28\", \"1991-11-29\", \"1991-11-30\", \"1991-12-01\", \"1991-12-02\", \"1991-12-03\", \"1991-12-04\", \"1991-12-05\", \"1991-12-06\", \"1991-12-07\", \"1991-12-08\", \"1991-12-09\", \"1991-12-10\", \"1991-12-11\", \"1991-12-12\", \"1991-12-13\", \"1991-12-14\", \"1991-12-15\", \"1991-12-16\", \"1991-12-17\", \"1991-12-18\", \"1991-12-19\", \"1991-12-20\", \"1991-12-21\", \"1991-12-22\", \"1991-12-23\", \"1991-12-24\", \"1991-12-25\", \"1991-12-26\", \"1991-12-27\", \"1991-12-28\", \"1991-12-29\", \"1991-12-30\", \"1991-12-31\", \"1992-01-01\", \"1992-01-02\", \"1992-01-03\", \"1992-01-04\", \"1992-01-05\", \"1992-01-06\", \"1992-01-07\", \"1992-01-08\", \"1992-01-09\", \"1992-01-10\", \"1992-01-11\", \"1992-01-12\", \"1992-01-13\", \"1992-01-14\", \"1992-01-15\", \"1992-01-16\", \"1992-01-17\", \"1992-01-18\", \"1992-01-19\", \"1992-01-20\", \"1992-01-21\", \"1992-01-22\", \"1992-01-23\", \"1992-01-24\", \"1992-01-25\", \"1992-01-26\", \"1992-01-27\", \"1992-01-28\", \"1992-01-29\", \"1992-01-30\", \"1992-01-31\", \"1992-02-01\", \"1992-02-02\", \"1992-02-03\", \"1992-02-04\", \"1992-02-05\", \"1992-02-06\", \"1992-02-07\", \"1992-02-08\", \"1992-02-09\", \"1992-02-10\", \"1992-02-11\", \"1992-02-12\", \"1992-02-13\", \"1992-02-14\", \"1992-02-15\", \"1992-02-16\", \"1992-02-17\", \"1992-02-18\", \"1992-02-19\", \"1992-02-20\", \"1992-02-21\", \"1992-02-22\", \"1992-02-23\", \"1992-02-24\", \"1992-02-25\", \"1992-02-26\", \"1992-02-27\", \"1992-02-28\", \"1992-02-29\", \"1992-03-01\", \"1992-03-02\", \"1992-03-03\", \"1992-03-04\", \"1992-03-05\", \"1992-03-06\", \"1992-03-07\", \"1992-03-08\", \"1992-03-09\", \"1992-03-10\", \"1992-03-11\", \"1992-03-12\", \"1992-03-13\", \"1992-03-14\", \"1992-03-15\", \"1992-03-16\", \"1992-03-17\", \"1992-03-18\", \"1992-03-19\", \"1992-03-20\", \"1992-03-21\", \"1992-03-22\", \"1992-03-23\", \"1992-03-24\", \"1992-03-25\", \"1992-03-26\", \"1992-03-27\", \"1992-03-28\", \"1992-03-29\", \"1992-03-30\", \"1992-03-31\", \"1992-04-01\", \"1992-04-02\", \"1992-04-03\", \"1992-04-04\", \"1992-04-05\", \"1992-04-06\", \"1992-04-07\", \"1992-04-08\", \"1992-04-09\", \"1992-04-10\", \"1992-04-11\", \"1992-04-12\", \"1992-04-13\", \"1992-04-14\", \"1992-04-15\", \"1992-04-16\", \"1992-04-17\", \"1992-04-18\", \"1992-04-19\", \"1992-04-20\", \"1992-04-21\", \"1992-04-22\", \"1992-04-23\", \"1992-04-24\", \"1992-04-25\", \"1992-04-26\", \"1992-04-27\", \"1992-04-28\", \"1992-04-29\", \"1992-04-30\", \"1992-05-01\", \"1992-05-02\", \"1992-05-03\", \"1992-05-04\", \"1992-05-05\", \"1992-05-06\", \"1992-05-07\", \"1992-05-08\", \"1992-05-09\", \"1992-05-10\", \"1992-05-11\", \"1992-05-12\", \"1992-05-13\", \"1992-05-14\", \"1992-05-15\", \"1992-05-16\", \"1992-05-17\", \"1992-05-18\", \"1992-05-19\", \"1992-05-20\", \"1992-05-21\", \"1992-05-22\", \"1992-05-23\", \"1992-05-24\", \"1992-05-25\", \"1992-05-26\", \"1992-05-27\", \"1992-05-28\", \"1992-05-29\", \"1992-05-30\", \"1992-05-31\", \"1992-06-01\", \"1992-06-02\", \"1992-06-03\", \"1992-06-04\", \"1992-06-05\", \"1992-06-06\", \"1992-06-07\", \"1992-06-08\", \"1992-06-09\", \"1992-06-10\", \"1992-06-11\", \"1992-06-12\", \"1992-06-13\", \"1992-06-14\", \"1992-06-15\", \"1992-06-16\", \"1992-06-17\", \"1992-06-18\", \"1992-06-19\", \"1992-06-20\", \"1992-06-21\", \"1992-06-22\", \"1992-06-23\", \"1992-06-24\", \"1992-06-25\", \"1992-06-26\", \"1992-06-27\", \"1992-06-28\", \"1992-06-29\", \"1992-06-30\", \"1992-07-01\", \"1992-07-02\", \"1992-07-03\", \"1992-07-04\", \"1992-07-05\", \"1992-07-06\", \"1992-07-07\", \"1992-07-08\", \"1992-07-09\", \"1992-07-10\", \"1992-07-11\", \"1992-07-12\", \"1992-07-13\", \"1992-07-14\", \"1992-07-15\", \"1992-07-16\", \"1992-07-17\", \"1992-07-18\", \"1992-07-19\", \"1992-07-20\", \"1992-07-21\", \"1992-07-22\", \"1992-07-23\", \"1992-07-24\", \"1992-07-25\", \"1992-07-26\", \"1992-07-27\", \"1992-07-28\", \"1992-07-29\", \"1992-07-30\", \"1992-07-31\", \"1992-08-01\", \"1992-08-02\", \"1992-08-03\", \"1992-08-04\", \"1992-08-05\", \"1992-08-06\", \"1992-08-07\", \"1992-08-08\", \"1992-08-09\", \"1992-08-10\", \"1992-08-11\", \"1992-08-12\", \"1992-08-13\", \"1992-08-14\", \"1992-08-15\", \"1992-08-16\", \"1992-08-17\", \"1992-08-18\", \"1992-08-19\", \"1992-08-20\", \"1992-08-21\", \"1992-08-22\", \"1992-08-23\", \"1992-08-24\", \"1992-08-25\", \"1992-08-26\", \"1992-08-27\", \"1992-08-28\", \"1992-08-29\", \"1992-08-30\", \"1992-08-31\", \"1992-09-01\", \"1992-09-02\", \"1992-09-03\", \"1992-09-04\", \"1992-09-05\", \"1992-09-06\", \"1992-09-07\", \"1992-09-08\", \"1992-09-09\", \"1992-09-10\", \"1992-09-11\", \"1992-09-12\", \"1992-09-13\", \"1992-09-14\", \"1992-09-15\", \"1992-09-16\", \"1992-09-17\", \"1992-09-18\", \"1992-09-19\", \"1992-09-20\", \"1992-09-21\", \"1992-09-22\", \"1992-09-23\", \"1992-09-24\", \"1992-09-25\", \"1992-09-26\", \"1992-09-27\", \"1992-09-28\", \"1992-09-29\", \"1992-09-30\", \"1992-10-01\", \"1992-10-02\", \"1992-10-03\", \"1992-10-04\", \"1992-10-05\", \"1992-10-06\", \"1992-10-07\", \"1992-10-08\", \"1992-10-09\", \"1992-10-10\", \"1992-10-11\", \"1992-10-12\", \"1992-10-13\", \"1992-10-14\", \"1992-10-15\", \"1992-10-16\", \"1992-10-17\", \"1992-10-18\", \"1992-10-19\", \"1992-10-20\", \"1992-10-21\", \"1992-10-22\", \"1992-10-23\", \"1992-10-24\", \"1992-10-25\", \"1992-10-26\", \"1992-10-27\", \"1992-10-28\", \"1992-10-29\", \"1992-10-30\", \"1992-10-31\", \"1992-11-01\", \"1992-11-02\", \"1992-11-03\", \"1992-11-04\", \"1992-11-05\", \"1992-11-06\", \"1992-11-07\", \"1992-11-08\", \"1992-11-09\", \"1992-11-10\", \"1992-11-11\", \"1992-11-12\", \"1992-11-13\", \"1992-11-14\", \"1992-11-15\", \"1992-11-16\", \"1992-11-17\", \"1992-11-18\", \"1992-11-19\", \"1992-11-20\", \"1992-11-21\", \"1992-11-22\", \"1992-11-23\", \"1992-11-24\", \"1992-11-25\", \"1992-11-26\", \"1992-11-27\", \"1992-11-28\", \"1992-11-29\", \"1992-11-30\", \"1992-12-01\", \"1992-12-02\", \"1992-12-03\", \"1992-12-04\", \"1992-12-05\", \"1992-12-06\", \"1992-12-07\", \"1992-12-08\", \"1992-12-09\", \"1992-12-10\", \"1992-12-11\", \"1992-12-12\", \"1992-12-13\", \"1992-12-14\", \"1992-12-15\", \"1992-12-16\", \"1992-12-17\", \"1992-12-18\", \"1992-12-19\", \"1992-12-20\", \"1992-12-21\", \"1992-12-22\", \"1992-12-23\", \"1992-12-24\", \"1992-12-25\", \"1992-12-26\", \"1992-12-27\", \"1992-12-28\", \"1992-12-29\", \"1992-12-30\", \"1992-12-31\", \"1993-01-01\", \"1993-01-02\", \"1993-01-03\", \"1993-01-04\", \"1993-01-05\", \"1993-01-06\", \"1993-01-07\", \"1993-01-08\", \"1993-01-09\", \"1993-01-10\", \"1993-01-11\", \"1993-01-12\", \"1993-01-13\", \"1993-01-14\", \"1993-01-15\", \"1993-01-16\", \"1993-01-17\", \"1993-01-18\", \"1993-01-19\", \"1993-01-20\", \"1993-01-21\", \"1993-01-22\", \"1993-01-23\", \"1993-01-24\", \"1993-01-25\", \"1993-01-26\", \"1993-01-27\", \"1993-01-28\", \"1993-01-29\", \"1993-01-30\", \"1993-01-31\", \"1993-02-01\", \"1993-02-02\", \"1993-02-03\", \"1993-02-04\", \"1993-02-05\", \"1993-02-06\", \"1993-02-07\", \"1993-02-08\", \"1993-02-09\", \"1993-02-10\", \"1993-02-11\", \"1993-02-12\", \"1993-02-13\", \"1993-02-14\", \"1993-02-15\", \"1993-02-16\", \"1993-02-17\", \"1993-02-18\", \"1993-02-19\", \"1993-02-20\", \"1993-02-21\", \"1993-02-22\", \"1993-02-23\", \"1993-02-24\", \"1993-02-25\", \"1993-02-26\", \"1993-02-27\", \"1993-02-28\", \"1993-03-01\", \"1993-03-02\", \"1993-03-03\", \"1993-03-04\", \"1993-03-05\", \"1993-03-06\", \"1993-03-07\", \"1993-03-08\", \"1993-03-09\", \"1993-03-10\", \"1993-03-11\", \"1993-03-12\", \"1993-03-13\", \"1993-03-14\", \"1993-03-15\", \"1993-03-16\", \"1993-03-17\", \"1993-03-18\", \"1993-03-19\", \"1993-03-20\", \"1993-03-21\", \"1993-03-22\", \"1993-03-23\", \"1993-03-24\", \"1993-03-25\", \"1993-03-26\", \"1993-03-27\", \"1993-03-28\", \"1993-03-29\", \"1993-03-30\", \"1993-03-31\", \"1993-04-01\", \"1993-04-02\", \"1993-04-03\", \"1993-04-04\", \"1993-04-05\", \"1993-04-06\", \"1993-04-07\", \"1993-04-08\", \"1993-04-09\", \"1993-04-10\", \"1993-04-11\", \"1993-04-12\", \"1993-04-13\", \"1993-04-14\", \"1993-04-15\", \"1993-04-16\", \"1993-04-17\", \"1993-04-18\", \"1993-04-19\", \"1993-04-20\", \"1993-04-21\", \"1993-04-22\", \"1993-04-23\", \"1993-04-24\", \"1993-04-25\", \"1993-04-26\", \"1993-04-27\", \"1993-04-28\", \"1993-04-29\", \"1993-04-30\", \"1993-05-01\", \"1993-05-02\", \"1993-05-03\", \"1993-05-04\", \"1993-05-05\", \"1993-05-06\", \"1993-05-07\", \"1993-05-08\", \"1993-05-09\", \"1993-05-10\", \"1993-05-11\", \"1993-05-12\", \"1993-05-13\", \"1993-05-14\", \"1993-05-15\", \"1993-05-16\", \"1993-05-17\", \"1993-05-18\", \"1993-05-19\", \"1993-05-20\", \"1993-05-21\", \"1993-05-22\", \"1993-05-23\", \"1993-05-24\", \"1993-05-25\", \"1993-05-26\", \"1993-05-27\", \"1993-05-28\", \"1993-05-29\", \"1993-05-30\", \"1993-05-31\", \"1993-06-01\", \"1993-06-02\", \"1993-06-03\", \"1993-06-04\", \"1993-06-05\", \"1993-06-06\", \"1993-06-07\", \"1993-06-08\", \"1993-06-09\", \"1993-06-10\", \"1993-06-11\", \"1993-06-12\", \"1993-06-13\", \"1993-06-14\", \"1993-06-15\", \"1993-06-16\", \"1993-06-17\", \"1993-06-18\", \"1993-06-19\", \"1993-06-20\", \"1993-06-21\", \"1993-06-22\", \"1993-06-23\", \"1993-06-24\", \"1993-06-25\", \"1993-06-26\", \"1993-06-27\", \"1993-06-28\", \"1993-06-29\", \"1993-06-30\", \"1993-07-01\", \"1993-07-02\", \"1993-07-03\", \"1993-07-04\", \"1993-07-05\", \"1993-07-06\", \"1993-07-07\", \"1993-07-08\", \"1993-07-09\", \"1993-07-10\", \"1993-07-11\", \"1993-07-12\", \"1993-07-13\", \"1993-07-14\", \"1993-07-15\", \"1993-07-16\", \"1993-07-17\", \"1993-07-18\", \"1993-07-19\", \"1993-07-20\", \"1993-07-21\", \"1993-07-22\", \"1993-07-23\", \"1993-07-24\", \"1993-07-25\", \"1993-07-26\", \"1993-07-27\", \"1993-07-28\", \"1993-07-29\", \"1993-07-30\", \"1993-07-31\", \"1993-08-01\", \"1993-08-02\", \"1993-08-03\", \"1993-08-04\", \"1993-08-05\", \"1993-08-06\", \"1993-08-07\", \"1993-08-08\", \"1993-08-09\", \"1993-08-10\", \"1993-08-11\", \"1993-08-12\", \"1993-08-13\", \"1993-08-14\", \"1993-08-15\", \"1993-08-16\", \"1993-08-17\", \"1993-08-18\", \"1993-08-19\", \"1993-08-20\", \"1993-08-21\", \"1993-08-22\", \"1993-08-23\", \"1993-08-24\", \"1993-08-25\", \"1993-08-26\", \"1993-08-27\", \"1993-08-28\", \"1993-08-29\", \"1993-08-30\", \"1993-08-31\", \"1993-09-01\", \"1993-09-02\", \"1993-09-03\", \"1993-09-04\", \"1993-09-05\", \"1993-09-06\", \"1993-09-07\", \"1993-09-08\", \"1993-09-09\", \"1993-09-10\", \"1993-09-11\", \"1993-09-12\", \"1993-09-13\", \"1993-09-14\", \"1993-09-15\", \"1993-09-16\", \"1993-09-17\", \"1993-09-18\", \"1993-09-19\", \"1993-09-20\", \"1993-09-21\", \"1993-09-22\", \"1993-09-23\", \"1993-09-24\", \"1993-09-25\", \"1993-09-26\", \"1993-09-27\", \"1993-09-28\", \"1993-09-29\", \"1993-09-30\", \"1993-10-01\", \"1993-10-02\", \"1993-10-03\", \"1993-10-04\", \"1993-10-05\", \"1993-10-06\", \"1993-10-07\", \"1993-10-08\", \"1993-10-09\", \"1993-10-10\", \"1993-10-11\", \"1993-10-12\", \"1993-10-13\", \"1993-10-14\", \"1993-10-15\", \"1993-10-16\", \"1993-10-17\", \"1993-10-18\", \"1993-10-19\", \"1993-10-20\", \"1993-10-21\", \"1993-10-22\", \"1993-10-23\", \"1993-10-24\", \"1993-10-25\", \"1993-10-26\", \"1993-10-27\", \"1993-10-28\", \"1993-10-29\", \"1993-10-30\", \"1993-10-31\", \"1993-11-01\", \"1993-11-02\", \"1993-11-03\", \"1993-11-04\", \"1993-11-05\", \"1993-11-06\", \"1993-11-07\", \"1993-11-08\", \"1993-11-09\", \"1993-11-10\", \"1993-11-11\", \"1993-11-12\", \"1993-11-13\", \"1993-11-14\", \"1993-11-15\", \"1993-11-16\", \"1993-11-17\", \"1993-11-18\", \"1993-11-19\", \"1993-11-20\", \"1993-11-21\", \"1993-11-22\", \"1993-11-23\", \"1993-11-24\", \"1993-11-25\", \"1993-11-26\", \"1993-11-27\", \"1993-11-28\", \"1993-11-29\", \"1993-11-30\", \"1993-12-01\", \"1993-12-02\", \"1993-12-03\", \"1993-12-04\", \"1993-12-05\", \"1993-12-06\", \"1993-12-07\", \"1993-12-08\", \"1993-12-09\", \"1993-12-10\", \"1993-12-11\", \"1993-12-12\", \"1993-12-13\", \"1993-12-14\", \"1993-12-15\", \"1993-12-16\", \"1993-12-17\", \"1993-12-18\", \"1993-12-19\", \"1993-12-20\", \"1993-12-21\", \"1993-12-22\", \"1993-12-23\", \"1993-12-24\", \"1993-12-25\", \"1993-12-26\", \"1993-12-27\", \"1993-12-28\", \"1993-12-29\", \"1993-12-30\", \"1993-12-31\", \"1994-01-01\", \"1994-01-02\", \"1994-01-03\", \"1994-01-04\", \"1994-01-05\", \"1994-01-06\", \"1994-01-07\", \"1994-01-08\", \"1994-01-09\", \"1994-01-10\", \"1994-01-11\", \"1994-01-12\", \"1994-01-13\", \"1994-01-14\", \"1994-01-15\", \"1994-01-16\", \"1994-01-17\", \"1994-01-18\", \"1994-01-19\", \"1994-01-20\", \"1994-01-21\", \"1994-01-22\", \"1994-01-23\", \"1994-01-24\", \"1994-01-25\", \"1994-01-26\", \"1994-01-27\", \"1994-01-28\", \"1994-01-29\", \"1994-01-30\", \"1994-01-31\", \"1994-02-01\", \"1994-02-02\", \"1994-02-03\", \"1994-02-04\", \"1994-02-05\", \"1994-02-06\", \"1994-02-07\", \"1994-02-08\", \"1994-02-09\", \"1994-02-10\", \"1994-02-11\", \"1994-02-12\", \"1994-02-13\", \"1994-02-14\", \"1994-02-15\", \"1994-02-16\", \"1994-02-17\", \"1994-02-18\", \"1994-02-19\", \"1994-02-20\", \"1994-02-21\", \"1994-02-22\", \"1994-02-23\", \"1994-02-24\", \"1994-02-25\", \"1994-02-26\", \"1994-02-27\", \"1994-02-28\", \"1994-03-01\", \"1994-03-02\", \"1994-03-03\", \"1994-03-04\", \"1994-03-05\", \"1994-03-06\", \"1994-03-07\", \"1994-03-08\", \"1994-03-09\", \"1994-03-10\", \"1994-03-11\", \"1994-03-12\", \"1994-03-13\", \"1994-03-14\", \"1994-03-15\", \"1994-03-16\", \"1994-03-17\", \"1994-03-18\", \"1994-03-19\", \"1994-03-20\", \"1994-03-21\", \"1994-03-22\", \"1994-03-23\", \"1994-03-24\", \"1994-03-25\", \"1994-03-26\", \"1994-03-27\", \"1994-03-28\", \"1994-03-29\", \"1994-03-30\", \"1994-03-31\", \"1994-04-01\", \"1994-04-02\", \"1994-04-03\", \"1994-04-04\", \"1994-04-05\", \"1994-04-06\", \"1994-04-07\", \"1994-04-08\", \"1994-04-09\", \"1994-04-10\", \"1994-04-11\", \"1994-04-12\", \"1994-04-13\", \"1994-04-14\", \"1994-04-15\", \"1994-04-16\", \"1994-04-17\", \"1994-04-18\", \"1994-04-19\", \"1994-04-20\", \"1994-04-21\", \"1994-04-22\", \"1994-04-23\", \"1994-04-24\", \"1994-04-25\", \"1994-04-26\", \"1994-04-27\", \"1994-04-28\", \"1994-04-29\", \"1994-04-30\", \"1994-05-01\", \"1994-05-02\", \"1994-05-03\", \"1994-05-04\", \"1994-05-05\", \"1994-05-06\", \"1994-05-07\", \"1994-05-08\", \"1994-05-09\", \"1994-05-10\", \"1994-05-11\", \"1994-05-12\", \"1994-05-13\", \"1994-05-14\", \"1994-05-15\", \"1994-05-16\", \"1994-05-17\", \"1994-05-18\", \"1994-05-19\", \"1994-05-20\", \"1994-05-21\", \"1994-05-22\", \"1994-05-23\", \"1994-05-24\", \"1994-05-25\", \"1994-05-26\", \"1994-05-27\", \"1994-05-28\", \"1994-05-29\", \"1994-05-30\", \"1994-05-31\", \"1994-06-01\", \"1994-06-02\", \"1994-06-03\", \"1994-06-04\", \"1994-06-05\", \"1994-06-06\", \"1994-06-07\", \"1994-06-08\", \"1994-06-09\", \"1994-06-10\", \"1994-06-11\", \"1994-06-12\", \"1994-06-13\", \"1994-06-14\", \"1994-06-15\", \"1994-06-16\", \"1994-06-17\", \"1994-06-18\", \"1994-06-19\", \"1994-06-20\", \"1994-06-21\", \"1994-06-22\", \"1994-06-23\", \"1994-06-24\", \"1994-06-25\", \"1994-06-26\", \"1994-06-27\", \"1994-06-28\", \"1994-06-29\", \"1994-06-30\", \"1994-07-01\", \"1994-07-02\", \"1994-07-03\", \"1994-07-04\", \"1994-07-05\", \"1994-07-06\", \"1994-07-07\", \"1994-07-08\", \"1994-07-09\", \"1994-07-10\", \"1994-07-11\", \"1994-07-12\", \"1994-07-13\", \"1994-07-14\", \"1994-07-15\", \"1994-07-16\", \"1994-07-17\", \"1994-07-18\", \"1994-07-19\", \"1994-07-20\", \"1994-07-21\", \"1994-07-22\", \"1994-07-23\", \"1994-07-24\", \"1994-07-25\", \"1994-07-26\", \"1994-07-27\", \"1994-07-28\", \"1994-07-29\", \"1994-07-30\", \"1994-07-31\", \"1994-08-01\", \"1994-08-02\", \"1994-08-03\", \"1994-08-04\", \"1994-08-05\", \"1994-08-06\", \"1994-08-07\", \"1994-08-08\", \"1994-08-09\", \"1994-08-10\", \"1994-08-11\", \"1994-08-12\", \"1994-08-13\", \"1994-08-14\", \"1994-08-15\", \"1994-08-16\", \"1994-08-17\", \"1994-08-18\", \"1994-08-19\", \"1994-08-20\", \"1994-08-21\", \"1994-08-22\", \"1994-08-23\", \"1994-08-24\", \"1994-08-25\", \"1994-08-26\", \"1994-08-27\", \"1994-08-28\", \"1994-08-29\", \"1994-08-30\", \"1994-08-31\", \"1994-09-01\", \"1994-09-02\", \"1994-09-03\", \"1994-09-04\", \"1994-09-05\", \"1994-09-06\", \"1994-09-07\", \"1994-09-08\", \"1994-09-09\", \"1994-09-10\", \"1994-09-11\", \"1994-09-12\", \"1994-09-13\", \"1994-09-14\", \"1994-09-15\", \"1994-09-16\", \"1994-09-17\", \"1994-09-18\", \"1994-09-19\", \"1994-09-20\", \"1994-09-21\", \"1994-09-22\", \"1994-09-23\", \"1994-09-24\", \"1994-09-25\", \"1994-09-26\", \"1994-09-27\", \"1994-09-28\", \"1994-09-29\", \"1994-09-30\", \"1994-10-01\", \"1994-10-02\", \"1994-10-03\", \"1994-10-04\", \"1994-10-05\", \"1994-10-06\", \"1994-10-07\", \"1994-10-08\", \"1994-10-09\", \"1994-10-10\", \"1994-10-11\", \"1994-10-12\", \"1994-10-13\", \"1994-10-14\", \"1994-10-15\", \"1994-10-16\", \"1994-10-17\", \"1994-10-18\", \"1994-10-19\", \"1994-10-20\", \"1994-10-21\", \"1994-10-22\", \"1994-10-23\", \"1994-10-24\", \"1994-10-25\", \"1994-10-26\", \"1994-10-27\", \"1994-10-28\", \"1994-10-29\", \"1994-10-30\", \"1994-10-31\", \"1994-11-01\", \"1994-11-02\", \"1994-11-03\", \"1994-11-04\", \"1994-11-05\", \"1994-11-06\", \"1994-11-07\", \"1994-11-08\", \"1994-11-09\", \"1994-11-10\", \"1994-11-11\", \"1994-11-12\", \"1994-11-13\", \"1994-11-14\", \"1994-11-15\", \"1994-11-16\", \"1994-11-17\", \"1994-11-18\", \"1994-11-19\", \"1994-11-20\", \"1994-11-21\", \"1994-11-22\", \"1994-11-23\", \"1994-11-24\", \"1994-11-25\", \"1994-11-26\", \"1994-11-27\", \"1994-11-28\", \"1994-11-29\", \"1994-11-30\", \"1994-12-01\", \"1994-12-02\", \"1994-12-03\", \"1994-12-04\", \"1994-12-05\", \"1994-12-06\", \"1994-12-07\", \"1994-12-08\", \"1994-12-09\", \"1994-12-10\", \"1994-12-11\", \"1994-12-12\", \"1994-12-13\", \"1994-12-14\", \"1994-12-15\", \"1994-12-16\", \"1994-12-17\", \"1994-12-18\", \"1994-12-19\", \"1994-12-20\", \"1994-12-21\", \"1994-12-22\", \"1994-12-23\", \"1994-12-24\", \"1994-12-25\", \"1994-12-26\", \"1994-12-27\", \"1994-12-28\", \"1994-12-29\", \"1994-12-30\", \"1994-12-31\", \"1995-01-01\", \"1995-01-02\", \"1995-01-03\", \"1995-01-04\", \"1995-01-05\", \"1995-01-06\", \"1995-01-07\", \"1995-01-08\", \"1995-01-09\", \"1995-01-10\", \"1995-01-11\", \"1995-01-12\", \"1995-01-13\", \"1995-01-14\", \"1995-01-15\", \"1995-01-16\", \"1995-01-17\", \"1995-01-18\", \"1995-01-19\", \"1995-01-20\", \"1995-01-21\", \"1995-01-22\", \"1995-01-23\", \"1995-01-24\", \"1995-01-25\", \"1995-01-26\", \"1995-01-27\", \"1995-01-28\", \"1995-01-29\", \"1995-01-30\", \"1995-01-31\", \"1995-02-01\", \"1995-02-02\", \"1995-02-03\", \"1995-02-04\", \"1995-02-05\", \"1995-02-06\", \"1995-02-07\", \"1995-02-08\", \"1995-02-09\", \"1995-02-10\", \"1995-02-11\", \"1995-02-12\", \"1995-02-13\", \"1995-02-14\", \"1995-02-15\", \"1995-02-16\", \"1995-02-17\", \"1995-02-18\", \"1995-02-19\", \"1995-02-20\", \"1995-02-21\", \"1995-02-22\", \"1995-02-23\", \"1995-02-24\", \"1995-02-25\", \"1995-02-26\", \"1995-02-27\", \"1995-02-28\", \"1995-03-01\", \"1995-03-02\", \"1995-03-03\", \"1995-03-04\", \"1995-03-05\", \"1995-03-06\", \"1995-03-07\", \"1995-03-08\", \"1995-03-09\", \"1995-03-10\", \"1995-03-11\", \"1995-03-12\", \"1995-03-13\", \"1995-03-14\", \"1995-03-15\", \"1995-03-16\", \"1995-03-17\", \"1995-03-18\", \"1995-03-19\", \"1995-03-20\", \"1995-03-21\", \"1995-03-22\", \"1995-03-23\", \"1995-03-24\", \"1995-03-25\", \"1995-03-26\", \"1995-03-27\", \"1995-03-28\", \"1995-03-29\", \"1995-03-30\", \"1995-03-31\", \"1995-04-01\", \"1995-04-02\", \"1995-04-03\", \"1995-04-04\", \"1995-04-05\", \"1995-04-06\", \"1995-04-07\", \"1995-04-08\", \"1995-04-09\", \"1995-04-10\", \"1995-04-11\", \"1995-04-12\", \"1995-04-13\", \"1995-04-14\", \"1995-04-15\", \"1995-04-16\", \"1995-04-17\", \"1995-04-18\", \"1995-04-19\", \"1995-04-20\", \"1995-04-21\", \"1995-04-22\", \"1995-04-23\", \"1995-04-24\", \"1995-04-25\", \"1995-04-26\", \"1995-04-27\", \"1995-04-28\", \"1995-04-29\", \"1995-04-30\", \"1995-05-01\", \"1995-05-02\", \"1995-05-03\", \"1995-05-04\", \"1995-05-05\", \"1995-05-06\", \"1995-05-07\", \"1995-05-08\", \"1995-05-09\", \"1995-05-10\", \"1995-05-11\", \"1995-05-12\", \"1995-05-13\", \"1995-05-14\", \"1995-05-15\", \"1995-05-16\", \"1995-05-17\", \"1995-05-18\", \"1995-05-19\", \"1995-05-20\", \"1995-05-21\", \"1995-05-22\", \"1995-05-23\", \"1995-05-24\", \"1995-05-25\", \"1995-05-26\", \"1995-05-27\", \"1995-05-28\", \"1995-05-29\", \"1995-05-30\", \"1995-05-31\", \"1995-06-01\", \"1995-06-02\", \"1995-06-03\", \"1995-06-04\", \"1995-06-05\", \"1995-06-06\", \"1995-06-07\", \"1995-06-08\", \"1995-06-09\", \"1995-06-10\", \"1995-06-11\", \"1995-06-12\", \"1995-06-13\", \"1995-06-14\", \"1995-06-15\", \"1995-06-16\", \"1995-06-17\", \"1995-06-18\", \"1995-06-19\", \"1995-06-20\", \"1995-06-21\", \"1995-06-22\", \"1995-06-23\", \"1995-06-24\", \"1995-06-25\", \"1995-06-26\", \"1995-06-27\", \"1995-06-28\", \"1995-06-29\", \"1995-06-30\", \"1995-07-01\", \"1995-07-02\", \"1995-07-03\", \"1995-07-04\", \"1995-07-05\", \"1995-07-06\", \"1995-07-07\", \"1995-07-08\", \"1995-07-09\", \"1995-07-10\", \"1995-07-11\", \"1995-07-12\", \"1995-07-13\", \"1995-07-14\", \"1995-07-15\", \"1995-07-16\", \"1995-07-17\", \"1995-07-18\", \"1995-07-19\", \"1995-07-20\", \"1995-07-21\", \"1995-07-22\", \"1995-07-23\", \"1995-07-24\", \"1995-07-25\", \"1995-07-26\", \"1995-07-27\", \"1995-07-28\", \"1995-07-29\", \"1995-07-30\", \"1995-07-31\", \"1995-08-01\", \"1995-08-02\", \"1995-08-03\", \"1995-08-04\", \"1995-08-05\", \"1995-08-06\", \"1995-08-07\", \"1995-08-08\", \"1995-08-09\", \"1995-08-10\", \"1995-08-11\", \"1995-08-12\", \"1995-08-13\", \"1995-08-14\", \"1995-08-15\", \"1995-08-16\", \"1995-08-17\", \"1995-08-18\", \"1995-08-19\", \"1995-08-20\", \"1995-08-21\", \"1995-08-22\", \"1995-08-23\", \"1995-08-24\", \"1995-08-25\", \"1995-08-26\", \"1995-08-27\", \"1995-08-28\", \"1995-08-29\", \"1995-08-30\", \"1995-08-31\", \"1995-09-01\", \"1995-09-02\", \"1995-09-03\", \"1995-09-04\", \"1995-09-05\", \"1995-09-06\", \"1995-09-07\", \"1995-09-08\", \"1995-09-09\", \"1995-09-10\", \"1995-09-11\", \"1995-09-12\", \"1995-09-13\", \"1995-09-14\", \"1995-09-15\", \"1995-09-16\", \"1995-09-17\", \"1995-09-18\", \"1995-09-19\", \"1995-09-20\", \"1995-09-21\", \"1995-09-22\", \"1995-09-23\", \"1995-09-24\", \"1995-09-25\", \"1995-09-26\", \"1995-09-27\", \"1995-09-28\", \"1995-09-29\", \"1995-09-30\", \"1995-10-01\", \"1995-10-02\", \"1995-10-03\", \"1995-10-04\", \"1995-10-05\", \"1995-10-06\", \"1995-10-07\", \"1995-10-08\", \"1995-10-09\", \"1995-10-10\", \"1995-10-11\", \"1995-10-12\", \"1995-10-13\", \"1995-10-14\", \"1995-10-15\", \"1995-10-16\", \"1995-10-17\", \"1995-10-18\", \"1995-10-19\", \"1995-10-20\", \"1995-10-21\", \"1995-10-22\", \"1995-10-23\", \"1995-10-24\", \"1995-10-25\", \"1995-10-26\", \"1995-10-27\", \"1995-10-28\", \"1995-10-29\", \"1995-10-30\", \"1995-10-31\", \"1995-11-01\", \"1995-11-02\", \"1995-11-03\", \"1995-11-04\", \"1995-11-05\", \"1995-11-06\", \"1995-11-07\", \"1995-11-08\", \"1995-11-09\", \"1995-11-10\", \"1995-11-11\", \"1995-11-12\", \"1995-11-13\", \"1995-11-14\", \"1995-11-15\", \"1995-11-16\", \"1995-11-17\", \"1995-11-18\", \"1995-11-19\", \"1995-11-20\", \"1995-11-21\", \"1995-11-22\", \"1995-11-23\", \"1995-11-24\", \"1995-11-25\", \"1995-11-26\", \"1995-11-27\", \"1995-11-28\", \"1995-11-29\", \"1995-11-30\", \"1995-12-01\", \"1995-12-02\", \"1995-12-03\", \"1995-12-04\", \"1995-12-05\", \"1995-12-06\", \"1995-12-07\", \"1995-12-08\", \"1995-12-09\", \"1995-12-10\", \"1995-12-11\", \"1995-12-12\", \"1995-12-13\", \"1995-12-14\", \"1995-12-15\", \"1995-12-16\", \"1995-12-17\", \"1995-12-18\", \"1995-12-19\", \"1995-12-20\", \"1995-12-21\", \"1995-12-22\", \"1995-12-23\", \"1995-12-24\", \"1995-12-25\", \"1995-12-26\", \"1995-12-27\", \"1995-12-28\", \"1995-12-29\", \"1995-12-30\", \"1995-12-31\", \"1996-01-01\", \"1996-01-02\", \"1996-01-03\", \"1996-01-04\", \"1996-01-05\", \"1996-01-06\", \"1996-01-07\", \"1996-01-08\", \"1996-01-09\", \"1996-01-10\", \"1996-01-11\", \"1996-01-12\", \"1996-01-13\", \"1996-01-14\", \"1996-01-15\", \"1996-01-16\", \"1996-01-17\", \"1996-01-18\", \"1996-01-19\", \"1996-01-20\", \"1996-01-21\", \"1996-01-22\", \"1996-01-23\", \"1996-01-24\", \"1996-01-25\", \"1996-01-26\", \"1996-01-27\", \"1996-01-28\", \"1996-01-29\", \"1996-01-30\", \"1996-01-31\", \"1996-02-01\", \"1996-02-02\", \"1996-02-03\", \"1996-02-04\", \"1996-02-05\", \"1996-02-06\", \"1996-02-07\", \"1996-02-08\", \"1996-02-09\", \"1996-02-10\", \"1996-02-11\", \"1996-02-12\", \"1996-02-13\", \"1996-02-14\", \"1996-02-15\", \"1996-02-16\", \"1996-02-17\", \"1996-02-18\", \"1996-02-19\", \"1996-02-20\", \"1996-02-21\", \"1996-02-22\", \"1996-02-23\", \"1996-02-24\", \"1996-02-25\", \"1996-02-26\", \"1996-02-27\", \"1996-02-28\", \"1996-02-29\", \"1996-03-01\", \"1996-03-02\", \"1996-03-03\", \"1996-03-04\", \"1996-03-05\", \"1996-03-06\", \"1996-03-07\", \"1996-03-08\", \"1996-03-09\", \"1996-03-10\", \"1996-03-11\", \"1996-03-12\", \"1996-03-13\", \"1996-03-14\", \"1996-03-15\", \"1996-03-16\", \"1996-03-17\", \"1996-03-18\", \"1996-03-19\", \"1996-03-20\", \"1996-03-21\", \"1996-03-22\", \"1996-03-23\", \"1996-03-24\", \"1996-03-25\", \"1996-03-26\", \"1996-03-27\", \"1996-03-28\", \"1996-03-29\", \"1996-03-30\", \"1996-03-31\", \"1996-04-01\", \"1996-04-02\", \"1996-04-03\", \"1996-04-04\", \"1996-04-05\", \"1996-04-06\", \"1996-04-07\", \"1996-04-08\", \"1996-04-09\", \"1996-04-10\", \"1996-04-11\", \"1996-04-12\", \"1996-04-13\", \"1996-04-14\", \"1996-04-15\", \"1996-04-16\", \"1996-04-17\", \"1996-04-18\", \"1996-04-19\", \"1996-04-20\", \"1996-04-21\", \"1996-04-22\", \"1996-04-23\", \"1996-04-24\", \"1996-04-25\", \"1996-04-26\", \"1996-04-27\", \"1996-04-28\", \"1996-04-29\", \"1996-04-30\", \"1996-05-01\", \"1996-05-02\", \"1996-05-03\", \"1996-05-04\", \"1996-05-05\", \"1996-05-06\", \"1996-05-07\", \"1996-05-08\", \"1996-05-09\", \"1996-05-10\", \"1996-05-11\", \"1996-05-12\", \"1996-05-13\", \"1996-05-14\", \"1996-05-15\", \"1996-05-16\", \"1996-05-17\", \"1996-05-18\", \"1996-05-19\", \"1996-05-20\", \"1996-05-21\", \"1996-05-22\", \"1996-05-23\", \"1996-05-24\", \"1996-05-25\", \"1996-05-26\", \"1996-05-27\", \"1996-05-28\", \"1996-05-29\", \"1996-05-30\", \"1996-05-31\", \"1996-06-01\", \"1996-06-02\", \"1996-06-03\", \"1996-06-04\", \"1996-06-05\", \"1996-06-06\", \"1996-06-07\", \"1996-06-08\", \"1996-06-09\", \"1996-06-10\", \"1996-06-11\", \"1996-06-12\", \"1996-06-13\", \"1996-06-14\", \"1996-06-15\", \"1996-06-16\", \"1996-06-17\", \"1996-06-18\", \"1996-06-19\", \"1996-06-20\", \"1996-06-21\", \"1996-06-22\", \"1996-06-23\", \"1996-06-24\", \"1996-06-25\", \"1996-06-26\", \"1996-06-27\", \"1996-06-28\", \"1996-06-29\", \"1996-06-30\", \"1996-07-01\", \"1996-07-02\", \"1996-07-03\", \"1996-07-04\", \"1996-07-05\", \"1996-07-06\", \"1996-07-07\", \"1996-07-08\", \"1996-07-09\", \"1996-07-10\", \"1996-07-11\", \"1996-07-12\", \"1996-07-13\", \"1996-07-14\", \"1996-07-15\", \"1996-07-16\", \"1996-07-17\", \"1996-07-18\", \"1996-07-19\", \"1996-07-20\", \"1996-07-21\", \"1996-07-22\", \"1996-07-23\", \"1996-07-24\", \"1996-07-25\", \"1996-07-26\", \"1996-07-27\", \"1996-07-28\", \"1996-07-29\", \"1996-07-30\", \"1996-07-31\", \"1996-08-01\", \"1996-08-02\", \"1996-08-03\", \"1996-08-04\", \"1996-08-05\", \"1996-08-06\", \"1996-08-07\", \"1996-08-08\", \"1996-08-09\", \"1996-08-10\", \"1996-08-11\", \"1996-08-12\", \"1996-08-13\", \"1996-08-14\", \"1996-08-15\", \"1996-08-16\", \"1996-08-17\", \"1996-08-18\", \"1996-08-19\", \"1996-08-20\", \"1996-08-21\", \"1996-08-22\", \"1996-08-23\", \"1996-08-24\", \"1996-08-25\", \"1996-08-26\", \"1996-08-27\", \"1996-08-28\", \"1996-08-29\", \"1996-08-30\", \"1996-08-31\", \"1996-09-01\", \"1996-09-02\", \"1996-09-03\", \"1996-09-04\", \"1996-09-05\", \"1996-09-06\", \"1996-09-07\", \"1996-09-08\", \"1996-09-09\", \"1996-09-10\", \"1996-09-11\", \"1996-09-12\", \"1996-09-13\", \"1996-09-14\", \"1996-09-15\", \"1996-09-16\", \"1996-09-17\", \"1996-09-18\", \"1996-09-19\", \"1996-09-20\", \"1996-09-21\", \"1996-09-22\", \"1996-09-23\", \"1996-09-24\", \"1996-09-25\", \"1996-09-26\", \"1996-09-27\", \"1996-09-28\", \"1996-09-29\", \"1996-09-30\", \"1996-10-01\", \"1996-10-02\", \"1996-10-03\", \"1996-10-04\", \"1996-10-05\", \"1996-10-06\", \"1996-10-07\", \"1996-10-08\", \"1996-10-09\", \"1996-10-10\", \"1996-10-11\", \"1996-10-12\", \"1996-10-13\", \"1996-10-14\", \"1996-10-15\", \"1996-10-16\", \"1996-10-17\", \"1996-10-18\", \"1996-10-19\", \"1996-10-20\", \"1996-10-21\", \"1996-10-22\", \"1996-10-23\", \"1996-10-24\", \"1996-10-25\", \"1996-10-26\", \"1996-10-27\", \"1996-10-28\", \"1996-10-29\", \"1996-10-30\", \"1996-10-31\", \"1996-11-01\", \"1996-11-02\", \"1996-11-03\", \"1996-11-04\", \"1996-11-05\", \"1996-11-06\", \"1996-11-07\", \"1996-11-08\", \"1996-11-09\", \"1996-11-10\", \"1996-11-11\", \"1996-11-12\", \"1996-11-13\", \"1996-11-14\", \"1996-11-15\", \"1996-11-16\", \"1996-11-17\", \"1996-11-18\", \"1996-11-19\", \"1996-11-20\", \"1996-11-21\", \"1996-11-22\", \"1996-11-23\", \"1996-11-24\", \"1996-11-25\", \"1996-11-26\", \"1996-11-27\", \"1996-11-28\", \"1996-11-29\", \"1996-11-30\", \"1996-12-01\", \"1996-12-02\", \"1996-12-03\", \"1996-12-04\", \"1996-12-05\", \"1996-12-06\", \"1996-12-07\", \"1996-12-08\", \"1996-12-09\", \"1996-12-10\", \"1996-12-11\", \"1996-12-12\", \"1996-12-13\", \"1996-12-14\", \"1996-12-15\", \"1996-12-16\", \"1996-12-17\", \"1996-12-18\", \"1996-12-19\", \"1996-12-20\", \"1996-12-21\", \"1996-12-22\", \"1996-12-23\", \"1996-12-24\", \"1996-12-25\", \"1996-12-26\", \"1996-12-27\", \"1996-12-28\", \"1996-12-29\", \"1996-12-30\", \"1996-12-31\", \"1997-01-01\", \"1997-01-02\", \"1997-01-03\", \"1997-01-04\", \"1997-01-05\", \"1997-01-06\", \"1997-01-07\", \"1997-01-08\", \"1997-01-09\", \"1997-01-10\", \"1997-01-11\", \"1997-01-12\", \"1997-01-13\", \"1997-01-14\", \"1997-01-15\", \"1997-01-16\", \"1997-01-17\", \"1997-01-18\", \"1997-01-19\", \"1997-01-20\", \"1997-01-21\", \"1997-01-22\", \"1997-01-23\", \"1997-01-24\", \"1997-01-25\", \"1997-01-26\", \"1997-01-27\", \"1997-01-28\", \"1997-01-29\", \"1997-01-30\", \"1997-01-31\", \"1997-02-01\", \"1997-02-02\", \"1997-02-03\", \"1997-02-04\", \"1997-02-05\", \"1997-02-06\", \"1997-02-07\", \"1997-02-08\", \"1997-02-09\", \"1997-02-10\", \"1997-02-11\", \"1997-02-12\", \"1997-02-13\", \"1997-02-14\", \"1997-02-15\", \"1997-02-16\", \"1997-02-17\", \"1997-02-18\", \"1997-02-19\", \"1997-02-20\", \"1997-02-21\", \"1997-02-22\", \"1997-02-23\", \"1997-02-24\", \"1997-02-25\", \"1997-02-26\", \"1997-02-27\", \"1997-02-28\", \"1997-03-01\", \"1997-03-02\", \"1997-03-03\", \"1997-03-04\", \"1997-03-05\", \"1997-03-06\", \"1997-03-07\", \"1997-03-08\", \"1997-03-09\", \"1997-03-10\", \"1997-03-11\", \"1997-03-12\", \"1997-03-13\", \"1997-03-14\", \"1997-03-15\", \"1997-03-16\", \"1997-03-17\", \"1997-03-18\", \"1997-03-19\", \"1997-03-20\", \"1997-03-21\", \"1997-03-22\", \"1997-03-23\", \"1997-03-24\", \"1997-03-25\", \"1997-03-26\", \"1997-03-27\", \"1997-03-28\", \"1997-03-29\", \"1997-03-30\", \"1997-03-31\", \"1997-04-01\", \"1997-04-02\", \"1997-04-03\", \"1997-04-04\", \"1997-04-05\", \"1997-04-06\", \"1997-04-07\", \"1997-04-08\", \"1997-04-09\", \"1997-04-10\", \"1997-04-11\", \"1997-04-12\", \"1997-04-13\", \"1997-04-14\", \"1997-04-15\", \"1997-04-16\", \"1997-04-17\", \"1997-04-18\", \"1997-04-19\", \"1997-04-20\", \"1997-04-21\", \"1997-04-22\", \"1997-04-23\", \"1997-04-24\", \"1997-04-25\", \"1997-04-26\", \"1997-04-27\", \"1997-04-28\", \"1997-04-29\", \"1997-04-30\", \"1997-05-01\", \"1997-05-02\", \"1997-05-03\", \"1997-05-04\", \"1997-05-05\", \"1997-05-06\", \"1997-05-07\", \"1997-05-08\", \"1997-05-09\", \"1997-05-10\", \"1997-05-11\", \"1997-05-12\", \"1997-05-13\", \"1997-05-14\", \"1997-05-15\", \"1997-05-16\", \"1997-05-17\", \"1997-05-18\", \"1997-05-19\", \"1997-05-20\", \"1997-05-21\", \"1997-05-22\", \"1997-05-23\", \"1997-05-24\", \"1997-05-25\", \"1997-05-26\", \"1997-05-27\", \"1997-05-28\", \"1997-05-29\", \"1997-05-30\", \"1997-05-31\", \"1997-06-01\", \"1997-06-02\", \"1997-06-03\", \"1997-06-04\", \"1997-06-05\", \"1997-06-06\", \"1997-06-07\", \"1997-06-08\", \"1997-06-09\", \"1997-06-10\", \"1997-06-11\", \"1997-06-12\", \"1997-06-13\", \"1997-06-14\", \"1997-06-15\", \"1997-06-16\", \"1997-06-17\", \"1997-06-18\", \"1997-06-19\", \"1997-06-20\", \"1997-06-21\", \"1997-06-22\", \"1997-06-23\", \"1997-06-24\", \"1997-06-25\", \"1997-06-26\", \"1997-06-27\", \"1997-06-28\", \"1997-06-29\", \"1997-06-30\", \"1997-07-01\", \"1997-07-02\", \"1997-07-03\", \"1997-07-04\", \"1997-07-05\", \"1997-07-06\", \"1997-07-07\", \"1997-07-08\", \"1997-07-09\", \"1997-07-10\", \"1997-07-11\", \"1997-07-12\", \"1997-07-13\", \"1997-07-14\", \"1997-07-15\", \"1997-07-16\", \"1997-07-17\", \"1997-07-18\", \"1997-07-19\", \"1997-07-20\", \"1997-07-21\", \"1997-07-22\", \"1997-07-23\", \"1997-07-24\", \"1997-07-25\", \"1997-07-26\", \"1997-07-27\", \"1997-07-28\", \"1997-07-29\", \"1997-07-30\", \"1997-07-31\", \"1997-08-01\", \"1997-08-02\", \"1997-08-03\", \"1997-08-04\", \"1997-08-05\", \"1997-08-06\", \"1997-08-07\", \"1997-08-08\", \"1997-08-09\", \"1997-08-10\", \"1997-08-11\", \"1997-08-12\", \"1997-08-13\", \"1997-08-14\", \"1997-08-15\", \"1997-08-16\", \"1997-08-17\", \"1997-08-18\", \"1997-08-19\", \"1997-08-20\", \"1997-08-21\", \"1997-08-22\", \"1997-08-23\", \"1997-08-24\", \"1997-08-25\", \"1997-08-26\", \"1997-08-27\", \"1997-08-28\", \"1997-08-29\", \"1997-08-30\", \"1997-08-31\", \"1997-09-01\", \"1997-09-02\", \"1997-09-03\", \"1997-09-04\", \"1997-09-05\", \"1997-09-06\", \"1997-09-07\", \"1997-09-08\", \"1997-09-09\", \"1997-09-10\", \"1997-09-11\", \"1997-09-12\", \"1997-09-13\", \"1997-09-14\", \"1997-09-15\", \"1997-09-16\", \"1997-09-17\", \"1997-09-18\", \"1997-09-19\", \"1997-09-20\", \"1997-09-21\", \"1997-09-22\", \"1997-09-23\", \"1997-09-24\", \"1997-09-25\", \"1997-09-26\", \"1997-09-27\", \"1997-09-28\", \"1997-09-29\", \"1997-09-30\", \"1997-10-01\", \"1997-10-02\", \"1997-10-03\", \"1997-10-04\", \"1997-10-05\", \"1997-10-06\", \"1997-10-07\", \"1997-10-08\", \"1997-10-09\", \"1997-10-10\", \"1997-10-11\", \"1997-10-12\", \"1997-10-13\", \"1997-10-14\", \"1997-10-15\", \"1997-10-16\", \"1997-10-17\", \"1997-10-18\", \"1997-10-19\", \"1997-10-20\", \"1997-10-21\", \"1997-10-22\", \"1997-10-23\", \"1997-10-24\", \"1997-10-25\", \"1997-10-26\", \"1997-10-27\", \"1997-10-28\", \"1997-10-29\", \"1997-10-30\", \"1997-10-31\", \"1997-11-01\", \"1997-11-02\", \"1997-11-03\", \"1997-11-04\", \"1997-11-05\", \"1997-11-06\", \"1997-11-07\", \"1997-11-08\", \"1997-11-09\", \"1997-11-10\", \"1997-11-11\", \"1997-11-12\", \"1997-11-13\", \"1997-11-14\", \"1997-11-15\", \"1997-11-16\", \"1997-11-17\", \"1997-11-18\", \"1997-11-19\", \"1997-11-20\", \"1997-11-21\", \"1997-11-22\", \"1997-11-23\", \"1997-11-24\", \"1997-11-25\", \"1997-11-26\", \"1997-11-27\", \"1997-11-28\", \"1997-11-29\", \"1997-11-30\", \"1997-12-01\", \"1997-12-02\", \"1997-12-03\", \"1997-12-04\", \"1997-12-05\", \"1997-12-06\", \"1997-12-07\", \"1997-12-08\", \"1997-12-09\", \"1997-12-10\", \"1997-12-11\", \"1997-12-12\", \"1997-12-13\", \"1997-12-14\", \"1997-12-15\", \"1997-12-16\", \"1997-12-17\", \"1997-12-18\", \"1997-12-19\", \"1997-12-20\", \"1997-12-21\", \"1997-12-22\", \"1997-12-23\", \"1997-12-24\", \"1997-12-25\", \"1997-12-26\", \"1997-12-27\", \"1997-12-28\", \"1997-12-29\", \"1997-12-30\", \"1997-12-31\", \"1998-01-01\", \"1998-01-02\", \"1998-01-03\", \"1998-01-04\", \"1998-01-05\", \"1998-01-06\", \"1998-01-07\", \"1998-01-08\", \"1998-01-09\", \"1998-01-10\", \"1998-01-11\", \"1998-01-12\", \"1998-01-13\", \"1998-01-14\", \"1998-01-15\", \"1998-01-16\", \"1998-01-17\", \"1998-01-18\", \"1998-01-19\", \"1998-01-20\", \"1998-01-21\", \"1998-01-22\", \"1998-01-23\", \"1998-01-24\", \"1998-01-25\", \"1998-01-26\", \"1998-01-27\", \"1998-01-28\", \"1998-01-29\", \"1998-01-30\", \"1998-01-31\", \"1998-02-01\", \"1998-02-02\", \"1998-02-03\", \"1998-02-04\", \"1998-02-05\", \"1998-02-06\", \"1998-02-07\", \"1998-02-08\", \"1998-02-09\", \"1998-02-10\", \"1998-02-11\", \"1998-02-12\", \"1998-02-13\", \"1998-02-14\", \"1998-02-15\", \"1998-02-16\", \"1998-02-17\", \"1998-02-18\", \"1998-02-19\", \"1998-02-20\", \"1998-02-21\", \"1998-02-22\", \"1998-02-23\", \"1998-02-24\", \"1998-02-25\", \"1998-02-26\", \"1998-02-27\", \"1998-02-28\", \"1998-03-01\", \"1998-03-02\", \"1998-03-03\", \"1998-03-04\", \"1998-03-05\", \"1998-03-06\", \"1998-03-07\", \"1998-03-08\", \"1998-03-09\", \"1998-03-10\", \"1998-03-11\", \"1998-03-12\", \"1998-03-13\", \"1998-03-14\", \"1998-03-15\", \"1998-03-16\", \"1998-03-17\", \"1998-03-18\", \"1998-03-19\", \"1998-03-20\", \"1998-03-21\", \"1998-03-22\", \"1998-03-23\", \"1998-03-24\", \"1998-03-25\", \"1998-03-26\", \"1998-03-27\", \"1998-03-28\", \"1998-03-29\", \"1998-03-30\", \"1998-03-31\", \"1998-04-01\", \"1998-04-02\", \"1998-04-03\", \"1998-04-04\", \"1998-04-05\", \"1998-04-06\", \"1998-04-07\", \"1998-04-08\", \"1998-04-09\", \"1998-04-10\", \"1998-04-11\", \"1998-04-12\", \"1998-04-13\", \"1998-04-14\", \"1998-04-15\", \"1998-04-16\", \"1998-04-17\", \"1998-04-18\", \"1998-04-19\", \"1998-04-20\", \"1998-04-21\", \"1998-04-22\", \"1998-04-23\", \"1998-04-24\", \"1998-04-25\", \"1998-04-26\", \"1998-04-27\", \"1998-04-28\", \"1998-04-29\", \"1998-04-30\", \"1998-05-01\", \"1998-05-02\", \"1998-05-03\", \"1998-05-04\", \"1998-05-05\", \"1998-05-06\", \"1998-05-07\", \"1998-05-08\", \"1998-05-09\", \"1998-05-10\", \"1998-05-11\", \"1998-05-12\", \"1998-05-13\", \"1998-05-14\", \"1998-05-15\", \"1998-05-16\", \"1998-05-17\", \"1998-05-18\", \"1998-05-19\", \"1998-05-20\", \"1998-05-21\", \"1998-05-22\", \"1998-05-23\", \"1998-05-24\", \"1998-05-25\", \"1998-05-26\", \"1998-05-27\", \"1998-05-28\", \"1998-05-29\", \"1998-05-30\", \"1998-05-31\", \"1998-06-01\", \"1998-06-02\", \"1998-06-03\", \"1998-06-04\", \"1998-06-05\", \"1998-06-06\", \"1998-06-07\", \"1998-06-08\", \"1998-06-09\", \"1998-06-10\", \"1998-06-11\", \"1998-06-12\", \"1998-06-13\", \"1998-06-14\", \"1998-06-15\", \"1998-06-16\", \"1998-06-17\", \"1998-06-18\", \"1998-06-19\", \"1998-06-20\", \"1998-06-21\", \"1998-06-22\", \"1998-06-23\", \"1998-06-24\", \"1998-06-25\", \"1998-06-26\", \"1998-06-27\", \"1998-06-28\", \"1998-06-29\", \"1998-06-30\", \"1998-07-01\", \"1998-07-02\", \"1998-07-03\", \"1998-07-04\", \"1998-07-05\", \"1998-07-06\", \"1998-07-07\", \"1998-07-08\", \"1998-07-09\", \"1998-07-10\", \"1998-07-11\", \"1998-07-12\", \"1998-07-13\", \"1998-07-14\", \"1998-07-15\", \"1998-07-16\", \"1998-07-17\", \"1998-07-18\", \"1998-07-19\", \"1998-07-20\", \"1998-07-21\", \"1998-07-22\", \"1998-07-23\", \"1998-07-24\", \"1998-07-25\", \"1998-07-26\", \"1998-07-27\", \"1998-07-28\", \"1998-07-29\", \"1998-07-30\", \"1998-07-31\", \"1998-08-01\", \"1998-08-02\", \"1998-08-03\", \"1998-08-04\", \"1998-08-05\", \"1998-08-06\", \"1998-08-07\", \"1998-08-08\", \"1998-08-09\", \"1998-08-10\", \"1998-08-11\", \"1998-08-12\", \"1998-08-13\", \"1998-08-14\", \"1998-08-15\", \"1998-08-16\", \"1998-08-17\", \"1998-08-18\", \"1998-08-19\", \"1998-08-20\", \"1998-08-21\", \"1998-08-22\", \"1998-08-23\", \"1998-08-24\", \"1998-08-25\", \"1998-08-26\", \"1998-08-27\", \"1998-08-28\", \"1998-08-29\", \"1998-08-30\", \"1998-08-31\", \"1998-09-01\", \"1998-09-02\", \"1998-09-03\", \"1998-09-04\", \"1998-09-05\", \"1998-09-06\", \"1998-09-07\", \"1998-09-08\", \"1998-09-09\", \"1998-09-10\", \"1998-09-11\", \"1998-09-12\", \"1998-09-13\", \"1998-09-14\", \"1998-09-15\", \"1998-09-16\", \"1998-09-17\", \"1998-09-18\", \"1998-09-19\", \"1998-09-20\", \"1998-09-21\", \"1998-09-22\", \"1998-09-23\", \"1998-09-24\", \"1998-09-25\", \"1998-09-26\", \"1998-09-27\", \"1998-09-28\", \"1998-09-29\", \"1998-09-30\", \"1998-10-01\", \"1998-10-02\", \"1998-10-03\", \"1998-10-04\", \"1998-10-05\", \"1998-10-06\", \"1998-10-07\", \"1998-10-08\", \"1998-10-09\", \"1998-10-10\", \"1998-10-11\", \"1998-10-12\", \"1998-10-13\", \"1998-10-14\", \"1998-10-15\", \"1998-10-16\", \"1998-10-17\", \"1998-10-18\", \"1998-10-19\", \"1998-10-20\", \"1998-10-21\", \"1998-10-22\", \"1998-10-23\", \"1998-10-24\", \"1998-10-25\", \"1998-10-26\", \"1998-10-27\", \"1998-10-28\", \"1998-10-29\", \"1998-10-30\", \"1998-10-31\", \"1998-11-01\", \"1998-11-02\", \"1998-11-03\", \"1998-11-04\", \"1998-11-05\", \"1998-11-06\", \"1998-11-07\", \"1998-11-08\", \"1998-11-09\", \"1998-11-10\", \"1998-11-11\", \"1998-11-12\", \"1998-11-13\", \"1998-11-14\", \"1998-11-15\", \"1998-11-16\", \"1998-11-17\", \"1998-11-18\", \"1998-11-19\", \"1998-11-20\", \"1998-11-21\", \"1998-11-22\", \"1998-11-23\", \"1998-11-24\", \"1998-11-25\", \"1998-11-26\", \"1998-11-27\", \"1998-11-28\", \"1998-11-29\", \"1998-11-30\", \"1998-12-01\", \"1998-12-02\", \"1998-12-03\", \"1998-12-04\", \"1998-12-05\", \"1998-12-06\", \"1998-12-07\", \"1998-12-08\", \"1998-12-09\", \"1998-12-10\", \"1998-12-11\", \"1998-12-12\", \"1998-12-13\", \"1998-12-14\", \"1998-12-15\", \"1998-12-16\", \"1998-12-17\", \"1998-12-18\", \"1998-12-19\", \"1998-12-20\", \"1998-12-21\", \"1998-12-22\", \"1998-12-23\", \"1998-12-24\", \"1998-12-25\", \"1998-12-26\", \"1998-12-27\", \"1998-12-28\", \"1998-12-29\", \"1998-12-30\", \"1998-12-31\", \"1999-01-01\", \"1999-01-02\", \"1999-01-03\", \"1999-01-04\", \"1999-01-05\", \"1999-01-06\", \"1999-01-07\", \"1999-01-08\", \"1999-01-09\", \"1999-01-10\", \"1999-01-11\", \"1999-01-12\", \"1999-01-13\", \"1999-01-14\", \"1999-01-15\", \"1999-01-16\", \"1999-01-17\", \"1999-01-18\", \"1999-01-19\", \"1999-01-20\", \"1999-01-21\", \"1999-01-22\", \"1999-01-23\", \"1999-01-24\", \"1999-01-25\", \"1999-01-26\", \"1999-01-27\", \"1999-01-28\", \"1999-01-29\", \"1999-01-30\", \"1999-01-31\", \"1999-02-01\", \"1999-02-02\", \"1999-02-03\", \"1999-02-04\", \"1999-02-05\", \"1999-02-06\", \"1999-02-07\", \"1999-02-08\", \"1999-02-09\", \"1999-02-10\", \"1999-02-11\", \"1999-02-12\", \"1999-02-13\", \"1999-02-14\", \"1999-02-15\", \"1999-02-16\", \"1999-02-17\", \"1999-02-18\", \"1999-02-19\", \"1999-02-20\", \"1999-02-21\", \"1999-02-22\", \"1999-02-23\", \"1999-02-24\", \"1999-02-25\", \"1999-02-26\", \"1999-02-27\", \"1999-02-28\", \"1999-03-01\", \"1999-03-02\", \"1999-03-03\", \"1999-03-04\", \"1999-03-05\", \"1999-03-06\", \"1999-03-07\", \"1999-03-08\", \"1999-03-09\", \"1999-03-10\", \"1999-03-11\", \"1999-03-12\", \"1999-03-13\", \"1999-03-14\", \"1999-03-15\", \"1999-03-16\", \"1999-03-17\", \"1999-03-18\", \"1999-03-19\", \"1999-03-20\", \"1999-03-21\", \"1999-03-22\", \"1999-03-23\", \"1999-03-24\", \"1999-03-25\", \"1999-03-26\", \"1999-03-27\", \"1999-03-28\", \"1999-03-29\", \"1999-03-30\", \"1999-03-31\", \"1999-04-01\", \"1999-04-02\", \"1999-04-03\", \"1999-04-04\", \"1999-04-05\", \"1999-04-06\", \"1999-04-07\", \"1999-04-08\", \"1999-04-09\", \"1999-04-10\", \"1999-04-11\", \"1999-04-12\", \"1999-04-13\", \"1999-04-14\", \"1999-04-15\", \"1999-04-16\", \"1999-04-17\", \"1999-04-18\", \"1999-04-19\", \"1999-04-20\", \"1999-04-21\", \"1999-04-22\", \"1999-04-23\", \"1999-04-24\", \"1999-04-25\", \"1999-04-26\", \"1999-04-27\", \"1999-04-28\", \"1999-04-29\", \"1999-04-30\", \"1999-05-01\", \"1999-05-02\", \"1999-05-03\", \"1999-05-04\", \"1999-05-05\", \"1999-05-06\", \"1999-05-07\", \"1999-05-08\", \"1999-05-09\", \"1999-05-10\", \"1999-05-11\", \"1999-05-12\", \"1999-05-13\", \"1999-05-14\", \"1999-05-15\", \"1999-05-16\", \"1999-05-17\", \"1999-05-18\", \"1999-05-19\", \"1999-05-20\", \"1999-05-21\", \"1999-05-22\", \"1999-05-23\", \"1999-05-24\", \"1999-05-25\", \"1999-05-26\", \"1999-05-27\", \"1999-05-28\", \"1999-05-29\", \"1999-05-30\", \"1999-05-31\", \"1999-06-01\", \"1999-06-02\", \"1999-06-03\", \"1999-06-04\", \"1999-06-05\", \"1999-06-06\", \"1999-06-07\", \"1999-06-08\", \"1999-06-09\", \"1999-06-10\", \"1999-06-11\", \"1999-06-12\", \"1999-06-13\", \"1999-06-14\", \"1999-06-15\", \"1999-06-16\", \"1999-06-17\", \"1999-06-18\", \"1999-06-19\", \"1999-06-20\", \"1999-06-21\", \"1999-06-22\", \"1999-06-23\", \"1999-06-24\", \"1999-06-25\", \"1999-06-26\", \"1999-06-27\", \"1999-06-28\", \"1999-06-29\", \"1999-06-30\", \"1999-07-01\", \"1999-07-02\", \"1999-07-03\", \"1999-07-04\", \"1999-07-05\", \"1999-07-06\", \"1999-07-07\", \"1999-07-08\", \"1999-07-09\", \"1999-07-10\", \"1999-07-11\", \"1999-07-12\", \"1999-07-13\", \"1999-07-14\", \"1999-07-15\", \"1999-07-16\", \"1999-07-17\", \"1999-07-18\", \"1999-07-19\", \"1999-07-20\", \"1999-07-21\", \"1999-07-22\", \"1999-07-23\", \"1999-07-24\", \"1999-07-25\", \"1999-07-26\", \"1999-07-27\", \"1999-07-28\", \"1999-07-29\", \"1999-07-30\", \"1999-07-31\", \"1999-08-01\", \"1999-08-02\", \"1999-08-03\", \"1999-08-04\", \"1999-08-05\", \"1999-08-06\", \"1999-08-07\", \"1999-08-08\", \"1999-08-09\", \"1999-08-10\", \"1999-08-11\", \"1999-08-12\", \"1999-08-13\", \"1999-08-14\", \"1999-08-15\", \"1999-08-16\", \"1999-08-17\", \"1999-08-18\", \"1999-08-19\", \"1999-08-20\", \"1999-08-21\", \"1999-08-22\", \"1999-08-23\", \"1999-08-24\", \"1999-08-25\", \"1999-08-26\", \"1999-08-27\", \"1999-08-28\", \"1999-08-29\", \"1999-08-30\", \"1999-08-31\", \"1999-09-01\", \"1999-09-02\", \"1999-09-03\", \"1999-09-04\", \"1999-09-05\", \"1999-09-06\", \"1999-09-07\", \"1999-09-08\", \"1999-09-09\", \"1999-09-10\", \"1999-09-11\", \"1999-09-12\", \"1999-09-13\", \"1999-09-14\", \"1999-09-15\", \"1999-09-16\", \"1999-09-17\", \"1999-09-18\", \"1999-09-19\", \"1999-09-20\", \"1999-09-21\", \"1999-09-22\", \"1999-09-23\", \"1999-09-24\", \"1999-09-25\", \"1999-09-26\", \"1999-09-27\", \"1999-09-28\", \"1999-09-29\", \"1999-09-30\", \"1999-10-01\", \"1999-10-02\", \"1999-10-03\", \"1999-10-04\", \"1999-10-05\", \"1999-10-06\", \"1999-10-07\", \"1999-10-08\", \"1999-10-09\", \"1999-10-10\", \"1999-10-11\", \"1999-10-12\", \"1999-10-13\", \"1999-10-14\", \"1999-10-15\", \"1999-10-16\", \"1999-10-17\", \"1999-10-18\", \"1999-10-19\", \"1999-10-20\", \"1999-10-21\", \"1999-10-22\", \"1999-10-23\", \"1999-10-24\", \"1999-10-25\", \"1999-10-26\", \"1999-10-27\", \"1999-10-28\", \"1999-10-29\", \"1999-10-30\", \"1999-10-31\", \"1999-11-01\", \"1999-11-02\", \"1999-11-03\", \"1999-11-04\", \"1999-11-05\", \"1999-11-06\", \"1999-11-07\", \"1999-11-08\", \"1999-11-09\", \"1999-11-10\", \"1999-11-11\", \"1999-11-12\", \"1999-11-13\", \"1999-11-14\", \"1999-11-15\", \"1999-11-16\", \"1999-11-17\", \"1999-11-18\", \"1999-11-19\", \"1999-11-20\", \"1999-11-21\", \"1999-11-22\", \"1999-11-23\", \"1999-11-24\", \"1999-11-25\", \"1999-11-26\", \"1999-11-27\", \"1999-11-28\", \"1999-11-29\", \"1999-11-30\", \"1999-12-01\", \"1999-12-02\", \"1999-12-03\", \"1999-12-04\", \"1999-12-05\", \"1999-12-06\", \"1999-12-07\", \"1999-12-08\", \"1999-12-09\", \"1999-12-10\", \"1999-12-11\", \"1999-12-12\", \"1999-12-13\", \"1999-12-14\", \"1999-12-15\", \"1999-12-16\", \"1999-12-17\", \"1999-12-18\", \"1999-12-19\", \"1999-12-20\", \"1999-12-21\", \"1999-12-22\", \"1999-12-23\", \"1999-12-24\", \"1999-12-25\", \"1999-12-26\", \"1999-12-27\", \"1999-12-28\", \"1999-12-29\", \"1999-12-30\", \"1999-12-31\", \"2000-01-01\", \"2000-01-02\", \"2000-01-03\", \"2000-01-04\", \"2000-01-05\", \"2000-01-06\", \"2000-01-07\", \"2000-01-08\", \"2000-01-09\", \"2000-01-10\", \"2000-01-11\", \"2000-01-12\", \"2000-01-13\", \"2000-01-14\", \"2000-01-15\", \"2000-01-16\", \"2000-01-17\", \"2000-01-18\", \"2000-01-19\", \"2000-01-20\", \"2000-01-21\", \"2000-01-22\", \"2000-01-23\", \"2000-01-24\", \"2000-01-25\", \"2000-01-26\", \"2000-01-27\", \"2000-01-28\", \"2000-01-29\", \"2000-01-30\", \"2000-01-31\", \"2000-02-01\", \"2000-02-02\", \"2000-02-03\", \"2000-02-04\", \"2000-02-05\", \"2000-02-06\", \"2000-02-07\", \"2000-02-08\", \"2000-02-09\", \"2000-02-10\", \"2000-02-11\", \"2000-02-12\", \"2000-02-13\", \"2000-02-14\", \"2000-02-15\", \"2000-02-16\", \"2000-02-17\", \"2000-02-18\", \"2000-02-19\", \"2000-02-20\", \"2000-02-21\", \"2000-02-22\", \"2000-02-23\", \"2000-02-24\", \"2000-02-25\", \"2000-02-26\", \"2000-02-27\", \"2000-02-28\", \"2000-02-29\", \"2000-03-01\", \"2000-03-02\", \"2000-03-03\", \"2000-03-04\", \"2000-03-05\", \"2000-03-06\", \"2000-03-07\", \"2000-03-08\", \"2000-03-09\", \"2000-03-10\", \"2000-03-11\", \"2000-03-12\", \"2000-03-13\", \"2000-03-14\", \"2000-03-15\", \"2000-03-16\", \"2000-03-17\", \"2000-03-18\", \"2000-03-19\", \"2000-03-20\", \"2000-03-21\", \"2000-03-22\", \"2000-03-23\", \"2000-03-24\", \"2000-03-25\", \"2000-03-26\", \"2000-03-27\", \"2000-03-28\", \"2000-03-29\", \"2000-03-30\", \"2000-03-31\", \"2000-04-01\", \"2000-04-02\", \"2000-04-03\", \"2000-04-04\", \"2000-04-05\", \"2000-04-06\", \"2000-04-07\", \"2000-04-08\", \"2000-04-09\", \"2000-04-10\", \"2000-04-11\", \"2000-04-12\", \"2000-04-13\", \"2000-04-14\", \"2000-04-15\", \"2000-04-16\", \"2000-04-17\", \"2000-04-18\", \"2000-04-19\", \"2000-04-20\", \"2000-04-21\", \"2000-04-22\", \"2000-04-23\", \"2000-04-24\", \"2000-04-25\", \"2000-04-26\", \"2000-04-27\", \"2000-04-28\", \"2000-04-29\", \"2000-04-30\", \"2000-05-01\", \"2000-05-02\", \"2000-05-03\", \"2000-05-04\", \"2000-05-05\", \"2000-05-06\", \"2000-05-07\", \"2000-05-08\", \"2000-05-09\", \"2000-05-10\", \"2000-05-11\", \"2000-05-12\", \"2000-05-13\", \"2000-05-14\", \"2000-05-15\", \"2000-05-16\", \"2000-05-17\", \"2000-05-18\", \"2000-05-19\", \"2000-05-20\", \"2000-05-21\", \"2000-05-22\", \"2000-05-23\", \"2000-05-24\", \"2000-05-25\", \"2000-05-26\", \"2000-05-27\", \"2000-05-28\", \"2000-05-29\", \"2000-05-30\", \"2000-05-31\", \"2000-06-01\", \"2000-06-02\", \"2000-06-03\", \"2000-06-04\", \"2000-06-05\", \"2000-06-06\", \"2000-06-07\", \"2000-06-08\", \"2000-06-09\", \"2000-06-10\", \"2000-06-11\", \"2000-06-12\", \"2000-06-13\", \"2000-06-14\", \"2000-06-15\", \"2000-06-16\", \"2000-06-17\", \"2000-06-18\", \"2000-06-19\", \"2000-06-20\", \"2000-06-21\", \"2000-06-22\", \"2000-06-23\", \"2000-06-24\", \"2000-06-25\", \"2000-06-26\", \"2000-06-27\", \"2000-06-28\", \"2000-06-29\", \"2000-06-30\", \"2000-07-01\", \"2000-07-02\", \"2000-07-03\", \"2000-07-04\", \"2000-07-05\", \"2000-07-06\", \"2000-07-07\", \"2000-07-08\", \"2000-07-09\", \"2000-07-10\", \"2000-07-11\", \"2000-07-12\", \"2000-07-13\", \"2000-07-14\", \"2000-07-15\", \"2000-07-16\", \"2000-07-17\", \"2000-07-18\", \"2000-07-19\", \"2000-07-20\", \"2000-07-21\", \"2000-07-22\", \"2000-07-23\", \"2000-07-24\", \"2000-07-25\", \"2000-07-26\", \"2000-07-27\", \"2000-07-28\", \"2000-07-29\", \"2000-07-30\", \"2000-07-31\", \"2000-08-01\", \"2000-08-02\", \"2000-08-03\", \"2000-08-04\", \"2000-08-05\", \"2000-08-06\", \"2000-08-07\", \"2000-08-08\", \"2000-08-09\", \"2000-08-10\", \"2000-08-11\", \"2000-08-12\", \"2000-08-13\", \"2000-08-14\", \"2000-08-15\", \"2000-08-16\", \"2000-08-17\", \"2000-08-18\", \"2000-08-19\", \"2000-08-20\", \"2000-08-21\", \"2000-08-22\", \"2000-08-23\", \"2000-08-24\", \"2000-08-25\", \"2000-08-26\", \"2000-08-27\", \"2000-08-28\", \"2000-08-29\", \"2000-08-30\", \"2000-08-31\", \"2000-09-01\", \"2000-09-02\", \"2000-09-03\", \"2000-09-04\", \"2000-09-05\", \"2000-09-06\", \"2000-09-07\", \"2000-09-08\", \"2000-09-09\", \"2000-09-10\", \"2000-09-11\", \"2000-09-12\", \"2000-09-13\", \"2000-09-14\", \"2000-09-15\", \"2000-09-16\", \"2000-09-17\", \"2000-09-18\", \"2000-09-19\", \"2000-09-20\", \"2000-09-21\", \"2000-09-22\", \"2000-09-23\", \"2000-09-24\", \"2000-09-25\", \"2000-09-26\", \"2000-09-27\", \"2000-09-28\", \"2000-09-29\", \"2000-09-30\", \"2000-10-01\", \"2000-10-02\", \"2000-10-03\", \"2000-10-04\", \"2000-10-05\", \"2000-10-06\", \"2000-10-07\", \"2000-10-08\", \"2000-10-09\", \"2000-10-10\", \"2000-10-11\", \"2000-10-12\", \"2000-10-13\", \"2000-10-14\", \"2000-10-15\", \"2000-10-16\", \"2000-10-17\", \"2000-10-18\", \"2000-10-19\", \"2000-10-20\", \"2000-10-21\", \"2000-10-22\", \"2000-10-23\", \"2000-10-24\", \"2000-10-25\", \"2000-10-26\", \"2000-10-27\", \"2000-10-28\", \"2000-10-29\", \"2000-10-30\", \"2000-10-31\", \"2000-11-01\", \"2000-11-02\", \"2000-11-03\", \"2000-11-04\", \"2000-11-05\", \"2000-11-06\", \"2000-11-07\", \"2000-11-08\", \"2000-11-09\", \"2000-11-10\", \"2000-11-11\", \"2000-11-12\", \"2000-11-13\", \"2000-11-14\", \"2000-11-15\", \"2000-11-16\", \"2000-11-17\", \"2000-11-18\", \"2000-11-19\", \"2000-11-20\", \"2000-11-21\", \"2000-11-22\", \"2000-11-23\", \"2000-11-24\", \"2000-11-25\", \"2000-11-26\", \"2000-11-27\", \"2000-11-28\", \"2000-11-29\", \"2000-11-30\", \"2000-12-01\", \"2000-12-02\", \"2000-12-03\", \"2000-12-04\", \"2000-12-05\", \"2000-12-06\", \"2000-12-07\", \"2000-12-08\", \"2000-12-09\", \"2000-12-10\", \"2000-12-11\", \"2000-12-12\", \"2000-12-13\", \"2000-12-14\", \"2000-12-15\", \"2000-12-16\", \"2000-12-17\", \"2000-12-18\", \"2000-12-19\", \"2000-12-20\", \"2000-12-21\", \"2000-12-22\", \"2000-12-23\", \"2000-12-24\", \"2000-12-25\", \"2000-12-26\", \"2000-12-27\", \"2000-12-28\", \"2000-12-29\", \"2000-12-30\", \"2000-12-31\", \"2001-01-01\", \"2001-01-02\", \"2001-01-03\", \"2001-01-04\", \"2001-01-05\", \"2001-01-06\", \"2001-01-07\", \"2001-01-08\", \"2001-01-09\", \"2001-01-10\", \"2001-01-11\", \"2001-01-12\", \"2001-01-13\", \"2001-01-14\", \"2001-01-15\", \"2001-01-16\", \"2001-01-17\", \"2001-01-18\", \"2001-01-19\", \"2001-01-20\", \"2001-01-21\", \"2001-01-22\", \"2001-01-23\", \"2001-01-24\", \"2001-01-25\", \"2001-01-26\", \"2001-01-27\", \"2001-01-28\", \"2001-01-29\", \"2001-01-30\", \"2001-01-31\", \"2001-02-01\", \"2001-02-02\", \"2001-02-03\", \"2001-02-04\", \"2001-02-05\", \"2001-02-06\", \"2001-02-07\", \"2001-02-08\", \"2001-02-09\", \"2001-02-10\", \"2001-02-11\", \"2001-02-12\", \"2001-02-13\", \"2001-02-14\", \"2001-02-15\", \"2001-02-16\", \"2001-02-17\", \"2001-02-18\", \"2001-02-19\", \"2001-02-20\", \"2001-02-21\", \"2001-02-22\", \"2001-02-23\", \"2001-02-24\", \"2001-02-25\", \"2001-02-26\", \"2001-02-27\", \"2001-02-28\", \"2001-03-01\", \"2001-03-02\", \"2001-03-03\", \"2001-03-04\", \"2001-03-05\", \"2001-03-06\", \"2001-03-07\", \"2001-03-08\", \"2001-03-09\", \"2001-03-10\", \"2001-03-11\", \"2001-03-12\", \"2001-03-13\", \"2001-03-14\", \"2001-03-15\", \"2001-03-16\", \"2001-03-17\", \"2001-03-18\", \"2001-03-19\", \"2001-03-20\", \"2001-03-21\", \"2001-03-22\", \"2001-03-23\", \"2001-03-24\", \"2001-03-25\", \"2001-03-26\", \"2001-03-27\", \"2001-03-28\", \"2001-03-29\", \"2001-03-30\", \"2001-03-31\", \"2001-04-01\", \"2001-04-02\", \"2001-04-03\", \"2001-04-04\", \"2001-04-05\", \"2001-04-06\", \"2001-04-07\", \"2001-04-08\", \"2001-04-09\", \"2001-04-10\", \"2001-04-11\", \"2001-04-12\", \"2001-04-13\", \"2001-04-14\", \"2001-04-15\", \"2001-04-16\", \"2001-04-17\", \"2001-04-18\", \"2001-04-19\", \"2001-04-20\", \"2001-04-21\", \"2001-04-22\", \"2001-04-23\", \"2001-04-24\", \"2001-04-25\", \"2001-04-26\", \"2001-04-27\", \"2001-04-28\", \"2001-04-29\", \"2001-04-30\", \"2001-05-01\", \"2001-05-02\", \"2001-05-03\", \"2001-05-04\", \"2001-05-05\", \"2001-05-06\", \"2001-05-07\", \"2001-05-08\", \"2001-05-09\", \"2001-05-10\", \"2001-05-11\", \"2001-05-12\", \"2001-05-13\", \"2001-05-14\", \"2001-05-15\", \"2001-05-16\", \"2001-05-17\", \"2001-05-18\", \"2001-05-19\", \"2001-05-20\", \"2001-05-21\", \"2001-05-22\", \"2001-05-23\", \"2001-05-24\", \"2001-05-25\", \"2001-05-26\", \"2001-05-27\", \"2001-05-28\", \"2001-05-29\", \"2001-05-30\", \"2001-05-31\", \"2001-06-01\", \"2001-06-02\", \"2001-06-03\", \"2001-06-04\", \"2001-06-05\", \"2001-06-06\", \"2001-06-07\", \"2001-06-08\", \"2001-06-09\", \"2001-06-10\", \"2001-06-11\", \"2001-06-12\", \"2001-06-13\", \"2001-06-14\", \"2001-06-15\", \"2001-06-16\", \"2001-06-17\", \"2001-06-18\", \"2001-06-19\", \"2001-06-20\", \"2001-06-21\", \"2001-06-22\", \"2001-06-23\", \"2001-06-24\", \"2001-06-25\", \"2001-06-26\", \"2001-06-27\", \"2001-06-28\", \"2001-06-29\", \"2001-06-30\", \"2001-07-01\", \"2001-07-02\", \"2001-07-03\", \"2001-07-04\", \"2001-07-05\", \"2001-07-06\", \"2001-07-07\", \"2001-07-08\", \"2001-07-09\", \"2001-07-10\", \"2001-07-11\", \"2001-07-12\", \"2001-07-13\", \"2001-07-14\", \"2001-07-15\", \"2001-07-16\", \"2001-07-17\", \"2001-07-18\", \"2001-07-19\", \"2001-07-20\", \"2001-07-21\", \"2001-07-22\", \"2001-07-23\", \"2001-07-24\", \"2001-07-25\", \"2001-07-26\", \"2001-07-27\", \"2001-07-28\", \"2001-07-29\", \"2001-07-30\", \"2001-07-31\", \"2001-08-01\", \"2001-08-02\", \"2001-08-03\", \"2001-08-04\", \"2001-08-05\", \"2001-08-06\", \"2001-08-07\", \"2001-08-08\", \"2001-08-09\", \"2001-08-10\", \"2001-08-11\", \"2001-08-12\", \"2001-08-13\", \"2001-08-14\", \"2001-08-15\", \"2001-08-16\", \"2001-08-17\", \"2001-08-18\", \"2001-08-19\", \"2001-08-20\", \"2001-08-21\", \"2001-08-22\", \"2001-08-23\", \"2001-08-24\", \"2001-08-25\", \"2001-08-26\", \"2001-08-27\", \"2001-08-28\", \"2001-08-29\", \"2001-08-30\", \"2001-08-31\", \"2001-09-01\", \"2001-09-02\", \"2001-09-03\", \"2001-09-04\", \"2001-09-05\", \"2001-09-06\", \"2001-09-07\", \"2001-09-08\", \"2001-09-09\", \"2001-09-10\", \"2001-09-11\", \"2001-09-12\", \"2001-09-13\", \"2001-09-14\", \"2001-09-15\", \"2001-09-16\", \"2001-09-17\", \"2001-09-18\", \"2001-09-19\", \"2001-09-20\", \"2001-09-21\", \"2001-09-22\", \"2001-09-23\", \"2001-09-24\", \"2001-09-25\", \"2001-09-26\", \"2001-09-27\", \"2001-09-28\", \"2001-09-29\", \"2001-09-30\", \"2001-10-01\", \"2001-10-02\", \"2001-10-03\", \"2001-10-04\", \"2001-10-05\", \"2001-10-06\", \"2001-10-07\", \"2001-10-08\", \"2001-10-09\", \"2001-10-10\", \"2001-10-11\", \"2001-10-12\", \"2001-10-13\", \"2001-10-14\", \"2001-10-15\", \"2001-10-16\", \"2001-10-17\", \"2001-10-18\", \"2001-10-19\", \"2001-10-20\", \"2001-10-21\", \"2001-10-22\", \"2001-10-23\", \"2001-10-24\", \"2001-10-25\", \"2001-10-26\", \"2001-10-27\", \"2001-10-28\", \"2001-10-29\", \"2001-10-30\", \"2001-10-31\", \"2001-11-01\", \"2001-11-02\", \"2001-11-03\", \"2001-11-04\", \"2001-11-05\", \"2001-11-06\", \"2001-11-07\", \"2001-11-08\", \"2001-11-09\", \"2001-11-10\", \"2001-11-11\", \"2001-11-12\", \"2001-11-13\", \"2001-11-14\", \"2001-11-15\", \"2001-11-16\", \"2001-11-17\", \"2001-11-18\", \"2001-11-19\", \"2001-11-20\", \"2001-11-21\", \"2001-11-22\", \"2001-11-23\", \"2001-11-24\", \"2001-11-25\", \"2001-11-26\", \"2001-11-27\", \"2001-11-28\", \"2001-11-29\", \"2001-11-30\", \"2001-12-01\", \"2001-12-02\", \"2001-12-03\", \"2001-12-04\", \"2001-12-05\", \"2001-12-06\", \"2001-12-07\", \"2001-12-08\", \"2001-12-09\", \"2001-12-10\", \"2001-12-11\", \"2001-12-12\", \"2001-12-13\", \"2001-12-14\", \"2001-12-15\", \"2001-12-16\", \"2001-12-17\", \"2001-12-18\", \"2001-12-19\", \"2001-12-20\", \"2001-12-21\", \"2001-12-22\", \"2001-12-23\", \"2001-12-24\", \"2001-12-25\", \"2001-12-26\", \"2001-12-27\", \"2001-12-28\", \"2001-12-29\", \"2001-12-30\", \"2001-12-31\", \"2002-01-01\", \"2002-01-02\", \"2002-01-03\", \"2002-01-04\", \"2002-01-05\", \"2002-01-06\", \"2002-01-07\", \"2002-01-08\", \"2002-01-09\", \"2002-01-10\", \"2002-01-11\", \"2002-01-12\", \"2002-01-13\", \"2002-01-14\", \"2002-01-15\", \"2002-01-16\", \"2002-01-17\", \"2002-01-18\", \"2002-01-19\", \"2002-01-20\", \"2002-01-21\", \"2002-01-22\", \"2002-01-23\", \"2002-01-24\", \"2002-01-25\", \"2002-01-26\", \"2002-01-27\", \"2002-01-28\", \"2002-01-29\", \"2002-01-30\", \"2002-01-31\", \"2002-02-01\", \"2002-02-02\", \"2002-02-03\", \"2002-02-04\", \"2002-02-05\", \"2002-02-06\", \"2002-02-07\", \"2002-02-08\", \"2002-02-09\", \"2002-02-10\", \"2002-02-11\", \"2002-02-12\", \"2002-02-13\", \"2002-02-14\", \"2002-02-15\", \"2002-02-16\", \"2002-02-17\", \"2002-02-18\", \"2002-02-19\", \"2002-02-20\", \"2002-02-21\", \"2002-02-22\", \"2002-02-23\", \"2002-02-24\", \"2002-02-25\", \"2002-02-26\", \"2002-02-27\", \"2002-02-28\", \"2002-03-01\", \"2002-03-02\", \"2002-03-03\", \"2002-03-04\", \"2002-03-05\", \"2002-03-06\", \"2002-03-07\", \"2002-03-08\", \"2002-03-09\", \"2002-03-10\", \"2002-03-11\", \"2002-03-12\", \"2002-03-13\", \"2002-03-14\", \"2002-03-15\", \"2002-03-16\", \"2002-03-17\", \"2002-03-18\", \"2002-03-19\", \"2002-03-20\", \"2002-03-21\", \"2002-03-22\", \"2002-03-23\", \"2002-03-24\", \"2002-03-25\", \"2002-03-26\", \"2002-03-27\", \"2002-03-28\", \"2002-03-29\", \"2002-03-30\", \"2002-03-31\", \"2002-04-01\", \"2002-04-02\", \"2002-04-03\", \"2002-04-04\", \"2002-04-05\", \"2002-04-06\", \"2002-04-07\", \"2002-04-08\", \"2002-04-09\", \"2002-04-10\", \"2002-04-11\", \"2002-04-12\", \"2002-04-13\", \"2002-04-14\", \"2002-04-15\", \"2002-04-16\", \"2002-04-17\", \"2002-04-18\", \"2002-04-19\", \"2002-04-20\", \"2002-04-21\", \"2002-04-22\", \"2002-04-23\", \"2002-04-24\", \"2002-04-25\", \"2002-04-26\", \"2002-04-27\", \"2002-04-28\", \"2002-04-29\", \"2002-04-30\", \"2002-05-01\", \"2002-05-02\", \"2002-05-03\", \"2002-05-04\", \"2002-05-05\", \"2002-05-06\", \"2002-05-07\", \"2002-05-08\", \"2002-05-09\", \"2002-05-10\", \"2002-05-11\", \"2002-05-12\", \"2002-05-13\", \"2002-05-14\", \"2002-05-15\", \"2002-05-16\", \"2002-05-17\", \"2002-05-18\", \"2002-05-19\", \"2002-05-20\", \"2002-05-21\", \"2002-05-22\", \"2002-05-23\", \"2002-05-24\", \"2002-05-25\", \"2002-05-26\", \"2002-05-27\", \"2002-05-28\", \"2002-05-29\", \"2002-05-30\", \"2002-05-31\", \"2002-06-01\", \"2002-06-02\", \"2002-06-03\", \"2002-06-04\", \"2002-06-05\", \"2002-06-06\", \"2002-06-07\", \"2002-06-08\", \"2002-06-09\", \"2002-06-10\", \"2002-06-11\", \"2002-06-12\", \"2002-06-13\", \"2002-06-14\", \"2002-06-15\", \"2002-06-16\", \"2002-06-17\", \"2002-06-18\", \"2002-06-19\", \"2002-06-20\", \"2002-06-21\", \"2002-06-22\", \"2002-06-23\", \"2002-06-24\", \"2002-06-25\", \"2002-06-26\", \"2002-06-27\", \"2002-06-28\", \"2002-06-29\", \"2002-06-30\", \"2002-07-01\", \"2002-07-02\", \"2002-07-03\", \"2002-07-04\", \"2002-07-05\", \"2002-07-06\", \"2002-07-07\", \"2002-07-08\", \"2002-07-09\", \"2002-07-10\", \"2002-07-11\", \"2002-07-12\", \"2002-07-13\", \"2002-07-14\", \"2002-07-15\", \"2002-07-16\", \"2002-07-17\", \"2002-07-18\", \"2002-07-19\", \"2002-07-20\", \"2002-07-21\", \"2002-07-22\", \"2002-07-23\", \"2002-07-24\", \"2002-07-25\", \"2002-07-26\", \"2002-07-27\", \"2002-07-28\", \"2002-07-29\", \"2002-07-30\", \"2002-07-31\", \"2002-08-01\", \"2002-08-02\", \"2002-08-03\", \"2002-08-04\", \"2002-08-05\", \"2002-08-06\", \"2002-08-07\", \"2002-08-08\", \"2002-08-09\", \"2002-08-10\", \"2002-08-11\", \"2002-08-12\", \"2002-08-13\", \"2002-08-14\", \"2002-08-15\", \"2002-08-16\", \"2002-08-17\", \"2002-08-18\", \"2002-08-19\", \"2002-08-20\", \"2002-08-21\", \"2002-08-22\", \"2002-08-23\", \"2002-08-24\", \"2002-08-25\", \"2002-08-26\", \"2002-08-27\", \"2002-08-28\", \"2002-08-29\", \"2002-08-30\", \"2002-08-31\", \"2002-09-01\", \"2002-09-02\", \"2002-09-03\", \"2002-09-04\", \"2002-09-05\", \"2002-09-06\", \"2002-09-07\", \"2002-09-08\", \"2002-09-09\", \"2002-09-10\", \"2002-09-11\", \"2002-09-12\", \"2002-09-13\", \"2002-09-14\", \"2002-09-15\", \"2002-09-16\", \"2002-09-17\", \"2002-09-18\", \"2002-09-19\", \"2002-09-20\", \"2002-09-21\", \"2002-09-22\", \"2002-09-23\", \"2002-09-24\", \"2002-09-25\", \"2002-09-26\", \"2002-09-27\", \"2002-09-28\", \"2002-09-29\", \"2002-09-30\", \"2002-10-01\", \"2002-10-02\", \"2002-10-03\", \"2002-10-04\", \"2002-10-05\", \"2002-10-06\", \"2002-10-07\", \"2002-10-08\", \"2002-10-09\", \"2002-10-10\", \"2002-10-11\", \"2002-10-12\", \"2002-10-13\", \"2002-10-14\", \"2002-10-15\", \"2002-10-16\", \"2002-10-17\", \"2002-10-18\", \"2002-10-19\", \"2002-10-20\", \"2002-10-21\", \"2002-10-22\", \"2002-10-23\", \"2002-10-24\", \"2002-10-25\", \"2002-10-26\", \"2002-10-27\", \"2002-10-28\", \"2002-10-29\", \"2002-10-30\", \"2002-10-31\", \"2002-11-01\", \"2002-11-02\", \"2002-11-03\", \"2002-11-04\", \"2002-11-05\", \"2002-11-06\", \"2002-11-07\", \"2002-11-08\", \"2002-11-09\", \"2002-11-10\", \"2002-11-11\", \"2002-11-12\", \"2002-11-13\", \"2002-11-14\", \"2002-11-15\", \"2002-11-16\", \"2002-11-17\", \"2002-11-18\", \"2002-11-19\", \"2002-11-20\", \"2002-11-21\", \"2002-11-22\", \"2002-11-23\", \"2002-11-24\", \"2002-11-25\", \"2002-11-26\", \"2002-11-27\", \"2002-11-28\", \"2002-11-29\", \"2002-11-30\", \"2002-12-01\", \"2002-12-02\", \"2002-12-03\", \"2002-12-04\", \"2002-12-05\", \"2002-12-06\", \"2002-12-07\", \"2002-12-08\", \"2002-12-09\", \"2002-12-10\", \"2002-12-11\", \"2002-12-12\", \"2002-12-13\", \"2002-12-14\", \"2002-12-15\", \"2002-12-16\", \"2002-12-17\", \"2002-12-18\", \"2002-12-19\", \"2002-12-20\", \"2002-12-21\", \"2002-12-22\", \"2002-12-23\", \"2002-12-24\", \"2002-12-25\", \"2002-12-26\", \"2002-12-27\", \"2002-12-28\", \"2002-12-29\", \"2002-12-30\", \"2002-12-31\", \"2003-01-01\", \"2003-01-02\", \"2003-01-03\", \"2003-01-04\", \"2003-01-05\", \"2003-01-06\", \"2003-01-07\", \"2003-01-08\", \"2003-01-09\", \"2003-01-10\", \"2003-01-11\", \"2003-01-12\", \"2003-01-13\", \"2003-01-14\", \"2003-01-15\", \"2003-01-16\", \"2003-01-17\", \"2003-01-18\", \"2003-01-19\", \"2003-01-20\", \"2003-01-21\", \"2003-01-22\", \"2003-01-23\", \"2003-01-24\", \"2003-01-25\", \"2003-01-26\", \"2003-01-27\", \"2003-01-28\", \"2003-01-29\", \"2003-01-30\", \"2003-01-31\", \"2003-02-01\", \"2003-02-02\", \"2003-02-03\", \"2003-02-04\", \"2003-02-05\", \"2003-02-06\", \"2003-02-07\", \"2003-02-08\", \"2003-02-09\", \"2003-02-10\", \"2003-02-11\", \"2003-02-12\", \"2003-02-13\", \"2003-02-14\", \"2003-02-15\", \"2003-02-16\", \"2003-02-17\", \"2003-02-18\", \"2003-02-19\", \"2003-02-20\", \"2003-02-21\", \"2003-02-22\", \"2003-02-23\", \"2003-02-24\", \"2003-02-25\", \"2003-02-26\", \"2003-02-27\", \"2003-02-28\", \"2003-03-01\", \"2003-03-02\", \"2003-03-03\", \"2003-03-04\", \"2003-03-05\", \"2003-03-06\", \"2003-03-07\", \"2003-03-08\", \"2003-03-09\", \"2003-03-10\", \"2003-03-11\", \"2003-03-12\", \"2003-03-13\", \"2003-03-14\", \"2003-03-15\", \"2003-03-16\", \"2003-03-17\", \"2003-03-18\", \"2003-03-19\", \"2003-03-20\", \"2003-03-21\", \"2003-03-22\", \"2003-03-23\", \"2003-03-24\", \"2003-03-25\", \"2003-03-26\", \"2003-03-27\", \"2003-03-28\", \"2003-03-29\", \"2003-03-30\", \"2003-03-31\", \"2003-04-01\", \"2003-04-02\", \"2003-04-03\", \"2003-04-04\", \"2003-04-05\", \"2003-04-06\", \"2003-04-07\", \"2003-04-08\", \"2003-04-09\", \"2003-04-10\", \"2003-04-11\", \"2003-04-12\", \"2003-04-13\", \"2003-04-14\", \"2003-04-15\", \"2003-04-16\", \"2003-04-17\", \"2003-04-18\", \"2003-04-19\", \"2003-04-20\", \"2003-04-21\", \"2003-04-22\", \"2003-04-23\", \"2003-04-24\", \"2003-04-25\", \"2003-04-26\", \"2003-04-27\", \"2003-04-28\", \"2003-04-29\", \"2003-04-30\", \"2003-05-01\", \"2003-05-02\", \"2003-05-03\", \"2003-05-04\", \"2003-05-05\", \"2003-05-06\", \"2003-05-07\", \"2003-05-08\", \"2003-05-09\", \"2003-05-10\", \"2003-05-11\", \"2003-05-12\", \"2003-05-13\", \"2003-05-14\", \"2003-05-15\", \"2003-05-16\", \"2003-05-17\", \"2003-05-18\", \"2003-05-19\", \"2003-05-20\", \"2003-05-21\", \"2003-05-22\", \"2003-05-23\", \"2003-05-24\", \"2003-05-25\", \"2003-05-26\", \"2003-05-27\", \"2003-05-28\", \"2003-05-29\", \"2003-05-30\", \"2003-05-31\", \"2003-06-01\", \"2003-06-02\", \"2003-06-03\", \"2003-06-04\", \"2003-06-05\", \"2003-06-06\", \"2003-06-07\", \"2003-06-08\", \"2003-06-09\", \"2003-06-10\", \"2003-06-11\", \"2003-06-12\", \"2003-06-13\", \"2003-06-14\", \"2003-06-15\", \"2003-06-16\", \"2003-06-17\", \"2003-06-18\", \"2003-06-19\", \"2003-06-20\", \"2003-06-21\", \"2003-06-22\", \"2003-06-23\", \"2003-06-24\", \"2003-06-25\", \"2003-06-26\", \"2003-06-27\", \"2003-06-28\", \"2003-06-29\", \"2003-06-30\", \"2003-07-01\", \"2003-07-02\", \"2003-07-03\", \"2003-07-04\", \"2003-07-05\", \"2003-07-06\", \"2003-07-07\", \"2003-07-08\", \"2003-07-09\", \"2003-07-10\", \"2003-07-11\", \"2003-07-12\", \"2003-07-13\", \"2003-07-14\", \"2003-07-15\", \"2003-07-16\", \"2003-07-17\", \"2003-07-18\", \"2003-07-19\", \"2003-07-20\", \"2003-07-21\", \"2003-07-22\", \"2003-07-23\", \"2003-07-24\", \"2003-07-25\", \"2003-07-26\", \"2003-07-27\", \"2003-07-28\", \"2003-07-29\", \"2003-07-30\", \"2003-07-31\", \"2003-08-01\", \"2003-08-02\", \"2003-08-03\", \"2003-08-04\", \"2003-08-05\", \"2003-08-06\", \"2003-08-07\", \"2003-08-08\", \"2003-08-09\", \"2003-08-10\", \"2003-08-11\", \"2003-08-12\", \"2003-08-13\", \"2003-08-14\", \"2003-08-15\", \"2003-08-16\", \"2003-08-17\", \"2003-08-18\", \"2003-08-19\", \"2003-08-20\", \"2003-08-21\", \"2003-08-22\", \"2003-08-23\", \"2003-08-24\", \"2003-08-25\", \"2003-08-26\", \"2003-08-27\", \"2003-08-28\", \"2003-08-29\", \"2003-08-30\", \"2003-08-31\", \"2003-09-01\", \"2003-09-02\", \"2003-09-03\", \"2003-09-04\", \"2003-09-05\", \"2003-09-06\", \"2003-09-07\", \"2003-09-08\", \"2003-09-09\", \"2003-09-10\", \"2003-09-11\", \"2003-09-12\", \"2003-09-13\", \"2003-09-14\", \"2003-09-15\", \"2003-09-16\", \"2003-09-17\", \"2003-09-18\", \"2003-09-19\", \"2003-09-20\", \"2003-09-21\", \"2003-09-22\", \"2003-09-23\", \"2003-09-24\", \"2003-09-25\", \"2003-09-26\", \"2003-09-27\", \"2003-09-28\", \"2003-09-29\", \"2003-09-30\", \"2003-10-01\", \"2003-10-02\", \"2003-10-03\", \"2003-10-04\", \"2003-10-05\", \"2003-10-06\", \"2003-10-07\", \"2003-10-08\", \"2003-10-09\", \"2003-10-10\", \"2003-10-11\", \"2003-10-12\", \"2003-10-13\", \"2003-10-14\", \"2003-10-15\", \"2003-10-16\", \"2003-10-17\", \"2003-10-18\", \"2003-10-19\", \"2003-10-20\", \"2003-10-21\", \"2003-10-22\", \"2003-10-23\", \"2003-10-24\", \"2003-10-25\", \"2003-10-26\", \"2003-10-27\", \"2003-10-28\", \"2003-10-29\", \"2003-10-30\", \"2003-10-31\", \"2003-11-01\", \"2003-11-02\", \"2003-11-03\", \"2003-11-04\", \"2003-11-05\", \"2003-11-06\", \"2003-11-07\", \"2003-11-08\", \"2003-11-09\", \"2003-11-10\", \"2003-11-11\", \"2003-11-12\", \"2003-11-13\", \"2003-11-14\", \"2003-11-15\", \"2003-11-16\", \"2003-11-17\", \"2003-11-18\", \"2003-11-19\", \"2003-11-20\", \"2003-11-21\", \"2003-11-22\", \"2003-11-23\", \"2003-11-24\", \"2003-11-25\", \"2003-11-26\", \"2003-11-27\", \"2003-11-28\", \"2003-11-29\", \"2003-11-30\", \"2003-12-01\", \"2003-12-02\", \"2003-12-03\", \"2003-12-04\", \"2003-12-05\", \"2003-12-06\", \"2003-12-07\", \"2003-12-08\", \"2003-12-09\", \"2003-12-10\", \"2003-12-11\", \"2003-12-12\", \"2003-12-13\", \"2003-12-14\", \"2003-12-15\", \"2003-12-16\", \"2003-12-17\", \"2003-12-18\", \"2003-12-19\", \"2003-12-20\", \"2003-12-21\", \"2003-12-22\", \"2003-12-23\", \"2003-12-24\", \"2003-12-25\", \"2003-12-26\", \"2003-12-27\", \"2003-12-28\", \"2003-12-29\", \"2003-12-30\", \"2003-12-31\", \"2004-01-01\", \"2004-01-02\", \"2004-01-03\", \"2004-01-04\", \"2004-01-05\", \"2004-01-06\", \"2004-01-07\", \"2004-01-08\", \"2004-01-09\", \"2004-01-10\", \"2004-01-11\", \"2004-01-12\", \"2004-01-13\", \"2004-01-14\", \"2004-01-15\", \"2004-01-16\", \"2004-01-17\", \"2004-01-18\", \"2004-01-19\", \"2004-01-20\", \"2004-01-21\", \"2004-01-22\", \"2004-01-23\", \"2004-01-24\", \"2004-01-25\", \"2004-01-26\", \"2004-01-27\", \"2004-01-28\", \"2004-01-29\", \"2004-01-30\", \"2004-01-31\", \"2004-02-01\", \"2004-02-02\", \"2004-02-03\", \"2004-02-04\", \"2004-02-05\", \"2004-02-06\", \"2004-02-07\", \"2004-02-08\", \"2004-02-09\", \"2004-02-10\", \"2004-02-11\", \"2004-02-12\", \"2004-02-13\", \"2004-02-14\", \"2004-02-15\", \"2004-02-16\", \"2004-02-17\", \"2004-02-18\", \"2004-02-19\", \"2004-02-20\", \"2004-02-21\", \"2004-02-22\", \"2004-02-23\", \"2004-02-24\", \"2004-02-25\", \"2004-02-26\", \"2004-02-27\", \"2004-02-28\", \"2004-02-29\", \"2004-03-01\", \"2004-03-02\", \"2004-03-03\", \"2004-03-04\", \"2004-03-05\", \"2004-03-06\", \"2004-03-07\", \"2004-03-08\", \"2004-03-09\", \"2004-03-10\", \"2004-03-11\", \"2004-03-12\", \"2004-03-13\", \"2004-03-14\", \"2004-03-15\", \"2004-03-16\", \"2004-03-17\", \"2004-03-18\", \"2004-03-19\", \"2004-03-20\", \"2004-03-21\", \"2004-03-22\", \"2004-03-23\", \"2004-03-24\", \"2004-03-25\", \"2004-03-26\", \"2004-03-27\", \"2004-03-28\", \"2004-03-29\", \"2004-03-30\", \"2004-03-31\", \"2004-04-01\", \"2004-04-02\", \"2004-04-03\", \"2004-04-04\", \"2004-04-05\", \"2004-04-06\", \"2004-04-07\", \"2004-04-08\", \"2004-04-09\", \"2004-04-10\", \"2004-04-11\", \"2004-04-12\", \"2004-04-13\", \"2004-04-14\", \"2004-04-15\", \"2004-04-16\", \"2004-04-17\", \"2004-04-18\", \"2004-04-19\", \"2004-04-20\", \"2004-04-21\", \"2004-04-22\", \"2004-04-23\", \"2004-04-24\", \"2004-04-25\", \"2004-04-26\", \"2004-04-27\", \"2004-04-28\", \"2004-04-29\", \"2004-04-30\", \"2004-05-01\", \"2004-05-02\", \"2004-05-03\", \"2004-05-04\", \"2004-05-05\", \"2004-05-06\", \"2004-05-07\", \"2004-05-08\", \"2004-05-09\", \"2004-05-10\", \"2004-05-11\", \"2004-05-12\", \"2004-05-13\", \"2004-05-14\", \"2004-05-15\", \"2004-05-16\", \"2004-05-17\", \"2004-05-18\", \"2004-05-19\", \"2004-05-20\", \"2004-05-21\", \"2004-05-22\", \"2004-05-23\", \"2004-05-24\", \"2004-05-25\", \"2004-05-26\", \"2004-05-27\", \"2004-05-28\", \"2004-05-29\", \"2004-05-30\", \"2004-05-31\", \"2004-06-01\", \"2004-06-02\", \"2004-06-03\", \"2004-06-04\", \"2004-06-05\", \"2004-06-06\", \"2004-06-07\", \"2004-06-08\", \"2004-06-09\", \"2004-06-10\", \"2004-06-11\", \"2004-06-12\", \"2004-06-13\", \"2004-06-14\", \"2004-06-15\", \"2004-06-16\", \"2004-06-17\", \"2004-06-18\", \"2004-06-19\", \"2004-06-20\", \"2004-06-21\", \"2004-06-22\", \"2004-06-23\", \"2004-06-24\", \"2004-06-25\", \"2004-06-26\", \"2004-06-27\", \"2004-06-28\", \"2004-06-29\", \"2004-06-30\", \"2004-07-01\", \"2004-07-02\", \"2004-07-03\", \"2004-07-04\", \"2004-07-05\", \"2004-07-06\", \"2004-07-07\", \"2004-07-08\", \"2004-07-09\", \"2004-07-10\", \"2004-07-11\", \"2004-07-12\", \"2004-07-13\", \"2004-07-14\", \"2004-07-15\", \"2004-07-16\", \"2004-07-17\", \"2004-07-18\", \"2004-07-19\", \"2004-07-20\", \"2004-07-21\", \"2004-07-22\", \"2004-07-23\", \"2004-07-24\", \"2004-07-25\", \"2004-07-26\", \"2004-07-27\", \"2004-07-28\", \"2004-07-29\", \"2004-07-30\", \"2004-07-31\", \"2004-08-01\", \"2004-08-02\", \"2004-08-03\", \"2004-08-04\", \"2004-08-05\", \"2004-08-06\", \"2004-08-07\", \"2004-08-08\", \"2004-08-09\", \"2004-08-10\", \"2004-08-11\", \"2004-08-12\", \"2004-08-13\", \"2004-08-14\", \"2004-08-15\", \"2004-08-16\", \"2004-08-17\", \"2004-08-18\", \"2004-08-19\", \"2004-08-20\", \"2004-08-21\", \"2004-08-22\", \"2004-08-23\", \"2004-08-24\", \"2004-08-25\", \"2004-08-26\", \"2004-08-27\", \"2004-08-28\", \"2004-08-29\", \"2004-08-30\", \"2004-08-31\", \"2004-09-01\", \"2004-09-02\", \"2004-09-03\", \"2004-09-04\", \"2004-09-05\", \"2004-09-06\", \"2004-09-07\", \"2004-09-08\", \"2004-09-09\", \"2004-09-10\", \"2004-09-11\", \"2004-09-12\", \"2004-09-13\", \"2004-09-14\", \"2004-09-15\", \"2004-09-16\", \"2004-09-17\", \"2004-09-18\", \"2004-09-19\", \"2004-09-20\", \"2004-09-21\", \"2004-09-22\", \"2004-09-23\", \"2004-09-24\", \"2004-09-25\", \"2004-09-26\", \"2004-09-27\", \"2004-09-28\", \"2004-09-29\", \"2004-09-30\", \"2004-10-01\", \"2004-10-02\", \"2004-10-03\", \"2004-10-04\", \"2004-10-05\", \"2004-10-06\", \"2004-10-07\", \"2004-10-08\", \"2004-10-09\", \"2004-10-10\", \"2004-10-11\", \"2004-10-12\", \"2004-10-13\", \"2004-10-14\", \"2004-10-15\", \"2004-10-16\", \"2004-10-17\", \"2004-10-18\", \"2004-10-19\", \"2004-10-20\", \"2004-10-21\", \"2004-10-22\", \"2004-10-23\", \"2004-10-24\", \"2004-10-25\", \"2004-10-26\", \"2004-10-27\", \"2004-10-28\", \"2004-10-29\", \"2004-10-30\", \"2004-10-31\", \"2004-11-01\", \"2004-11-02\", \"2004-11-03\", \"2004-11-04\", \"2004-11-05\", \"2004-11-06\", \"2004-11-07\", \"2004-11-08\", \"2004-11-09\", \"2004-11-10\", \"2004-11-11\", \"2004-11-12\", \"2004-11-13\", \"2004-11-14\", \"2004-11-15\", \"2004-11-16\", \"2004-11-17\", \"2004-11-18\", \"2004-11-19\", \"2004-11-20\", \"2004-11-21\", \"2004-11-22\", \"2004-11-23\", \"2004-11-24\", \"2004-11-25\", \"2004-11-26\", \"2004-11-27\", \"2004-11-28\", \"2004-11-29\", \"2004-11-30\", \"2004-12-01\", \"2004-12-02\", \"2004-12-03\", \"2004-12-04\", \"2004-12-05\", \"2004-12-06\", \"2004-12-07\", \"2004-12-08\", \"2004-12-09\", \"2004-12-10\", \"2004-12-11\", \"2004-12-12\", \"2004-12-13\", \"2004-12-14\", \"2004-12-15\", \"2004-12-16\", \"2004-12-17\", \"2004-12-18\", \"2004-12-19\", \"2004-12-20\", \"2004-12-21\", \"2004-12-22\", \"2004-12-23\", \"2004-12-24\", \"2004-12-25\", \"2004-12-26\", \"2004-12-27\", \"2004-12-28\", \"2004-12-29\", \"2004-12-30\", \"2004-12-31\", \"2005-01-01\", \"2005-01-02\", \"2005-01-03\", \"2005-01-04\", \"2005-01-05\", \"2005-01-06\", \"2005-01-07\", \"2005-01-08\", \"2005-01-09\", \"2005-01-10\", \"2005-01-11\", \"2005-01-12\", \"2005-01-13\", \"2005-01-14\", \"2005-01-15\", \"2005-01-16\", \"2005-01-17\", \"2005-01-18\", \"2005-01-19\", \"2005-01-20\", \"2005-01-21\", \"2005-01-22\", \"2005-01-23\", \"2005-01-24\", \"2005-01-25\", \"2005-01-26\", \"2005-01-27\", \"2005-01-28\", \"2005-01-29\", \"2005-01-30\", \"2005-01-31\", \"2005-02-01\", \"2005-02-02\", \"2005-02-03\", \"2005-02-04\", \"2005-02-05\", \"2005-02-06\", \"2005-02-07\", \"2005-02-08\", \"2005-02-09\", \"2005-02-10\", \"2005-02-11\", \"2005-02-12\", \"2005-02-13\", \"2005-02-14\", \"2005-02-15\", \"2005-02-16\", \"2005-02-17\", \"2005-02-18\", \"2005-02-19\", \"2005-02-20\", \"2005-02-21\", \"2005-02-22\", \"2005-02-23\", \"2005-02-24\", \"2005-02-25\", \"2005-02-26\", \"2005-02-27\", \"2005-02-28\", \"2005-03-01\", \"2005-03-02\", \"2005-03-03\", \"2005-03-04\", \"2005-03-05\", \"2005-03-06\", \"2005-03-07\", \"2005-03-08\", \"2005-03-09\", \"2005-03-10\", \"2005-03-11\", \"2005-03-12\", \"2005-03-13\", \"2005-03-14\", \"2005-03-15\", \"2005-03-16\", \"2005-03-17\", \"2005-03-18\", \"2005-03-19\", \"2005-03-20\", \"2005-03-21\", \"2005-03-22\", \"2005-03-23\", \"2005-03-24\", \"2005-03-25\", \"2005-03-26\", \"2005-03-27\", \"2005-03-28\", \"2005-03-29\", \"2005-03-30\", \"2005-03-31\", \"2005-04-01\", \"2005-04-02\", \"2005-04-03\", \"2005-04-04\", \"2005-04-05\", \"2005-04-06\", \"2005-04-07\", \"2005-04-08\", \"2005-04-09\", \"2005-04-10\", \"2005-04-11\", \"2005-04-12\", \"2005-04-13\", \"2005-04-14\", \"2005-04-15\", \"2005-04-16\", \"2005-04-17\", \"2005-04-18\", \"2005-04-19\", \"2005-04-20\", \"2005-04-21\", \"2005-04-22\", \"2005-04-23\", \"2005-04-24\", \"2005-04-25\", \"2005-04-26\", \"2005-04-27\", \"2005-04-28\", \"2005-04-29\", \"2005-04-30\", \"2005-05-01\", \"2005-05-02\", \"2005-05-03\", \"2005-05-04\", \"2005-05-05\", \"2005-05-06\", \"2005-05-07\", \"2005-05-08\", \"2005-05-09\", \"2005-05-10\", \"2005-05-11\", \"2005-05-12\", \"2005-05-13\", \"2005-05-14\", \"2005-05-15\", \"2005-05-16\", \"2005-05-17\", \"2005-05-18\", \"2005-05-19\", \"2005-05-20\", \"2005-05-21\", \"2005-05-22\", \"2005-05-23\", \"2005-05-24\", \"2005-05-25\", \"2005-05-26\", \"2005-05-27\", \"2005-05-28\", \"2005-05-29\", \"2005-05-30\", \"2005-05-31\", \"2005-06-01\", \"2005-06-02\", \"2005-06-03\", \"2005-06-04\", \"2005-06-05\", \"2005-06-06\", \"2005-06-07\", \"2005-06-08\", \"2005-06-09\", \"2005-06-10\", \"2005-06-11\", \"2005-06-12\", \"2005-06-13\", \"2005-06-14\", \"2005-06-15\", \"2005-06-16\", \"2005-06-17\", \"2005-06-18\", \"2005-06-19\", \"2005-06-20\", \"2005-06-21\", \"2005-06-22\", \"2005-06-23\", \"2005-06-24\", \"2005-06-25\", \"2005-06-26\", \"2005-06-27\", \"2005-06-28\", \"2005-06-29\", \"2005-06-30\", \"2005-07-01\", \"2005-07-02\", \"2005-07-03\", \"2005-07-04\", \"2005-07-05\", \"2005-07-06\", \"2005-07-07\", \"2005-07-08\", \"2005-07-09\", \"2005-07-10\", \"2005-07-11\", \"2005-07-12\", \"2005-07-13\", \"2005-07-14\", \"2005-07-15\", \"2005-07-16\", \"2005-07-17\", \"2005-07-18\", \"2005-07-19\", \"2005-07-20\", \"2005-07-21\", \"2005-07-22\", \"2005-07-23\", \"2005-07-24\", \"2005-07-25\", \"2005-07-26\", \"2005-07-27\", \"2005-07-28\", \"2005-07-29\", \"2005-07-30\", \"2005-07-31\", \"2005-08-01\", \"2005-08-02\", \"2005-08-03\", \"2005-08-04\", \"2005-08-05\", \"2005-08-06\", \"2005-08-07\", \"2005-08-08\", \"2005-08-09\", \"2005-08-10\", \"2005-08-11\", \"2005-08-12\", \"2005-08-13\", \"2005-08-14\", \"2005-08-15\", \"2005-08-16\", \"2005-08-17\", \"2005-08-18\", \"2005-08-19\", \"2005-08-20\", \"2005-08-21\", \"2005-08-22\", \"2005-08-23\", \"2005-08-24\", \"2005-08-25\", \"2005-08-26\", \"2005-08-27\", \"2005-08-28\", \"2005-08-29\", \"2005-08-30\", \"2005-08-31\", \"2005-09-01\", \"2005-09-02\", \"2005-09-03\", \"2005-09-04\", \"2005-09-05\", \"2005-09-06\", \"2005-09-07\", \"2005-09-08\", \"2005-09-09\", \"2005-09-10\", \"2005-09-11\", \"2005-09-12\", \"2005-09-13\", \"2005-09-14\", \"2005-09-15\", \"2005-09-16\", \"2005-09-17\", \"2005-09-18\", \"2005-09-19\", \"2005-09-20\", \"2005-09-21\", \"2005-09-22\", \"2005-09-23\", \"2005-09-24\", \"2005-09-25\", \"2005-09-26\", \"2005-09-27\", \"2005-09-28\", \"2005-09-29\", \"2005-09-30\", \"2005-10-01\", \"2005-10-02\", \"2005-10-03\", \"2005-10-04\", \"2005-10-05\", \"2005-10-06\", \"2005-10-07\", \"2005-10-08\", \"2005-10-09\", \"2005-10-10\", \"2005-10-11\", \"2005-10-12\", \"2005-10-13\", \"2005-10-14\", \"2005-10-15\", \"2005-10-16\", \"2005-10-17\", \"2005-10-18\", \"2005-10-19\", \"2005-10-20\", \"2005-10-21\", \"2005-10-22\", \"2005-10-23\", \"2005-10-24\", \"2005-10-25\", \"2005-10-26\", \"2005-10-27\", \"2005-10-28\", \"2005-10-29\", \"2005-10-30\", \"2005-10-31\", \"2005-11-01\", \"2005-11-02\", \"2005-11-03\", \"2005-11-04\", \"2005-11-05\", \"2005-11-06\", \"2005-11-07\", \"2005-11-08\", \"2005-11-09\", \"2005-11-10\", \"2005-11-11\", \"2005-11-12\", \"2005-11-13\", \"2005-11-14\", \"2005-11-15\", \"2005-11-16\", \"2005-11-17\", \"2005-11-18\", \"2005-11-19\", \"2005-11-20\", \"2005-11-21\", \"2005-11-22\", \"2005-11-23\", \"2005-11-24\", \"2005-11-25\", \"2005-11-26\", \"2005-11-27\", \"2005-11-28\", \"2005-11-29\", \"2005-11-30\", \"2005-12-01\", \"2005-12-02\", \"2005-12-03\", \"2005-12-04\", \"2005-12-05\", \"2005-12-06\", \"2005-12-07\", \"2005-12-08\", \"2005-12-09\", \"2005-12-10\", \"2005-12-11\", \"2005-12-12\", \"2005-12-13\", \"2005-12-14\", \"2005-12-15\", \"2005-12-16\", \"2005-12-17\", \"2005-12-18\", \"2005-12-19\", \"2005-12-20\", \"2005-12-21\", \"2005-12-22\", \"2005-12-23\", \"2005-12-24\", \"2005-12-25\", \"2005-12-26\", \"2005-12-27\", \"2005-12-28\", \"2005-12-29\", \"2005-12-30\", \"2005-12-31\", \"2006-01-01\", \"2006-01-02\", \"2006-01-03\", \"2006-01-04\", \"2006-01-05\", \"2006-01-06\", \"2006-01-07\", \"2006-01-08\", \"2006-01-09\", \"2006-01-10\", \"2006-01-11\", \"2006-01-12\", \"2006-01-13\", \"2006-01-14\", \"2006-01-15\", \"2006-01-16\", \"2006-01-17\", \"2006-01-18\", \"2006-01-19\", \"2006-01-20\", \"2006-01-21\", \"2006-01-22\", \"2006-01-23\", \"2006-01-24\", \"2006-01-25\", \"2006-01-26\", \"2006-01-27\", \"2006-01-28\", \"2006-01-29\", \"2006-01-30\", \"2006-01-31\", \"2006-02-01\", \"2006-02-02\", \"2006-02-03\", \"2006-02-04\", \"2006-02-05\", \"2006-02-06\", \"2006-02-07\", \"2006-02-08\", \"2006-02-09\", \"2006-02-10\", \"2006-02-11\", \"2006-02-12\", \"2006-02-13\", \"2006-02-14\", \"2006-02-15\", \"2006-02-16\", \"2006-02-17\", \"2006-02-18\", \"2006-02-19\", \"2006-02-20\", \"2006-02-21\", \"2006-02-22\", \"2006-02-23\", \"2006-02-24\", \"2006-02-25\", \"2006-02-26\", \"2006-02-27\", \"2006-02-28\", \"2006-03-01\", \"2006-03-02\", \"2006-03-03\", \"2006-03-04\", \"2006-03-05\", \"2006-03-06\", \"2006-03-07\", \"2006-03-08\", \"2006-03-09\", \"2006-03-10\", \"2006-03-11\", \"2006-03-12\", \"2006-03-13\", \"2006-03-14\", \"2006-03-15\", \"2006-03-16\", \"2006-03-17\", \"2006-03-18\", \"2006-03-19\", \"2006-03-20\", \"2006-03-21\", \"2006-03-22\", \"2006-03-23\", \"2006-03-24\", \"2006-03-25\", \"2006-03-26\", \"2006-03-27\", \"2006-03-28\", \"2006-03-29\", \"2006-03-30\", \"2006-03-31\", \"2006-04-01\", \"2006-04-02\", \"2006-04-03\", \"2006-04-04\", \"2006-04-05\", \"2006-04-06\", \"2006-04-07\", \"2006-04-08\", \"2006-04-09\", \"2006-04-10\", \"2006-04-11\", \"2006-04-12\", \"2006-04-13\", \"2006-04-14\", \"2006-04-15\", \"2006-04-16\", \"2006-04-17\", \"2006-04-18\", \"2006-04-19\", \"2006-04-20\", \"2006-04-21\", \"2006-04-22\", \"2006-04-23\", \"2006-04-24\", \"2006-04-25\", \"2006-04-26\", \"2006-04-27\", \"2006-04-28\", \"2006-04-29\", \"2006-04-30\", \"2006-05-01\", \"2006-05-02\", \"2006-05-03\", \"2006-05-04\", \"2006-05-05\", \"2006-05-06\", \"2006-05-07\", \"2006-05-08\", \"2006-05-09\", \"2006-05-10\", \"2006-05-11\", \"2006-05-12\", \"2006-05-13\", \"2006-05-14\", \"2006-05-15\", \"2006-05-16\", \"2006-05-17\", \"2006-05-18\", \"2006-05-19\", \"2006-05-20\", \"2006-05-21\", \"2006-05-22\", \"2006-05-23\", \"2006-05-24\", \"2006-05-25\", \"2006-05-26\", \"2006-05-27\", \"2006-05-28\", \"2006-05-29\", \"2006-05-30\", \"2006-05-31\", \"2006-06-01\", \"2006-06-02\", \"2006-06-03\", \"2006-06-04\", \"2006-06-05\", \"2006-06-06\", \"2006-06-07\", \"2006-06-08\", \"2006-06-09\", \"2006-06-10\", \"2006-06-11\", \"2006-06-12\", \"2006-06-13\", \"2006-06-14\", \"2006-06-15\", \"2006-06-16\", \"2006-06-17\", \"2006-06-18\", \"2006-06-19\", \"2006-06-20\", \"2006-06-21\", \"2006-06-22\", \"2006-06-23\", \"2006-06-24\", \"2006-06-25\", \"2006-06-26\", \"2006-06-27\", \"2006-06-28\", \"2006-06-29\", \"2006-06-30\", \"2006-07-01\", \"2006-07-02\", \"2006-07-03\", \"2006-07-04\", \"2006-07-05\", \"2006-07-06\", \"2006-07-07\", \"2006-07-08\", \"2006-07-09\", \"2006-07-10\", \"2006-07-11\", \"2006-07-12\", \"2006-07-13\", \"2006-07-14\", \"2006-07-15\", \"2006-07-16\", \"2006-07-17\", \"2006-07-18\", \"2006-07-19\", \"2006-07-20\", \"2006-07-21\", \"2006-07-22\", \"2006-07-23\", \"2006-07-24\", \"2006-07-25\", \"2006-07-26\", \"2006-07-27\", \"2006-07-28\", \"2006-07-29\", \"2006-07-30\", \"2006-07-31\", \"2006-08-01\", \"2006-08-02\", \"2006-08-03\", \"2006-08-04\", \"2006-08-05\", \"2006-08-06\", \"2006-08-07\", \"2006-08-08\", \"2006-08-09\", \"2006-08-10\", \"2006-08-11\", \"2006-08-12\", \"2006-08-13\", \"2006-08-14\", \"2006-08-15\", \"2006-08-16\", \"2006-08-17\", \"2006-08-18\", \"2006-08-19\", \"2006-08-20\", \"2006-08-21\", \"2006-08-22\", \"2006-08-23\", \"2006-08-24\", \"2006-08-25\", \"2006-08-26\", \"2006-08-27\", \"2006-08-28\", \"2006-08-29\", \"2006-08-30\", \"2006-08-31\", \"2006-09-01\", \"2006-09-02\", \"2006-09-03\", \"2006-09-04\", \"2006-09-05\", \"2006-09-06\", \"2006-09-07\", \"2006-09-08\", \"2006-09-09\", \"2006-09-10\", \"2006-09-11\", \"2006-09-12\", \"2006-09-13\", \"2006-09-14\", \"2006-09-15\", \"2006-09-16\", \"2006-09-17\", \"2006-09-18\", \"2006-09-19\", \"2006-09-20\", \"2006-09-21\", \"2006-09-22\", \"2006-09-23\", \"2006-09-24\", \"2006-09-25\", \"2006-09-26\", \"2006-09-27\", \"2006-09-28\", \"2006-09-29\", \"2006-09-30\", \"2006-10-01\", \"2006-10-02\", \"2006-10-03\", \"2006-10-04\", \"2006-10-05\", \"2006-10-06\", \"2006-10-07\", \"2006-10-08\", \"2006-10-09\", \"2006-10-10\", \"2006-10-11\", \"2006-10-12\", \"2006-10-13\", \"2006-10-14\", \"2006-10-15\", \"2006-10-16\", \"2006-10-17\", \"2006-10-18\", \"2006-10-19\", \"2006-10-20\", \"2006-10-21\", \"2006-10-22\", \"2006-10-23\", \"2006-10-24\", \"2006-10-25\", \"2006-10-26\", \"2006-10-27\", \"2006-10-28\", \"2006-10-29\", \"2006-10-30\", \"2006-10-31\", \"2006-11-01\", \"2006-11-02\", \"2006-11-03\", \"2006-11-04\", \"2006-11-05\", \"2006-11-06\", \"2006-11-07\", \"2006-11-08\", \"2006-11-09\", \"2006-11-10\", \"2006-11-11\", \"2006-11-12\", \"2006-11-13\", \"2006-11-14\", \"2006-11-15\", \"2006-11-16\", \"2006-11-17\", \"2006-11-18\", \"2006-11-19\", \"2006-11-20\", \"2006-11-21\", \"2006-11-22\", \"2006-11-23\", \"2006-11-24\", \"2006-11-25\", \"2006-11-26\", \"2006-11-27\", \"2006-11-28\", \"2006-11-29\", \"2006-11-30\", \"2006-12-01\", \"2006-12-02\", \"2006-12-03\", \"2006-12-04\", \"2006-12-05\", \"2006-12-06\", \"2006-12-07\", \"2006-12-08\", \"2006-12-09\", \"2006-12-10\", \"2006-12-11\", \"2006-12-12\", \"2006-12-13\", \"2006-12-14\", \"2006-12-15\", \"2006-12-16\", \"2006-12-17\", \"2006-12-18\", \"2006-12-19\", \"2006-12-20\", \"2006-12-21\", \"2006-12-22\", \"2006-12-23\", \"2006-12-24\", \"2006-12-25\", \"2006-12-26\", \"2006-12-27\", \"2006-12-28\", \"2006-12-29\", \"2006-12-30\", \"2006-12-31\", \"2007-01-01\", \"2007-01-02\", \"2007-01-03\", \"2007-01-04\", \"2007-01-05\", \"2007-01-06\", \"2007-01-07\", \"2007-01-08\", \"2007-01-09\", \"2007-01-10\", \"2007-01-11\", \"2007-01-12\", \"2007-01-13\", \"2007-01-14\", \"2007-01-15\", \"2007-01-16\", \"2007-01-17\", \"2007-01-18\", \"2007-01-19\", \"2007-01-20\", \"2007-01-21\", \"2007-01-22\", \"2007-01-23\", \"2007-01-24\", \"2007-01-25\", \"2007-01-26\", \"2007-01-27\", \"2007-01-28\", \"2007-01-29\", \"2007-01-30\", \"2007-01-31\", \"2007-02-01\", \"2007-02-02\", \"2007-02-03\", \"2007-02-04\", \"2007-02-05\", \"2007-02-06\", \"2007-02-07\", \"2007-02-08\", \"2007-02-09\", \"2007-02-10\", \"2007-02-11\", \"2007-02-12\", \"2007-02-13\", \"2007-02-14\", \"2007-02-15\", \"2007-02-16\", \"2007-02-17\", \"2007-02-18\", \"2007-02-19\", \"2007-02-20\", \"2007-02-21\", \"2007-02-22\", \"2007-02-23\", \"2007-02-24\", \"2007-02-25\", \"2007-02-26\", \"2007-02-27\", \"2007-02-28\", \"2007-03-01\", \"2007-03-02\", \"2007-03-03\", \"2007-03-04\", \"2007-03-05\", \"2007-03-06\", \"2007-03-07\", \"2007-03-08\", \"2007-03-09\", \"2007-03-10\", \"2007-03-11\", \"2007-03-12\", \"2007-03-13\", \"2007-03-14\", \"2007-03-15\", \"2007-03-16\", \"2007-03-17\", \"2007-03-18\", \"2007-03-19\", \"2007-03-20\", \"2007-03-21\", \"2007-03-22\", \"2007-03-23\", \"2007-03-24\", \"2007-03-25\", \"2007-03-26\", \"2007-03-27\", \"2007-03-28\", \"2007-03-29\", \"2007-03-30\", \"2007-03-31\", \"2007-04-01\", \"2007-04-02\", \"2007-04-03\", \"2007-04-04\", \"2007-04-05\", \"2007-04-06\", \"2007-04-07\", \"2007-04-08\", \"2007-04-09\", \"2007-04-10\", \"2007-04-11\", \"2007-04-12\", \"2007-04-13\", \"2007-04-14\", \"2007-04-15\", \"2007-04-16\", \"2007-04-17\", \"2007-04-18\", \"2007-04-19\", \"2007-04-20\", \"2007-04-21\", \"2007-04-22\", \"2007-04-23\", \"2007-04-24\", \"2007-04-25\", \"2007-04-26\", \"2007-04-27\", \"2007-04-28\", \"2007-04-29\", \"2007-04-30\", \"2007-05-01\", \"2007-05-02\", \"2007-05-03\", \"2007-05-04\", \"2007-05-05\", \"2007-05-06\", \"2007-05-07\", \"2007-05-08\", \"2007-05-09\", \"2007-05-10\", \"2007-05-11\", \"2007-05-12\", \"2007-05-13\", \"2007-05-14\", \"2007-05-15\", \"2007-05-16\", \"2007-05-17\", \"2007-05-18\", \"2007-05-19\", \"2007-05-20\", \"2007-05-21\", \"2007-05-22\", \"2007-05-23\", \"2007-05-24\", \"2007-05-25\", \"2007-05-26\", \"2007-05-27\", \"2007-05-28\", \"2007-05-29\", \"2007-05-30\", \"2007-05-31\", \"2007-06-01\", \"2007-06-02\", \"2007-06-03\", \"2007-06-04\", \"2007-06-05\", \"2007-06-06\", \"2007-06-07\", \"2007-06-08\", \"2007-06-09\", \"2007-06-10\", \"2007-06-11\", \"2007-06-12\", \"2007-06-13\", \"2007-06-14\", \"2007-06-15\", \"2007-06-16\", \"2007-06-17\", \"2007-06-18\", \"2007-06-19\", \"2007-06-20\", \"2007-06-21\", \"2007-06-22\", \"2007-06-23\", \"2007-06-24\", \"2007-06-25\", \"2007-06-26\", \"2007-06-27\", \"2007-06-28\", \"2007-06-29\", \"2007-06-30\", \"2007-07-01\", \"2007-07-02\", \"2007-07-03\", \"2007-07-04\", \"2007-07-05\", \"2007-07-06\", \"2007-07-07\", \"2007-07-08\", \"2007-07-09\", \"2007-07-10\", \"2007-07-11\", \"2007-07-12\", \"2007-07-13\", \"2007-07-14\", \"2007-07-15\", \"2007-07-16\", \"2007-07-17\", \"2007-07-18\", \"2007-07-19\", \"2007-07-20\", \"2007-07-21\", \"2007-07-22\", \"2007-07-23\", \"2007-07-24\", \"2007-07-25\", \"2007-07-26\", \"2007-07-27\", \"2007-07-28\", \"2007-07-29\", \"2007-07-30\", \"2007-07-31\", \"2007-08-01\", \"2007-08-02\", \"2007-08-03\", \"2007-08-04\", \"2007-08-05\", \"2007-08-06\", \"2007-08-07\", \"2007-08-08\", \"2007-08-09\", \"2007-08-10\", \"2007-08-11\", \"2007-08-12\", \"2007-08-13\", \"2007-08-14\", \"2007-08-15\", \"2007-08-16\", \"2007-08-17\", \"2007-08-18\", \"2007-08-19\", \"2007-08-20\", \"2007-08-21\", \"2007-08-22\", \"2007-08-23\", \"2007-08-24\", \"2007-08-25\", \"2007-08-26\", \"2007-08-27\", \"2007-08-28\", \"2007-08-29\", \"2007-08-30\", \"2007-08-31\", \"2007-09-01\", \"2007-09-02\", \"2007-09-03\", \"2007-09-04\", \"2007-09-05\", \"2007-09-06\", \"2007-09-07\", \"2007-09-08\", \"2007-09-09\", \"2007-09-10\", \"2007-09-11\", \"2007-09-12\", \"2007-09-13\", \"2007-09-14\", \"2007-09-15\", \"2007-09-16\", \"2007-09-17\", \"2007-09-18\", \"2007-09-19\", \"2007-09-20\", \"2007-09-21\", \"2007-09-22\", \"2007-09-23\", \"2007-09-24\", \"2007-09-25\", \"2007-09-26\", \"2007-09-27\", \"2007-09-28\", \"2007-09-29\", \"2007-09-30\", \"2007-10-01\", \"2007-10-02\", \"2007-10-03\", \"2007-10-04\", \"2007-10-05\", \"2007-10-06\", \"2007-10-07\", \"2007-10-08\", \"2007-10-09\", \"2007-10-10\", \"2007-10-11\", \"2007-10-12\", \"2007-10-13\", \"2007-10-14\", \"2007-10-15\", \"2007-10-16\", \"2007-10-17\", \"2007-10-18\", \"2007-10-19\", \"2007-10-20\", \"2007-10-21\", \"2007-10-22\", \"2007-10-23\", \"2007-10-24\", \"2007-10-25\", \"2007-10-26\", \"2007-10-27\", \"2007-10-28\", \"2007-10-29\", \"2007-10-30\", \"2007-10-31\", \"2007-11-01\", \"2007-11-02\", \"2007-11-03\", \"2007-11-04\", \"2007-11-05\", \"2007-11-06\", \"2007-11-07\", \"2007-11-08\", \"2007-11-09\", \"2007-11-10\", \"2007-11-11\", \"2007-11-12\", \"2007-11-13\", \"2007-11-14\", \"2007-11-15\", \"2007-11-16\", \"2007-11-17\", \"2007-11-18\", \"2007-11-19\", \"2007-11-20\", \"2007-11-21\", \"2007-11-22\", \"2007-11-23\", \"2007-11-24\", \"2007-11-25\", \"2007-11-26\", \"2007-11-27\", \"2007-11-28\", \"2007-11-29\", \"2007-11-30\", \"2007-12-01\", \"2007-12-02\", \"2007-12-03\", \"2007-12-04\", \"2007-12-05\", \"2007-12-06\", \"2007-12-07\", \"2007-12-08\", \"2007-12-09\", \"2007-12-10\", \"2007-12-11\", \"2007-12-12\", \"2007-12-13\", \"2007-12-14\", \"2007-12-15\", \"2007-12-16\", \"2007-12-17\", \"2007-12-18\", \"2007-12-19\", \"2007-12-20\", \"2007-12-21\", \"2007-12-22\", \"2007-12-23\", \"2007-12-24\", \"2007-12-25\", \"2007-12-26\", \"2007-12-27\", \"2007-12-28\", \"2007-12-29\", \"2007-12-30\", \"2007-12-31\", \"2008-01-01\", \"2008-01-02\", \"2008-01-03\", \"2008-01-04\", \"2008-01-05\", \"2008-01-06\", \"2008-01-07\", \"2008-01-08\", \"2008-01-09\", \"2008-01-10\", \"2008-01-11\", \"2008-01-12\", \"2008-01-13\", \"2008-01-14\", \"2008-01-15\", \"2008-01-16\", \"2008-01-17\", \"2008-01-18\", \"2008-01-19\", \"2008-01-20\", \"2008-01-21\", \"2008-01-22\", \"2008-01-23\", \"2008-01-24\", \"2008-01-25\", \"2008-01-26\", \"2008-01-27\", \"2008-01-28\", \"2008-01-29\", \"2008-01-30\", \"2008-01-31\", \"2008-02-01\", \"2008-02-02\", \"2008-02-03\", \"2008-02-04\", \"2008-02-05\", \"2008-02-06\", \"2008-02-07\", \"2008-02-08\", \"2008-02-09\", \"2008-02-10\", \"2008-02-11\", \"2008-02-12\", \"2008-02-13\", \"2008-02-14\", \"2008-02-15\", \"2008-02-16\", \"2008-02-17\", \"2008-02-18\", \"2008-02-19\", \"2008-02-20\", \"2008-02-21\", \"2008-02-22\", \"2008-02-23\", \"2008-02-24\", \"2008-02-25\", \"2008-02-26\", \"2008-02-27\", \"2008-02-28\", \"2008-02-29\", \"2008-03-01\", \"2008-03-02\", \"2008-03-03\", \"2008-03-04\", \"2008-03-05\", \"2008-03-06\", \"2008-03-07\", \"2008-03-08\", \"2008-03-09\", \"2008-03-10\", \"2008-03-11\", \"2008-03-12\", \"2008-03-13\", \"2008-03-14\", \"2008-03-15\", \"2008-03-16\", \"2008-03-17\", \"2008-03-18\", \"2008-03-19\", \"2008-03-20\", \"2008-03-21\", \"2008-03-22\", \"2008-03-23\", \"2008-03-24\", \"2008-03-25\", \"2008-03-26\", \"2008-03-27\", \"2008-03-28\", \"2008-03-29\", \"2008-03-30\", \"2008-03-31\", \"2008-04-01\", \"2008-04-02\", \"2008-04-03\", \"2008-04-04\", \"2008-04-05\", \"2008-04-06\", \"2008-04-07\", \"2008-04-08\", \"2008-04-09\", \"2008-04-10\", \"2008-04-11\", \"2008-04-12\", \"2008-04-13\", \"2008-04-14\", \"2008-04-15\", \"2008-04-16\", \"2008-04-17\", \"2008-04-18\", \"2008-04-19\", \"2008-04-20\", \"2008-04-21\", \"2008-04-22\", \"2008-04-23\", \"2008-04-24\", \"2008-04-25\", \"2008-04-26\", \"2008-04-27\", \"2008-04-28\", \"2008-04-29\", \"2008-04-30\", \"2008-05-01\", \"2008-05-02\", \"2008-05-03\", \"2008-05-04\", \"2008-05-05\", \"2008-05-06\", \"2008-05-07\", \"2008-05-08\", \"2008-05-09\", \"2008-05-10\", \"2008-05-11\", \"2008-05-12\", \"2008-05-13\", \"2008-05-14\", \"2008-05-15\", \"2008-05-16\", \"2008-05-17\", \"2008-05-18\", \"2008-05-19\", \"2008-05-20\", \"2008-05-21\", \"2008-05-22\", \"2008-05-23\", \"2008-05-24\", \"2008-05-25\", \"2008-05-26\", \"2008-05-27\", \"2008-05-28\", \"2008-05-29\", \"2008-05-30\", \"2008-05-31\", \"2008-06-01\", \"2008-06-02\", \"2008-06-03\", \"2008-06-04\", \"2008-06-05\", \"2008-06-06\", \"2008-06-07\", \"2008-06-08\", \"2008-06-09\", \"2008-06-10\", \"2008-06-11\", \"2008-06-12\", \"2008-06-13\", \"2008-06-14\", \"2008-06-15\", \"2008-06-16\", \"2008-06-17\", \"2008-06-18\", \"2008-06-19\", \"2008-06-20\", \"2008-06-21\", \"2008-06-22\", \"2008-06-23\", \"2008-06-24\", \"2008-06-25\", \"2008-06-26\", \"2008-06-27\", \"2008-06-28\", \"2008-06-29\", \"2008-06-30\", \"2008-07-01\", \"2008-07-02\", \"2008-07-03\", \"2008-07-04\", \"2008-07-05\", \"2008-07-06\", \"2008-07-07\", \"2008-07-08\", \"2008-07-09\", \"2008-07-10\", \"2008-07-11\", \"2008-07-12\", \"2008-07-13\", \"2008-07-14\", \"2008-07-15\", \"2008-07-16\", \"2008-07-17\", \"2008-07-18\", \"2008-07-19\", \"2008-07-20\", \"2008-07-21\", \"2008-07-22\", \"2008-07-23\", \"2008-07-24\", \"2008-07-25\", \"2008-07-26\", \"2008-07-27\", \"2008-07-28\", \"2008-07-29\", \"2008-07-30\", \"2008-07-31\", \"2008-08-01\", \"2008-08-02\", \"2008-08-03\", \"2008-08-04\", \"2008-08-05\", \"2008-08-06\", \"2008-08-07\", \"2008-08-08\", \"2008-08-09\", \"2008-08-10\", \"2008-08-11\", \"2008-08-12\", \"2008-08-13\", \"2008-08-14\", \"2008-08-15\", \"2008-08-16\", \"2008-08-17\", \"2008-08-18\", \"2008-08-19\", \"2008-08-20\", \"2008-08-21\", \"2008-08-22\", \"2008-08-23\", \"2008-08-24\", \"2008-08-25\", \"2008-08-26\", \"2008-08-27\", \"2008-08-28\", \"2008-08-29\", \"2008-08-30\", \"2008-08-31\", \"2008-09-01\", \"2008-09-02\", \"2008-09-03\", \"2008-09-04\", \"2008-09-05\", \"2008-09-06\", \"2008-09-07\", \"2008-09-08\", \"2008-09-09\", \"2008-09-10\", \"2008-09-11\", \"2008-09-12\", \"2008-09-13\", \"2008-09-14\", \"2008-09-15\", \"2008-09-16\", \"2008-09-17\", \"2008-09-18\", \"2008-09-19\", \"2008-09-20\", \"2008-09-21\", \"2008-09-22\", \"2008-09-23\", \"2008-09-24\", \"2008-09-25\", \"2008-09-26\", \"2008-09-27\", \"2008-09-28\", \"2008-09-29\", \"2008-09-30\", \"2008-10-01\", \"2008-10-02\", \"2008-10-03\", \"2008-10-04\", \"2008-10-05\", \"2008-10-06\", \"2008-10-07\", \"2008-10-08\", \"2008-10-09\", \"2008-10-10\", \"2008-10-11\", \"2008-10-12\", \"2008-10-13\", \"2008-10-14\", \"2008-10-15\", \"2008-10-16\", \"2008-10-17\", \"2008-10-18\", \"2008-10-19\", \"2008-10-20\", \"2008-10-21\", \"2008-10-22\", \"2008-10-23\", \"2008-10-24\", \"2008-10-25\", \"2008-10-26\", \"2008-10-27\", \"2008-10-28\", \"2008-10-29\", \"2008-10-30\", \"2008-10-31\", \"2008-11-01\", \"2008-11-02\", \"2008-11-03\", \"2008-11-04\", \"2008-11-05\", \"2008-11-06\", \"2008-11-07\", \"2008-11-08\", \"2008-11-09\", \"2008-11-10\", \"2008-11-11\", \"2008-11-12\", \"2008-11-13\", \"2008-11-14\", \"2008-11-15\", \"2008-11-16\", \"2008-11-17\", \"2008-11-18\", \"2008-11-19\", \"2008-11-20\", \"2008-11-21\", \"2008-11-22\", \"2008-11-23\", \"2008-11-24\", \"2008-11-25\", \"2008-11-26\", \"2008-11-27\", \"2008-11-28\", \"2008-11-29\", \"2008-11-30\", \"2008-12-01\", \"2008-12-02\", \"2008-12-03\", \"2008-12-04\", \"2008-12-05\", \"2008-12-06\", \"2008-12-07\", \"2008-12-08\", \"2008-12-09\", \"2008-12-10\", \"2008-12-11\", \"2008-12-12\", \"2008-12-13\", \"2008-12-14\", \"2008-12-15\", \"2008-12-16\", \"2008-12-17\", \"2008-12-18\", \"2008-12-19\", \"2008-12-20\", \"2008-12-21\", \"2008-12-22\", \"2008-12-23\", \"2008-12-24\", \"2008-12-25\", \"2008-12-26\", \"2008-12-27\", \"2008-12-28\", \"2008-12-29\", \"2008-12-30\", \"2008-12-31\", \"2009-01-01\", \"2009-01-02\", \"2009-01-03\", \"2009-01-04\", \"2009-01-05\", \"2009-01-06\", \"2009-01-07\", \"2009-01-08\", \"2009-01-09\", \"2009-01-10\", \"2009-01-11\", \"2009-01-12\", \"2009-01-13\", \"2009-01-14\", \"2009-01-15\", \"2009-01-16\", \"2009-01-17\", \"2009-01-18\", \"2009-01-19\", \"2009-01-20\", \"2009-01-21\", \"2009-01-22\", \"2009-01-23\", \"2009-01-24\", \"2009-01-25\", \"2009-01-26\", \"2009-01-27\", \"2009-01-28\", \"2009-01-29\", \"2009-01-30\", \"2009-01-31\", \"2009-02-01\", \"2009-02-02\", \"2009-02-03\", \"2009-02-04\", \"2009-02-05\", \"2009-02-06\", \"2009-02-07\", \"2009-02-08\", \"2009-02-09\", \"2009-02-10\", \"2009-02-11\", \"2009-02-12\", \"2009-02-13\", \"2009-02-14\", \"2009-02-15\", \"2009-02-16\", \"2009-02-17\", \"2009-02-18\", \"2009-02-19\", \"2009-02-20\", \"2009-02-21\", \"2009-02-22\", \"2009-02-23\", \"2009-02-24\", \"2009-02-25\", \"2009-02-26\", \"2009-02-27\", \"2009-02-28\", \"2009-03-01\", \"2009-03-02\", \"2009-03-03\", \"2009-03-04\", \"2009-03-05\", \"2009-03-06\", \"2009-03-07\", \"2009-03-08\", \"2009-03-09\", \"2009-03-10\", \"2009-03-11\", \"2009-03-12\", \"2009-03-13\", \"2009-03-14\", \"2009-03-15\", \"2009-03-16\", \"2009-03-17\", \"2009-03-18\", \"2009-03-19\", \"2009-03-20\", \"2009-03-21\", \"2009-03-22\", \"2009-03-23\", \"2009-03-24\", \"2009-03-25\", \"2009-03-26\", \"2009-03-27\", \"2009-03-28\", \"2009-03-29\", \"2009-03-30\", \"2009-03-31\", \"2009-04-01\", \"2009-04-02\", \"2009-04-03\", \"2009-04-04\", \"2009-04-05\", \"2009-04-06\", \"2009-04-07\", \"2009-04-08\", \"2009-04-09\", \"2009-04-10\", \"2009-04-11\", \"2009-04-12\", \"2009-04-13\", \"2009-04-14\", \"2009-04-15\", \"2009-04-16\", \"2009-04-17\", \"2009-04-18\", \"2009-04-19\", \"2009-04-20\", \"2009-04-21\", \"2009-04-22\", \"2009-04-23\", \"2009-04-24\", \"2009-04-25\", \"2009-04-26\", \"2009-04-27\", \"2009-04-28\", \"2009-04-29\", \"2009-04-30\", \"2009-05-01\", \"2009-05-02\", \"2009-05-03\", \"2009-05-04\", \"2009-05-05\", \"2009-05-06\", \"2009-05-07\", \"2009-05-08\", \"2009-05-09\", \"2009-05-10\", \"2009-05-11\", \"2009-05-12\", \"2009-05-13\", \"2009-05-14\", \"2009-05-15\", \"2009-05-16\", \"2009-05-17\", \"2009-05-18\", \"2009-05-19\", \"2009-05-20\", \"2009-05-21\", \"2009-05-22\", \"2009-05-23\", \"2009-05-24\", \"2009-05-25\", \"2009-05-26\", \"2009-05-27\", \"2009-05-28\", \"2009-05-29\", \"2009-05-30\", \"2009-05-31\", \"2009-06-01\", \"2009-06-02\", \"2009-06-03\", \"2009-06-04\", \"2009-06-05\", \"2009-06-06\", \"2009-06-07\", \"2009-06-08\", \"2009-06-09\", \"2009-06-10\", \"2009-06-11\", \"2009-06-12\", \"2009-06-13\", \"2009-06-14\", \"2009-06-15\", \"2009-06-16\", \"2009-06-17\", \"2009-06-18\", \"2009-06-19\", \"2009-06-20\", \"2009-06-21\", \"2009-06-22\", \"2009-06-23\", \"2009-06-24\", \"2009-06-25\", \"2009-06-26\", \"2009-06-27\", \"2009-06-28\", \"2009-06-29\", \"2009-06-30\", \"2009-07-01\", \"2009-07-02\", \"2009-07-03\", \"2009-07-04\", \"2009-07-05\", \"2009-07-06\", \"2009-07-07\", \"2009-07-08\", \"2009-07-09\", \"2009-07-10\", \"2009-07-11\", \"2009-07-12\", \"2009-07-13\", \"2009-07-14\", \"2009-07-15\", \"2009-07-16\", \"2009-07-17\", \"2009-07-18\", \"2009-07-19\", \"2009-07-20\", \"2009-07-21\", \"2009-07-22\", \"2009-07-23\", \"2009-07-24\", \"2009-07-25\", \"2009-07-26\", \"2009-07-27\", \"2009-07-28\", \"2009-07-29\", \"2009-07-30\", \"2009-07-31\", \"2009-08-01\", \"2009-08-02\", \"2009-08-03\", \"2009-08-04\", \"2009-08-05\", \"2009-08-06\", \"2009-08-07\", \"2009-08-08\", \"2009-08-09\", \"2009-08-10\", \"2009-08-11\", \"2009-08-12\", \"2009-08-13\", \"2009-08-14\", \"2009-08-15\", \"2009-08-16\", \"2009-08-17\", \"2009-08-18\", \"2009-08-19\", \"2009-08-20\", \"2009-08-21\", \"2009-08-22\", \"2009-08-23\", \"2009-08-24\", \"2009-08-25\", \"2009-08-26\", \"2009-08-27\", \"2009-08-28\", \"2009-08-29\", \"2009-08-30\", \"2009-08-31\", \"2009-09-01\", \"2009-09-02\", \"2009-09-03\", \"2009-09-04\", \"2009-09-05\", \"2009-09-06\", \"2009-09-07\", \"2009-09-08\", \"2009-09-09\", \"2009-09-10\", \"2009-09-11\", \"2009-09-12\", \"2009-09-13\", \"2009-09-14\", \"2009-09-15\", \"2009-09-16\", \"2009-09-17\", \"2009-09-18\", \"2009-09-19\", \"2009-09-20\", \"2009-09-21\", \"2009-09-22\", \"2009-09-23\", \"2009-09-24\", \"2009-09-25\", \"2009-09-26\", \"2009-09-27\", \"2009-09-28\", \"2009-09-29\", \"2009-09-30\", \"2009-10-01\", \"2009-10-02\", \"2009-10-03\", \"2009-10-04\", \"2009-10-05\", \"2009-10-06\", \"2009-10-07\", \"2009-10-08\", \"2009-10-09\", \"2009-10-10\", \"2009-10-11\", \"2009-10-12\", \"2009-10-13\", \"2009-10-14\", \"2009-10-15\", \"2009-10-16\", \"2009-10-17\", \"2009-10-18\", \"2009-10-19\", \"2009-10-20\", \"2009-10-21\", \"2009-10-22\", \"2009-10-23\", \"2009-10-24\", \"2009-10-25\", \"2009-10-26\", \"2009-10-27\", \"2009-10-28\", \"2009-10-29\", \"2009-10-30\", \"2009-10-31\", \"2009-11-01\", \"2009-11-02\", \"2009-11-03\", \"2009-11-04\", \"2009-11-05\", \"2009-11-06\", \"2009-11-07\", \"2009-11-08\", \"2009-11-09\", \"2009-11-10\", \"2009-11-11\", \"2009-11-12\", \"2009-11-13\", \"2009-11-14\", \"2009-11-15\", \"2009-11-16\", \"2009-11-17\", \"2009-11-18\", \"2009-11-19\", \"2009-11-20\", \"2009-11-21\", \"2009-11-22\", \"2009-11-23\", \"2009-11-24\", \"2009-11-25\", \"2009-11-26\", \"2009-11-27\", \"2009-11-28\", \"2009-11-29\", \"2009-11-30\", \"2009-12-01\", \"2009-12-02\", \"2009-12-03\", \"2009-12-04\", \"2009-12-05\", \"2009-12-06\", \"2009-12-07\", \"2009-12-08\", \"2009-12-09\", \"2009-12-10\", \"2009-12-11\", \"2009-12-12\", \"2009-12-13\", \"2009-12-14\", \"2009-12-15\", \"2009-12-16\", \"2009-12-17\", \"2009-12-18\", \"2009-12-19\", \"2009-12-20\", \"2009-12-21\", \"2009-12-22\", \"2009-12-23\", \"2009-12-24\", \"2009-12-25\", \"2009-12-26\", \"2009-12-27\", \"2009-12-28\", \"2009-12-29\", \"2009-12-30\", \"2009-12-31\", \"2010-01-01\", \"2010-01-02\", \"2010-01-03\", \"2010-01-04\", \"2010-01-05\", \"2010-01-06\", \"2010-01-07\", \"2010-01-08\", \"2010-01-09\", \"2010-01-10\", \"2010-01-11\", \"2010-01-12\", \"2010-01-13\", \"2010-01-14\", \"2010-01-15\", \"2010-01-16\", \"2010-01-17\", \"2010-01-18\", \"2010-01-19\", \"2010-01-20\", \"2010-01-21\", \"2010-01-22\", \"2010-01-23\", \"2010-01-24\", \"2010-01-25\", \"2010-01-26\", \"2010-01-27\", \"2010-01-28\", \"2010-01-29\", \"2010-01-30\", \"2010-01-31\", \"2010-02-01\", \"2010-02-02\", \"2010-02-03\", \"2010-02-04\", \"2010-02-05\", \"2010-02-06\", \"2010-02-07\", \"2010-02-08\", \"2010-02-09\", \"2010-02-10\", \"2010-02-11\", \"2010-02-12\", \"2010-02-13\", \"2010-02-14\", \"2010-02-15\", \"2010-02-16\", \"2010-02-17\", \"2010-02-18\", \"2010-02-19\", \"2010-02-20\", \"2010-02-21\", \"2010-02-22\", \"2010-02-23\", \"2010-02-24\", \"2010-02-25\", \"2010-02-26\", \"2010-02-27\", \"2010-02-28\", \"2010-03-01\", \"2010-03-02\", \"2010-03-03\", \"2010-03-04\", \"2010-03-05\", \"2010-03-06\", \"2010-03-07\", \"2010-03-08\", \"2010-03-09\", \"2010-03-10\", \"2010-03-11\", \"2010-03-12\", \"2010-03-13\", \"2010-03-14\", \"2010-03-15\", \"2010-03-16\", \"2010-03-17\", \"2010-03-18\", \"2010-03-19\", \"2010-03-20\", \"2010-03-21\", \"2010-03-22\", \"2010-03-23\", \"2010-03-24\", \"2010-03-25\", \"2010-03-26\", \"2010-03-27\", \"2010-03-28\", \"2010-03-29\", \"2010-03-30\", \"2010-03-31\", \"2010-04-01\", \"2010-04-02\", \"2010-04-03\", \"2010-04-04\", \"2010-04-05\", \"2010-04-06\", \"2010-04-07\", \"2010-04-08\", \"2010-04-09\", \"2010-04-10\", \"2010-04-11\", \"2010-04-12\", \"2010-04-13\", \"2010-04-14\", \"2010-04-15\", \"2010-04-16\", \"2010-04-17\", \"2010-04-18\", \"2010-04-19\", \"2010-04-20\", \"2010-04-21\", \"2010-04-22\", \"2010-04-23\", \"2010-04-24\", \"2010-04-25\", \"2010-04-26\", \"2010-04-27\", \"2010-04-28\", \"2010-04-29\", \"2010-04-30\", \"2010-05-01\", \"2010-05-02\", \"2010-05-03\", \"2010-05-04\", \"2010-05-05\", \"2010-05-06\", \"2010-05-07\", \"2010-05-08\", \"2010-05-09\", \"2010-05-10\", \"2010-05-11\", \"2010-05-12\", \"2010-05-13\", \"2010-05-14\", \"2010-05-15\", \"2010-05-16\", \"2010-05-17\", \"2010-05-18\", \"2010-05-19\", \"2010-05-20\", \"2010-05-21\", \"2010-05-22\", \"2010-05-23\", \"2010-05-24\", \"2010-05-25\", \"2010-05-26\", \"2010-05-27\", \"2010-05-28\", \"2010-05-29\", \"2010-05-30\", \"2010-05-31\", \"2010-06-01\", \"2010-06-02\", \"2010-06-03\", \"2010-06-04\", \"2010-06-05\", \"2010-06-06\", \"2010-06-07\", \"2010-06-08\", \"2010-06-09\", \"2010-06-10\", \"2010-06-11\", \"2010-06-12\", \"2010-06-13\", \"2010-06-14\", \"2010-06-15\", \"2010-06-16\", \"2010-06-17\", \"2010-06-18\", \"2010-06-19\", \"2010-06-20\", \"2010-06-21\", \"2010-06-22\", \"2010-06-23\", \"2010-06-24\", \"2010-06-25\", \"2010-06-26\", \"2010-06-27\", \"2010-06-28\", \"2010-06-29\", \"2010-06-30\", \"2010-07-01\", \"2010-07-02\", \"2010-07-03\", \"2010-07-04\", \"2010-07-05\", \"2010-07-06\", \"2010-07-07\", \"2010-07-08\", \"2010-07-09\", \"2010-07-10\", \"2010-07-11\", \"2010-07-12\", \"2010-07-13\", \"2010-07-14\", \"2010-07-15\", \"2010-07-16\", \"2010-07-17\", \"2010-07-18\", \"2010-07-19\", \"2010-07-20\", \"2010-07-21\", \"2010-07-22\", \"2010-07-23\", \"2010-07-24\", \"2010-07-25\", \"2010-07-26\", \"2010-07-27\", \"2010-07-28\", \"2010-07-29\", \"2010-07-30\", \"2010-07-31\", \"2010-08-01\", \"2010-08-02\", \"2010-08-03\", \"2010-08-04\", \"2010-08-05\", \"2010-08-06\", \"2010-08-07\", \"2010-08-08\", \"2010-08-09\", \"2010-08-10\", \"2010-08-11\", \"2010-08-12\", \"2010-08-13\", \"2010-08-14\", \"2010-08-15\", \"2010-08-16\", \"2010-08-17\", \"2010-08-18\", \"2010-08-19\", \"2010-08-20\", \"2010-08-21\", \"2010-08-22\", \"2010-08-23\", \"2010-08-24\", \"2010-08-25\", \"2010-08-26\", \"2010-08-27\", \"2010-08-28\", \"2010-08-29\", \"2010-08-30\", \"2010-08-31\", \"2010-09-01\", \"2010-09-02\", \"2010-09-03\", \"2010-09-04\", \"2010-09-05\", \"2010-09-06\", \"2010-09-07\", \"2010-09-08\", \"2010-09-09\", \"2010-09-10\", \"2010-09-11\", \"2010-09-12\", \"2010-09-13\", \"2010-09-14\", \"2010-09-15\", \"2010-09-16\", \"2010-09-17\", \"2010-09-18\", \"2010-09-19\", \"2010-09-20\", \"2010-09-21\", \"2010-09-22\", \"2010-09-23\", \"2010-09-24\", \"2010-09-25\", \"2010-09-26\", \"2010-09-27\", \"2010-09-28\", \"2010-09-29\", \"2010-09-30\", \"2010-10-01\", \"2010-10-02\", \"2010-10-03\", \"2010-10-04\", \"2010-10-05\", \"2010-10-06\", \"2010-10-07\", \"2010-10-08\", \"2010-10-09\", \"2010-10-10\", \"2010-10-11\", \"2010-10-12\", \"2010-10-13\", \"2010-10-14\", \"2010-10-15\", \"2010-10-16\", \"2010-10-17\", \"2010-10-18\", \"2010-10-19\", \"2010-10-20\", \"2010-10-21\", \"2010-10-22\", \"2010-10-23\", \"2010-10-24\", \"2010-10-25\", \"2010-10-26\", \"2010-10-27\", \"2010-10-28\", \"2010-10-29\", \"2010-10-30\", \"2010-10-31\", \"2010-11-01\", \"2010-11-02\", \"2010-11-03\", \"2010-11-04\", \"2010-11-05\", \"2010-11-06\", \"2010-11-07\", \"2010-11-08\", \"2010-11-09\", \"2010-11-10\", \"2010-11-11\", \"2010-11-12\", \"2010-11-13\", \"2010-11-14\", \"2010-11-15\", \"2010-11-16\", \"2010-11-17\", \"2010-11-18\", \"2010-11-19\", \"2010-11-20\", \"2010-11-21\", \"2010-11-22\", \"2010-11-23\", \"2010-11-24\", \"2010-11-25\", \"2010-11-26\", \"2010-11-27\", \"2010-11-28\", \"2010-11-29\", \"2010-11-30\", \"2010-12-01\", \"2010-12-02\", \"2010-12-03\", \"2010-12-04\", \"2010-12-05\", \"2010-12-06\", \"2010-12-07\", \"2010-12-08\", \"2010-12-09\", \"2010-12-10\", \"2010-12-11\", \"2010-12-12\", \"2010-12-13\", \"2010-12-14\", \"2010-12-15\", \"2010-12-16\", \"2010-12-17\", \"2010-12-18\", \"2010-12-19\", \"2010-12-20\", \"2010-12-21\", \"2010-12-22\", \"2010-12-23\", \"2010-12-24\", \"2010-12-25\", \"2010-12-26\", \"2010-12-27\", \"2010-12-28\", \"2010-12-29\", \"2010-12-30\", \"2010-12-31\", \"2011-01-01\", \"2011-01-02\", \"2011-01-03\", \"2011-01-04\", \"2011-01-05\", \"2011-01-06\", \"2011-01-07\", \"2011-01-08\", \"2011-01-09\", \"2011-01-10\", \"2011-01-11\", \"2011-01-12\", \"2011-01-13\", \"2011-01-14\", \"2011-01-15\", \"2011-01-16\", \"2011-01-17\", \"2011-01-18\", \"2011-01-19\", \"2011-01-20\", \"2011-01-21\", \"2011-01-22\", \"2011-01-23\", \"2011-01-24\", \"2011-01-25\", \"2011-01-26\", \"2011-01-27\", \"2011-01-28\", \"2011-01-29\", \"2011-01-30\", \"2011-01-31\", \"2011-02-01\", \"2011-02-02\", \"2011-02-03\", \"2011-02-04\", \"2011-02-05\", \"2011-02-06\", \"2011-02-07\", \"2011-02-08\", \"2011-02-09\", \"2011-02-10\", \"2011-02-11\", \"2011-02-12\", \"2011-02-13\", \"2011-02-14\", \"2011-02-15\", \"2011-02-16\", \"2011-02-17\", \"2011-02-18\", \"2011-02-19\", \"2011-02-20\", \"2011-02-21\", \"2011-02-22\", \"2011-02-23\", \"2011-02-24\", \"2011-02-25\", \"2011-02-26\", \"2011-02-27\", \"2011-02-28\", \"2011-03-01\", \"2011-03-02\", \"2011-03-03\", \"2011-03-04\", \"2011-03-05\", \"2011-03-06\", \"2011-03-07\", \"2011-03-08\", \"2011-03-09\", \"2011-03-10\", \"2011-03-11\", \"2011-03-12\", \"2011-03-13\", \"2011-03-14\", \"2011-03-15\", \"2011-03-16\", \"2011-03-17\", \"2011-03-18\", \"2011-03-19\", \"2011-03-20\", \"2011-03-21\", \"2011-03-22\", \"2011-03-23\", \"2011-03-24\", \"2011-03-25\", \"2011-03-26\", \"2011-03-27\", \"2011-03-28\", \"2011-03-29\", \"2011-03-30\", \"2011-03-31\", \"2011-04-01\", \"2011-04-02\", \"2011-04-03\", \"2011-04-04\", \"2011-04-05\", \"2011-04-06\", \"2011-04-07\", \"2011-04-08\", \"2011-04-09\", \"2011-04-10\", \"2011-04-11\", \"2011-04-12\", \"2011-04-13\", \"2011-04-14\", \"2011-04-15\", \"2011-04-16\", \"2011-04-17\", \"2011-04-18\", \"2011-04-19\", \"2011-04-20\", \"2011-04-21\", \"2011-04-22\", \"2011-04-23\", \"2011-04-24\", \"2011-04-25\", \"2011-04-26\", \"2011-04-27\", \"2011-04-28\", \"2011-04-29\", \"2011-04-30\", \"2011-05-01\", \"2011-05-02\", \"2011-05-03\", \"2011-05-04\", \"2011-05-05\", \"2011-05-06\", \"2011-05-07\", \"2011-05-08\", \"2011-05-09\", \"2011-05-10\", \"2011-05-11\", \"2011-05-12\", \"2011-05-13\", \"2011-05-14\", \"2011-05-15\", \"2011-05-16\", \"2011-05-17\", \"2011-05-18\", \"2011-05-19\", \"2011-05-20\", \"2011-05-21\", \"2011-05-22\", \"2011-05-23\", \"2011-05-24\", \"2011-05-25\", \"2011-05-26\", \"2011-05-27\", \"2011-05-28\", \"2011-05-29\", \"2011-05-30\", \"2011-05-31\", \"2011-06-01\", \"2011-06-02\", \"2011-06-03\", \"2011-06-04\", \"2011-06-05\", \"2011-06-06\", \"2011-06-07\", \"2011-06-08\", \"2011-06-09\", \"2011-06-10\", \"2011-06-11\", \"2011-06-12\", \"2011-06-13\", \"2011-06-14\", \"2011-06-15\", \"2011-06-16\", \"2011-06-17\", \"2011-06-18\", \"2011-06-19\", \"2011-06-20\", \"2011-06-21\", \"2011-06-22\", \"2011-06-23\", \"2011-06-24\", \"2011-06-25\", \"2011-06-26\", \"2011-06-27\", \"2011-06-28\", \"2011-06-29\", \"2011-06-30\", \"2011-07-01\", \"2011-07-02\", \"2011-07-03\", \"2011-07-04\", \"2011-07-05\", \"2011-07-06\", \"2011-07-07\", \"2011-07-08\", \"2011-07-09\", \"2011-07-10\", \"2011-07-11\", \"2011-07-12\", \"2011-07-13\", \"2011-07-14\", \"2011-07-15\", \"2011-07-16\", \"2011-07-17\", \"2011-07-18\", \"2011-07-19\", \"2011-07-20\", \"2011-07-21\", \"2011-07-22\", \"2011-07-23\", \"2011-07-24\", \"2011-07-25\", \"2011-07-26\", \"2011-07-27\", \"2011-07-28\", \"2011-07-29\", \"2011-07-30\", \"2011-07-31\", \"2011-08-01\", \"2011-08-02\", \"2011-08-03\", \"2011-08-04\", \"2011-08-05\", \"2011-08-06\", \"2011-08-07\", \"2011-08-08\", \"2011-08-09\", \"2011-08-10\", \"2011-08-11\", \"2011-08-12\", \"2011-08-13\", \"2011-08-14\", \"2011-08-15\", \"2011-08-16\", \"2011-08-17\", \"2011-08-18\", \"2011-08-19\", \"2011-08-20\", \"2011-08-21\", \"2011-08-22\", \"2011-08-23\", \"2011-08-24\", \"2011-08-25\", \"2011-08-26\", \"2011-08-27\", \"2011-08-28\", \"2011-08-29\", \"2011-08-30\", \"2011-08-31\", \"2011-09-01\", \"2011-09-02\", \"2011-09-03\", \"2011-09-04\", \"2011-09-05\", \"2011-09-06\", \"2011-09-07\", \"2011-09-08\", \"2011-09-09\", \"2011-09-10\", \"2011-09-11\", \"2011-09-12\", \"2011-09-13\", \"2011-09-14\", \"2011-09-15\", \"2011-09-16\", \"2011-09-17\", \"2011-09-18\", \"2011-09-19\", \"2011-09-20\", \"2011-09-21\", \"2011-09-22\", \"2011-09-23\", \"2011-09-24\", \"2011-09-25\", \"2011-09-26\", \"2011-09-27\", \"2011-09-28\", \"2011-09-29\", \"2011-09-30\", \"2011-10-01\", \"2011-10-02\", \"2011-10-03\", \"2011-10-04\", \"2011-10-05\", \"2011-10-06\", \"2011-10-07\", \"2011-10-08\", \"2011-10-09\", \"2011-10-10\", \"2011-10-11\", \"2011-10-12\", \"2011-10-13\", \"2011-10-14\", \"2011-10-15\", \"2011-10-16\", \"2011-10-17\", \"2011-10-18\", \"2011-10-19\", \"2011-10-20\", \"2011-10-21\", \"2011-10-22\", \"2011-10-23\", \"2011-10-24\", \"2011-10-25\", \"2011-10-26\", \"2011-10-27\", \"2011-10-28\", \"2011-10-29\", \"2011-10-30\", \"2011-10-31\", \"2011-11-01\", \"2011-11-02\", \"2011-11-03\", \"2011-11-04\", \"2011-11-05\", \"2011-11-06\", \"2011-11-07\", \"2011-11-08\", \"2011-11-09\", \"2011-11-10\", \"2011-11-11\", \"2011-11-12\", \"2011-11-13\", \"2011-11-14\", \"2011-11-15\", \"2011-11-16\", \"2011-11-17\", \"2011-11-18\", \"2011-11-19\", \"2011-11-20\", \"2011-11-21\", \"2011-11-22\", \"2011-11-23\", \"2011-11-24\", \"2011-11-25\", \"2011-11-26\", \"2011-11-27\", \"2011-11-28\", \"2011-11-29\", \"2011-11-30\", \"2011-12-01\", \"2011-12-02\", \"2011-12-03\", \"2011-12-04\", \"2011-12-05\", \"2011-12-06\", \"2011-12-07\", \"2011-12-08\", \"2011-12-09\", \"2011-12-10\", \"2011-12-11\", \"2011-12-12\", \"2011-12-13\", \"2011-12-14\", \"2011-12-15\", \"2011-12-16\", \"2011-12-17\", \"2011-12-18\", \"2011-12-19\", \"2011-12-20\", \"2011-12-21\", \"2011-12-22\", \"2011-12-23\", \"2011-12-24\", \"2011-12-25\", \"2011-12-26\", \"2011-12-27\", \"2011-12-28\", \"2011-12-29\", \"2011-12-30\", \"2011-12-31\", \"2012-01-01\", \"2012-01-02\", \"2012-01-03\", \"2012-01-04\", \"2012-01-05\", \"2012-01-06\", \"2012-01-07\", \"2012-01-08\", \"2012-01-09\", \"2012-01-10\", \"2012-01-11\", \"2012-01-12\", \"2012-01-13\", \"2012-01-14\", \"2012-01-15\", \"2012-01-16\", \"2012-01-17\", \"2012-01-18\", \"2012-01-19\", \"2012-01-20\", \"2012-01-21\", \"2012-01-22\", \"2012-01-23\", \"2012-01-24\", \"2012-01-25\", \"2012-01-26\", \"2012-01-27\", \"2012-01-28\", \"2012-01-29\", \"2012-01-30\", \"2012-01-31\", \"2012-02-01\", \"2012-02-02\", \"2012-02-03\", \"2012-02-04\", \"2012-02-05\", \"2012-02-06\", \"2012-02-07\", \"2012-02-08\", \"2012-02-09\", \"2012-02-10\", \"2012-02-11\", \"2012-02-12\", \"2012-02-13\", \"2012-02-14\", \"2012-02-15\", \"2012-02-16\", \"2012-02-17\", \"2012-02-18\", \"2012-02-19\", \"2012-02-20\", \"2012-02-21\", \"2012-02-22\", \"2012-02-23\", \"2012-02-24\", \"2012-02-25\", \"2012-02-26\", \"2012-02-27\", \"2012-02-28\", \"2012-02-29\", \"2012-03-01\", \"2012-03-02\", \"2012-03-03\", \"2012-03-04\", \"2012-03-05\", \"2012-03-06\", \"2012-03-07\", \"2012-03-08\", \"2012-03-09\", \"2012-03-10\", \"2012-03-11\", \"2012-03-12\", \"2012-03-13\", \"2012-03-14\", \"2012-03-15\", \"2012-03-16\", \"2012-03-17\", \"2012-03-18\", \"2012-03-19\", \"2012-03-20\", \"2012-03-21\", \"2012-03-22\", \"2012-03-23\", \"2012-03-24\", \"2012-03-25\", \"2012-03-26\", \"2012-03-27\", \"2012-03-28\", \"2012-03-29\", \"2012-03-30\", \"2012-03-31\", \"2012-04-01\", \"2012-04-02\", \"2012-04-03\", \"2012-04-04\", \"2012-04-05\", \"2012-04-06\", \"2012-04-07\", \"2012-04-08\", \"2012-04-09\", \"2012-04-10\", \"2012-04-11\", \"2012-04-12\", \"2012-04-13\", \"2012-04-14\", \"2012-04-15\", \"2012-04-16\", \"2012-04-17\", \"2012-04-18\", \"2012-04-19\", \"2012-04-20\", \"2012-04-21\", \"2012-04-22\", \"2012-04-23\", \"2012-04-24\", \"2012-04-25\", \"2012-04-26\", \"2012-04-27\", \"2012-04-28\", \"2012-04-29\", \"2012-04-30\", \"2012-05-01\", \"2012-05-02\", \"2012-05-03\", \"2012-05-04\", \"2012-05-05\", \"2012-05-06\", \"2012-05-07\", \"2012-05-08\", \"2012-05-09\", \"2012-05-10\", \"2012-05-11\", \"2012-05-12\", \"2012-05-13\", \"2012-05-14\", \"2012-05-15\", \"2012-05-16\", \"2012-05-17\", \"2012-05-18\", \"2012-05-19\", \"2012-05-20\", \"2012-05-21\", \"2012-05-22\", \"2012-05-23\", \"2012-05-24\", \"2012-05-25\", \"2012-05-26\", \"2012-05-27\", \"2012-05-28\", \"2012-05-29\", \"2012-05-30\", \"2012-05-31\", \"2012-06-01\", \"2012-06-02\", \"2012-06-03\", \"2012-06-04\", \"2012-06-05\", \"2012-06-06\", \"2012-06-07\", \"2012-06-08\", \"2012-06-09\", \"2012-06-10\", \"2012-06-11\", \"2012-06-12\", \"2012-06-13\", \"2012-06-14\", \"2012-06-15\", \"2012-06-16\", \"2012-06-17\", \"2012-06-18\", \"2012-06-19\", \"2012-06-20\", \"2012-06-21\", \"2012-06-22\", \"2012-06-23\", \"2012-06-24\", \"2012-06-25\", \"2012-06-26\", \"2012-06-27\", \"2012-06-28\", \"2012-06-29\", \"2012-06-30\", \"2012-07-01\", \"2012-07-02\", \"2012-07-03\", \"2012-07-04\", \"2012-07-05\", \"2012-07-06\", \"2012-07-07\", \"2012-07-08\", \"2012-07-09\", \"2012-07-10\", \"2012-07-11\", \"2012-07-12\", \"2012-07-13\", \"2012-07-14\", \"2012-07-15\", \"2012-07-16\", \"2012-07-17\", \"2012-07-18\", \"2012-07-19\", \"2012-07-20\", \"2012-07-21\", \"2012-07-22\", \"2012-07-23\", \"2012-07-24\", \"2012-07-25\", \"2012-07-26\", \"2012-07-27\", \"2012-07-28\", \"2012-07-29\", \"2012-07-30\", \"2012-07-31\", \"2012-08-01\", \"2012-08-02\", \"2012-08-03\", \"2012-08-04\", \"2012-08-05\", \"2012-08-06\", \"2012-08-07\", \"2012-08-08\", \"2012-08-09\", \"2012-08-10\", \"2012-08-11\", \"2012-08-12\", \"2012-08-13\", \"2012-08-14\", \"2012-08-15\", \"2012-08-16\", \"2012-08-17\", \"2012-08-18\", \"2012-08-19\", \"2012-08-20\", \"2012-08-21\", \"2012-08-22\", \"2012-08-23\", \"2012-08-24\", \"2012-08-25\", \"2012-08-26\", \"2012-08-27\", \"2012-08-28\", \"2012-08-29\", \"2012-08-30\", \"2012-08-31\", \"2012-09-01\", \"2012-09-02\", \"2012-09-03\", \"2012-09-04\", \"2012-09-05\", \"2012-09-06\", \"2012-09-07\", \"2012-09-08\", \"2012-09-09\", \"2012-09-10\", \"2012-09-11\", \"2012-09-12\", \"2012-09-13\", \"2012-09-14\", \"2012-09-15\", \"2012-09-16\", \"2012-09-17\", \"2012-09-18\", \"2012-09-19\", \"2012-09-20\", \"2012-09-21\", \"2012-09-22\", \"2012-09-23\", \"2012-09-24\", \"2012-09-25\", \"2012-09-26\", \"2012-09-27\", \"2012-09-28\", \"2012-09-29\", \"2012-09-30\", \"2012-10-01\", \"2012-10-02\", \"2012-10-03\", \"2012-10-04\", \"2012-10-05\", \"2012-10-06\", \"2012-10-07\", \"2012-10-08\", \"2012-10-09\", \"2012-10-10\", \"2012-10-11\", \"2012-10-12\", \"2012-10-13\", \"2012-10-14\", \"2012-10-15\", \"2012-10-16\", \"2012-10-17\", \"2012-10-18\", \"2012-10-19\", \"2012-10-20\", \"2012-10-21\", \"2012-10-22\", \"2012-10-23\", \"2012-10-24\", \"2012-10-25\", \"2012-10-26\", \"2012-10-27\", \"2012-10-28\", \"2012-10-29\", \"2012-10-30\", \"2012-10-31\", \"2012-11-01\", \"2012-11-02\", \"2012-11-03\", \"2012-11-04\", \"2012-11-05\", \"2012-11-06\", \"2012-11-07\", \"2012-11-08\", \"2012-11-09\", \"2012-11-10\", \"2012-11-11\", \"2012-11-12\", \"2012-11-13\", \"2012-11-14\", \"2012-11-15\", \"2012-11-16\", \"2012-11-17\", \"2012-11-18\", \"2012-11-19\", \"2012-11-20\", \"2012-11-21\", \"2012-11-22\", \"2012-11-23\", \"2012-11-24\", \"2012-11-25\", \"2012-11-26\", \"2012-11-27\", \"2012-11-28\", \"2012-11-29\", \"2012-11-30\", \"2012-12-01\", \"2012-12-02\", \"2012-12-03\", \"2012-12-04\", \"2012-12-05\", \"2012-12-06\", \"2012-12-07\", \"2012-12-08\", \"2012-12-09\", \"2012-12-10\", \"2012-12-11\", \"2012-12-12\", \"2012-12-13\", \"2012-12-14\", \"2012-12-15\", \"2012-12-16\", \"2012-12-17\", \"2012-12-18\", \"2012-12-19\", \"2012-12-20\", \"2012-12-21\", \"2012-12-22\", \"2012-12-23\", \"2012-12-24\", \"2012-12-25\", \"2012-12-26\", \"2012-12-27\", \"2012-12-28\", \"2012-12-29\", \"2012-12-30\", \"2012-12-31\", \"2013-01-01\", \"2013-01-02\", \"2013-01-03\", \"2013-01-04\", \"2013-01-05\", \"2013-01-06\", \"2013-01-07\", \"2013-01-08\", \"2013-01-09\", \"2013-01-10\", \"2013-01-11\", \"2013-01-12\", \"2013-01-13\", \"2013-01-14\", \"2013-01-15\", \"2013-01-16\", \"2013-01-17\", \"2013-01-18\", \"2013-01-19\", \"2013-01-20\", \"2013-01-21\", \"2013-01-22\", \"2013-01-23\", \"2013-01-24\", \"2013-01-25\", \"2013-01-26\", \"2013-01-27\", \"2013-01-28\", \"2013-01-29\", \"2013-01-30\", \"2013-01-31\", \"2013-02-01\", \"2013-02-02\", \"2013-02-03\", \"2013-02-04\", \"2013-02-05\", \"2013-02-06\", \"2013-02-07\", \"2013-02-08\", \"2013-02-09\", \"2013-02-10\", \"2013-02-11\", \"2013-02-12\", \"2013-02-13\", \"2013-02-14\", \"2013-02-15\", \"2013-02-16\", \"2013-02-17\", \"2013-02-18\", \"2013-02-19\", \"2013-02-20\", \"2013-02-21\", \"2013-02-22\", \"2013-02-23\", \"2013-02-24\", \"2013-02-25\", \"2013-02-26\", \"2013-02-27\", \"2013-02-28\", \"2013-03-01\", \"2013-03-02\", \"2013-03-03\", \"2013-03-04\", \"2013-03-05\", \"2013-03-06\", \"2013-03-07\", \"2013-03-08\", \"2013-03-09\", \"2013-03-10\", \"2013-03-11\", \"2013-03-12\", \"2013-03-13\", \"2013-03-14\", \"2013-03-15\", \"2013-03-16\", \"2013-03-17\", \"2013-03-18\", \"2013-03-19\", \"2013-03-20\", \"2013-03-21\", \"2013-03-22\", \"2013-03-23\", \"2013-03-24\", \"2013-03-25\", \"2013-03-26\", \"2013-03-27\", \"2013-03-28\", \"2013-03-29\", \"2013-03-30\", \"2013-03-31\", \"2013-04-01\", \"2013-04-02\", \"2013-04-03\", \"2013-04-04\", \"2013-04-05\", \"2013-04-06\", \"2013-04-07\", \"2013-04-08\", \"2013-04-09\", \"2013-04-10\", \"2013-04-11\", \"2013-04-12\", \"2013-04-13\", \"2013-04-14\", \"2013-04-15\", \"2013-04-16\", \"2013-04-17\", \"2013-04-18\", \"2013-04-19\", \"2013-04-20\", \"2013-04-21\", \"2013-04-22\", \"2013-04-23\", \"2013-04-24\", \"2013-04-25\", \"2013-04-26\", \"2013-04-27\", \"2013-04-28\", \"2013-04-29\", \"2013-04-30\", \"2013-05-01\", \"2013-05-02\", \"2013-05-03\", \"2013-05-04\", \"2013-05-05\", \"2013-05-06\", \"2013-05-07\", \"2013-05-08\", \"2013-05-09\", \"2013-05-10\", \"2013-05-11\", \"2013-05-12\", \"2013-05-13\", \"2013-05-14\", \"2013-05-15\", \"2013-05-16\", \"2013-05-17\", \"2013-05-18\", \"2013-05-19\", \"2013-05-20\", \"2013-05-21\", \"2013-05-22\", \"2013-05-23\", \"2013-05-24\", \"2013-05-25\", \"2013-05-26\", \"2013-05-27\", \"2013-05-28\", \"2013-05-29\", \"2013-05-30\", \"2013-05-31\", \"2013-06-01\", \"2013-06-02\", \"2013-06-03\", \"2013-06-04\", \"2013-06-05\", \"2013-06-06\", \"2013-06-07\", \"2013-06-08\", \"2013-06-09\", \"2013-06-10\", \"2013-06-11\", \"2013-06-12\", \"2013-06-13\", \"2013-06-14\", \"2013-06-15\", \"2013-06-16\", \"2013-06-17\", \"2013-06-18\", \"2013-06-19\", \"2013-06-20\", \"2013-06-21\", \"2013-06-22\", \"2013-06-23\", \"2013-06-24\", \"2013-06-25\", \"2013-06-26\", \"2013-06-27\", \"2013-06-28\", \"2013-06-29\", \"2013-06-30\", \"2013-07-01\", \"2013-07-02\", \"2013-07-03\", \"2013-07-04\", \"2013-07-05\", \"2013-07-06\", \"2013-07-07\", \"2013-07-08\", \"2013-07-09\", \"2013-07-10\", \"2013-07-11\", \"2013-07-12\", \"2013-07-13\", \"2013-07-14\", \"2013-07-15\", \"2013-07-16\", \"2013-07-17\", \"2013-07-18\", \"2013-07-19\", \"2013-07-20\", \"2013-07-21\", \"2013-07-22\", \"2013-07-23\", \"2013-07-24\", \"2013-07-25\", \"2013-07-26\", \"2013-07-27\", \"2013-07-28\", \"2013-07-29\", \"2013-07-30\", \"2013-07-31\", \"2013-08-01\", \"2013-08-02\", \"2013-08-03\", \"2013-08-04\", \"2013-08-05\", \"2013-08-06\", \"2013-08-07\", \"2013-08-08\", \"2013-08-09\", \"2013-08-10\", \"2013-08-11\", \"2013-08-12\", \"2013-08-13\", \"2013-08-14\", \"2013-08-15\", \"2013-08-16\", \"2013-08-17\", \"2013-08-18\", \"2013-08-19\", \"2013-08-20\", \"2013-08-21\", \"2013-08-22\", \"2013-08-23\", \"2013-08-24\", \"2013-08-25\", \"2013-08-26\", \"2013-08-27\", \"2013-08-28\", \"2013-08-29\", \"2013-08-30\", \"2013-08-31\", \"2013-09-01\", \"2013-09-02\", \"2013-09-03\", \"2013-09-04\", \"2013-09-05\", \"2013-09-06\", \"2013-09-07\", \"2013-09-08\", \"2013-09-09\", \"2013-09-10\", \"2013-09-11\", \"2013-09-12\", \"2013-09-13\", \"2013-09-14\", \"2013-09-15\", \"2013-09-16\", \"2013-09-17\", \"2013-09-18\", \"2013-09-19\", \"2013-09-20\", \"2013-09-21\", \"2013-09-22\", \"2013-09-23\", \"2013-09-24\", \"2013-09-25\", \"2013-09-26\", \"2013-09-27\", \"2013-09-28\", \"2013-09-29\", \"2013-09-30\", \"2013-10-01\", \"2013-10-02\", \"2013-10-03\", \"2013-10-04\", \"2013-10-05\", \"2013-10-06\", \"2013-10-07\", \"2013-10-08\", \"2013-10-09\", \"2013-10-10\", \"2013-10-11\", \"2013-10-12\", \"2013-10-13\", \"2013-10-14\", \"2013-10-15\", \"2013-10-16\", \"2013-10-17\", \"2013-10-18\", \"2013-10-19\", \"2013-10-20\", \"2013-10-21\", \"2013-10-22\", \"2013-10-23\", \"2013-10-24\", \"2013-10-25\", \"2013-10-26\", \"2013-10-27\", \"2013-10-28\", \"2013-10-29\", \"2013-10-30\", \"2013-10-31\", \"2013-11-01\", \"2013-11-02\", \"2013-11-03\", \"2013-11-04\", \"2013-11-05\", \"2013-11-06\", \"2013-11-07\", \"2013-11-08\", \"2013-11-09\", \"2013-11-10\", \"2013-11-11\", \"2013-11-12\", \"2013-11-13\", \"2013-11-14\", \"2013-11-15\", \"2013-11-16\", \"2013-11-17\", \"2013-11-18\", \"2013-11-19\", \"2013-11-20\", \"2013-11-21\", \"2013-11-22\", \"2013-11-23\", \"2013-11-24\", \"2013-11-25\", \"2013-11-26\", \"2013-11-27\", \"2013-11-28\", \"2013-11-29\", \"2013-11-30\", \"2013-12-01\", \"2013-12-02\", \"2013-12-03\", \"2013-12-04\", \"2013-12-05\", \"2013-12-06\", \"2013-12-07\", \"2013-12-08\", \"2013-12-09\", \"2013-12-10\", \"2013-12-11\", \"2013-12-12\", \"2013-12-13\", \"2013-12-14\", \"2013-12-15\", \"2013-12-16\", \"2013-12-17\", \"2013-12-18\", \"2013-12-19\", \"2013-12-20\", \"2013-12-21\", \"2013-12-22\", \"2013-12-23\", \"2013-12-24\", \"2013-12-25\", \"2013-12-26\", \"2013-12-27\", \"2013-12-28\", \"2013-12-29\", \"2013-12-30\", \"2013-12-31\", \"2014-01-01\", \"2014-01-02\", \"2014-01-03\", \"2014-01-04\", \"2014-01-05\", \"2014-01-06\", \"2014-01-07\", \"2014-01-08\", \"2014-01-09\", \"2014-01-10\", \"2014-01-11\", \"2014-01-12\", \"2014-01-13\", \"2014-01-14\", \"2014-01-15\", \"2014-01-16\", \"2014-01-17\", \"2014-01-18\", \"2014-01-19\", \"2014-01-20\", \"2014-01-21\", \"2014-01-22\", \"2014-01-23\", \"2014-01-24\", \"2014-01-25\", \"2014-01-26\", \"2014-01-27\", \"2014-01-28\", \"2014-01-29\", \"2014-01-30\", \"2014-01-31\", \"2014-02-01\", \"2014-02-02\", \"2014-02-03\", \"2014-02-04\", \"2014-02-05\", \"2014-02-06\", \"2014-02-07\", \"2014-02-08\", \"2014-02-09\", \"2014-02-10\", \"2014-02-11\", \"2014-02-12\", \"2014-02-13\", \"2014-02-14\", \"2014-02-15\", \"2014-02-16\", \"2014-02-17\", \"2014-02-18\", \"2014-02-19\", \"2014-02-20\", \"2014-02-21\", \"2014-02-22\", \"2014-02-23\", \"2014-02-24\", \"2014-02-25\", \"2014-02-26\", \"2014-02-27\", \"2014-02-28\", \"2014-03-01\", \"2014-03-02\", \"2014-03-03\", \"2014-03-04\", \"2014-03-05\", \"2014-03-06\", \"2014-03-07\", \"2014-03-08\", \"2014-03-09\", \"2014-03-10\", \"2014-03-11\", \"2014-03-12\", \"2014-03-13\", \"2014-03-14\", \"2014-03-15\", \"2014-03-16\", \"2014-03-17\", \"2014-03-18\", \"2014-03-19\", \"2014-03-20\", \"2014-03-21\", \"2014-03-22\", \"2014-03-23\", \"2014-03-24\", \"2014-03-25\", \"2014-03-26\", \"2014-03-27\", \"2014-03-28\", \"2014-03-29\", \"2014-03-30\", \"2014-03-31\", \"2014-04-01\", \"2014-04-02\", \"2014-04-03\", \"2014-04-04\", \"2014-04-05\", \"2014-04-06\", \"2014-04-07\", \"2014-04-08\", \"2014-04-09\", \"2014-04-10\", \"2014-04-11\", \"2014-04-12\", \"2014-04-13\", \"2014-04-14\", \"2014-04-15\", \"2014-04-16\", \"2014-04-17\", \"2014-04-18\", \"2014-04-19\", \"2014-04-20\", \"2014-04-21\", \"2014-04-22\", \"2014-04-23\", \"2014-04-24\", \"2014-04-25\", \"2014-04-26\", \"2014-04-27\", \"2014-04-28\", \"2014-04-29\", \"2014-04-30\", \"2014-05-01\", \"2014-05-02\", \"2014-05-03\", \"2014-05-04\", \"2014-05-05\", \"2014-05-06\", \"2014-05-07\", \"2014-05-08\", \"2014-05-09\", \"2014-05-10\", \"2014-05-11\", \"2014-05-12\", \"2014-05-13\", \"2014-05-14\", \"2014-05-15\", \"2014-05-16\", \"2014-05-17\", \"2014-05-18\", \"2014-05-19\", \"2014-05-20\", \"2014-05-21\", \"2014-05-22\", \"2014-05-23\", \"2014-05-24\", \"2014-05-25\", \"2014-05-26\", \"2014-05-27\", \"2014-05-28\", \"2014-05-29\", \"2014-05-30\", \"2014-05-31\", \"2014-06-01\", \"2014-06-02\", \"2014-06-03\", \"2014-06-04\", \"2014-06-05\", \"2014-06-06\", \"2014-06-07\", \"2014-06-08\", \"2014-06-09\", \"2014-06-10\", \"2014-06-11\", \"2014-06-12\", \"2014-06-13\", \"2014-06-14\", \"2014-06-15\", \"2014-06-16\", \"2014-06-17\", \"2014-06-18\", \"2014-06-19\", \"2014-06-20\", \"2014-06-21\", \"2014-06-22\", \"2014-06-23\", \"2014-06-24\", \"2014-06-25\", \"2014-06-26\", \"2014-06-27\", \"2014-06-28\", \"2014-06-29\", \"2014-06-30\", \"2014-07-01\", \"2014-07-02\", \"2014-07-03\", \"2014-07-04\", \"2014-07-05\", \"2014-07-06\", \"2014-07-07\", \"2014-07-08\", \"2014-07-09\", \"2014-07-10\", \"2014-07-11\", \"2014-07-12\", \"2014-07-13\", \"2014-07-14\", \"2014-07-15\", \"2014-07-16\", \"2014-07-17\", \"2014-07-18\", \"2014-07-19\", \"2014-07-20\", \"2014-07-21\", \"2014-07-22\", \"2014-07-23\", \"2014-07-24\", \"2014-07-25\", \"2014-07-26\", \"2014-07-27\", \"2014-07-28\", \"2014-07-29\", \"2014-07-30\", \"2014-07-31\"], \"xaxis\": \"x\", \"y\": [0.34675583039999996, 10.09969308, 0.0, 0.0, 0.0, 5.386731696, 14.1775236, 0.0, 0.0, 0.411986664, 4.7661747264, 0.14762905199999998, 0.686645748, 14.804074238399998, 28.997009999999996, 6.908511816, 19.280980159200002, 7.182312580800001, 0.09441378, 0.0, 1.579284, 14.57919648, 33.1838785368, 0.0240325992, 0.04634856, 0.0, 58.193176572, 0.0, 0.0, 0.0, 0.0, 0.0, 1.92604068, 2.45904984, 1.12781556, 2.2436130384, 0.33473952, 2.1354683544, 0.27122508, 12.422705868, 18.31970412, 44.4465343584, 0.0, 0.0, 0.0, 180.15000768, 17.67425112, 1.2359618136, 0.0, 10.783770912, 35.330493456, 0.0, 0.0, 0.0, 0.0, 0.765609552, 0.6849288, 17.476852356, 18.32828148, 0.0, 0.0, 2.674485612, 27.34908876, 10.03876056, 9.712580328, 11.721031199999999, 5.500026, 5.678552743200001, 0.027465818399999998, 0.0, 0.0, 0.30555680399999996, 0.1132965, 0.0, 0.0, 0.0, 0.0, 3.26328552, 14.750869752, 3.6426555, 12.435153335999999, 0.367355376, 0.0, 0.0, 0.0, 0.161361864, 5.4485340624, 0.0, 0.0343322784, 0.08239752, 0.0, 18.49822596, 12.459184956, 36.8711208, 7.3471043664, 0.02746584, 0.0, 0.0, 0.6420137184, 0.0, 0.0, 0.0, 0.1750945968, 1.4007565296000002, 0.0, 0.0034332264000000003, 0.0, 0.0, 0.2780914104, 0.0, 0.0, 0.0, 0.6900788664, 0.7141113, 1.5758515944, 0.2334594744, 0.6900787728, 7.43293836, 5.400467272799999, 0.0, 0.0, 0.0034332264000000003, 0.521850852, 0.0, 0.0, 0.0205993728, 0.0, 0.0034332264000000003, 0.0, 0.0, 0.2883910824, 0.45318592799999996, 0.4806518904, 0.90980568, 0.2197265328, 0.9269715744, 4.9438448280000005, 0.0, 0.0, 0.00686646, 1.211928768, 0.65574648, 0.0, 0.0, 0.274658148, 0.0, 0.0, 0.0034332264000000003, 0.10299689279999999, 0.0, 0.0, 0.0, 0.0549316512, 1.2136462704000002, 0.49781797200000005, 0.0, 0.0, 0.0, 0.0, 0.0, 0.0, 0.17509458239999998, 0.0, 0.0, 0.0, 0.0, 0.0, 0.652313052, 0.38280453840000006, 1.2908943000000002, 5.862238092, 2.89764504, 17.619328296, 0.0, 0.0, 0.0, 0.0, 0.0, 0.4840850592, 18.5291298, 38.81607084, 2.5560366552000002, 3.022956324, 0.34332301439999996, 0.30555750239999996, 0.38623857840000003, 0.248909328, 0.29182433760000004, 0.0240326064, 0.5664829607999999, 1.644516, 1.043701776, 0.3278732472, 1.919174256, 0.48408508079999996, 0.0, 0.0, 0.0, 0.5750660664, 0.0240326064, 0.0, 0.0, 0.0, 0.0, 0.7638934104, 0.082397304, 1.1690136, 0.851439996, 0.0, 0.0, 0.0, 0.0, 3.1568539895999996, 4.1387530824, 1.7028810576, 0.0102996792, 0.0102996864, 0.293541012, 0.246334248, 5.7111733944, 0.030899052000000003, 4.30183584, 3.237531732, 0.477218916, 1.2745859904, 0.37250493840000004, 0.0, 5.2236559224, 0.0686645424, 0.0, 0.006866452800000001, 0.3776552784, 0.17509465440000002, 4.3670666376, 0.6986617632, 3.682140192, 7.050134959199999, 0.0, 0.0, 0.0, 0.0, 0.0, 0.041198752799999995, 0.0, 0.0, 0.0, 0.0, 0.0, 0.02059938, 4.677775272, 38.79031788, 12.692639232000001, 2.099418876, 0.8308407384000001, 19.928159712, 6.1008443928, 0.0, 0.0, 0.0, 0.00686646, 0.061798104000000006, 0.0, 0.0, 0.0, 0.0, 0.21629339999999997, 11.0412613584, 1.1999135232, 6.17638014, 54.91450079999999, 0.006866452800000001, 0.1682281152, 0.0034332264000000003, 1.4316558480000001, 7.05871764, 2.4684907176, 3.235817088, 0.5355834984000001, 0.0858306816, 0.0, 0.0, 0.0, 0.0, 0.5046844824, 1.0334015064, 22.9992147, 0.0, 0.030899052000000003, 0.17509458239999998, 0.0, 14.831574732, 1.5792844248, 0.1029968136, 0.0343323, 7.686996300000001, 0.0, 2.557755, 7.388305099199999, 0.5905151999999999, 1.96380792, 1.16729928, 0.1682282448, 0.32958982800000003, 0.0, 0.0, 7.025243507999999, 14.682200400000001, 1.369857492, 17.142105672, 21.62251224, 16.05806496, 0.25920864, 0.88062264, 0.0, 0.0, 0.0, 2.7637473960000003, 0.0, 2.0607945984000002, 14.23501668, 11.96480052, 0.0, 2.8598778, 5.1086418263999995, 19.497300696, 3.3302296080000002, 2.5405885584, 0.0, 0.0, 0.0, 0.0, 0.0, 0.0, 1.284027084, 1.6239162672, 1.244545488, 1.5192033191999998, 0.3175737768, 0.22144348079999998, 3.7027349064, 21.168428796, 31.5805585968, 99.18424152, 5.17988268, 0.006866452800000001, 0.6917954184, 10.4018249448, 21.63619476, 0.0, 0.0, 0.0, 30.3436978704, 0.0, 10.32199848, 10.0250204904, 0.0, 0.0, 0.0, 0.0, 0.010299672, 0.0, 0.0, 32.617390932, 35.909856, 0.0, 0.0, 0.0, 0.0, 0.006866452800000001, 6.911091396000001, 0.0, 63.54045, 0.0, 0.04806504, 0.6969452544, 0.027465804, 4.1027020919999995, 0.027465818399999998, 0.48751812, 5.70087108, 18.62183538, 2.475356652, 1.287460908, 6.24503664, 0.0, 0.0, 0.842857668, 10.694502612, 3.1414032000000005, 0.0, 0.030899052000000003, 0.308990268, 0.0, 0.0, 2.8564439327999995, 0.46691892, 0.0, 0.0, 0.0, 1.3732886519999998, 0.0, 0.0, 0.10471346640000001, 0.0, 6.754877532, 47.4403572, 0.0, 0.0, 0.0, 0.0, 11.20605552, 2.04620526, 0.0, 0.0, 0.0, 0.0, 0.0, 0.0, 7.1917514064, 8.22944736, 0.0, 0.099563724, 0.6368634360000001, 0.0, 0.12016296, 19.33937964, 0.0, 0.0, 0.5613326999999999, 2.3551938, 33.9168923208, 1.2805928352, 2.9182449239999997, 13.02909912, 65.9806094664, 3.34740312, 0.006866452800000001, 0.0, 0.0, 0.0, 0.0, 0.0, 0.0, 0.0, 0.0, 0.0, 0.0, 0.23860958399999999, 17.0253755064, 14.345734932000001, 0.1150131312, 0.0, 0.0, 0.0, 1.1604307464, 8.898923772, 6.172941204, 0.0755310312, 0.0, 4.3018362, 0.7141110479999999, 1.108933344, 62.769685392, 2.106285876, 1.52091936, 13.00506588, 39.90440808, 0.19912730399999998, 0.0, 0.0, 0.0, 0.0, 0.0, 2.8615946904, 5.132676204, 4.8202517160000005, 5.5309257575999995, 0.0, 5.946352200000001, 4.02374592, 3.958513524, 5.4142002, 0.48408516, 0.0, 57.18724056, 11.202624, 0.0, 0.0, 0.0, 0.0, 0.0, 0.0, 0.08583068880000001, 0.0343322712, 3.2838878160000005, 0.0, 2.2899631391999997, 0.0, 1.1055007944, 10.9331116776, 83.068689132, 1.7543790000000001, 1.0042190999999998, 0.584507088, 0.34503948, 16.2906606, 0.32272320239999996, 0.0, 0.0102996792, 1.2067800264, 2.65388544, 2.1028517856, 0.044631972, 0.401687676, 0.4480364304, 0.0, 10.800932832, 0.0, 0.0, 0.0, 0.0, 0.0, 1.3732903224000002, 0.787925916, 2.634143472, 1.5475279104, 1.3655666880000001, 4.63829004, 2.71482462, 0.013732905600000001, 0.0, 0.0, 0.0, 0.7630351343999999, 4.849431984, 0.078964272, 0.0034332264000000003, 0.7226947872, 0.652313412, 1.4522535864, 3.4641253080000003, 0.0, 0.0, 0.0, 0.0, 0.638580456, 0.1785280752, 0.0, 0.0, 0.0, 0.0, 0.0, 0.5390172143999999, 0.6660461448, 0.0, 0.0, 0.0, 0.0, 0.0, 0.0411987312, 0.0171661392, 0.0, 0.0, 0.0, 0.2506254624, 0.20942727120000001, 0.18882761760000003, 0.0, 0.0, 0.0, 0.67291236, 1.0677340224, 2.154351996, 0.0, 0.0, 0.0, 0.0, 0.0, 0.0, 0.0, 0.0, 71.8196989968, 0.130462668, 0.0, 0.0, 0.0, 0.0, 0.0, 0.43601983200000005, 6.093980244, 0.3604890456, 0.078964236, 0.0, 0.00686646, 0.3948213024, 0.030899052000000003, 0.0, 0.09269713439999999, 0.7965088344, 0.0, 0.0, 0.0, 0.00686646, 0.0, 0.0, 0.0, 0.0, 0.0, 0.0, 0.0, 0.0, 0.0, 0.0, 0.0, 0.0, 0.0, 0.0, 0.0, 0.0, 0.0, 0.0, 0.0, 6.49566288, 0.0, 0.0, 0.0, 0.0, 0.0, 0.0, 0.0, 0.0, 0.0, 0.0, 0.0, 0.02746584, 1.4797210319999998, 0.0, 0.0, 4.5043955064, 44.47744704, 8.4251472264, 0.0, 0.0, 0.0, 0.0, 0.0, 0.0, 0.0, 0.0, 0.425720772, 0.0, 0.0, 0.0, 0.0, 0.0034332264000000003, 7.74020808, 3.0143736, 12.3458877792, 4.7927843424, 7.711030764, 0.034332264, 0.0, 0.0, 0.0, 0.0, 0.0343323, 0.030899052000000003, 2.245330764, 0.0, 0.0, 0.0, 0.0, 0.0, 5.77983708, 6.270790283999999, 1.023101172, 3.529354212, 0.149345388, 0.0, 0.0, 0.0, 0.0, 0.0, 0.0, 0.5355834264, 1.598165676, 17.55923544, 30.93168168, 0.0, 18.121435812, 1.61790876, 0.896072112, 0.0, 0.0, 0.0, 0.0, 6.1386134976, 2.1474809280000002, 0.4995346608, 0.23174298, 0.0, 0.0, 0.0, 0.0, 0.07553106, 2.77061616, 0.0, 0.010299672, 10.45933236, 29.68028712, 19.068143724000002, 0.0, 5.2528428719999996, 0.0, 0.089263908, 0.0, 3.44695824, 16.6597416, 0.027465818399999998, 0.0, 0.0, 0.0, 0.0, 0.0, 63.624573, 2.82554892, 3.2272351919999998, 0.15792858, 0.010299672, 0.0, 13.664249186400001, 7.244111952000001, 3.409195356, 0.0, 0.0, 4.229738712, 120.35861820000001, 0.0, 0.30899044800000003, 60.66514152, 33.96495708, 5.228802324, 3.2478357672000002, 0.171661392, 0.0, 0.0, 18.323142804, 0.0858306816, 6.238178812799999, 4.998776363999999, 0.0, 0.0, 0.0034332264000000003, 4.257202428, 10.842129, 29.19615912, 20.24917416, 17.61588648, 92.43279216, 56.9332044864, 9.22851576, 8.76159468, 10.893636172799999, 9.161564925599999, 136.55322216, 0.53901684, 0.0, 0.460052568, 1.76811156, 8.0440502904, 24.68833956, 21.517760268000004, 41.28284844, 0.2197265184, 0.0, 4.89234582, 0.181960812, 0.0, 0.10986336, 24.35874606, 3.4933162824, 2.1921198624000002, 2.8976430528, 0.0, 0.0274658256, 0.0, 0.0, 0.0, 0.0, 1.3921731863999998, 3.12251976, 2.4187084704, 0.0, 0.09269712, 0.0, 23.05412244, 1.8882757944, 0.0, 0.0, 0.0, 2.336313096, 0.0, 0.4274369424, 3.54995946, 5.08375512, 6.8990679648, 0.0, 0.0, 1.4745707208, 0.0, 0.0, 0.0, 0.690078348, 0.04119876, 0.0, 0.0, 0.0, 2.34832932, 0.0, 0.0, 0.0, 0.065231316, 5.4966007584000005, 5.24940948, 0.0, 1.0059354, 0.0, 2.1011342184, 2.37407688, 0.2677917384, 10.50224112, 1.3870239768000001, 0.25749183600000003, 12.792208500000001, 6.245042112, 1.4591214719999999, 1.4831532719999998, 0.06179814, 1.8436434119999998, 13.12179948, 10.91079324, 0.7965084240000001, 0.628280424, 4.5696253896, 4.779053783999999, 3.3628485024, 0.6608957543999999, 0.597381336, 0.3089902032, 0.0, 0.0, 0.0, 0.0, 0.0, 0.0, 1.9792558584, 7.606320192, 1.22909436, 7.6715496, 48.40681824, 4.8048032880000004, 13.64364396, 39.5541996264, 18.112025664, 1.0265348159999999, 0.746727336, 3.41778492, 11.02237848, 3.41606358, 19.97108568, 0.0, 0.2540587464, 0.0, 0.0, 0.1836778464, 5.666541012000001, 0.485802324, 0.539016696, 0.5887995264, 0.42743665439999995, 0.0, 0.0, 1.2290960448000001, 6.78749184, 0.0, 0.0, 0.0, 0.0, 0.1167298128, 0.10986324480000001, 0.0, 0.0171661392, 0.0, 0.006866452800000001, 0.01373292, 0.0, 0.0, 0.0, 0.0, 0.0, 0.0, 0.0, 3.7662495624, 24.7741850592, 0.0, 0.0, 0.0617980824, 0.0, 0.0, 0.0, 0.0755310384, 0.0, 0.0, 0.0, 0.0171661392, 0.0, 0.0, 0.0, 0.0, 0.0, 1.112365656, 0.21629334239999998, 0.0, 0.0274658328, 0.5802152544, 3.5482419648000003, 9.45167976, 5.745509208, 0.0652313232, 0.0, 0.0, 0.0, 0.0102996864, 1.03683528, 1.184463828, 0.20256048, 0.0, 0.0, 0.0, 0.0, 0.0, 0.0205993656, 0.09613037519999999, 0.1029968064, 0.0, 0.0, 0.0, 0.0205993584, 7.764245244, 5.884555644, 0.0, 0.0, 0.0, 0.0, 0.0, 0.0, 0.0, 0.0, 0.0, 0.0, 0.0, 0.0, 0.0, 0.0, 0.0, 0.0, 0.0, 0.0789642432, 0.216293328, 0.0205993584, 0.058364892, 0.0480651912, 0.377654868, 1.1089326743999999, 0.576781884, 0.4360199832, 0.0240325992, 0.0, 0.0, 0.0, 0.0, 0.0, 0.0, 0.0, 0.0, 0.369071964, 2.192114916, 2.063369916, 0.0, 0.0, 0.0, 0.0, 0.0377655048, 0.0, 0.0, 0.0, 0.0, 0.006866452800000001, 0.0, 0.0, 0.0, 0.161361864, 0.0, 0.0, 0.0, 0.0, 0.0, 0.0, 0.0, 0.0, 0.0, 0.0, 0.0, 0.0, 0.0, 0.0617981184, 0.0, 0.0, 0.9853363584, 0.0, 0.0, 0.0, 0.0, 0.0, 0.0, 0.5493160944, 0.11672967599999999, 0.0205993728, 34.239574656, 0.0, 0.041198724, 0.0, 0.0, 0.7003785528, 3.8246154264, 23.792265936, 9.966656772, 12.895201944, 19.62090054, 26.25217884, 0.563049144, 0.0, 0.0, 0.0, 0.0, 0.0, 0.0, 0.0, 30.215827584, 0.0, 0.0, 1.3149264528, 58.970866464, 0.0, 0.0, 0.0, 0.00686646, 4.7241244656, 12.92609952, 3.5739925919999997, 0.0, 23.435207028, 0.86174028, 0.1682283312, 4.988478348, 0.0, 0.0, 0.0, 0.0, 7.10849754, 0.0, 0.0, 0.0, 0.0, 0.1201630464, 0.0, 0.78964236, 0.16479486, 72.008496504, 2.5268544, 0.0, 0.027465804, 4.40826156, 17.976378312, 5.14984518, 9.4928768784, 22.017276504, 0.0, 0.0, 0.0, 0.0, 0.0, 0.163078308, 0.058364856, 0.3845215296, 24.9423699024, 0.0, 0.0, 0.0, 0.0, 0.0, 0.10299679199999999, 2.1114342, 0.46348524, 1.55181996, 0.0, 0.0, 0.0, 0.0, 0.0, 0.0, 0.157928328, 18.893034756, 0.0, 0.0, 11.882403446400001, 21.382169076, 0.0, 0.0, 0.0, 0.0, 0.0, 0.0, 0.00686646, 0.1098633168, 0.0, 0.0, 0.0, 6.80551362, 15.093324792, 0.0, 0.0, 1.06430058, 0.604248336, 0.358772364, 0.0, 0.0, 0.264358656, 0.0, 1.87797438, 0.013732905600000001, 0.0, 0.0, 2.083968, 1.1724477984000001, 19.5693948, 25.38013788, 0.0205993728, 0.2986904664, 0.0, 0.0, 0.0, 0.024032577599999997, 0.0, 0.0, 0.082397628, 0.0, 0.0, 0.12187955519999999, 0.024032592000000002, 0.09269712, 2.3569112519999997, 40.642534922399996, 0.50811786, 5.348967408, 0.0343322712, 2.78778006, 4.8957802848, 3.0487044168, 0.041198724, 0.0, 1.622199564, 0.0, 0.0, 0.0, 0.0, 0.0480651624, 0.0, 0.0, 1.65910662, 18.52571448, 0.0, 0.0, 0.0, 0.0, 0.0, 0.0, 1.163864052, 9.348680304, 5.55667704, 0.0, 0.0, 0.7312770000000001, 4.5267135984, 10.47993228, 0.0102996792, 0.0, 0.0, 6.0253163784, 0.0, 0.71754408, 0.0, 0.0, 0.0, 13.037676026400002, 0.0, 0.0, 0.0, 1.1595727584, 0.013732905600000001, 0.2712250584, 3.416059512, 0.0, 7.6131797328, 0.32272346879999997, 0.0755310096, 0.0, 0.0, 1.448822124, 0.0, 0.0, 0.0, 0.0, 0.18196110000000001, 8.77189644, 0.0, 16.33873392, 1.424786976, 17.63992206, 0.0, 0.0, 0.360488808, 47.955301811999995, 0.0, 0.0, 0.0, 0.0, 0.0, 0.0, 0.0, 0.0, 0.0, 0.0, 0.0, 0.0, 0.0, 0.0, 0.0343322856, 4.665753432, 0.36563832, 0.0, 0.1579284504, 2.2985474256, 24.5870568, 0.0, 0.3725050968, 0.0, 0.0772475904, 0.317573424, 2.42557506, 0.3759384312, 0.0, 0.0, 0.0, 0.67977954, 2.90450988, 3.496741956, 0.468635436, 0.0343322712, 0.006866452800000001, 0.13389592320000002, 0.0411987168, 0.030899052000000003, 0.0, 0.0, 0.0, 0.0, 0.0, 0.006866452800000001, 0.11501312400000001, 0.0, 0.40597939439999997, 0.5681997288, 0.6119733024, 0.0, 0.0, 0.0, 0.0, 0.0, 0.0, 0.0, 0.0, 0.0, 0.0, 0.0, 0.0, 0.0, 1.936340208, 1.1355403608, 1.055718468, 0.2197261656, 0.0, 0.07553099519999999, 0.1562118336, 0.0446319504, 0.0, 0.0, 0.0, 0.0, 0.0, 0.0, 0.0, 0.0, 6.636428027999999, 3.017807064, 0.0, 0.0, 0.0, 0.0, 0.0, 0.0, 0.006866452800000001, 0.0, 0.0, 0.0, 0.0, 0.0, 0.0, 0.0, 0.0, 0.0, 0.0, 0.0, 0.0, 0.11930468400000001, 0.0, 0.5433084, 9.46197036, 0.0, 0.0, 0.0, 0.0, 0.0, 0.0, 0.0, 0.0, 0.08583066, 0.0, 0.037765512, 7.01494254, 0.037765497599999996, 0.0, 0.0, 0.0, 4.7515879944, 14.78089584, 0.0, 0.0, 0.0, 0.0, 0.0, 0.1047134376, 1.146697848, 0.17681119920000002, 14.17580064, 1.8178930224, 0.0, 0.0514984104, 0.0, 0.0, 0.0, 0.0, 0.0, 0.0, 0.0, 0.0, 0.0, 0.0, 0.0, 0.0, 0.28581620399999996, 0.0, 0.0, 0.0, 0.0, 0.0, 0.0, 0.0, 0.0, 0.0326156544, 1.05400188, 0.048065147999999995, 0.0, 0.0, 0.0, 0.0, 0.0, 0.0, 0.0, 0.0, 0.0240326064, 0.0102996792, 0.0, 0.0, 0.0, 0.0, 0.0703811448, 1.27716264, 0.0, 1.479722868, 1.25999604, 0.0, 0.0, 0.0, 0.0, 0.0, 0.0, 1.33552404, 10.4816406384, 0.0, 0.0, 0.0, 0.0, 0.0, 0.0, 6.40640268, 0.0, 0.09613026, 1.07803332, 19.802857716, 4.259775564, 0.0, 0.0, 3.50532108, 1.375866, 0.0343322928, 0.0, 0.0, 0.0, 0.0, 1.4041909944, 0.7089615072, 0.30727404, 63.277818516, 0.582790464, 46.7381916, 2.8075209984, 8.01401148, 1.2325283999999999, 46.66784869439999, 3.417778476, 0.0308990376, 0.0, 0.0, 0.0, 0.0, 0.0, 0.0, 0.0, 0.07553109599999999, 0.607681296, 0.0, 0.0, 0.0034332264000000003, 0.0, 0.0, 0.0, 0.0, 0.006866452800000001, 0.0, 0.006866452800000001, 0.0, 0.1922606784, 0.017166132, 0.0, 0.0, 0.0, 1.8316266624000002, 11.02409748, 0.0, 0.0, 0.0, 0.0, 4.135323456, 70.67988359999998, 0.7690437720000001, 17.5643892, 0.0, 0.0, 0.0, 1.61705052, 0.0, 0.0, 0.0, 0.0, 0.0, 0.0, 0.0480651912, 0.0, 0.0, 0.0, 0.0, 1.0677339864, 0.089263944, 0.2437591824, 4.0409080848, 32.806220184000004, 0.030899052000000003, 0.0, 0.0, 0.0, 15.6108937464, 34.708212431999996, 0.0, 0.0, 2.81353068, 15.6057341328, 0.3544802064, 0.0205993728, 0.0, 1.93977432, 29.687101524000003, 4.4734966344, 0.0, 1.05743412, 0.0, 0.0, 0.0, 0.0, 1.17072846, 17.739492444, 0.42915329999999996, 0.0, 0.38795454, 0.1304626536, 14.57405262, 0.0, 0.0, 0.0, 0.0, 0.0, 0.0, 0.0, 0.0, 0.0, 0.0, 0.0, 0.0, 3.848650956, 8.974456452, 34.10567028, 16.41082968, 8.43543846, 26.0032671, 0.0, 0.0, 0.0, 0.0, 0.0, 0.0, 0.0, 0.0, 0.0, 1.5071865480000002, 45.28770426, 0.4222867752, 9.12208968, 12.31842168, 4.2606378, 0.0, 0.0, 0.0, 0.0, 2.1251665440000003, 0.02059938, 0.0, 0.0, 0.10643004, 0.1441955448, 0.0, 0.0, 2.811814164, 5.884552404, 4.20227064, 23.527909656, 0.0, 0.37422198, 2.75688162, 0.7965086544, 23.19145164, 1.3423923, 0.6076818648, 0.853157304, 0.0, 2.2590645984, 5.362699500000001, 0.12702947039999998, 0.48408518159999997, 1.17073098, 0.9544374, 0.333023148, 0.2746582704, 1.1810307384, 0.8960726520000001, 1.26342756, 0.0652313088, 0.925254648, 0.49438455119999997, 0.398254392, 0.0, 0.0102996792, 0.0961303608, 1.3338091440000002, 0.508117356, 0.43945283520000006, 0.0, 0.0, 0.0, 0.0, 0.0, 0.0, 0.0, 0.0, 0.12016303199999999, 0.422286912, 0.1407623904, 0.0, 0.0, 0.0, 0.0, 0.0, 0.333023148, 0.0, 0.463485816, 0.0, 0.0, 0.0, 0.0, 0.0, 0.0, 0.0, 0.0, 1.31149566, 14.230725148800001, 0.0, 0.0, 0.0, 0.096130404, 0.13389592320000002, 0.0, 0.013732905600000001, 0.0, 0.0, 0.0, 0.0, 0.041198724, 0.21285990000000002, 0.0, 0.0, 0.0686645784, 0.0, 0.0, 0.0240326064, 0.0, 0.2128600584, 0.3055574304, 0.820541484, 6.3085590864, 1.105499556, 0.048065184000000004, 0.164794896, 0.0, 0.0, 0.0, 0.0, 0.20256044399999998, 0.0205993656, 0.0, 0.0, 3.9138798383999998, 6.53686092, 0.0, 0.0, 0.0, 0.652313052, 0.0, 0.0137328984, 0.058364856, 0.0, 0.0, 0.0, 0.0, 0.0, 0.0, 0.0, 0.0, 0.0, 0.0, 0.2128600224, 6.263923284, 1.3046267087999999, 1.908874116, 0.051498395999999995, 0.0034332264000000003, 0.0, 0.0, 0.0, 0.0, 0.0, 1.38359052, 0.0, 0.0, 0.0, 0.0, 0.0, 0.0, 0.0, 0.0, 0.0, 0.0, 3.62548692, 0.013732905600000001, 0.0, 0.0, 0.0, 0.0, 0.0, 0.0, 3.7302012, 4.3447484304, 4.4322982128, 0.12359622960000001, 0.0377655264, 0.0, 0.0, 0.0, 0.0, 0.0, 0.0, 0.0, 0.0, 0.0, 4.2915352680000005, 6.5179836, 0.0, 0.089263872, 0.0, 1.18961352, 22.03273944, 61.343168543999994, 0.0, 0.0, 0.024032592000000002, 0.6763455648000001, 3.3671418984, 0.0, 0.0, 0.0, 0.0, 0.0, 3.720761748, 68.5615932, 17.1627209064, 0.0, 17.5506573528, 0.006866452800000001, 0.0, 0.0, 0.0, 0.0, 2.7448647264, 20.76072084, 0.0, 24.767309426399997, 33.1443826704, 0.9990680976, 1.6067517408, 0.1047134232, 0.0, 0.0, 0.0, 0.497818224, 0.590515164, 0.0, 0.05149854, 15.894129492000001, 0.0, 0.0, 0.0, 0.0, 0.0, 0.0, 0.0, 0.0, 0.2746584, 56.31183648, 0.0, 0.0, 11.19232296, 0.0892639512, 0.0, 0.0, 0.0, 0.24375913920000003, 0.0, 0.47721888, 0.0, 0.0, 0.0, 0.0, 0.044631972, 0.0, 0.48408487200000005, 3.3250817880000003, 4.803085584, 0.0, 0.0, 0.0, 0.0, 0.18539424, 0.0, 0.0, 0.0, 0.0, 0.0, 4.1473394063999995, 0.0, 0.0, 0.0, 0.0, 0.0, 0.15449545439999998, 0.08068086, 0.013732905600000001, 0.25749205199999997, 0.35190576, 0.35877211200000003, 3.36885264, 87.36013149120001, 59.611147200000005, 12.48321636, 0.0102996792, 0.0, 0.9527211864, 0.0102996792, 0.0102996792, 0.0, 0.0034332264000000003, 0.0, 0.0, 0.2574920304, 1.102065552, 1.1398333464000001, 0.0, 0.0, 0.8600233464, 6.65016066, 0.0, 0.0, 0.0, 4.212568944, 0.0, 0.0, 0.0, 0.0, 0.86860638, 8.486934336000001, 3.749083704, 3.055569732, 58.038682392, 6.3823745664, 4.6279927224, 0.0, 54.2896361064, 0.21286008, 0.77247612, 50.20753392, 20.09125242, 27.211733992800003, 77.5188976176, 0.12702947039999998, 0.0, 10.42328088, 97.09519093200001, 83.70549828, 0.9819025487999999, 0.0, 0.0, 40.51203246, 12.03346728, 11.73476538, 10.540005264, 0.0, 0.09613044, 0.22659301440000001, 0.0, 0.0, 0.0, 3.8520805680000003, 0.0, 3.4744267439999996, 33.988966596, 33.206177484, 6.279372576, 2.80494648, 0.13046248800000002, 0.0, 0.0, 0.44975268, 51.3301648176, 0.2368928016, 0.0, 0.0583648704, 17.610739236, 1.445388048, 2.4547574880000003, 26.85470148, 4.267503, 0.7484431968, 0.861740244, 0.0, 0.0, 0.0823974696, 0.0, 0.0, 0.0, 0.17852769359999998, 4.8065172552, 0.0171661392, 0.0, 0.0, 1.0711655784, 29.64935916, 1.2943256256, 0.5321504664, 5.48629632, 1.177596396, 0.3227235624, 0.05493168, 0.0, 0.0, 0.0, 0.0, 0.0480651696, 0.0034332264000000003, 3.5139086639999997, 0.0, 0.0, 0.0, 0.367355556, 1.2694360176000001, 3.144836016, 1.6668312263999998, 0.0, 0.0, 0.0, 0.013732905600000001, 0.0, 0.0, 0.0, 0.0, 0.0, 0.0, 0.0, 0.036048888, 0.1785280104, 1.2462615504, 0.9115223904, 2.075385996, 0.6351470928, 3.9035825280000003, 0.413703792, 1.36899936, 11.274715295999998, 32.445705600000004, 0.0, 0.0, 0.0, 0.0, 0.0, 0.0, 2.72941596, 2.96287452, 1.5724199159999999, 0.0, 0.0686645784, 0.0, 0.0, 0.0, 0.0, 0.0583648848, 1.2565615464, 0.477218556, 1.019667996, 0.3089904984, 1.8127440648, 0.7724764008, 0.14076234, 0.0686645784, 0.1647948384, 0.0, 0.0, 0.264358512, 0.151062012, 0.0, 0.0, 0.0, 0.0, 0.0, 0.0, 0.013732905600000001, 0.0, 0.0, 0.0, 0.0, 0.0, 0.8686066823999999, 4.274369028, 1.9655228303999999, 0.0, 0.1012802184, 0.0, 0.0, 0.017166132, 0.0, 1.4659889544, 7.1994802104, 0.0343322928, 0.0102996792, 0.0, 0.0, 0.0, 0.0, 0.0, 0.0, 0.0, 0.0, 0.0, 0.0, 0.0, 0.0, 0.0, 0.0, 0.0, 0.1544952456, 0.0, 0.0, 0.0, 0.0, 0.0, 0.0583649064, 0.2368927008, 0.0, 0.0, 0.0, 0.0, 0.058364892, 0.0, 2.040197976, 2.6006675759999998, 14.917370472, 25.09690068, 0.09698868, 0.0, 0.0, 0.0, 0.0, 0.0, 0.0, 0.0, 0.0, 0.0, 0.0, 11.3811417864, 10.68076656, 0.2918243664, 0.0, 0.0, 0.0, 0.0, 0.0, 1.8762593184, 0.5252835024, 1.0282518144, 0.501251616, 0.0, 0.006866452800000001, 1.9397736864, 13.4565372, 0.0, 11.791420092000001, 0.0, 0.0, 4.3962463584, 6.52828176, 23.85406548, 0.0, 0.0, 0.0, 0.0, 0.15106212, 1.009369044, 0.770759064, 0.0, 0.0102996792, 0.0, 0.0, 0.0, 0.0, 0.0, 0.0, 0.9475704359999999, 0.60853914, 0.0, 0.8385665328, 0.722694636, 17.195317199999998, 0.0, 0.0, 2.1028495680000003, 85.73370012, 0.322723404, 0.0, 0.0, 2.652168276, 88.22708726399999, 2.3586259392, 5.89141908, 7.682704704, 0.0, 0.0, 67.229452152, 1.4316561719999998, 0.985336344, 0.0, 13.822185866400002, 9.611322516, 7.13939796, 8.97789384, 0.0, 0.0, 0.20599374239999999, 2.223014832, 0.0961303968, 0.044631972, 0.0, 0.0, 0.24032628, 0.0, 3.353407308, 0.0, 3.5276406912000002, 0.0, 25.71315768, 0.0, 0.0, 0.0, 0.0, 0.411987384, 0.03948228, 1.8814107168, 2.9182428, 0.0, 0.0, 0.0, 2.933692272, 1.10378268, 0.29869092, 0.324440028, 0.0, 0.0, 0.0, 0.230026284, 0.0, 0.0, 0.0, 1.6170489576, 0.13217943599999998, 0.0, 0.0, 0.156211992, 0.0, 0.0, 8.2208589048, 0.0, 0.0, 0.0, 0.0, 0.0, 0.6402973752000001, 0.0, 0.03604896, 0.0, 0.089263944, 0.0, 0.432586584, 9.18388602, 2.8221100344, 0.0, 0.0, 0.0, 0.0, 0.0, 0.0, 0.0, 2.5096922999999998, 0.0, 0.0, 0.0, 0.0, 0.0, 0.0, 0.0, 0.0, 0.15106194, 0.0, 3.04870554, 2.3483268792, 0.0, 0.0, 0.0, 7.0415549064, 0.5287173048, 0.08068086, 1.9363413384000001, 11.9253125304, 0.0, 0.0, 0.0, 0.0, 0.0, 0.027465818399999998, 31.666353731999997, 0.0583648704, 0.0, 0.017166132, 0.1424789568, 11.456676108, 40.857117372, 0.0240326064, 12.6909243864, 0.085830696, 0.0, 0.0, 0.0, 0.0, 0.0, 0.0, 0.0, 0.0, 0.0, 0.0, 0.0, 0.0, 0.0, 0.0, 0.0, 0.08239748400000001, 4.0031476992, 0.0, 0.0, 0.0, 0.0, 0.0, 0.0, 0.025749194399999998, 1.2102125328, 0.0, 0.0343323, 0.0, 0.0, 0.0, 0.0, 0.0, 11.000065946400001, 22.027589495999997, 0.22659264, 0.0926971272, 2.430724536, 0.5458832064, 0.0, 0.0, 0.0, 2.7568818719999997, 7.88955642, 0.0, 0.0, 0.0, 0.0, 0.0034332264000000003, 0.4772184768, 6.145474104, 0.0, 4.3910952192, 3.7971473328, 1.112364792, 0.0, 0.06523134480000001, 0.3261564864, 0.0, 0.0, 3.6117546264, 4.312135872, 10.1108502864, 10.79407116, 2.427292224, 0.5012512704, 0.0, 0.037765476, 10.17265392, 0.0, 0.0, 0.0, 0.0, 0.0, 0.0, 0.0, 0.5424498144, 0.0, 0.4360203072, 0.0, 0.0, 0.0, 0.0, 0.0, 0.0, 0.0, 0.0, 0.0, 0.9630209664, 0.0, 0.0308990592, 0.0, 0.0, 0.0, 0.1476287424, 0.0, 0.0, 1.0660172904, 0.1356126624, 7.51962276, 1.7423623080000001, 1.1295323640000001, 0.037765512, 0.0, 0.0, 0.0, 0.0, 0.0, 0.0, 0.0, 0.0, 0.0, 0.0, 0.0, 0.0, 0.0, 0.1098632808, 0.6042483648, 0.34160619600000003, 0.0034332264000000003, 0.29010762, 7.9633736784, 0.058364856, 0.0, 0.0, 0.0240325848, 0.0102996792, 0.0, 0.340747956, 0.017166132, 33.258540636, 0.375938604, 0.0, 0.0, 0.0, 1.3629913128, 0.0, 0.0, 0.0, 0.0, 0.0, 0.0, 0.0, 0.0, 0.0, 0.0, 0.0, 0.0, 0.0, 0.006866452800000001, 0.0, 0.0, 0.0, 0.0, 0.0, 9.8533674, 6.308556768, 0.913238604, 0.0, 0.0, 0.0, 0.6488801928, 0.0, 0.0, 0.0, 0.1184463576, 0.0, 0.0, 1.9826888904, 1.318359528, 0.7038112752, 0.2506256064, 1.673698392, 0.0, 0.0, 0.0, 0.0, 0.0, 0.0171661392, 0.0, 0.0, 0.0, 0.0, 1.547526816, 0.0, 0.0, 0.0, 0.0034332264000000003, 0.1201629384, 0.0926971416, 0.0, 0.0, 0.0, 3.5379406008, 0.0, 0.199127088, 0.097846992, 0.0, 0.0, 0.0, 0.0, 0.0, 1.9466397000000002, 0.0, 0.0, 0.0, 0.31499897039999997, 0.017166132, 0.9441376344, 0.2489089968, 0.08583072480000001, 0.006866452800000001, 0.0, 0.0, 0.0, 2.56633848, 1.2651444, 0.0, 0.0, 4.710388104, 16.757584308, 2.68306776, 0.0, 0.0, 0.0, 0.0, 0.5184173448, 0.7295607359999999, 0.7913588904000001, 5.3403866064, 0.133896204, 0.0, 0.0, 0.0, 0.0, 6.006431952000001, 0.9827610696, 67.56595344, 5.29231752, 0.0, 0.3004071984, 25.82476074, 42.196953312, 0.0, 0.830841084, 0.0, 0.0, 0.13217943599999998, 3.5482429224, 4.3310186856, 13.482284292000001, 0.8308410768000001, 0.4428863496, 25.041972024, 5.1034932, 37.78612452, 3.32336448, 0.108146664, 0.0, 0.0, 0.0, 0.0, 0.0, 0.089263944, 7.995987252000001, 48.44971566, 1.28402676, 0.0, 0.0, 0.0, 0.0, 0.0, 0.0, 0.18196106399999998, 0.0, 0.0, 0.0, 2.73971664, 0.0102996792, 0.0, 0.0, 0.0, 0.0, 0.0, 0.0, 0.0, 0.0, 0.0, 0.0, 0.0, 0.0, 0.0, 0.0, 0.048065184000000004, 0.0, 0.0, 0.1991272968, 0.0, 0.0, 1.191329892, 0.0, 0.0, 0.0, 0.0, 0.3742218864, 0.0, 2.157784452, 0.8548737120000001, 0.0, 0.0, 0.0, 0.0, 0.0, 0.0, 0.0, 0.0, 0.0, 0.0, 0.9939189312000001, 0.0, 0.0, 0.0, 0.0, 0.0, 0.0, 0.0, 0.0, 0.5149842768, 0.0, 0.0, 0.0, 0.422287308, 16.9738747344, 0.0, 0.0, 0.0, 0.0, 0.0, 0.0, 0.0, 0.0, 1.80759762, 0.0, 0.0617980824, 3.059004204, 0.47378562479999997, 1.7578139616, 0.0, 0.0, 0.0, 0.0, 0.0, 9.128956032, 0.0755309664, 4.42714374, 7.63893288, 0.0, 0.0, 0.0, 0.0, 5.802155568, 15.3980253, 0.0, 0.0, 0.0, 0.0, 0.0, 0.0, 0.240325884, 2.149205076, 3.117372804, 61.4239488, 9.72290664, 7.74535752, 0.0, 0.0, 0.0, 2.54230452, 1.781845488, 0.1853943048, 0.0, 0.0, 0.0, 0.41370372, 37.966341492, 0.32272344, 4.7138247, 9.78469524, 0.0, 0.0, 0.0, 1.7337815064, 3.92417892, 0.0, 0.0, 0.4531863024, 0.0, 0.0, 25.43852592, 0.0, 0.0, 0.0, 0.36735588, 0.0686645352, 0.0, 7.08618222, 26.3912184, 0.0, 0.3913879824, 13.75350804, 24.465180168000003, 0.044631972, 2.3139936504, 1.51062012, 0.796508388, 1.2153623040000001, 19.171143395999998, 4.205703204, 38.8486982592, 0.0, 0.0, 0.0, 0.0, 0.0, 0.14076235439999998, 0.020599344, 0.0, 0.0, 3.628923372, 14.0419010304, 1.898574444, 0.048065205599999994, 0.0, 0.0, 0.0, 0.0, 0.0, 0.0, 0.0, 0.0, 1.05056802, 0.0480652128, 1.5140531519999998, 5.2597021680000005, 11.53907568, 0.0, 0.8171078328, 0.4343033448, 0.0, 0.0, 0.0, 0.013732905600000001, 0.0, 0.0034332264000000003, 17.1592678224, 0.0137329128, 0.0, 0.0, 0.1064300544, 0.37765478880000003, 0.0, 0.0, 0.0, 0.034332264, 0.9372708000000001, 0.0, 0.0, 0.0, 0.0, 0.0, 0.0, 0.0, 0.0, 0.0, 0.0, 0.0, 0.1956939768, 1.0007856864, 0.0652313304, 0.0, 0.00686646, 0.0, 0.0, 0.116729784, 0.8308415159999999, 0.370788624, 0.09956343599999999, 1.4453885664, 2.68478532, 0.0, 0.0, 0.34503945840000005, 4.0769590319999995, 0.872040096, 1.634216616, 0.853157304, 0.0, 0.0, 0.0034332264000000003, 0.0, 0.10986344640000001, 0.662612688, 0.006866452800000001, 0.0, 0.0, 0.0, 0.0, 0.0, 0.0, 0.0, 0.00686646, 1.7818453584, 0.2025605736, 2.0685190319999998, 21.81815892, 12.01458276, 0.0, 0.0, 0.0, 0.0, 0.0, 0.0, 0.0, 0.0, 0.0, 0.0, 0.0, 0.0, 0.0, 1.02996846, 1.074600504, 0.35877227759999997, 0.1304627184, 0.0377655264, 0.0, 0.47721852, 3.9104433792, 0.0, 0.0102996792, 0.3227233752, 0.6454466496, 3.0864689999999997, 0.0, 0.0, 0.0, 0.0, 0.0, 0.0, 0.0, 0.0, 0.0, 0.0, 0.0, 0.02059938, 3.9241797839999997, 21.85248816, 10.43700948, 5.242536288, 13.707163187999999, 10.2344530392, 0.664329456, 0.0, 0.0, 0.0, 0.0, 0.0, 0.0, 0.0, 0.0, 0.0, 0.0, 0.1991273904, 0.0, 0.0, 0.0, 0.0, 0.0, 0.0, 0.0, 11.785416695999999, 0.17681122800000001, 4.93183242, 2.7122493528, 2.6332860240000002, 0.1373291424, 0.521850816, 0.0, 0.0, 0.0, 0.0, 0.0, 0.0, 0.0, 2.612687004, 0.0, 0.302123952, 0.0, 0.0, 0.0, 0.0, 0.0, 0.0, 0.0, 1.6239188664, 2.8495764, 0.0, 0.0, 0.0, 0.0, 0.0, 0.0, 0.0, 0.0, 0.0, 0.0, 0.0, 0.0, 0.456618852, 0.0892637712, 0.006866452800000001, 0.07638930000000001, 0.5767825247999999, 0.0720978048, 0.0, 0.0, 0.0, 0.0, 0.458336088, 0.0, 0.0, 0.0, 0.0, 0.0, 5.65538616, 0.606823164, 0.15106212, 0.3725055504, 2.84958036, 5.38844904, 1.5398055287999999, 20.5204049064, 0.0, 0.4823686224, 0.61626456, 2.205850716, 15.028958368800001, 0.0738143712, 0.0, 12.29953464, 0.4068376128, 0.21114320399999997, 0.08239748400000001, 0.0, 0.0, 1.0608674759999999, 7.6028883264, 11.04469596, 0.0, 3.9542181839999997, 0.0, 0.8462911464, 1.9895569919999998, 0.0, 0.0, 0.0102996792, 0.709819632, 0.0, 0.0, 0.0, 0.0, 0.0, 0.0, 2.921676192, 0.0, 0.0, 1.2359606184, 44.408790431999996, 0.11672969039999999, 14.7388446, 0.0, 10.5297345864, 44.590743446400005, 0.0, 0.0, 0.0, 0.0, 0.0, 0.0, 0.0, 0.0, 0.0, 2.7053869464, 3.292469244, 0.66261294, 2.08053468, 0.0, 0.0, 0.0, 0.0, 0.0, 0.0, 0.0205993584, 0.544166964, 0.0, 0.0, 0.0, 0.17509482, 0.686645712, 2.253916584, 13.950920361600001, 0.0, 0.0, 0.0, 0.0, 0.0, 0.0, 0.0, 0.0, 0.0, 0.0, 0.0, 0.0, 24.1828094664, 4.410835898399999, 0.331306488, 1.7887096080000002, 0.11243833199999999, 0.0, 0.48923492399999996, 0.0, 0.0, 0.0, 0.0, 0.0, 2.1509158680000002, 17.372127600000002, 0.245475792, 0.0, 0.0, 6.6570263064, 0.0, 0.0, 0.0, 0.0, 0.0, 0.0, 0.0, 0.0, 0.0102996864, 5.348107224, 15.245243186400002, 0.1047134232, 0.7235527392000001, 3.271866372, 38.2478778, 33.9872461056, 0.0, 0.0, 0.0, 1.6290665784, 20.341013796, 36.475494264, 0.0, 0.0, 0.0, 0.0, 0.0, 0.04463196480000001, 2.80237284, 0.542451672, 5.08804236, 0.0926970984, 0.0, 0.0, 0.0, 0.0, 0.369072144, 0.7106783904, 1.357841232, 0.0514984104, 0.0, 0.25749205199999997, 0.0617980752, 0.3175734384, 0.0961303536, 0.1579284648, 1.4059067184, 9.4173439968, 2.8667467512, 4.6657589544, 2.3749346088, 0.6085398096, 106.76650755600001, 0.0, 0.0, 0.0, 0.0, 0.585365508, 0.0, 0.0, 0.0, 0.0, 0.0, 0.0, 0.0, 0.0, 0.0, 0.0, 0.0, 0.2918243304, 8.030313, 10.093688136, 0.29525767199999997, 0.0, 0.25062566399999997, 0.0, 0.0, 0.0, 0.0, 0.0, 0.0, 0.2403258984, 0.0, 0.9870531984, 2.57148666, 0.9956362320000001, 0.17166137760000003, 0.497818188, 0.0, 0.0, 0.0, 0.0, 0.0, 0.0, 0.0, 0.0, 0.0, 0.0, 0.0, 0.0, 0.0, 0.0, 0.0, 0.0, 0.0, 0.0, 0.0, 0.0, 0.0, 0.0, 0.0, 0.0, 0.0308990448, 2.9817590760000003, 6.711953472, 0.1304627904, 0.0, 0.0, 0.0, 0.5338673424, 0.1622200176, 0.5630496192000001, 0.0, 0.0, 0.0, 0.0274658256, 0.1553536224, 0.0, 0.0, 0.0, 0.0, 0.0, 0.0, 0.1974106944, 8.035470864, 0.0, 0.017166132, 0.0, 0.0, 0.0, 1.3423920984, 3.7267687728, 0.0, 0.0, 0.0806808384, 0.0205993584, 0.2677920552, 5.470850627999999, 0.12702944160000001, 0.2334595104, 0.0, 0.0, 0.0, 0.0, 0.0, 0.1064300904, 5.592730932, 1.773261828, 0.46863555840000004, 0.0, 0.0, 0.0, 0.0, 0.0, 0.0, 0.0, 0.0, 0.0, 0.0, 0.0, 0.4428863064, 7.05013488, 0.0, 0.0, 0.0, 0.0, 0.07724762639999999, 0.0, 0.0, 0.0, 0.0, 0.0, 0.0, 0.39138775200000003, 0.0, 0.0, 0.0, 0.0, 1.0780338672, 6.1815240648000005, 0.0, 0.0, 0.0, 0.0, 0.0, 0.0, 0.0, 0.0, 0.0, 0.0, 0.0, 0.0, 0.0, 0.43516152, 25.903701071999997, 0.0, 0.0, 0.0, 0.0, 0.0, 0.13389588, 1.750948596, 0.054931622400000005, 0.0, 0.69694686, 1.63249956, 0.0, 0.0, 0.0, 0.0034332264000000003, 0.0, 0.0, 0.0, 0.0, 0.0, 0.0386237808, 0.0, 13.847907744, 6.221009894400001, 0.9012244104000001, 18.70080336, 0.0, 0.0, 0.0, 0.0, 0.171661392, 7.1514128664, 2.6744841, 2.2487625504, 10.33401528, 2.70195012, 0.0, 0.0, 0.0, 0.0, 0.0, 7.30247742, 4.078676016, 21.9932604, 4.978184400000001, 0.0, 0.0, 0.0, 0.0, 1.103782428, 0.034332264, 0.0, 0.0875472984, 13.3243590528, 0.0755310024, 0.0, 0.0, 0.0, 0.0, 0.0, 0.0, 0.0, 2.6229853368000002, 2.0290363128, 0.94070448, 0.0, 0.0686646864, 0.04119876, 0.0, 0.0, 0.0, 0.676345752, 0.0, 0.0, 1.4677056, 1.792144116, 22.37093928, 0.0, 0.0, 0.02059938, 0.882339804, 0.0, 0.0, 0.0, 1.919174076, 21.77008254, 0.0, 0.0, 8.42685588, 0.83942424, 0.041198724, 0.0, 0.0, 0.0, 0.0, 0.1665115344, 2.2298813280000003, 0.0, 0.13217922, 0.8256911328000001, 0.0, 0.1974105864, 0.885772584, 0.0, 0.0, 1.478004264, 0.5458833072, 0.0772476408, 19.74706848, 29.33520912, 11.412907775999999, 1.9964222280000001, 2.1028533192, 0.0, 0.0, 1.757811924, 0.18024444, 0.6849288, 0.070381152, 0.50725944, 23.44122198, 0.085830696, 0.0, 0.0, 0.0, 0.0, 0.0, 0.0, 0.0, 0.0, 0.0, 0.0, 0.0, 2.8392792119999997, 8.5779224352, 0.82054152, 0.0, 0.0, 0.0523567368, 0.0, 0.0, 0.0, 0.0, 0.0, 0.3124237248, 1.69944642, 0.67977918, 0.0, 0.12702939119999998, 0.48923521200000003, 0.0, 0.559615752, 0.16136172, 0.0, 0.0, 0.0, 0.0, 0.0, 1.3629911184, 3.9619456056, 3.48815898, 0.127029528, 0.34332289200000005, 29.347209072, 0.0, 0.0, 0.0, 0.0, 0.0, 0.0, 0.0, 0.0, 0.0, 0.0, 8.17108236, 5.987548584, 1.043700696, 0.0, 6.29653824, 14.61868236, 13.38786648, 32.11783848, 5.747224996799999, 0.0, 0.0, 0.0, 0.0, 0.0, 0.0, 0.0102996792, 0.0, 0.0, 0.0, 0.0, 0.0, 0.0, 0.0, 0.123596388, 0.0, 0.0, 0.0, 0.0, 0.0, 73.40581692, 0.696945528, 0.0, 0.3553390944, 0.0480651912, 0.576782208, 0.183677688, 0.0, 0.0, 4.368778308, 0.6660456984, 0.161361684, 0.0, 0.0, 0.0, 0.0, 0.0, 0.0, 0.0, 0.0, 0.0, 0.0, 0.0, 0.006866452800000001, 0.0, 1.991271852, 0.006866452800000001, 0.0, 0.6866448984, 0.0, 0.0, 0.05493168, 0.0, 0.0, 0.0, 0.0, 0.0, 0.0, 0.0, 0.0, 0.0, 0.0, 0.0, 0.0034332264000000003, 0.0909805248, 0.0, 0.0, 0.0, 0.0, 0.0, 0.0, 0.0, 0.0, 0.0, 0.0, 0.0, 0.048065184000000004, 0.5733487224, 0.5201342712, 0.0, 0.0, 0.0, 0.1253129328, 0.2763751752, 0.0, 0.0, 0.0, 0.020599344, 0.0, 0.743293908, 0.0, 0.02746584, 7.53422634, 3.88984464, 0.9269711928000001, 0.12016298880000001, 0.0, 0.0, 0.0, 0.0, 0.0, 0.0, 0.0, 0.0, 0.0, 0.0, 0.0, 0.0, 0.044631972, 14.402388744000001, 6.432154855199999, 1.2462616368000001, 0.7741927512000001, 0.0, 0.0, 0.0, 0.0, 0.0, 0.0, 0.0, 0.0, 0.487518516, 0.17681122800000001, 0.0, 0.0, 0.0, 0.0, 0.0, 0.0, 0.3433227984, 0.0, 0.0, 0.0, 0.0, 0.0, 0.0, 0.0, 0.0, 0.0, 0.0806808384, 0.0, 0.0, 0.0, 0.0, 0.0, 0.0, 0.0, 0.0, 0.0, 0.0, 0.0, 0.0, 0.0, 0.0, 0.0, 0.0, 0.0, 0.0, 1.2634278984, 0.0549316296, 0.06866442, 1.3492590119999999, 0.0, 0.0, 0.0, 0.0, 0.0, 0.0, 0.01373292, 0.96817032, 0.0, 0.0, 5.736924792000001, 12.397384800000001, 62.601443208, 0.0, 0.0, 0.0, 0.0, 0.0, 0.0, 0.0, 0.0, 0.0, 2.51483778, 0.0, 0.0, 0.0, 0.0, 0.0, 0.0, 0.0, 0.0240326064, 6.5651909976, 0.0, 0.0, 0.0, 1.0540008864000001, 0.0, 0.0, 0.77075928, 0.0, 0.0, 0.0, 1.024818228, 0.0, 1.7715456719999998, 3.2066316, 0.0, 0.0, 0.0, 0.0, 2.3500457999999997, 0.0, 0.0, 0.0, 0.0, 0.0, 0.0, 0.0, 0.0, 0.0, 0.0, 0.27294195600000004, 0.0034332264000000003, 0.013732905600000001, 0.0, 0.3810885264, 0.427437216, 0.048065184000000004, 7.46555256, 56.2259448, 0.0, 14.256473666400002, 0.0, 0.0, 0.0, 0.0, 0.0, 0.135612468, 0.0, 0.0, 0.0, 0.0, 0.0, 0.0, 0.0, 0.0, 0.006866452800000001, 0.6900786648, 0.1235961, 0.0, 0.0, 0.0, 0.09956358, 4.3807976928, 0.0, 0.0, 0.0, 0.0, 7.558251552000001, 1.4247911591999998, 0.0, 0.0, 0.0, 0.4669190928, 0.0, 0.0, 0.0, 0.0, 0.0, 2.1732336, 0.0, 0.0, 0.0, 0.0, 0.0, 0.0, 0.0, 0.0, 0.0755309376, 0.4669189344, 0.0, 0.0, 0.1132964784, 0.0, 1.9191744, 0.36392227200000005, 4.8511471824, 2.0650893264, 0.0, 0.0, 0.46005274799999996, 11.04984324, 0.06179814, 0.0, 0.0, 1.4659885728, 27.016060284, 0.0, 0.0102996792, 0.0, 0.0, 13.382720999999998, 0.0, 0.06179814, 0.0, 0.096130404, 0.29525724, 0.0, 0.0, 0.0, 0.0034332264000000003, 0.0, 0.0, 0.0, 0.0, 0.0, 0.0, 0.46691876880000005, 0.398254464, 0.0, 0.0, 0.0, 0.0, 0.0, 0.0, 0.0, 0.0, 0.0, 0.0, 0.0, 0.0, 0.0, 1.35612522, 0.0, 1.6101841464, 1.7904301416, 8.555602788, 4.741286004, 5.27687262, 0.048065184000000004, 0.0, 31.362545591999996, 0.0, 0.0, 0.0, 0.0, 0.0, 2.59551864, 0.0, 0.0, 0.0, 0.0, 0.0, 0.0, 0.1991274264, 11.769104304, 5.07431052, 0.0, 0.0, 0.0, 2.969741736, 0.0, 1.6393653648, 0.0, 0.0, 0.006866452800000001, 0.0, 0.0, 7.357408307999999, 0.72784368, 0.5561829792, 13.152697524, 0.05493168, 0.0, 0.0, 0.0, 0.0, 11.6695404, 77.61498242399999, 0.0, 0.0, 0.0, 0.0, 0.0, 0.0, 0.024032592000000002, 0.1613615184, 4.89921336, 0.0, 0.0, 2.1371838984, 0.0, 0.0, 0.0, 0.0, 0.0, 0.0, 0.9527206824, 0.0, 0.0, 0.0, 0.0, 0.0, 0.0240325704, 0.2935409544, 0.1029968064, 1.7629638984, 1.726912908, 0.0, 0.0, 0.149345568, 0.0, 0.0, 0.0, 0.0, 0.0, 0.0, 0.0, 0.0, 0.0, 0.0, 0.1356124824, 0.0, 4.2263032824, 22.37006304, 1.041126336, 0.0, 0.0, 0.0, 0.0755310024, 0.5321504952, 0.4257207648, 0.2265929784, 0.0, 0.0, 0.0, 0.0, 2.3620638168, 0.0583648704, 0.86345712, 0.0, 0.006866452800000001, 0.017166132, 1.7183299680000002, 3.0658771944, 0.037765512, 0.0755310168, 0.0, 0.0, 0.44975278799999996, 3.019522968, 0.0, 0.0, 0.0, 0.0, 0.0, 0.0, 0.0, 0.0, 0.0, 0.0, 0.0, 0.252342252, 1.4745726144, 26.1148389048, 0.7990834823999999, 0.0978470064, 0.0034332264000000003, 0.28495805760000004, 0.0, 0.0, 0.0, 0.0, 0.024032592000000002, 0.0, 0.5973817104, 0.7226947584000001, 0.0, 0.0274657968, 0.0, 0.0, 0.0, 0.0, 0.0, 0.0, 0.0, 0.2265932592, 3.6975870360000003, 0.0, 0.0, 0.0, 0.0, 6.045913044, 0.8153912376000001, 0.078964272, 0.0, 0.0, 0.01373292, 0.0, 0.0, 0.0, 0.0, 0.1338957864, 1.194762888, 15.66582012, 0.30899044800000003, 0.0, 0.0, 0.0, 0.0, 0.0, 0.0, 0.0, 0.0, 0.17166151440000002, 0.0102996792, 0.0, 0.0, 0.0, 0.0, 0.0, 0.0, 0.0, 0.0, 0.0, 0.0, 0.0034332264000000003, 2.1989821896, 14.04619632, 0.0, 0.0, 0.0, 0.0, 0.0, 0.0, 0.0, 0.0, 0.0, 0.0, 0.0, 0.0, 0.0, 0.0, 0.0, 0.0, 0.0, 0.0, 0.0, 0.0, 0.0, 0.0, 10.06622496, 0.865173348, 0.0, 0.0, 0.0, 0.0, 0.0137329128, 0.0, 0.0, 0.010299672, 0.17166135600000001, 0.0, 0.0, 0.0, 0.0, 0.0, 0.0, 0.0, 12.974170226400002, 6.44931612, 0.0, 0.0, 0.0, 0.0, 12.325288392000001, 1.1810303064, 3.5739922319999997, 7.410621110399999, 0.0, 0.0, 0.0, 0.0, 9.2010473928, 0.0, 0.0, 0.14076216, 24.449768784, 2.65045356, 0.0, 0.0, 0.0, 0.0, 0.0, 2.259064008, 2.1672240984, 11.09790612, 6.674196996, 1.1964807864, 0.0, 0.0, 0.0, 4.3945317864, 2.0685203640000003, 0.0, 0.0, 0.0, 0.060081494400000005, 0.1064300544, 2.89420794, 0.0, 0.94928688, 3.8537964648000003, 0.968170608, 2.44789182, 0.0720977616, 0.0, 0.0, 0.0, 0.41542081200000003, 0.0, 0.0, 12.149331732, 4.821966000000001, 0.0, 0.0, 0.0, 0.0, 0.0, 0.0, 0.0, 0.0, 0.0, 0.0, 0.0, 0.0, 0.0, 0.0, 0.0, 0.0, 0.0, 0.0, 0.0, 0.0, 0.0, 3.1671546839999998, 0.271224936, 0.0, 0.0, 0.0, 0.0, 0.0, 0.0, 0.0, 70.455028284, 0.0, 0.0, 0.0, 0.0, 0.0, 0.0, 0.0, 0.0, 0.0, 0.78363414, 0.0, 2.918242728, 44.07402852, 41.7686697576, 0.2901077064, 11.671255475999999, 15.91644312, 0.3158571024, 12.288379716, 15.4117529064, 3.162001824, 7.18917984, 47.09700216, 0.1699448904, 0.9982112688, 0.34847240399999996, 0.0961303968, 0.0, 0.0, 0.0, 0.0, 0.0, 0.1407623904, 0.0, 0.696945168, 0.0, 0.0, 0.0411987312, 0.3192901056, 0.0, 0.0, 0.0, 0.0, 0.47035224, 0.0, 0.12702945599999999, 12.363054184800001, 0.4308702984, 5.27343876, 11.52877446, 1.6685490744, 46.211241312, 7.305911856, 33.19243632, 37.3913028, 0.518417244, 0.6351470064, 1.337242068, 1.581001488, 0.35190588240000004, 10.612111046399999, 10.3477444704, 10.44903348, 5.25111768, 4.22973324, 0.0, 0.0, 0.0240326064, 0.0, 0.0, 0.0308990664, 0.7896429576, 0.0, 0.0480652128, 0.09784701359999999, 1.0540002024, 5.99441616, 0.305557236, 0.02746584, 0.030899052000000003, 0.0034332264000000003, 0.017166132, 3.752520732, 1.6685489232, 19.083595896, 0.569915964, 0.0652313232, 11.429215199999998, 3.979111788, 12.102128315999998, 0.0, 0.0, 2.9113767000000004, 3.9636620712, 2.865029688, 1.160431128, 4.6382909904, 1.3904568287999999, 0.2059937712, 0.0, 0.0, 0.0, 0.0, 0.0, 0.0, 0.0, 0.0, 0.0, 0.0, 8.957287872, 0.8377075584, 1.139831568, 0.8789057856, 0.638580096, 0.0, 9.719465436, 2.087403012, 0.0686645856, 0.0, 0.0, 0.0, 0.0, 0.0, 0.0, 0.0, 0.0, 0.0, 0.0, 6.1454771928, 5.7643884000000005, 0.0, 0.31242380399999997, 0.1544952168, 0.0, 0.0, 0.0, 0.5596160184000001, 0.7055285544, 0.065231316, 0.0, 0.0, 0.0, 0.0, 0.0, 0.0, 0.0, 0.058364856, 0.0, 0.0, 0.0, 0.0, 0.0, 0.0, 0.0, 0.0, 0.0, 0.0, 0.0, 0.0, 0.0411987096, 0.3519063144, 0.0, 0.267791724, 1.5432358824, 7.0020648, 8.493805152, 0.42743707200000003, 0.1974105936, 0.308990556, 0.5681988864, 0.920104812, 15.931032587999999, 1.57585212, 0.0, 0.0, 0.0532150272, 0.4815099576, 1.1664391104, 8.09039664, 1.1226655728000001, 2.083110336, 0.0, 0.0, 0.0, 0.0, 0.0, 0.0, 0.0, 0.0, 0.0, 0.0, 0.0, 0.0, 0.0, 0.0, 0.0, 0.0, 0.0, 0.0, 0.0686645352, 0.0, 0.0034332264000000003, 3.8297660039999997, 0.8960724792, 0.17509464, 0.0, 0.0, 0.0, 0.0, 0.0, 0.0, 0.0, 0.0, 0.0, 0.0, 0.0, 0.0, 0.0, 0.975035988, 0.1785277584, 1.5243552, 4.399677532799999, 0.0, 0.0, 0.0, 0.0, 0.0, 0.0, 0.0, 0.0308990592, 0.35791362, 0.5115515184, 0.051498432000000004, 0.0, 0.0, 0.0, 0.27894978719999997, 0.0, 0.0, 0.0, 0.0, 0.0, 0.4205703384, 0.7656096816, 0.006866452800000001, 0.0240325848, 0.0274657968, 0.0, 0.0, 0.0, 0.0, 0.0, 0.0, 0.816250032, 2.6985169439999996, 0.0, 0.0, 1.404191916, 2.00500452, 17.255400732000002, 86.79888388799999, 3.2993327160000003, 2.289963744, 0.0, 0.0, 0.0, 0.36563832, 0.0, 0.0, 0.0, 0.0, 0.0, 0.0, 0.96473718, 0.1338957, 0.0, 0.0, 0.39138804, 2.017020312, 0.0, 0.161361612, 1.481436648, 11.274723, 28.03060224, 1.2119292, 0.0, 10.117724112000001, 0.0, 0.1939774464, 2.12516802, 3.64780548, 0.0, 0.0, 0.0, 3.14569746, 1.2926096928, 0.0, 1.6608245328, 1.0145186928, 1.0248185159999998, 15.131095812, 29.96176068, 0.0102996792, 0.0, 0.0, 4.5198405864, 1.032543792, 0.0, 0.0, 0.0, 42.249296412, 1.0471350168, 22.7108124, 0.0, 0.0, 0.0, 1.3372423992, 0.0, 10.196683199999999, 0.0, 0.0, 0.3433227264, 8.71696872, 0.0, 10.81809702, 48.90292506, 0.64544652, 0.0308990376, 2.7225522719999997, 0.0, 0.0, 0.0, 0.0, 5.142976344, 1.67541732, 0.0, 0.0, 34.15716774, 318.1400208, 1.527786972, 0.7999416648000001, 0.1716613344, 0.489235068, 4.2348888, 0.027465818399999998, 0.0, 0.0, 0.0, 25.88481756, 3.472709652, 1.09691568, 0.0, 0.0, 0.0308990376, 4.0220290944, 6.231303266399999, 0.1613619144, 0.0, 0.0, 0.0, 0.0, 0.0, 5.057146296, 0.269508348, 0.0, 0.0, 0.0, 0.353622564, 5.6339263079999995, 0.4806521064, 48.48919308, 46.76913936, 0.0, 0.0, 0.0, 0.0, 8.3513286504, 0.187110864, 0.0, 0.0, 0.3089902968, 0.0, 0.86860692, 0.0, 0.0, 0.0, 0.0, 0.0, 0.0, 0.0, 0.0, 0.0, 0.0, 0.0, 0.0, 0.0, 0.0, 0.0, 0.0789642648, 5.029681104, 0.0, 0.0, 0.0, 0.0, 0.6488800920000001, 1.7749781928, 0.0, 0.0, 3.204918, 0.4943850264, 9.74607336, 1.033401708, 0.0, 0.0, 4.9936283424, 13.7002956264, 0.43086993840000004, 0.2231599032, 0.5939483904, 0.030899052000000003, 0.0480651984, 0.0, 0.0, 0.0, 0.0, 0.0034332264000000003, 0.9544372128, 0.0, 0.0, 0.0, 0.284958, 0.5132679552, 0.0, 0.0, 0.0, 0.0, 0.0, 0.0, 0.0, 0.0, 0.0, 0.0, 0.0, 7.5359331648, 0.0789642648, 0.0, 0.2334596328, 3.2409685007999998, 0.5664824784, 5.74379136, 0.6111145584000001, 24.42053988, 13.0085007192, 10.8421318872, 3.3405298992000003, 0.0, 0.0, 0.0, 0.0, 0.0, 0.0, 0.0, 0.0, 0.0, 0.0, 0.219726576, 0.3124236888, 19.0063497384, 10.464483348, 0.2437592184, 19.644925392, 3.01094064, 0.0, 0.0, 0.0, 0.0, 0.0, 0.0, 1.4591213280000002, 17.595292175999997, 0.6179812344, 0.08583073199999999, 0.6763453559999999, 0.5149843344, 0.25749199440000003, 0.051498395999999995, 1.4522548032, 16.86743856, 8.092116, 0.08239748400000001, 0.0, 0.36048859200000005, 0.264358548, 1.922606064, 0.0, 0.0, 0.0, 2.9199606264, 15.40145736, 1.7097475824000001, 2.5096897080000002, 29.161832399999998, 0.0, 0.0, 0.0, 0.0, 0.0, 0.0, 0.0, 0.4291537968, 0.7072449120000001, 4.9266846, 10.78720488, 3.0590055, 2.34489492, 4.892350068, 66.60283716, 0.4943844, 0.0, 0.0, 0.1579285224, 0.0, 0.0, 0.0, 0.24032593440000002, 0.037765512, 0.0, 0.0, 0.0, 0.0, 0.0, 0.370788732, 0.0034332264000000003, 1.934623512, 0.2574922752, 0.6849298224, 0.750159936, 0.7587433440000001, 0.0, 0.0, 2.269364184, 0.0, 0.0274658256, 0.0, 0.0, 11.218073486400002, 0.02746584, 0.0, 0.200843784, 0.0, 0.0, 0.0, 0.0, 0.0, 0.0, 0.0, 0.0, 2.7826298208, 1.2823105823999998, 0.0, 0.0, 0.0, 0.0, 0.0, 0.0, 0.0, 0.0, 0.0789642288, 0.626564448, 0.0, 0.0, 0.0, 0.0, 0.0, 0.0, 0.0, 0.0, 0.0, 0.0, 0.0, 0.0, 0.0, 0.0, 0.0, 0.109863288, 12.042897552000001, 0.0, 0.006866452800000001, 0.0, 0.0, 4.691505672, 3.14826984, 1.1243816424, 0.2094269688, 0.0, 1.4488201728, 15.0134968224, 0.0, 0.0, 0.0926971488, 1.48315446, 0.0, 0.0, 0.0, 1.3046268384, 0.4137046056, 0.36735534, 0.0, 0.0, 0.0, 0.0, 0.0, 0.0, 0.0, 0.0, 0.0, 0.0, 0.0, 0.0, 0.0, 0.0, 0.0, 0.0, 0.054931622400000005, 0.058364892, 19.936757664, 1.1707305479999999, 0.0, 0.0, 0.0, 0.0, 0.0, 0.0, 0.0, 0.39482133119999996, 0.30899044800000003, 0.2952578664, 0.0, 0.0, 0.0, 0.0, 3.604886172, 6.0527826864, 4.28123448, 0.0, 0.0, 0.0, 1.6548156000000003, 6.169513752, 22.418974692, 0.7587433943999999, 3.90701268, 1.2617111304000002, 0.0240326064, 0.0, 0.1407620664, 16.82109756, 5.1086411063999995, 0.0, 0.0, 0.0, 0.5939483184000001, 0.0, 0.0, 0.0, 2.63328516, 0.0, 0.283241448, 26.2160959176, 0.5321503439999999, 0.006866452800000001, 0.0, 0.0, 0.0, 0.08754727679999999, 0.393104736, 0.0, 0.0, 0.0, 10.586355552, 0.132179148, 0.0, 0.0, 0.15964501679999998, 10.731418596000001, 2.0101565303999998, 0.3158571384, 0.0, 0.0, 1.26342756, 1.2874605984, 0.142479036, 1.4127711047999998, 15.33708252, 7.578850514400001, 70.24892184, 0.7209781344, 0.0, 1.4453892, 0.0, 35.903868228, 19.121358888, 0.0772476408, 11.63349684, 31.163400828, 0.460910628, 1.0797494544, 3.16371492, 0.0, 0.0, 2.574059508, 0.8874891144, 1.7354957471999999, 9.181308564, 0.0, 0.0, 0.0, 0.0, 1.156139676, 0.88062282, 0.0, 0.0, 0.0, 0.0, 0.0, 0.0, 2.3277320063999998, 0.169086276, 0.0, 0.0, 0.0, 0.0, 0.0, 0.0, 0.0, 0.0, 0.0, 0.0, 0.0, 0.0, 0.0, 1.02138534, 0.0, 0.0, 0.0, 0.063514692, 0.0, 0.0, 0.0, 0.0, 0.0, 0.02746584, 0.3948212304, 4.785917868, 2.1114351000000005, 3.6993037104, 7.549664904, 3.75252048, 0.0, 0.0, 0.0, 0.0, 0.0, 0.0102996864, 5.8364848584, 32.2998061392, 0.0, 0.0, 0.0, 2.0599378919999998, 0.0308990592, 0.0, 0.0, 0.0, 0.0, 0.0, 0.0, 0.0, 0.0, 2.04620292, 0.893497248, 0.0, 0.0, 0.0, 35.9424489384, 8.401104324, 2.38780872, 4.90093506, 0.0034332264000000003, 0.0, 0.0, 0.0, 0.006866452800000001, 45.71344404, 0.0, 0.0, 0.0, 0.0, 27.921564799200002, 92.66282640000001, 0.0, 0.0, 0.0, 0.0, 0.0, 10.4232825864, 0.1064300544, 2.0942697888, 2.4135591240000003, 3.045274884, 0.0, 0.0, 0.0, 0.4222872216, 8.78906808, 0.0, 0.0, 0.0, 0.0, 0.0, 0.0, 1.35612756, 5.36269986, 0.0, 2.492524476, 5.951506312799999, 0.0, 4.6966524624, 5.7334897584, 0.0308990664, 0.50125104, 121.14834029999999, 0.8977887504000001, 1.2702941424, 0.0, 0.0, 0.0, 0.379372032, 0.949287636, 4.06494216, 4.69665468, 4.86488304, 9.276583428, 5.982395147999999, 12.12615648, 0.0, 0.0, 0.0, 0.0, 0.10299679199999999, 0.5767823952000001, 0.0, 0.0034332264000000003, 0.0102996792, 0.0034332264000000003, 0.2317428648, 0.0, 0.0, 0.0, 0.19054414079999998, 0.3862384704, 0.2952574488, 0.0, 0.0, 0.0, 0.0583648488, 1.3423922856000001, 0.0, 3.852081216, 0.2248766424, 0.6128312544, 0.6231310416, 0.48236850000000003, 0.0, 0.0, 0.0, 0.0034332264000000003, 3.644371944, 1.5595426728, 2.315715876, 3.3508278144, 4.0271725944, 0.5167012247999999, 1.8685341288, 5.2923188880000005, 2.259064224, 7.7299119, 1.822185648, 0.45318562560000003, 0.0, 3.6031738104000004, 0.0, 0.0, 0.0, 0.0, 0.0, 0.0, 0.0, 0.0686645496, 0.0, 0.0, 0.0, 0.0, 0.0274658256, 0.0, 0.0, 0.823974696, 8.81996148, 1.34239212, 0.0, 0.0, 0.0, 0.0, 0.0, 0.0, 0.0, 0.0, 0.0, 0.00686646, 1.0093674240000001, 0.288391104, 0.0, 1.623917088, 5.77125756, 1.7166137688, 0.0, 0.0, 0.0, 0.0, 0.0, 0.0, 0.024032592000000002, 0.0, 0.0, 0.0, 0.0, 0.0, 0.0, 0.0, 0.0, 0.0, 0.0, 2.437591212, 0.628280496, 0.0, 0.0171661392, 0.0, 2.826405, 0.0, 0.0, 0.0, 0.0, 0.64544688, 0.006866452800000001, 10.1005636464, 46.3451316984, 0.832558716, 2.434159152, 0.624847212, 0.0, 0.0, 0.0, 0.006866452800000001, 0.0, 0.8960724792, 29.38670784, 6.95657556, 1.8093105863999999, 0.8522992224, 1.019668752, 0.030899052000000003, 0.0, 0.0, 2.12087664, 0.0, 0.0, 0.0, 3.00750732, 22.6901988, 0.0, 0.0, 0.0, 0.0, 0.0, 0.0, 0.0, 0.0, 0.12874608, 4.93526286, 0.0, 17.032228200000002, 30.67071876, 0.0, 0.0, 0.0, 0.0, 0.0, 0.11672964, 1.63078308, 0.0, 0.0, 74.18001564, 10.3958136, 0.0, 0.0, 0.0, 0.0, 0.0, 0.0, 0.0, 2.31914592, 80.11433196, 0.0, 0.0034332264000000003, 7.288741476, 0.0, 0.0, 0.0, 0.0, 0.08239734, 0.04806522, 0.0, 0.0, 0.0, 0.0, 0.0, 5.330086372799999, 40.9446773424, 0.0, 0.0, 0.0, 15.07187052, 1.1020655592, 0.0, 0.0, 0.0, 0.0, 1.0402681824, 0.95100408, 3.6890041680000003, 0.175094604, 0.1235961504, 0.0, 0.0, 3.495026592, 128.182910472, 0.144195588, 0.0, 0.0102996864, 0.0, 0.0, 0.0, 57.48936552, 0.0, 1.7200465919999999, 1.76467896, 28.42712532, 0.0, 0.0, 0.0, 0.0, 2.95601094, 0.156211884, 9.3194990784, 0.16822812239999999, 0.14419548, 3.10192092, 0.0, 3.5551063944, 0.44116992, 1.90544112, 4.5009597528, 2.8152473760000003, 0.006866452800000001, 0.0, 0.885772872, 24.82566552, 11.008648584000001, 18.47763396, 2.945710224, 0.2197265112, 0.17509471199999999, 3.65638752, 0.013732905600000001, 0.38108851200000005, 0.0274658256, 0.0, 0.0, 0.0, 0.0, 0.0, 0.0, 0.281524752, 0.0755310384, 0.0034332264000000003, 0.12016296, 0.0, 0.0, 0.0, 0.0, 0.0, 0.187110972, 0.0, 3.474425772, 4.351617504, 6.469916400000001, 0.034332264, 0.0, 0.1579284144, 0.137329128, 0.0, 0.0, 0.0, 0.0, 0.0, 5.39531964, 2.1114349776, 0.0, 0.0, 0.0, 0.0, 0.590515128, 0.0, 0.0, 0.0, 0.0, 0.0, 0.0, 0.350189244, 0.0, 0.0, 0.0, 0.0, 0.0, 0.0, 0.0, 0.0, 0.0, 0.0, 0.0, 0.0, 0.0, 0.587082096, 4.7224024632, 0.0034332264000000003, 0.04463196480000001, 0.5072594904, 0.0102996792, 2.90450862, 3.3516851327999997, 0.0205993728, 0.0, 0.0, 2.22644628, 0.140762376, 0.0, 1.876258116, 0.0, 0.7982256384, 0.0, 0.0, 0.0, 0.0, 0.0, 0.0, 0.0, 0.0, 6.35662026, 0.15020372880000002, 0.0, 2.62298412, 44.4800040264, 4.1327478, 0.5390167968, 0.0, 0.0, 0.0, 0.0, 0.0, 0.0, 0.0, 0.0, 7.5771312624, 45.267148008, 2.04792048, 4.310418888, 3.8898463463999997, 21.53576916, 23.81457816, 0.0, 0.0, 0.0, 0.0, 0.07381436400000001, 0.0171661392, 6.943704516, 6.0768098639999995, 5.470848287999999, 0.0, 1.7749765080000002, 0.0240326064, 0.0, 1.23939468, 0.0, 0.0, 0.0, 2.358627588, 1.18789704, 2.18353176, 2.2727968919999997, 0.20942676, 0.5905151928, 0.0, 0.0, 0.0, 0.0, 0.0, 0.0, 0.0, 0.6420133584000001, 0.0720977904, 0.0, 3.80401956, 0.0, 0.0, 0.0, 0.0, 0.0, 0.0, 0.0, 0.0, 0.0, 0.0, 0.0, 0.0205993656, 0.2695083984, 0.2368926864, 0.0034332264000000003, 0.0, 0.0205993656, 0.0, 0.0463485744, 4.08983184, 0.6746295384000001, 0.0617980896, 0.0, 0.0, 0.0, 0.0, 0.0, 0.0, 0.0, 0.35705639520000004, 0.0, 0.0, 0.0, 0.0549316584, 0.0, 0.0, 0.0, 0.1441955664, 0.33302268, 0.0, 0.5364411192, 1.4041908288, 0.0617980824, 0.0, 0.0, 0.0, 0.0, 0.0, 0.0, 0.0, 0.0, 0.0, 0.0, 0.0, 0.0, 0.0205993584, 0.0411987168, 0.08926389359999999, 0.142478928, 0.12359615759999999, 0.0, 0.0, 0.0, 0.0034332264000000003, 4.090684932, 0.0, 0.0, 0.0, 0.0, 0.0, 0.0, 0.0, 0.0, 0.0, 0.0, 0.0, 0.0, 0.0, 0.0, 0.0, 0.3381731064, 0.133895916, 0.0, 0.09441378, 0.0, 0.0, 0.0, 0.0, 0.0, 0.0, 0.0, 0.0, 0.0, 0.0, 0.0, 0.0, 0.7621766423999999, 3.9104454024, 0.7072453656000001, 0.0034332264000000003, 0.0, 0.0, 0.0, 0.0, 0.0, 0.0, 0.0, 0.0, 0.0, 0.0, 0.0, 2.3242963392, 0.0, 0.0, 0.0, 0.17509464, 2.20756536, 0.157928544, 0.1081466928, 0.0, 0.0, 0.0377655048, 0.02746584, 0.1476287856, 0.44460295920000004, 0.0, 0.0, 0.058364892, 3.2993302248000003, 7.11192708, 1.8711088848, 0.84800772, 0.0583648992, 0.0, 0.0, 0.0, 0.0, 0.0, 0.0, 0.0, 11.9476345104, 0.8857726920000001, 0.0, 0.0, 1.81961064, 4.195402344, 3.5259232104000002, 3.4143460919999997, 0.5390165232, 3.637504404, 11.64893616, 1.51233696, 10.344310704, 0.7467275520000001, 0.0, 0.0, 0.0343323, 12.153628224, 42.805479600000005, 110.95502040000001, 0.0, 0.0, 0.0, 0.0, 2.69508546, 0.0, 0.0, 0.0, 0.0, 28.948970051999996, 1.62048114, 10.5537407184, 19.181454192, 4.36019796, 1.181029932, 0.0102996792, 0.0, 0.0, 0.0, 0.0, 0.0, 0.0, 3.2409649583999998, 12.658311, 20.812221936, 0.037765512, 0.0, 0.0, 1.78527888, 3.8383510104000003, 0.0, 0.0, 0.0, 0.87032304, 0.0, 0.0, 0.0, 0.0, 0.0, 0.0, 0.0, 0.0, 6.779768400000001, 0.1150130664, 17.3995949088, 0.0, 0.0, 0.0, 0.0, 0.0, 0.0, 1.562118804, 0.0, 0.0, 0.089263908, 0.341606016, 0.0, 0.0034332264000000003, 0.0, 0.0, 0.0, 0.0, 0.0, 0.0, 0.0, 0.0, 0.0274658256, 1.2754447488, 0.52871688, 0.0, 0.0, 0.0, 0.0, 0.0, 0.0, 0.0, 0.49095141840000006, 0.0, 0.0, 0.0, 0.0, 0.0, 0.0, 6.5076800328, 4.50782676, 0.06523134480000001, 0.0, 0.0, 0.0, 0.0, 0.0, 0.5733488664, 0.494384544, 0.865173132, 3.216934404, 0.92010492, 0.0, 0.0, 0.0, 0.3124236888, 5.8158866664, 18.999474084000003, 0.2300266224, 0.0171661464, 0.0, 0.0, 0.0, 15.32251368, 0.0, 0.0, 0.0, 0.0, 0.0, 0.0, 0.0, 0.0, 0.0, 0.0, 0.514984392, 15.974812152, 0.08926389359999999, 0.0, 0.0, 0.0, 0.0, 0.0, 0.0, 0.0, 0.0, 0.0, 0.0, 0.0, 0.0, 1.5140552184, 10.667039544, 58.68071064, 0.18539411760000002, 0.552749832, 0.0034332264000000003, 0.0102996792, 0.109863324, 0.0, 0.0, 4.4185628664, 1.53121932, 0.0, 0.0, 1.314925524, 4.408266923999999, 0.0, 0.0, 0.0, 0.0, 0.010299672, 2.5371554112, 12.170789136, 0.1287460512, 0.0, 0.0, 0.0, 0.0, 0.0, 0.0, 0.0, 0.0, 0.0, 4.4734965912, 14.81783004, 0.027465818399999998, 0.0, 0.0, 0.0, 0.0, 0.0, 0.1304624664, 1.7509463280000002, 0.0, 0.41198748479999997, 1.4076251928, 0.7158282984000001, 0.3536227368, 0.0034332264000000003, 0.8256913488, 5.2356772224, 0.9578705832, 1.288318968, 0.065231316, 1.6033183919999998, 15.7962784464, 0.006866452800000001, 0.0034332264000000003, 0.0, 0.0, 0.0, 0.0, 0.0, 0.0, 0.0, 0.0, 0.0, 3.62033784, 13.28659506, 3.6821362968, 0.7707600720000001, 0.21286013039999999, 0.0, 0.1064300544, 0.0, 0.0, 0.0, 0.0102996792, 0.2059938648, 0.0, 0.24032574, 1.3114933488, 0.3330225216, 1.139831532, 0.1304626968, 0.0, 0.0, 0.0, 0.0, 0.655746804, 0.0446319432, 0.164794824, 2.35004436, 7.391739203999999, 16.87260132, 8.720399152799999, 0.5493167064, 0.654029748, 10.88332236, 0.0, 0.45833544, 0.0, 0.0, 0.0, 0.0, 0.0, 0.0, 0.0, 0.0, 0.0, 0.0, 0.0, 0.0, 0.1150131744, 1.7749790280000002, 0.0, 0.0, 0.0, 0.0, 0.0, 0.0, 0.0, 0.0, 0.0, 0.0, 0.0, 0.0, 0.0, 0.0, 0.1991272824, 0.0, 0.0, 0.0, 0.0, 0.0, 0.6317138808, 3.1928993568, 1.57842666, 3.7267684919999997, 6.172085087999999, 6.3763602264, 0.0, 0.0, 0.0, 0.0, 0.0, 0.0, 0.9080890992, 0.0, 0.0, 0.0, 0.0, 0.0, 0.0, 0.0, 0.0, 0.0, 0.0, 0.41284594799999996, 0.39138753600000004, 0.2643585264, 0.0, 0.0, 0.0, 0.0, 0.0, 0.0, 0.0, 0.0, 0.0, 0.3175734384, 0.403404264, 0.0, 0.0, 0.0, 0.0, 0.0, 0.0, 0.0, 0.0, 0.0, 0.0, 0.0, 0.0, 2.0513533319999997, 0.0, 0.0, 0.0, 0.0, 0.0, 0.0, 0.0, 0.0, 0.0, 1.8470765736, 7.55653644, 0.0, 0.0, 0.0, 1.653098472, 0.0, 0.0, 0.49095162, 2.1869675064, 0.0, 0.3012659352, 0.0, 0.0, 0.4737857472, 0.944137764, 10.806086246400001, 1.14669828, 0.963020304, 0.0, 0.0, 0.0, 0.3347397, 2.408409, 0.0, 0.1862527104, 0.0, 0.0, 0.0, 0.0, 0.0, 0.0, 0.720978012, 0.154495296, 0.0, 0.0, 1.304626032, 1.778413104, 0.0, 0.0, 0.0, 7.714462536, 13.492587564, 0.037765512, 0.0, 0.01373292, 0.156211812, 0.0, 9.267998003999999, 0.0, 0.0, 0.0, 2.913093252, 0.996494076, 0.38967107759999997, 0.0, 0.0, 0.0, 0.0, 0.0, 0.0, 0.0, 0.0, 0.0, 0.0, 2.883054276, 0.0, 0.0, 0.0, 0.0, 0.0, 0.0, 0.0, 0.0, 0.0, 0.0, 0.0, 0.0, 0.0, 0.0, 1.1226653999999998, 0.26779155120000003, 0.0, 0.0034332264000000003, 0.0, 0.0, 0.0, 0.0, 0.0, 0.0, 0.0, 0.0, 1.29089232, 0.0, 0.0, 0.0, 0.0514984176, 0.0, 0.0, 0.0, 0.0, 0.0, 0.5167008, 0.0, 0.1270294344, 0.0, 0.0034332264000000003, 9.01221966, 0.0, 0.0, 0.0, 0.0, 0.0, 0.0, 4.0563595944, 0.0, 0.0, 0.0, 0.155353536, 0.0, 0.0, 0.09956365199999999, 20.54786796, 0.0, 0.0, 0.0, 0.0, 0.0, 0.0, 0.0, 4.2984026064, 0.0, 0.0, 0.0, 0.0, 0.0, 0.0, 0.0, 0.0, 0.0, 0.0549316584, 0.0, 0.0, 0.0, 0.0, 0.0, 0.2334595392, 0.0, 0.0, 0.0, 0.3330229464, 11.350251, 0.178527888, 0.0, 0.0, 3.3714318239999996, 4.720688748, 9.564972588, 0.0, 0.0, 3.71303478, 0.9990693864, 0.0, 9.922022654400001, 36.680593608, 0.0, 0.0, 0.0, 0.0, 0.0, 0.0, 0.0, 0.0, 0.21972636, 0.0, 0.0, 0.041198752799999995, 0.0600814872, 3.8280486239999996, 8.724690972000001, 2.33459424, 0.0, 0.0, 0.0, 0.0, 0.0171661392, 0.43430364, 0.0291824424, 4.391097984, 0.0, 0.0, 0.0, 0.0, 0.0, 0.0, 0.0, 5.07087594, 17.5884264, 0.0, 0.0, 0.0, 0.0, 0.0, 0.0, 0.0, 0.0034332264000000003, 0.0, 4.65545916, 0.0, 0.0, 0.0, 0.0, 0.0, 0.0, 0.0, 6.777186083999999, 12.52440936, 0.0, 0.0, 4.60395684, 0.0, 0.0, 0.10986300000000002, 1.6101834336, 4.68979056, 0.0, 0.0, 0.0, 0.0, 0.0, 0.0549316584, 0.3158566776, 0.33645672, 0.12016301039999999, 0.0, 0.1956939912, 0.0, 0.0, 0.0, 0.0, 0.0, 0.0, 0.0, 0.0, 0.0, 0.0, 0.0, 0.0, 0.0, 0.0, 0.0, 0.0, 0.1802443896, 0.307273896, 0.0, 0.0308990664, 0.0, 0.0, 0.024032592000000002, 0.0, 0.0617981184, 0.013732905600000001, 0.006866452800000001, 0.0, 2.0127289463999998, 0.83084148, 0.3072740184, 0.0, 0.0, 0.0, 0.0, 0.0, 0.0, 0.0, 0.0, 0.0, 0.0, 0.0, 0.0, 0.0, 0.0, 0.061798096799999994, 0.0, 0.0, 0.0652313376, 0.0, 0.0, 0.0, 0.0, 0.0, 0.013732905600000001, 0.7364275128, 3.9567914639999997, 1.6857144, 0.10299689279999999, 0.0, 0.0, 0.0, 0.0, 0.0, 0.0, 0.0, 0.0, 0.0, 0.0, 0.4325868576, 0.024032592000000002, 0.0, 0.0, 0.0, 0.01373292, 0.9252549000000001, 0.0, 0.0, 0.0, 0.0, 0.0, 0.0, 0.0, 0.0, 0.0, 0.0, 0.0, 0.0, 0.0, 0.0, 0.0, 0.0, 0.0, 0.0, 0.0, 0.0, 0.0, 0.0, 0.0, 0.0, 0.0, 0.0, 0.0, 0.0, 0.0, 0.0, 0.0, 0.0, 0.0, 0.0, 0.0, 0.0, 0.0, 0.0, 0.0446319792, 0.0, 0.0, 0.0, 0.0, 0.0, 0.0, 0.0, 0.0, 0.0, 0.0, 0.0, 0.0, 0.0, 0.0, 0.0, 0.0, 0.3742218, 0.0, 2.20413204, 0.0, 0.0, 0.0, 0.0, 7.513616448, 0.08239748400000001, 0.0, 0.23345961839999999, 0.633430404, 0.0, 0.0, 0.0, 0.0, 0.508975956, 0.0205993728, 0.0, 0.0, 0.0, 0.0, 0.0, 2.461626432, 0.0, 0.0, 0.0, 0.0, 0.0, 0.661754844, 0.27809172, 0.0, 0.0, 0.0, 0.0, 0.0, 0.0, 0.0, 0.0, 0.0, 0.0, 0.0, 2.324296728, 9.391597596, 13.52863728, 0.0, 0.0, 0.0, 0.0, 0.0, 0.0, 0.5355835704, 0.0, 0.0, 0.0, 0.0, 0.0240325992, 4.888057248, 0.013732905600000001, 0.0, 0.3450393, 0.0, 0.0, 0.0, 0.0, 0.2489090184, 0.19054429920000002, 0.0, 0.0, 0.0, 0.0, 0.0, 0.0, 0.0, 0.0, 0.0, 0.0, 0.0, 0.0, 0.0, 0.0, 0.0, 0.0, 0.0, 0.0, 0.0, 0.0, 0.0205993656, 0.0240325848, 0.0, 0.1167297408, 0.0, 0.0, 0.0, 0.0, 0.0, 0.0, 0.0, 0.0, 0.037765476, 4.071811356, 0.0, 0.0, 0.0, 0.0, 1.2891760559999998, 0.0, 5.75408916, 0.0, 0.0, 0.013732905600000001, 5.23739052, 2.56118778, 0.0, 0.0, 0.0, 0.0, 0.0, 0.0, 0.32615676, 23.55880644, 0.08239748400000001, 0.0, 0.0, 0.0, 0.0, 0.0, 0.0, 0.0, 0.0, 0.0, 1.5552516744, 0.0, 0.0, 0.0, 0.0, 11.378577254400001, 0.089263944, 0.0, 0.0, 0.0, 0.0, 0.0, 0.0, 0.0, 0.0, 0.0, 0.2283094512, 1.0900498176, 0.0480651984, 0.1373291568, 0.8428572, 0.0, 0.0, 0.101280168, 3.86581176, 0.0, 0.0, 0.0, 0.0, 0.0, 0.0, 0.0, 0.0, 0.0, 0.0, 0.017166124799999998, 0.051498388799999996, 4.8477155544, 0.1699447248, 0.0, 0.0, 0.0, 0.0, 0.0, 0.0, 0.0, 0.0, 1.2934682640000001, 0.058364856, 0.0, 0.0, 0.0686645424, 0.0205993728, 0.0, 0.0, 0.0, 0.0, 75.648575592, 0.4377370392, 7.1205148224, 27.56709756, 3.94134588, 0.3948213528, 0.0, 0.006866452800000001, 0.7209775656, 0.0, 0.0, 0.09956360880000001, 0.0686645352, 0.53558352, 16.50526992, 0.0, 0.0, 0.0, 0.0, 0.0, 0.0, 0.0, 0.15449522400000001, 22.615526836799997, 0.317573424, 0.0, 0.0, 1.3938902063999998, 0.4858018704, 0.0789642072, 0.0, 0.0, 0.0, 0.0, 0.0, 0.23517635039999998, 0.23517612, 2.2521978, 0.3244403448, 0.2952577728, 0.0, 0.0274658256, 0.0, 0.0, 2.4985302263999998, 0.0, 1.7251940663999998, 0.0, 1.721763252, 0.0, 0.0, 0.0, 0.0, 0.0, 0.0, 0.0, 0.0, 1.3921738847999998, 1.088333136, 2.598953904, 0.0, 0.0, 0.0, 0.0, 0.0, 0.0, 0.0, 0.0, 0.0, 0.0, 0.0, 0.0, 0.0, 0.0, 2.1989808288, 14.974022267999999, 0.5304341807999999, 0.4257200664, 0.0446319576, 0.0, 0.0, 0.0, 0.0, 0.0, 0.0, 0.0, 0.0, 0.0, 0.0, 0.0, 0.0, 0.0, 0.0, 0.0, 0.0, 0.0, 0.0, 3.2855986944, 0.40855394159999997, 0.0, 0.0, 0.0, 0.0, 0.0, 0.0, 0.0, 0.0, 0.0, 0.0, 0.0, 0.0, 0.0, 0.0, 0.0, 0.0, 0.0, 0.0, 0.0, 0.0, 0.0, 0.0, 0.0, 0.0, 0.0, 0.0, 0.0, 1.4110569, 0.0, 0.0, 0.0, 0.0, 0.0, 0.0, 0.0, 0.0, 0.0, 0.0, 0.0, 0.0, 0.0, 0.0, 0.0, 0.0, 0.0, 0.0, 0.0, 3.6383685048000003, 0.0, 0.0, 0.0, 0.0, 0.0, 0.0, 0.0, 0.0, 0.0, 0.0, 0.0, 0.0, 0.0, 0.0411987384, 0.0, 0.0, 0.0, 0.0, 0.0, 0.25663392, 1.6410831119999998, 0.027465818399999998, 0.0, 0.0, 0.0, 0.0102996864, 2.1500585136000003, 0.1562118192, 0.08153917200000001, 0.0, 3.6400808664, 0.0377655192, 0.0102996792, 0.0, 0.0, 3.3336664127999995, 0.013732905600000001, 0.0, 0.0, 0.57163068, 1.81789524, 0.0, 0.0, 0.0, 16.63742052, 0.4926681576, 11.866954651199999, 0.0, 0.0, 0.0, 0.0, 0.0, 0.605964996, 7.81058772, 1.23596172, 0.0, 0.0, 0.0, 0.0, 0.0, 0.0, 0.0, 0.0, 0.0, 2.324294136, 16.386796281600002, 0.0, 0.20599362, 0.0, 0.0, 0.0, 1.73721096, 7.7796906120000004, 11.238668748, 5.4674149104, 4.69321848, 0.0, 0.0, 0.0, 0.0, 0.0, 0.0, 0.0, 0.0, 0.0, 0.0, 0.0, 0.0, 0.0, 0.0, 0.0, 0.0, 0.0, 0.0, 0.0, 1.4265066024000002, 0.0, 0.0, 0.0, 0.0, 0.0, 8.0183043864, 0.8222584608, 0.0, 0.0, 8.2311580728, 11.762236115999999, 0.0, 0.0, 0.0, 0.0, 0.0, 0.034332264, 0.1750944744, 0.0, 4.665754872, 0.051498388799999996, 0.0, 0.0, 0.0, 0.0, 0.0, 0.0, 0.0, 0.0, 0.0, 0.0, 0.0, 0.0, 0.0, 0.0, 0.0, 0.0, 0.0, 0.0, 0.0, 0.0, 0.0, 0.0, 0.0, 0.0, 0.0, 0.0, 0.0, 0.0, 0.0, 0.0, 0.0, 0.0, 0.0, 0.0, 0.0, 0.0, 0.0, 0.0, 0.0, 1.126099044, 0.0, 0.0, 0.0, 0.048065184000000004, 0.0, 0.10986327359999999, 9.146116908, 0.0205993656, 0.147628764, 0.3433226472, 0.0, 0.0411987384, 2.362060404, 4.7790549864, 0.8926391448000001, 0.0, 0.1098632808, 3.2753000448000003, 0.0, 0.0, 1.4179220928, 0.0, 0.0, 0.0823974768, 0.0, 0.0, 0.0, 2.25562806, 0.0, 0.0, 0.0, 0.0, 0.0, 0.0, 0.0, 0.0, 0.0, 0.0, 0.178528032, 0.0, 0.0, 0.082397448, 0.0, 2.8427118264, 0.0, 0.0, 0.0, 0.08754732, 0.0102996864, 0.0, 11.827467107999999, 4.2417513432, 0.0, 0.0, 0.0, 0.0, 0.0, 0.0, 0.0, 0.0, 0.0, 0.0, 0.0, 0.0, 0.0, 0.0, 0.0, 0.0, 0.0, 4.712106132, 1.853943048, 2.23331544, 0.0, 0.0, 0.0, 0.31929066, 0.0, 0.0, 1.2376765728, 11.666099555999999, 0.0, 0.0, 0.0, 0.0, 0.0, 0.0, 0.0, 0.0, 0.0, 0.0, 0.0, 0.0, 0.0, 0.0, 0.0, 0.0, 0.0, 0.0, 0.0, 0.0, 0.0, 0.0, 0.0, 0.0, 0.0, 0.0, 0.0, 0.0034332264000000003, 2.987764344, 3.3199313904000003, 0.0, 7.7161799879999995, 0.0, 0.0, 0.0, 0.0, 0.0, 0.0, 0.0, 0.0, 0.1029968064, 0.24375911760000002, 1.8934247880000001, 0.8188249320000001, 1.9741063319999999, 1.2496950288, 0.8068086504, 0.0, 0.0, 0.0, 0.0, 0.0, 0.0, 0.9561540384, 0.8789063471999999, 0.0, 0.0, 0.0, 0.0, 1.1072159928, 0.2145767616, 0.6445881647999999, 0.7656103872, 0.0205993728, 0.0, 0.0, 0.0, 0.0, 0.0, 0.0, 0.0, 0.0, 0.0, 0.0, 0.0, 0.0, 0.0, 1.6153340688, 1.3423918391999998, 2.15606628, 0.46691877600000004, 1.033400592, 3.34739664, 0.755310204, 0.061798104000000006, 0.0, 0.0, 0.0, 0.0, 0.0, 2.1217348080000002, 0.0, 0.0, 0.1201629744, 0.24719245199999998, 0.051498432000000004, 0.0, 0.0, 0.0, 0.0, 0.0, 0.0, 3.889851984, 0.0, 0.18711120960000002, 0.10814680800000001, 0.0, 0.0, 0.0, 0.0, 0.0, 0.0, 0.0, 0.0, 0.0, 0.0, 0.006866452800000001, 5.3077703472, 0.6008154336, 0.0, 0.0429155064, 0.120162924, 0.0, 0.0, 0.0, 0.0, 0.0, 0.0, 0.0, 0.0, 0.0, 0.0, 0.0, 0.013732905600000001, 1.2651447744, 0.0343322856, 0.0, 0.0, 0.0, 0.0, 0.0, 0.1579284864, 0.0, 0.0, 0.0, 0.0, 0.0, 0.0, 0.0, 0.0, 0.0, 0.0, 0.573348996, 0.030899052000000003, 0.0, 0.0, 0.0, 0.0, 0.0, 0.0, 0.0, 0.0, 0.0, 0.02746584, 0.0, 0.0, 0.0, 0.0, 0.0, 0.0, 0.0, 0.0, 0.0, 0.006866452800000001, 0.0, 0.271225404, 7.20119754, 3.710457648, 0.0, 0.0, 0.0, 0.0, 0.0, 0.0, 0.0, 0.0695228544, 2.3723594568, 0.0, 0.0, 0.0, 6.214135968, 15.224642964000001, 0.0, 0.11844646560000001, 3.7216171728, 0.0, 0.0, 0.0, 0.024032592000000002, 0.0, 0.0, 0.0, 0.075531024, 0.1716616224, 0.0, 1.594733652, 13.40675154, 0.0, 0.0, 0.0, 0.0, 0.0, 0.0, 0.0, 2.5800705, 0.0, 0.0, 0.0, 0.0, 0.1974105, 0.1476289224, 0.041198724, 0.0, 0.0, 2.2470493680000003, 0.0, 0.066948084, 0.3038411304, 0.0, 0.0, 0.0, 0.0, 0.0, 0.0, 1.05571782, 26.20068048, 247.9478472, 1.8642435768, 0.0, 0.0, 0.0, 0.0, 0.0, 5.67855648, 8.32900968, 54.441525600000006, 18.125717508, 0.0, 0.0, 0.0, 0.0, 0.61798104, 0.0, 0.0, 8.732411712000001, 49.204985724, 69.3253768824, 7.4784275064, 2.0753856863999998, 0.654030144, 0.0308990592, 37.85644566, 0.0, 0.0, 0.0, 0.149345568, 0.0, 0.11329653599999999, 0.0, 3.1139385839999996, 0.8016588720000001, 0.0, 3.11222268, 0.0, 0.0, 0.0, 0.5029680384, 34.4404331784, 2.0032889256, 0.0, 0.1253127816, 9.266276196, 0.01373292, 97.40411602559999, 2.9062268424, 0.07209774, 0.0, 0.0, 0.473785344, 28.866566231999997, 0.06523134480000001, 0.4411702728, 2.334594564, 0.0, 0.29182420800000003, 1.7784107136000002, 0.0, 0.0, 0.0, 0.0, 0.0034332264000000003, 2.5989571008000003, 0.0, 57.13920396, 0.31929053760000004, 0.58708188, 23.151969, 2.96287524, 16.25461398, 32.81822568, 1.0574345232, 0.0411987456, 0.0, 0.0, 0.0, 0.0, 0.0, 0.0, 0.0652313016, 9.9786739104, 1.6324994447999999, 12.02488596, 0.0823974552, 1.4986035575999999, 0.0, 0.6214139856, 0.0, 0.0, 0.0, 0.17681124239999998, 0.0, 2.2367476728, 0.32443992, 0.0, 2.2041287063999997, 20.11528404, 0.0034332264000000003, 0.0, 0.0, 0.0, 0.0, 0.0, 0.0, 0.0, 0.0, 0.0, 0.0, 0.0, 0.0, 0.0205993584, 3.841780932, 8.713527876, 0.0, 0.0, 0.0, 0.3673553544, 0.1785278664, 0.02746584, 4.634861364, 2.135467836, 0.41198739840000004, 1.6685468352000001, 0.051498395999999995, 0.0, 0.0, 0.3124236888, 1.181029428, 14.241025800000001, 1.2119296392, 0.0, 0.0, 0.01373292, 0.0720978264, 0.0, 0.04119876, 0.0, 0.0034332264000000003, 1.5827175144, 0.4360198464, 0.0, 0.0, 0.3261566304, 1.2737272032, 1.222229124, 2.059936596, 0.741577824, 4.0546415664, 1.8024426647999998, 50.581732176, 6.4201356, 0.466919244, 0.0, 0.0, 0.0, 0.1338959304, 0.331306308, 0.490950792, 0.35018928, 3.608323992, 7.8998598, 83.94584976, 0.130462632, 0.0, 4.308701183999999, 0.2986906392, 0.02746584, 0.0, 0.0, 0.0, 0.3896714088, 1.42478928, 1.76639652, 7.39088388, 8.2260162, 5.75924148, 6.2467580376, 38.10451248, 0.27294156, 0.1012802328, 0.75359376, 3.3534053999999998, 6.159210408, 5.3575488, 0.0, 0.0, 0.0, 0.3261564864, 1.0007870544, 2.142333648, 1.57585122, 0.0, 0.0, 0.1029968424, 0.0240326064, 1.91059092, 7.24067748, 2.6255597688, 0.0, 0.0, 0.913237992, 3.7902827664, 0.6969449520000001, 1.2119292144, 1.7063150328, 0.0, 0.0, 0.0, 0.0034332264000000003, 0.0377655264, 1.129531284, 1.74064608, 5.36098284, 9.5409432, 10.64987172, 0.0, 0.0, 0.904655232, 0.6196976856, 0.12702947039999998, 3.9619416960000002, 6.82868952, 0.0, 0.0, 0.0, 0.0, 0.0, 0.0, 0.0, 0.0, 0.0, 0.19912717440000002, 0.5922322056, 0.20942677440000002, 0.0, 0.09956358, 0.1150131168, 0.09269712, 1.8925664759999998, 0.5630494392000001, 0.0, 0.0, 0.0, 0.0, 0.1287460008, 3.1602876263999997, 0.0, 0.3553393104, 0.427437, 0.0, 5.635645509600001, 0.692653608, 1.183605264, 2.099418768, 0.0, 0.0, 0.0, 0.0, 0.0, 0.041198724, 1.0145190528, 13.623047748, 0.2265929856, 0.0, 0.0, 0.054931644, 0.0, 1.9638062928, 1.1604294, 0.0, 0.0, 0.5012511912, 0.0, 0.0, 0.0, 0.0, 0.7106784984000001, 0.11501312400000001, 0.0, 0.0, 0.0, 0.0, 0.0034332264000000003, 0.4566192552, 0.0, 2.082252492, 0.0, 0.0, 0.0, 0.0, 0.0, 0.0, 0.0, 4.166222472, 0.0, 0.0, 0.0, 0.0, 0.0, 3.1989153024, 0.0, 0.0, 0.4102709184, 0.0411987384, 0.5510336184, 0.0, 0.006866452800000001, 0.0, 0.0, 0.0, 0.0, 0.04119876, 14.25991032, 0.0, 0.0, 0.0, 0.0, 0.0, 0.0, 0.0, 0.0, 0.0, 0.0, 0.0, 0.0, 1.3853080944, 10.41641874, 4.21085232, 0.0720978048, 0.741577356, 1.2119292, 0.7879260240000001, 0.44975266560000005, 0.46176876, 0.0, 12.2257226952, 38.104538831999996, 0.0, 0.0, 0.0, 0.0, 0.0, 0.0, 0.1579286664, 69.202689912, 0.0, 0.0, 0.0, 0.006866452800000001, 0.0, 0.0, 0.0205993584, 0.0, 0.0, 0.0, 0.0, 0.0, 0.0, 0.0, 8.783909064, 0.0, 0.0, 0.0, 0.0, 4.638292164, 0.132179328, 4.454614404, 0.0, 0.0, 0.0, 0.2918246904, 0.0, 0.0, 0.0, 0.0, 0.0, 0.0, 23.30991846, 83.6677845, 0.0, 0.0, 0.0, 0.0, 0.0, 0.38108808, 0.0, 0.0, 0.0, 0.0, 0.0, 10.68248772, 0.0, 0.0, 1.8711101304, 2.46505932, 0.0, 0.0, 0.0, 0.0, 29.275122924, 0.0, 0.0, 0.0, 0.1304626176, 23.10905196, 46.88757216, 0.0, 0.0, 1.3389581304, 0.0, 0.0, 0.0, 0.0308990304, 1.2428289432, 1.18446516, 0.00686646, 4.504396104, 18.23387274, 0.94070466, 20.7332581104, 0.0, 0.0, 0.0, 0.0, 0.0, 3.35769372, 0.0, 0.0, 0.0, 0.0, 0.0, 0.0, 0.0, 0.0, 0.0, 0.0, 0.0, 0.0, 0.0, 0.0, 0.0, 0.0, 0.0, 0.0, 1.2050632224, 3.85208082, 0.16307834400000001, 0.0, 0.0, 0.12531278880000002, 0.0, 0.0, 0.0, 0.0, 12.6463005864, 9.95121144, 7.814028599999999, 23.08845492, 9.2988941472, 83.55189276, 0.2145768984, 0.0, 0.0, 0.0, 0.0, 0.0171661392, 0.89693118, 17.44251768, 30.823536319200002, 0.0, 0.0, 0.0, 7.2578412, 11.264419872000001, 2.688218064, 10.284223464, 0.384521544, 0.037765512, 0.0, 0.0, 0.3261565584, 9.41047308, 1.148414652, 0.0, 0.0, 0.0, 3.793719528, 0.0, 0.0, 0.0, 0.0, 0.0, 0.0720978048, 0.0, 7.189177298400001, 28.16619516, 5.6819942928, 28.43400726, 0.0, 0.0, 0.0, 0.0, 0.6711963048, 0.4137042096, 10.5794910864, 13.85650908, 0.0, 0.0, 0.0, 0.0, 0.0, 0.0, 0.0, 0.0, 0.0, 0.0, 0.4549023864, 3.8572308360000003, 5.74808472, 5.517194003999999, 0.0240326064, 0.0, 0.3879547632, 0.6317143704, 0.0411987384, 0.0205993728, 0.0, 0.257492376, 0.14762880720000002, 1.920891348, 0.0, 0.0, 0.0, 0.0875473128, 0.42572028240000004, 0.3845216016, 0.0, 0.0, 0.0, 0.0, 0.0, 0.0, 0.0, 0.0308990592, 0.1939773744, 0.0, 0.2986909344, 2.583504036, 2.413557756, 2.2856715359999997, 2.791212336, 0.48065199840000006, 0.089263908, 0.3210068448, 1.678847508, 0.624847536, 0.0034332264000000003, 0.0, 6.483651458400001, 11.13567444, 48.06686268, 0.629997948, 0.8883476999999999, 1.53121824, 0.9613039464, 0.583648956, 0.0, 0.0, 0.0, 0.18882748800000002, 0.2540589264, 0.60424848, 2.7191142864, 11.27815776, 29.77638012, 7.64064972, 3.11565384, 0.12359620800000001, 0.06179814, 0.0, 0.0205993656, 0.8617401, 0.2677913712, 0.710678376, 0.10643006880000001, 0.037765512, 0.16307834400000001, 0.037765512, 1.34582544, 3.00922452, 0.880622604, 1.196480088, 0.0, 0.0, 0.0, 0.0, 0.0, 0.0137329128, 0.0, 2.5062551064, 0.0, 0.0, 0.0, 0.0, 0.0, 0.2918241, 0.0, 0.0, 0.0, 0.0, 0.0, 0.0, 0.0, 0.0, 0.0720978048, 2.3689275624, 16.56533124, 4.763602728, 0.0, 0.0, 0.0, 0.0, 0.0, 0.0, 0.0, 0.0, 0.0, 1.517487084, 3.0075108983999996, 1.160431056, 0.18882750239999999, 0.684928764, 0.0, 0.0, 0.0, 0.0, 0.0, 0.41885413200000005, 0.0, 0.0, 0.0, 0.0, 0.0, 0.0, 0.0, 0.0, 0.0, 0.0, 3.16371888, 6.9866213112, 2.1337517016, 1.8668178647999998, 1.1003495976, 1.0746, 0.25577568, 14.0539212, 0.0, 0.0, 0.0, 0.0, 0.0, 0.0, 0.0, 0.0, 0.0, 0.0, 2.0479197816, 9.736639934400001, 0.5570407584, 0.543308184, 0.0, 0.0, 0.0, 0.0, 0.0, 0.0, 0.0, 6.6415761, 2.53286316, 0.0, 0.0, 1.3629906504, 14.00928408, 6.674189364, 8.910944064, 13.7784001824, 58.5219540528, 0.0, 0.0, 2.16121788, 0.0, 0.0, 0.6282807624, 0.0, 0.0, 0.0, 0.0, 0.0, 0.0, 0.0, 0.554466096, 1.572418224, 8.7032310624, 0.2008438344, 0.47378538, 0.0, 0.0, 0.0, 0.0, 0.0, 0.0, 0.0, 0.0, 0.0, 0.0, 0.330447744, 23.43178908, 0.0, 0.0, 0.0, 1.97067456, 0.0, 0.0, 0.0, 0.0, 0.2403261504, 70.98541869600001, 0.26435870640000003, 0.0, 0.0, 0.0, 0.0, 0.0, 2.18352924, 0.0, 0.1407623832, 2.67448752, 2.9937744, 0.0, 0.0, 0.0, 0.0, 0.0, 0.8308410264, 4.00657896, 0.0, 0.0, 0.0, 0.0, 0.0, 0.0, 0.0, 0.0, 0.0, 0.0, 0.0, 0.79307568, 0.2471923584, 30.030423768000002, 0.0, 0.130462632, 0.0, 38.3422806, 0.051498424800000005, 0.0, 0.0, 0.0, 0.0, 5.4862973639999995, 0.6402967344, 2.53543896, 0.0, 0.0, 0.0, 0.0, 0.0, 0.0, 0.0, 0.0, 22.254165431999997, 0.0, 0.0, 0.0, 0.0, 0.0, 0.0, 0.0, 0.7587432, 0.0, 0.0, 17.89399512, 0.0, 0.0, 0.0, 0.0, 0.0, 0.0, 0.353622348, 0.0171661392, 0.006866452800000001, 0.0, 15.70015116, 3.7422186624, 5.88455568, 22.21125984, 0.0, 0.0, 0.223159572, 0.12359620800000001, 8.0869686264, 5.8862724192, 0.39653751600000003, 0.0, 0.0, 14.8761711, 0.243759168, 0.0, 2.0015747999999998, 0.0, 0.37078866, 0.18882734399999998, 0.0, 4.476924972, 0.367355124, 0.0, 0.0, 1.0162383984, 1.919176056, 0.0, 2.211000444, 3.6460907999999996, 0.46863540000000004, 10.222438212, 1.596451104, 0.0, 0.0, 0.0, 0.0, 0.0, 0.0, 40.7884398264, 0.748443528, 2.91051882, 27.474408504, 30.19267062, 12.878041464, 0.623989044, 0.7759095840000001, 15.63148368, 0.34332264, 0.0, 3.3551212464, 8.227730232, 9.00192348, 25.558666199999998, 19.2732775776, 0.0, 0.0, 0.0, 0.013732905600000001, 0.0, 0.0, 0.0, 1.43594748, 3.876974928, 2.3929592184, 0.9304048079999999, 11.68327548, 7.563396023999999, 0.120162924, 32.3100847224, 1.332092124, 0.20599372800000001, 0.0, 0.0, 0.28324128239999996, 0.0, 0.0, 0.051498424800000005, 0.02059938, 11.350251395999999, 11.48929596, 33.2868582, 1.943208576, 3.12766992, 2.52685584, 2.159500356, 0.7793421840000001, 0.7278442488, 0.7930755, 1.56211848, 2.96974116, 3.223800684, 0.0, 0.0, 0.0, 0.0995635944, 0.0, 0.0308990664, 0.030899052000000003, 0.0, 0.12016293119999999, 1.6067502359999999, 2.77748064, 17.87681916, 19.03724676, 0.0, 1.3011932376000002, 1.4917374719999998, 0.2609253432, 2.104568892, 0.8686064664, 0.0102996792, 9.369287172, 0.23345928, 0.0, 0.0, 0.0, 0.0, 0.0, 0.0, 2.406692664, 0.8480068128, 0.0, 0.0, 0.0205993584, 0.8789065704000001, 0.0, 0.0, 1.90544076, 0.63171432, 0.0, 0.0, 0.0, 0.0, 0.07553106, 1.683998064, 5.49573732, 14.29510446, 0.1459121544, 0.0, 0.0, 0.0, 0.0, 0.0, 0.0, 0.0, 0.0, 0.0, 0.006866452800000001, 0.1579284504, 0.0, 0.0, 0.0, 0.0, 0.0, 0.0, 0.0, 0.0, 0.0, 0.0, 0.0, 0.0, 0.0, 0.0, 0.0, 0.0, 1.9861253784000001, 2.818681452, 0.0, 0.0, 0.0, 0.0, 0.0, 0.0, 0.0, 0.0, 0.0, 0.0, 1.01537676, 0.00686646, 0.506400696, 0.1544952312, 0.08583068880000001, 0.10900497599999999, 0.0, 0.0, 0.0, 0.0, 0.0, 0.0, 0.0, 0.0, 0.0, 0.0, 0.0, 0.0, 0.0, 0.0034332264000000003, 4.761890496, 0.0, 0.0, 0.0, 0.25405891199999997, 0.8514410328, 0.65402982, 0.1811027448, 0.0, 0.0, 0.0, 0.1218795624, 0.0, 0.0, 0.0, 0.0, 0.0, 0.0, 0.0, 0.0, 0.0, 0.0, 0.0, 0.0, 0.9904862664, 0.0, 0.0, 0.0, 0.0, 0.0, 3.63235464, 0.0, 0.0, 0.0, 0.1287461664, 2.1423337559999998, 11.751080400000001, 2.68735896, 0.0, 0.0, 0.0, 0.0, 0.0, 9.75466152, 37.06511724, 3.85036524, 8.46805464, 1.5398026703999999, 0.0, 0.0, 0.0, 0.0, 0.391387968, 13.121802799200001, 0.30212424, 0.0, 0.0, 0.0034332264000000003, 0.0, 14.73026184, 0.2334595464, 30.1566208104, 0.0, 1.726912044, 2.30627034, 0.006866452800000001, 0.0171661464, 0.0, 0.0, 0.0, 0.0, 0.0, 0.030899016, 0.0, 0.0, 0.502968204, 34.2163548, 0.0, 0.0, 0.0, 1.2110708664, 0.19569396239999998, 0.0, 0.0, 0.0, 3.941345304, 0.38795508, 0.0, 0.0, 0.0, 0.0, 0.0, 0.0, 0.0, 0.0, 0.0720977544, 0.0, 8.315275716, 0.0, 0.0, 0.0, 0.0, 0.39825432, 0.0, 0.0, 0.0, 0.0, 0.0, 0.0, 0.0, 0.0, 2.161216944, 0.0, 0.0, 0.0, 0.0, 0.0, 0.0, 0.0, 0.0, 0.0, 0.0034332264000000003, 0.28324119600000003, 21.30833628, 0.0, 0.0, 0.0, 0.0, 0.0, 0.0, 5.83476804, 2.7620307864, 0.0102996792, 0.0, 0.0034332264000000003, 1.2325288104, 0.0, 0.0, 0.0, 0.0, 2.84099688, 0.318432096, 0.0, 0.0, 0.0, 0.0, 0.0, 0.0, 0.0, 0.0, 0.0, 0.0, 0.0, 0.0, 0.0, 0.0, 0.0, 0.0, 0.0, 0.0, 0.0, 0.0, 0.0, 0.0, 0.0, 0.0, 0.0, 0.0, 0.0, 0.303840648, 0.0, 0.0, 0.0, 0.0, 0.0, 0.0, 0.0, 0.0, 0.0, 0.0, 0.0, 0.0, 0.0, 0.0, 0.0, 0.0, 0.0, 0.0, 0.0, 0.0, 0.0, 0.24547608, 0.0926972928, 13.873677444, 31.36250016, 0.508118004, 0.0, 0.0, 0.0, 0.0, 0.0, 0.0, 0.0, 0.0, 0.0, 0.0, 0.0, 10.72712124, 11.194902072, 0.1424789352, 1.0093690008, 2.9233944, 0.0892639224, 0.0, 0.8754728328, 0.4119875496, 0.0, 0.2592089064, 2.2453314912, 0.11672972640000001, 0.0, 0.0, 0.0, 0.0, 0.0, 0.0, 1.5878674944, 0.0, 0.0, 0.0, 0.0, 6.20040708, 12.77761878, 5.046847387200001, 0.0446319432, 0.0, 0.0, 0.0, 0.0, 0.0, 0.0102996792, 0.0102996792, 0.0, 0.0446319288, 0.260925372, 7.1548488, 0.1493453592, 0.0, 0.0, 0.013732905600000001, 0.0, 0.0, 0.0, 0.0, 0.0, 0.0, 0.0, 0.0, 0.6111142488, 0.0, 0.0, 0.0, 0.0034332264000000003, 0.006866452800000001, 24.259190378400003, 9.082607472000001, 1.7681113368, 14.3440326, 4.3413158880000005, 24.853136392800003, 0.0, 0.71239482, 0.913239468, 1.4711379119999999, 0.8789070024, 0.3810884112, 0.0, 0.0, 0.0, 2.202415956, 0.1064300616, 0.3330226152, 0.0, 0.0, 0.0, 0.0, 0.0, 0.0, 0.1296043344, 0.164795184, 0.0, 0.0, 0.0, 0.0, 0.0, 0.9252549864, 0.39482133840000005, 0.259208676, 0.0137329128, 0.0, 0.0102996792, 0.0, 0.0, 0.0, 11.092757184000002, 0.0, 0.0, 0.0, 0.0, 0.0, 0.0, 0.0, 0.034332264, 0.17509464, 0.0, 0.0, 0.0, 0.0, 0.0, 0.034332264, 0.0, 0.0, 0.0, 0.0, 0.0, 0.0, 0.0, 0.0, 0.0, 0.0, 0.0, 4.5807803568, 0.0, 0.0, 0.0, 0.0, 0.0, 0.0343322712, 4.1181579, 0.00686646, 1.6170508224000002, 2.4976727424000003, 0.6394389048, 0.013732905600000001, 0.0, 0.0, 0.0, 0.0, 0.0, 0.0, 0.0, 1.1020662, 0.0240326064, 0.0, 0.0, 0.0, 2.5405901064, 24.530408064, 1.586151792, 0.7587432504, 0.90808938, 3.8486504160000004, 1.60675128, 1.495170396, 0.082397448, 0.0, 0.0, 0.0, 0.0, 0.048065184000000004, 0.0, 0.0, 0.0, 0.0, 0.0, 0.0, 0.0, 0.0, 0.0, 0.022315968, 0.2317430736, 12.81709764, 0.38967122880000005, 2.6779184784, 1.1089321559999998, 3.1774526424, 1.3492582847999999, 0.6463050768, 0.81367488, 0.048065184000000004, 0.0, 0.0, 0.8995052376, 17.9918258184, 0.11501330400000001, 0.0, 0.0, 0.0, 0.0, 0.0, 2.22129468, 67.582230588, 1.2153624336, 0.10986330960000001, 0.0, 0.0, 2.2719384864, 0.0, 0.0, 0.0, 0.0, 0.0, 0.063514872, 7.529073192, 10.1469061728, 0.23689259999999998, 0.0, 0.0, 0.0, 0.0, 0.0, 0.0, 0.0, 8.775329832, 13.108063932, 0.0, 4.5696252384, 0.3913880832, 0.0, 0.0, 0.0, 0.8377073064, 0.0, 0.0, 0.0, 0.072097812, 0.030899052000000003, 0.7570269359999999, 11.954498004000001, 0.0, 0.35705557439999996, 8.89549812, 0.0, 1.2565611144, 0.0, 0.0, 1.4968874159999999, 0.0, 0.0, 0.032615676, 9.291170210399999, 0.0, 0.0, 0.0, 0.0, 0.0, 0.0, 0.0, 1.0849024224, 2.34489096, 1.4659891344, 1.8505098863999998, 0.0, 0.0, 0.0, 0.0, 0.188827668, 0.0, 0.092697156, 0.0, 0.0, 0.0, 0.0, 0.0, 0.11672972640000001, 0.0, 0.0, 0.0, 0.0240326064, 0.0, 0.0, 0.0, 1.1364001128, 0.27294192, 0.013732905600000001, 0.0, 0.0, 0.0, 0.0, 0.0, 0.0, 0.0, 2.8753287480000003, 0.0, 0.0, 0.0, 0.0, 0.0, 0.0, 0.013732905600000001, 0.0, 0.0034332264000000003, 0.4257204264, 0.0, 0.0377654904, 0.0102996792, 0.0, 0.0, 0.0, 0.02746584, 0.0, 0.0, 0.0, 1.117515168, 1.1690134128, 0.0, 0.0, 0.0, 0.0, 0.0, 4.035757572, 0.0, 0.0, 0.0, 0.0, 0.0, 0.0, 0.0, 12.325283855999999, 0.0, 0.0, 0.0, 0.0, 0.0, 0.0, 0.0, 0.0, 1.713178188, 0.621414, 0.0, 0.8789062464, 4.00142736, 6.97117068, 0.650597112, 0.7450105464, 0.0, 0.0, 2.16465084, 37.88053956, 15.377426604000002, 0.302124132, 0.0, 0.0, 0.0, 0.45146952, 5.014229032799999, 1.3801582656, 0.890922708, 0.0, 0.0, 0.0, 0.0, 0.2746580904, 10.483362827999999, 24.84455292, 25.0548372, 16.168786574400002, 3.7302047999999997, 0.0, 0.0, 0.0, 0.0, 0.0, 3.9653796528, 0.4154206176, 1.8917091000000001, 0.514984176, 3.2546971656, 11.748499668, 1.2874605768, 0.635146776, 1.284026616, 1.919174472, 15.064999884, 2.9663072639999997, 0.1270294776, 0.0, 1.0677341304, 0.02746584, 0.0, 1.4110566624, 0.5561824896, 1.0059353640000002, 0.0720977832, 0.0, 0.0, 0.806808492, 0.47721866399999996, 0.0, 0.0, 0.0446319864, 0.44631979200000005, 0.223159788, 0.0, 0.0, 0.0, 0.0, 0.0308990592, 0.06523136639999999, 0.0, 0.0, 0.0, 3.3937490664, 2.4152757984, 10.61553996, 20.62682532, 2.8701781632, 0.8617400064, 1.9741077863999998, 0.0, 0.017166132, 0.065231352, 0.27465818399999997, 0.00686646, 0.6385804344, 0.77591016, 10.859305572, 0.02746584, 0.0, 0.6832128023999999, 1.8007287840000001, 2.949141672, 1.2908938104, 2.382660504, 2.4169928328, 0.0, 0.0308990304, 0.272941596, 0.3913875648, 0.0, 0.0, 0.0, 0.0, 0.0, 0.0, 0.0, 0.0, 0.0, 0.0, 0.0, 0.300407256, 0.0, 0.0, 0.0, 0.0, 0.0, 0.0, 0.0, 0.1922607864, 0.0617980824, 3.9473522424, 2.87532972, 17.3592468, 14.45559804, 0.7450106904000001, 0.0, 0.0, 0.0, 0.4197128184, 0.36048925439999996, 0.0, 0.0, 0.0, 0.0, 0.0, 0.0, 1.3835912184, 0.7604601623999999, 0.43430306399999996, 2.252197368, 0.6196984056, 0.0, 0.5287174128000001, 1.9895558759999998, 0.0, 0.0, 0.0, 0.0, 0.0, 0.0, 0.1819610784, 0.0652313304, 0.01373292, 0.034332264, 0.18196113600000002, 0.0, 0.0, 0.0411987312, 0.387954684, 0.0, 0.0, 0.0, 0.0, 0.0, 0.0, 0.0, 0.0, 0.18539420399999998, 3.38173002, 1.277160372, 0.0, 0.0, 0.0, 0.0, 0.0, 0.0, 0.0, 0.0, 0.4343033736, 0.0, 0.0, 0.0, 0.0, 0.0, 0.0, 0.0, 0.0, 0.79135848, 0.0, 0.0, 0.0, 0.0, 21.70314774, 0.0, 0.0, 0.0, 0.0, 0.0, 0.4823686008, 3.5448080039999996, 0.5973816456000001, 0.0, 0.0, 0.0, 0.0, 0.0, 0.0, 0.0, 0.0, 0.0, 1.5604022015999999, 0.487518228, 0.0, 1.7320642704, 0.0, 0.3038408424, 0.4823689104, 2.3345963064, 5.664824928, 23.15197224, 23.757062508, 1.060009056, 0.535583196, 0.0, 0.0, 0.0, 0.6145479, 42.7041756, 0.0034332264000000003, 0.385379784, 8.366772312, 6.634717847999999, 0.0, 0.0, 0.0, 0.0, 0.0, 0.013732905600000001, 2.5388748, 48.91320108, 36.613641888000004, 0.0, 0.0, 0.0, 0.0, 15.130230624000001, 0.0, 0.0, 0.0, 0.0, 1.7406476999999998, 0.7827761087999999, 0.0, 0.0, 0.0, 0.0, 0.0892638, 3.56369076, 0.0, 52.56616068, 0.43945257600000004, 2.9594417904, 2.86502868, 0.0, 0.0, 0.0, 4.4666286263999995, 74.7276696, 0.0, 14.13631296, 0.0, 0.252342324, 9.5872873464, 2.6023855464, 0.0274658256, 4.5421595928, 0.8342743392, 4.1919749064, 0.39482107920000004, 0.83427408, 0.39138786, 1.5930189144, 0.0171661392, 0.0, 0.0, 0.0, 0.0, 0.0, 0.0, 0.0, 2.492524224, 11.98196028, 0.0, 0.0, 16.15677174, 0.0034332264000000003, 0.0, 0.0, 0.0, 0.075530988, 15.178282272, 62.23414932, 0.314140392, 0.1750945392, 0.0, 0.6042481704, 1.5054705791999998, 0.0, 0.0, 0.0, 0.0, 0.0, 5.86566864, 2.0410536312, 30.40123392, 0.0, 0.0, 0.40168774799999996, 0.0, 0.0, 1.38702348, 1.6376497559999998, 0.0, 0.0, 1.4968875240000001, 2.30712822, 0.0, 0.0, 0.0, 0.0, 0.0, 0.0, 0.0, 0.0, 0.0, 0.0, 0.0, 0.0, 0.2265929928, 1.2840277464, 0.0, 0.0, 0.0, 0.0, 0.0, 0.0, 0.0, 0.0, 0.0, 0.0, 0.0, 0.0, 0.0, 0.058364712, 0.0, 0.0, 0.0, 0.0, 0.0, 0.0, 0.0, 0.0, 0.0, 0.7450109640000001, 61.6436316, 0.0274658256, 0.0, 17.142088464, 38.119133592, 0.09613036800000001, 0.21286008, 6.310274004, 3.00407688, 0.47378518560000005, 0.0, 0.0, 0.40168940399999997, 7.8346224, 0.0, 0.0, 0.0, 0.0, 0.32615676, 0.0, 0.0, 0.0, 0.33988933439999996, 0.18539431920000002, 0.0171661464, 0.0, 0.226592892, 24.25917384, 7.546231152000001, 0.0, 0.0, 0.896072616, 6.535148976, 0.14762877119999998, 0.0, 0.0, 0.0, 0.0, 0.0, 0.0, 0.0, 0.0, 0.0, 0.0, 0.0, 0.0, 50.7568526784, 0.315856872, 0.0, 0.0, 0.0, 0.2162932344, 20.00198232, 21.9211654104, 36.57760956, 33.57010368, 11.144259287999999, 1.661681664, 8.92296144, 1.115798616, 0.508118076, 0.0, 0.0, 0.0, 0.0, 0.0, 0.0, 0.0, 0.0, 0.0, 0.0, 1.0728839159999999, 6.572911716, 3.4941692663999997, 15.202329084, 9.30233772, 13.159564178399998, 0.979327836, 3.647806992, 0.472068792, 2.37922704, 2.317428, 0.0, 0.0, 0.0, 0.0, 0.0, 0.0, 0.0, 0.0, 0.8445733704, 1.376723844, 14.6839138776, 0.0308990664, 0.0, 0.0, 0.0, 0.0, 0.0, 0.10986336, 0.219726648, 0.0, 1.0145188440000001, 1.3149254879999999, 1.6067508480000001, 0.072097776, 0.5493163104, 7.319636352000001, 1.2033471528, 0.48065181840000004, 1.5380856719999998, 0.8411404464, 0.8926391807999999, 1.0196687304, 1.544951664, 2.1869667, 1.9981383119999998, 1.0231033824, 2.535437016, 0.3948211296, 0.1235962368, 0.24375927600000002, 0.8831983392, 0.121021272, 1.3715741592, 0.10643006880000001, 0.0, 0.0, 0.0, 0.0, 0.0, 0.0, 0.0, 0.0, 0.02059938, 0.16822803600000003, 0.0, 0.0, 0.0, 0.0, 0.0, 0.0, 0.0, 0.0, 0.0, 0.0, 3.4555418639999997, 6.753156163200001, 0.46262756159999996, 0.0, 0.0, 0.0, 0.034332264, 12.7218218544, 12.812805035999999, 0.27809143199999997, 0.23345961839999999, 0.0, 0.0, 0.0, 0.0, 0.0, 0.0, 0.0, 0.0, 0.0, 0.0686645424, 0.0, 0.0, 0.0, 0.0, 0.0, 0.0, 0.0, 0.0, 0.0, 0.0, 0.0, 0.0, 0.2489090328, 0.0411987384, 0.0, 0.0, 0.0, 0.0, 0.0, 0.1991272104, 0.0, 0.03261564, 3.8778311160000003, 0.0, 0.0, 0.0, 0.0, 0.0, 0.0, 0.0, 0.0, 0.0, 0.0, 0.0, 0.0, 0.0, 0.0, 1.9380575519999999, 0.0617980896, 0.0, 0.0102996792, 0.0, 4.3481844, 5.9738148, 0.0, 0.0, 0.0, 0.06179814, 56.09037744, 32.649990264, 0.58193208, 0.0, 0.64544724, 0.048065205599999994, 0.0, 0.0, 0.0, 0.0, 0.0, 0.0, 0.0, 0.0, 0.0, 0.0, 0.006866452800000001, 1.720048464, 0.0, 0.0, 0.0, 0.0, 1.45568844, 4.58164188, 0.0, 0.0, 0.0, 4.40482968, 40.827931956, 0.0, 0.0, 0.0, 0.0, 0.0, 0.0, 0.0, 0.17337794399999998, 1.46942136, 0.0, 0.0, 0.2197266984, 0.0, 0.0, 0.0, 3.39116868, 0.30384079199999997, 0.0, 0.0, 0.0, 0.0, 0.0, 0.085830768, 4.161071412, 0.0, 0.30212406, 0.0, 0.0, 0.0, 1.2565611864, 0.0, 0.0, 0.149345712, 0.0, 0.063514692, 0.0, 0.0205993728, 0.33817266, 0.0, 0.0, 3.54652344, 0.0, 0.4531860504, 1.091768652, 1.4213562119999998, 0.0, 0.0, 0.0, 0.0, 2.1491960184, 1.5998868, 1.534652964, 0.1304626464, 5.911160184, 0.0583648488, 8.194249908, 3.3971786928, 0.0, 0.0, 0.0, 0.0, 0.0, 0.0, 0.0, 0.0, 0.0, 0.0, 4.700092032, 0.0, 0.0, 0.0034332264000000003, 0.0, 0.0, 0.0, 0.0, 0.0, 0.0, 0.0, 0.0, 0.0, 0.10299672, 0.0, 0.0, 0.0, 0.0, 0.0, 0.0, 0.0, 0.0, 0.0, 0.0, 0.025749216000000002, 0.652312944, 4.751586144, 18.990899964, 0.995635908, 0.0, 0.0, 0.0, 0.0, 0.0, 0.0, 0.0, 0.799942212, 0.2883911688, 0.0, 0.0, 0.3398895, 3.52592172, 10.38722778, 0.0, 0.0, 0.0, 0.0, 0.0, 0.0, 0.0, 0.0, 0.0, 0.0, 0.0, 0.0, 1.562117832, 0.0, 0.0, 0.0, 0.635146848, 22.02758496, 0.0, 0.0, 57.269736108000004, 4.516411464, 28.419400800000002, 1.9663829640000001, 0.0, 0.0, 0.0, 1.76810958, 0.0, 0.0, 0.0, 0.0, 0.0, 0.0, 0.0, 0.0, 0.0, 0.0, 0.0, 0.0, 0.0, 8.668900476000001, 0.0, 2.0178795528, 0.372505356, 0.0274658328, 2.0462025456, 1.4556887208000002, 5.106926736, 0.0, 0.9201049128000001, 10.5331410144, 0.8291246328, 0.0102996792, 0.0, 3.1559929560000004, 11.39488416, 7.94105352, 0.0, 0.0, 0.0, 0.0, 3.7679676912, 0.8016591240000001, 0.0, 0.6334310879999999, 0.0, 0.0, 0.0, 0.0, 0.0, 0.0, 0.0, 0.0, 0.2643584904, 1.658249064, 1.8367770384, 0.2059937568, 0.0, 0.0, 0.0, 0.31929013440000004, 0.185394384, 1.5037541496, 1.5689854512, 0.02746584, 0.0, 0.0, 0.0, 0.0, 0.0, 0.00686646, 0.4325862528, 1.201629348, 0.597381696, 0.93383784, 2.209283136, 0.0, 0.0, 0.0, 0.0, 0.0, 0.24032597039999998, 0.3055572144, 0.0, 0.0, 0.0, 1.754379792, 3.54309516, 0.0, 0.0, 0.32443992, 0.0, 0.0, 0.0, 0.0, 0.0, 0.0, 0.0, 0.0, 0.0549316584, 0.0, 5.8227511824, 0.34332264, 1.352691684, 1.0917662688, 0.6729122808, 2.22473124, 0.4497527232, 0.0102996864, 0.5115505824000001, 4.7653218, 16.585922844000002, 0.0, 1.1518485840000001, 0.69351192, 0.0, 0.0, 0.0, 0.0, 0.0, 0.0, 0.0, 0.0, 0.0, 0.0, 0.0, 0.0, 0.0, 0.0, 0.0, 0.0, 1.3011936264, 12.911515199999998, 7.911020232, 1.0540009944, 2.9817578376, 1.19132856, 0.0, 0.0, 1.445389704, 0.0, 0.0, 0.0, 0.0, 0.0, 0.0, 2.2453314048, 4.0074339888, 0.599098968, 0.0, 0.0, 0.0, 0.0, 0.0, 0.0, 0.0, 0.0, 1.02996774, 6.0227396424, 0.078964236, 0.3072738672, 0.6368636736, 0.218010024, 0.0, 0.0, 0.0, 0.0, 0.0, 0.0, 0.0, 0.0, 0.0, 0.0, 0.0, 0.0, 0.1596450744, 0.1562118768, 0.0, 0.0, 0.0, 2.6856413927999996, 0.41370408, 0.0, 0.0, 0.0, 0.0, 0.0, 0.0, 0.0, 0.0, 0.0, 0.0, 0.0, 0.0, 0.0652312872, 0.0, 0.0, 0.0, 0.0, 0.0, 0.8823386304, 6.1145750664, 0.0, 0.0, 0.0, 0.0, 0.0, 0.0, 0.1476289224, 0.0, 0.0, 0.4995342864, 0.08411408640000001, 0.0, 0.0, 15.81345036, 0.0, 0.0, 1.1046405168, 0.48236816159999996, 0.0, 0.7982257464, 0.0, 0.0, 0.0, 1.43337258, 5.1876054719999996, 0.0, 0.0, 0.0, 0.0, 0.0, 0.116729784, 5.803011612000001, 0.0, 0.0, 0.0, 4.59366012, 10.02931668, 0.10814680800000001, 0.0, 0.0, 0.0, 8.31012768, 1.0488512664, 0.0, 0.0, 0.0, 0.5424496560000001, 2.6264216663999997, 15.631485732, 0.0, 0.0, 0.0, 0.0, 0.0, 0.0, 10.9554247656, 49.36294392479999, 0.0, 0.7261276320000001, 0.38280546, 0.0, 0.0, 0.0, 0.0, 0.0, 15.864088176, 1.9861247088, 10.51254468, 7.8397784928, 2.7860632632, 0.08239748400000001, 0.013732905600000001, 0.0, 0.0, 0.0, 0.0, 0.0, 90.94107204, 0.9956359728, 0.0, 0.0, 0.0, 0.0, 1.9062997919999998, 0.0, 0.0, 2.20413096, 0.0, 0.0, 0.0, 0.0, 30.92739804, 0.0, 0.0, 2.3551911, 0.0, 0.0, 0.0, 0.0, 0.0, 0.0, 0.0, 11.844636444, 0.0, 0.0, 0.0, 0.0, 0.7312772664, 0.98533656, 0.0, 0.0, 0.0, 0.0, 0.0, 0.0, 0.2952577728, 0.051498395999999995, 0.0, 0.0, 0.0, 0.0, 0.0, 0.0, 29.3643945, 10.249897356, 0.0, 0.0, 0.0, 0.0, 0.01373292, 16.57905768, 59.50813572, 5.838204636, 0.0308990448, 0.0, 0.0, 0.0, 0.0, 0.0, 0.0, 0.0, 0.0, 0.0, 0.0, 0.0, 0.65574648, 0.0, 3.9688084439999995, 0.1716614208, 0.0446319432, 0.0, 0.0, 0.01373292, 0.0, 0.0, 0.0, 0.0, 0.0, 0.0, 0.127029564, 8.1316011384, 0.0102996792, 0.0, 7.45697736, 30.55570596, 1.311492024, 0.0, 0.0, 0.0, 0.0, 0.1373290704, 0.0, 0.0, 29.91370968, 2.42385858, 0.0, 0.0, 0.0, 0.0, 3.75595002, 21.72889584, 10.8833296032, 0.954437364, 1.567269936, 4.25033604, 0.14247910800000002, 0.0, 0.0, 0.0, 1.6805650391999998, 0.7295611608, 0.0, 1.175021568, 3.2804487360000003, 6.713673372000001, 0.0, 1.8075942144, 0.2180099664, 0.0, 0.0, 1.079750124, 0.1459121976, 0.133896168, 0.0, 0.0, 0.0, 0.0, 14.91222456, 0.044631972, 0.027465818399999998, 0.0, 0.9492876, 0.0, 0.0, 0.0, 0.058364856, 0.006866452800000001, 1.7595272664, 3.898426104, 3.313064268, 0.0, 0.9630210384000001, 0.2712254328, 1.6153338024000001, 0.24805047600000002, 1.3355256168, 9.83276172, 10.3820792976, 0.0, 0.0, 0.4360200408, 0.6222731112, 0.6591801744, 0.006866452800000001, 0.0, 0.0, 0.0, 0.0, 0.0, 0.0, 0.4686358248, 1.9208913984, 8.94098124, 0.0, 0.6025313520000001, 2.3242952519999998, 0.087547284, 4.7859165, 6.71024484, 15.21091944, 3.3817293719999997, 0.041198724, 2.4084088919999997, 1.4076231119999998, 2.28824496, 6.9454188792, 4.1524836624, 0.66947958, 0.4875187824, 1.464271128, 0.0, 0.0, 0.0, 0.0205993656, 0.0, 0.0, 0.0377654904, 0.0, 0.4600525104, 7.096482194400001, 0.15449526, 0.7372858968000001, 2.0865433319999998, 0.2514839256, 1.5260703480000002, 7.16514732, 0.1699446312, 4.928396436, 0.0, 0.0, 0.0, 0.0, 0.1733780016, 0.1888275096, 0.4188540744, 0.36563850000000003, 0.097846992, 0.0, 0.147628512, 7.985684412, 8.046637365599999, 0.0, 0.0, 0.0, 0.0, 0.0, 0.0, 0.0, 0.0, 0.0, 0.0, 0.34332328799999995, 0.0, 0.08325577440000001, 0.0, 0.013732905600000001, 0.5527501847999999, 0.0, 0.0, 0.0, 0.1338958224, 0.0, 0.0, 0.0, 0.0, 0.0, 0.0, 0.0, 0.0, 0.0, 0.0, 0.0102996792, 0.0, 0.0, 0.0, 0.0, 0.6488802576, 8.651734639199999, 4.526713944, 0.0, 0.0, 0.0, 0.0, 0.0, 0.0, 0.0, 0.09613034640000001, 0.0, 0.0, 0.0, 0.0, 0.0, 0.0, 0.0, 0.0, 2.5423042319999998, 2.7997975439999996, 0.027465818399999998, 0.0, 0.0, 0.0, 0.0, 0.0, 0.0, 0.0, 0.0, 0.0205993728, 0.006866452800000001, 0.0755310096, 4.265786448, 0.0, 0.0, 0.0, 0.0, 0.0, 5.646799656000001, 0.0, 0.0, 0.9853361279999999, 0.4600524024, 4.47350076, 0.0, 0.0, 0.0, 0.0, 0.0, 0.0, 0.0, 0.0, 0.06179814, 0.0, 0.0205993656, 0.0, 0.0205993584, 0.0, 0.0, 0.0, 0.1338957, 1.8608076, 7.6784128560000005, 23.8918189104, 0.0411987168, 0.0, 0.0, 3.1276707480000003, 0.0, 0.0, 0.0, 0.0, 0.0, 0.0, 1.81188576, 0.0, 0.57849912, 0.0, 0.0, 0.0, 0.120162744, 0.082397448, 0.0, 6.8338384632, 0.23002632, 1.5260695919999998, 12.45318192, 0.3192905592, 0.0, 0.0, 0.0, 0.7553097, 0.0, 0.75530988, 0.0, 0.0, 0.0, 0.0, 0.097847064, 2.379226932, 24.406817724, 0.425720376, 2.14577064, 1.44882144, 0.2883910608, 0.041198752799999995, 0.0, 0.0, 0.0, 1.1861801928, 0.0, 0.0, 0.0, 0.0, 1.191329892, 0.60768108, 3.8108807999999996, 0.0, 0.0, 0.3913878168, 0.0, 0.0, 0.0, 6.619267044, 0.0, 0.0, 0.0, 0.0, 0.0, 0.0171661464, 0.0, 0.0, 0.0, 0.0, 0.0, 0.0, 0.0, 0.0, 0.0, 0.0, 0.0, 0.0, 1.095199812, 16.149898800000003, 9.915158088, 2.5852176, 0.0, 6.032181383999999, 0.0, 0.0, 0.017166132, 2.094270156, 0.0, 0.6952282559999999, 0.0, 0.0, 0.243759384, 0.0, 0.0, 0.0, 0.0, 0.0, 0.0, 0.0, 0.0, 0.0, 0.5450246928, 0.58708224, 0.024890904, 0.0, 0.0, 0.0, 0.0, 0.0, 0.0, 0.0, 0.0, 0.0, 0.0, 0.0, 0.0, 0.0, 0.0, 0.0, 0.0, 3.8778284160000003, 0.19397746800000001, 0.0, 0.0, 0.0, 9.378722376, 6.746296212000001, 29.19786336, 2.8186776, 0.0, 0.0, 0.0, 0.0, 1.273727592, 0.40855428, 0.0, 4.3395978384, 0.33645636, 0.0, 1.8058783319999998, 0.041198724, 0.5630494248, 2.4307258248, 0.0, 0.0, 0.0, 0.0, 0.0, 0.0, 0.0, 1.56898692, 0.0, 0.0, 0.0274658328, 0.0, 0.0, 0.3227233464, 0.9098054207999999, 22.21813134, 1.77326226, 0.0, 0.0, 0.0, 0.0, 2.080536192, 0.384521436, 0.35190576, 0.0, 0.0, 3.0160910160000003, 2.19554892, 0.0, 0.0, 0.0, 0.0, 0.0, 0.68149584, 0.0, 0.0, 0.0, 2.4461716248, 4.02545988, 0.0, 0.0, 0.0, 4.6116786024000005, 0.0, 0.0, 0.0, 0.0, 0.0, 2.255630472, 0.0240325992, 0.0, 0.0, 0.0, 0.0, 0.0, 0.0, 0.0, 0.0, 0.0, 0.0, 0.0, 2.71568286, 0.0, 0.0, 0.0, 0.0, 0.0, 0.0, 0.0, 0.0, 0.0034332264000000003, 0.17852796, 1.2565621584, 0.48236911200000004, 0.1029968064, 2.30884686, 7.752229164, 0.7072449120000001, 0.0, 0.0, 0.1373291424, 1.1501311464, 4.943850516, 6.50596932, 0.0, 0.0, 0.0, 0.0, 0.0, 0.14762879999999998, 1.7749784880000001, 2.6195523119999997, 0.7141116240000001, 0.0, 0.037765512, 0.0, 0.0, 2.1835329264, 12.29095404, 0.4600528056, 0.0, 0.0, 0.065231352, 0.0, 0.0, 0.1158713784, 0.1081466352, 0.6866459928, 0.399971124, 0.0240325992, 0.0, 0.0, 0.0, 0.0, 0.0, 0.0, 0.0, 0.0686645784, 0.0, 1.709747064, 0.451469736, 0.0, 0.0, 0.0, 0.0, 0.0, 0.0, 0.0, 0.0, 0.0, 0.12359620800000001, 0.0, 0.0, 0.0102996792, 0.0, 0.0, 0.0, 0.0, 0.0, 0.0, 0.0, 0.0, 0.406837584, 4.0306111128, 0.5939483688, 0.0, 0.0, 0.1132965, 0.0034332264000000003, 0.15020388, 0.0, 0.0, 0.0, 0.0, 0.0, 0.0, 0.0, 0.0, 0.0, 0.0, 11.214641699999998, 0.171661536, 0.0, 0.0, 0.0, 0.0, 0.0, 0.0, 0.0, 0.0, 0.0, 0.0, 0.0, 0.0, 0.0, 0.0, 0.0, 0.0, 0.0, 0.0, 0.0102996792, 0.0, 0.0, 0.0, 0.0, 0.0308990592, 0.0, 0.0, 0.0, 0.0, 0.0, 0.0, 0.0, 2.6521681463999998, 0.0, 0.0, 0.0, 0.0, 1.27029564, 119.9620952928, 13.9526365248, 0.0, 0.0, 0.0, 0.0, 0.0, 2.31571134, 0.0, 0.0, 0.0, 32.121284076, 0.030899052000000003, 0.0, 0.0, 0.0, 0.0, 0.0, 0.0, 1.4677041240000002, 1.989557316, 0.288391428, 0.0102996792, 0.00686646, 11.798289, 5.9583661704, 16.256331936, 0.0240325992, 0.0, 0.0, 0.0, 3.476141208, 1.4677063992, 17.5437943704, 0.0, 0.0, 0.0, 0.0, 0.0, 0.0, 0.0, 0.0, 0.0, 0.0034332264000000003, 5.136966396, 12.2343054192, 0.7518772944, 0.4205700576, 0.0, 0.0, 0.0, 0.0, 0.0, 0.0, 3.248692596, 29.530899468, 0.2969739792, 0.0, 0.0, 0.0, 0.56648304, 3.03154524, 0.0, 5.86567296, 0.00686646, 8.165935944, 0.0, 0.0, 0.0, 0.0, 0.0, 0.0, 0.0, 0.0, 0.017166132, 2.4238594296000002, 16.373056284, 10.1211590304, 8.0989857792, 0.0, 0.0, 0.30555720000000003, 5.1052176, 16.4039625, 0.0, 0.0, 0.0, 0.0, 0.0, 0.0, 0.0, 0.23345964, 8.2466136, 3.1002012000000003, 0.0, 0.0, 0.0, 0.0, 0.0034332264000000003, 5.1867503856, 14.2993872, 0.0, 0.0, 0.0, 0.0, 0.0, 0.0, 0.0, 0.308990412, 0.0, 0.0, 0.0, 6.226159536, 24.75013104, 13.9474872, 0.0, 7.45182018, 0.0, 0.0, 0.0, 0.0, 0.0, 0.0, 3.05213688, 0.6179810544, 0.0, 0.0, 0.0, 0.0, 0.0, 0.0, 0.0, 0.0, 0.0, 0.2214433584, 1.6016004, 7.956500832000001, 0.0, 0.0, 0.0, 0.0, 0.0, 0.1381872816, 4.94899776, 0.36220525200000003, 0.0, 0.6420138984, 3.26500056, 7.742777292, 14.3792154144, 1.54151928, 6.572908512000001, 4.2554893464, 0.013732905600000001, 7.2818770824, 0.0308990592, 5.7901402224, 9.453395354400001, 0.0205993728, 0.0, 0.0, 0.0, 5.421071196000001, 0.0, 0.9750367584, 0.08926392960000001, 0.0, 0.0, 0.0, 0.0, 0.0, 1.5689853863999998, 4.3327308528, 8.500674614400001, 17.7206029128, 3.9911270975999997, 28.475180891999997, 56.7134709048, 46.8635904, 0.2437591248, 0.0, 0.0, 0.0, 0.0, 23.854063500000002, 68.770127556, 0.3364566336, 0.0, 0.24375927600000002, 4.411697472, 1.09519974, 0.0, 0.0, 0.1682283168, 0.5218509384000001, 0.0549316512, 0.964737216, 0.0, 0.0, 0.5334380064, 5.811595812, 3.529358892, 4.79621826, 0.94671252, 0.08325579599999999, 0.0, 0.0, 0.0, 0.0, 0.2978325144, 5.373003132000001, 5.14983924, 3.45382812, 5.805587556, 24.873741, 4.583356956, 0.0, 0.0, 0.0, 0.0, 0.0, 0.0446319432, 0.2403259056, 0.278091468, 0.940704552, 0.18882745199999998, 0.0, 0.0, 0.0, 0.0, 0.0, 1.9981359719999998, 0.0, 0.0, 0.0, 0.0, 0.0, 0.0, 0.0, 0.0, 0.0, 0.0, 0.0, 0.0, 0.0, 0.0, 0.0, 0.0, 0.0, 0.0, 0.0, 0.0, 0.120162924, 0.40512083039999996, 1.1054989944, 0.425720448, 0.0, 0.0, 0.0, 0.0, 0.260925336, 1.0076520024, 0.308990376, 0.0, 0.0, 0.985336092, 5.925751452, 0.240325956, 0.0, 0.0, 0.0, 0.0, 0.0, 0.0, 0.0, 0.0, 0.006866452800000001, 0.0617981184, 0.0, 0.17852799600000002, 0.0, 0.0, 0.0, 0.0, 0.0, 0.0, 0.0, 0.0, 0.0, 0.0, 0.0, 0.0, 0.0, 0.0, 0.0, 0.0, 0.0, 0.0, 0.0, 0.0, 0.0, 0.0, 0.0, 5.02280946, 4.97646468, 0.0, 0.0, 0.0102996792, 0.0, 0.0, 0.0, 0.0, 0.0, 0.0, 0.0, 0.0, 0.25234261199999997, 0.0, 0.0, 0.068664456, 0.34847262, 0.0, 0.0, 0.0, 0.0, 0.0, 0.0, 0.0, 0.0, 0.0, 0.0, 0.0, 0.0, 0.0, 0.0, 0.0137329128, 0.0, 2.1114323424, 0.0, 0.0205993728, 0.0, 0.0, 2.7311298984, 7.06557852, 12.405969972000001, 13.64965236, 13.0565657016, 0.2952576648, 2.7465811056000002, 21.02422032, 0.5699157264, 0.0, 0.0, 0.0, 0.013732905600000001, 0.0, 0.0, 0.0, 0.0, 0.0, 0.0, 0.0, 0.0, 1.005935796, 2.7946455119999998, 0.0377654832, 0.2025604296, 0.23689259999999998, 11.60774496, 0.0, 5.1670048824, 0.7827762384, 0.0, 2.2865296392, 0.3330228528, 0.0, 0.034332264, 0.0102996792, 0.0, 0.0, 0.0, 0.0, 4.037479343999999, 0.0, 5.87424636, 0.70037856, 0.0, 0.0, 0.0, 10.0627875, 0.3055571064, 2.7431506368000003, 0.43258655520000006, 2.5955200080000003, 0.0, 0.0, 0.0, 0.1974104856, 0.0, 0.0, 0.0, 3.460694652, 1.127815128, 0.56905812, 0.0, 0.0, 0.0, 0.0, 0.0, 0.0, 0.0, 0.065231388, 0.0652313232, 0.0, 0.0, 0.0, 1.73120472, 0.0, 0.0, 0.0, 0.0, 0.0, 0.0, 0.0, 0.0, 0.0034332264000000003, 0.0, 0.858306888, 0.013732905600000001, 0.0, 0.0274658328, 0.0, 0.0, 6.100843608, 0.0, 0.0, 0.0, 7.54108092, 3.10020192, 0.0, 0.45146930399999996, 0.30899052, 0.0, 0.0, 0.0, 0.0, 0.0205993656, 0.8274079584, 0.0, 16.1876708064, 2.06165268, 0.0, 1.29089376, 0.0, 0.0, 0.0, 0.0, 3.26156724, 0.0, 0.0, 0.0, 0.0, 0.20256051600000002, 0.0, 0.0, 1.1569977864, 0.0, 0.0, 0.0, 0.55961604, 11.30561424, 0.0, 20.348743392, 0.0, 0.0, 0.0, 0.0, 0.0, 0.0, 30.511094364, 91.03200012, 10.0009917864, 10.031891400000001, 2.75001552, 0.4119876504, 3.903583392, 0.82569042, 1.28574432, 0.024461748, 0.0, 0.0, 0.0, 0.072097776, 26.407967191199997, 0.0, 0.19655251199999998, 0.0, 0.0, 0.0, 0.0, 0.0, 0.0, 1.97496378, 3.7216208664, 1.4977455480000001, 0.0, 0.1038551328, 14.416130066400001, 0.0, 0.0, 0.65403, 0.40168792799999997, 28.90774494, 0.0, 0.0, 0.0, 0.0, 0.0, 0.0, 0.0, 0.0, 0.0, 4.9129501824, 2.0153050992, 7.670687544, 0.054931644, 0.0, 0.0, 0.0, 0.0, 0.0, 0.0, 0.0, 0.0, 0.0, 0.0, 17.6948540424, 0.0, 0.0, 0.0, 0.54759996, 17.88195888, 0.0, 1.600742196, 41.87337804, 2.4890904, 0.0, 0.0, 0.0, 0.0, 0.0, 0.0, 0.0, 0.0, 1.0265352264, 0.29697418800000003, 0.0, 0.0, 0.048065184000000004, 0.0, 0.0, 0.0, 0.0, 0.0, 0.0, 0.0, 0.0, 0.0, 0.0, 0.0514984104, 1.6342164, 11.2009068504, 1.1569974984, 1.8848432663999999, 0.0, 0.0, 0.8823394224, 0.0, 0.0, 0.11329653599999999, 0.0, 0.0, 0.0, 0.0, 0.0, 0.0, 0.0, 0.0, 0.0, 0.0, 0.0, 0.0, 0.2300264064, 0.0, 0.0, 0.0, 0.0, 0.0, 1.43852256, 0.185394132, 0.0, 0.02059938, 0.655746156, 0.0892639368, 0.0, 0.0, 0.0, 0.0, 0.144195552, 0.1579285008, 0.8308415159999999, 0.37422181439999996, 0.0, 0.2712249936, 1.2771605808, 0.0, 0.0, 0.0, 0.0, 0.0, 0.0, 0.0, 0.0, 0.0, 0.0, 0.089263908, 0.0274658256, 0.0, 0.0, 0.0, 0.0, 0.322723296, 0.1819610928, 0.0, 0.0, 0.0, 0.247192308, 0.17681129999999998, 1.0951997759999998, 0.5853652992, 1.743221556, 0.0, 2.985190272, 1.2599931384, 0.0, 0.0, 4.6108242719999994, 0.4291531848, 0.0, 0.0, 0.0, 0.0, 0.0, 0.0, 0.0, 0.0, 4.7155361760000005, 5.6871413424, 0.1132965216, 0.0, 0.0, 0.0, 0.0, 0.0, 0.0034332264000000003, 2.6109722447999997, 0.013732905600000001, 0.07209774719999999, 0.0205993728, 0.0, 0.0, 0.0, 0.0, 0.0, 0.0, 0.0, 0.0, 0.0, 0.10299682800000001, 0.0, 0.0, 0.0, 0.0, 0.0, 0.0, 0.0, 0.0102996864, 0.461769084, 0.0, 0.0, 0.0, 0.0, 0.0, 0.0, 0.61798086, 0.75187692, 0.0, 0.0, 0.0, 0.0, 0.0, 0.0, 0.0, 0.04119876, 0.01373292, 0.0, 0.0, 0.0, 0.0, 0.0, 0.0, 0.0, 0.0, 0.0, 0.0, 0.0, 0.0, 4.9507155, 0.01373292, 0.0, 0.0, 0.0, 0.0, 0.0, 0.0, 0.0, 2.5028214984, 28.013442731999998, 0.494384472, 0.0102996792, 0.0, 0.0, 8.3547603864, 0.0, 0.0, 0.0, 0.0, 0.0, 0.0, 0.0, 2.4702061464, 27.9722033712, 13.23681192, 1.2702938904, 0.429153588, 0.0, 0.0, 0.0, 0.0, 0.1939773384, 1.709748864, 0.0, 0.0, 26.672739804000003, 0.20427732, 0.0, 0.0, 19.589978304000002, 0.0, 0.0, 2.1869658, 0.0, 0.0, 0.0, 0.0, 0.0, 0.0, 0.0, 0.006866452800000001, 0.25062588, 0.0, 0.0, 0.0, 0.0, 4.7842011864, 0.0, 0.0, 0.0, 0.0, 0.0, 0.0, 0.0, 0.0, 0.2592084168, 0.0, 1.6033176000000002, 0.0, 1.21364676, 11.96994636, 0.0, 0.030899052000000003, 0.0, 0.0, 0.0, 0.0, 0.0, 0.0, 0.0, 1.387025424, 0.0, 0.0, 0.0, 0.0, 0.0, 0.0, 0.0, 0.0, 0.0, 0.0, 0.0, 0.133896024, 13.502884032, 4.48379226, 0.0, 0.0, 0.006866452800000001, 0.0, 0.0, 0.0, 0.0, 0.6385800384, 0.279808236, 0.027465818399999998, 0.0, 0.0, 0.0, 0.0, 0.0, 0.0, 0.0, 0.0, 0.0, 0.169944912, 0.044631972, 0.0, 0.0, 0.0, 0.0, 2.18696472, 0.0, 0.0, 0.0, 0.0, 0.0, 0.0, 0.6780626999999999, 0.0, 0.1270293984, 0.024032592000000002, 0.0, 0.0, 0.0, 0.0, 0.0, 0.0, 0.0, 0.262641852, 0.0, 0.0, 0.91152216, 0.0, 24.38278452, 0.0, 0.0, 0.0, 0.0, 0.0, 0.0, 0.0, 0.0, 0.0, 1.7801289, 13.053131352000001, 22.5048082392, 0.0, 0.0, 0.0, 0.0, 0.0, 0.0, 0.93040452, 4.216008744, 5.2511242104, 18.8243929728, 0.0, 0.0, 0.0, 0.0, 0.0, 0.0, 0.0, 0.0, 0.0, 0.0, 0.0, 0.0, 0.0, 0.0, 1.071167472, 0.0, 0.0, 0.0, 0.0, 0.154495116, 0.0, 0.7518768984, 0.0, 0.0, 0.0, 0.0, 0.92182176, 0.0, 0.0, 0.5184168264, 2.02560102, 0.0, 0.0, 0.0, 0.0, 0.0, 0.0, 0.0, 0.0, 0.0, 0.0, 0.0, 0.0, 0.0, 0.0, 2.454756984, 0.04119876, 3.0384099216000005, 0.0583648776, 0.5596154424, 0.0, 0.0, 0.0, 0.0, 0.0, 0.0, 0.0, 0.0, 0.0, 0.0, 0.0, 0.0, 0.0, 0.0, 0.0, 0.0, 0.0, 0.405121176, 14.728543307999999, 2.23159752, 0.175094424, 0.0, 0.0, 0.0, 0.133895916, 0.0, 3.0727409112, 4.78934892, 0.0, 0.0, 0.0, 0.0, 6.567765350399999, 2.1097204416, 0.0, 5.16357144, 1.397323584, 0.0, 0.0, 0.0, 0.0, 0.0, 0.0, 0.0, 0.0, 0.0, 0.0, 0.0, 0.0, 0.0, 0.0, 0.0, 0.0, 0.0, 0.0, 0.0841141008, 0.13732909199999999, 5.675125032, 2.957725008, 0.0, 0.0, 0.0, 0.0, 0.0, 0.0, 0.0034332264000000003, 0.169944984, 0.0, 0.0, 0.0, 0.0, 0.0, 4.8811929624, 1.1896130736, 0.0, 0.0, 0.0, 0.0, 0.0, 0.0, 0.0, 0.0, 0.0, 0.0, 0.0, 0.0, 0.0583648704, 11.872098972, 26.804916, 0.0, 0.0, 0.0, 0.0, 0.0, 0.0, 0.0, 0.0, 0.0, 0.0, 0.0, 0.0, 0.0, 0.0, 0.0, 0.0, 0.0, 0.0, 0.0, 0.0, 0.0, 0.0, 0.0, 0.0, 0.0738143784, 1.8539427888, 0.0, 0.0, 0.054931622400000005, 0.0034332264000000003, 0.0, 0.0, 0.0, 0.0, 0.0, 0.0, 0.0, 0.0, 0.0, 0.0, 0.604248048, 1.1569977072, 9.791559648, 0.5699154888, 0.0720977904, 0.0, 0.0, 0.19569396239999998, 0.0, 0.0, 0.0, 0.0, 0.0, 0.0, 0.0, 0.0, 9.142688232000001, 25.879671, 0.854873388, 0.0, 0.0, 0.0, 0.096130404, 0.0, 0.0, 0.0, 0.0, 2.8598784983999996, 0.30899088, 0.0, 0.0, 0.0, 0.0, 0.0, 0.0, 0.0, 0.0, 0.0, 0.0, 0.0, 1.99470492, 81.1975572, 0.0, 0.0, 0.58021524, 0.0, 0.0, 0.0, 0.0, 0.0, 1.174163436, 0.0, 0.0, 0.0, 4.061510532, 0.0, 0.0, 0.0, 0.0, 0.0, 0.0, 0.0, 0.0, 0.07209792, 0.43859485439999996, 0.0, 0.0034332264000000003, 6.4785069, 0.39653784, 0.0, 0.0, 0.31242384, 0.0, 0.0, 1.2720113064, 1.3647081384, 0.5184173808, 0.0240326064, 1.1947626, 2.7036629712, 6.78577572, 2.2951123559999997, 7.33423284, 0.0102996792, 13.08574998, 0.5209918632, 1.457403912, 26.2058236992, 3.2958992663999997, 6.516263196000001, 1.12438296, 0.61454772, 0.06523134480000001, 7.951356, 0.0, 0.0, 0.0, 0.0, 0.08239748400000001, 0.0, 0.0, 0.006866452800000001, 0.0, 0.0, 0.0, 0.284958072, 0.0, 0.0, 2.7259833456, 0.0, 7.30591056, 80.4473712, 0.0, 0.051498424800000005, 17.47856268, 1.256560956, 0.988769448, 1.805877108, 0.078964236, 0.0, 4.6777763519999995, 0.0, 0.0, 0.0, 0.0, 2.21786658, 9.2422500048, 0.5853653928, 1.6445155463999999, 0.17509465440000002, 6.255340092000001, 2.339744832, 1.81617876, 0.0, 3.908727, 0.0, 0.0, 0.0, 0.0, 0.0, 0.22659296399999998, 0.655746624, 0.0, 0.0, 0.0, 0.0, 0.0, 0.0, 0.0, 0.0, 0.0, 0.0, 1.227379356, 5.005644372, 11.288451974400001, 31.30071552, 0.0, 1.1003496408, 17.42105916, 9.819033228, 0.20427732, 0.16307834400000001, 0.0, 0.0, 0.0, 0.0, 0.0, 0.07381436400000001, 20.1084106752, 0.0755310168, 0.0, 0.0, 1.5689835864, 20.1822289056, 26.1972324, 4.420280376, 0.017166132, 0.0, 0.0, 0.0, 0.0, 0.0, 0.0, 2.166367644, 1.266861204, 0.0, 0.0, 0.0, 0.0, 0.0, 0.0, 0.319290048, 0.065231352, 0.7106779440000001, 1.5243543863999998, 0.0, 0.0, 0.0, 1.0059338664, 11.501315784, 4.428862992, 0.1476288144, 0.3021236928, 0.21972636, 0.0, 0.0, 0.0, 0.00686646, 0.442886436, 0.7038116208, 0.0171661392, 0.0, 0.0, 0.0, 2.4169918463999998, 74.9679759432, 0.0, 0.0, 0.0, 0.0, 0.0, 0.0, 0.0, 0.0, 0.0411987384, 1.0763180064, 20.07408312, 0.0, 0.0, 0.0, 0.0, 0.0, 1.1973383064, 0.0, 0.0, 0.0, 0.0, 0.0, 0.0, 0.0, 0.0, 0.0, 0.0, 0.0, 12.8505699, 1.7406463319999999, 0.0, 0.0, 0.34332274799999996, 0.0, 0.0, 0.0, 0.0, 0.0, 0.0, 0.0, 0.17509464, 1.0711666224, 2.4290078040000003, 3.56197284, 0.0, 0.0, 0.2952576288, 1.112365836, 1.12266504, 0.6626125728, 0.0, 0.0, 0.0, 0.2609254008, 1.6822808208000002, 9.777826800000001, 0.0, 0.0, 0.0, 0.0892638504, 0.255775572, 0.0, 0.0, 0.0, 0.0, 0.048065184000000004, 0.42572016, 0.0, 0.0, 0.7175445264, 1.74407886, 1.241112636, 0.0137328984, 0.5149844928, 0.082397448, 0.829124568, 0.5321501784, 0.0, 0.0, 0.0, 0.0, 0.0, 0.0, 3.08990466, 0.32787288, 0.0, 0.0, 0.0, 0.0, 0.37937175840000004, 0.0, 0.0, 0.006866452800000001, 0.04463196480000001, 0.0205993728, 0.0, 0.0, 0.0, 0.41713758, 0.0, 0.0, 0.0, 0.0, 0.0, 0.0, 0.5252841864, 0.0, 0.0, 0.0, 0.0, 0.0, 0.0, 0.0, 0.0, 0.0, 0.0, 7.0981992, 12.63084408, 0.0, 0.0, 0.0, 0.0, 0.0, 0.0, 0.0, 0.0, 0.0, 0.0, 0.0, 0.0, 0.302124132, 0.0, 0.0, 0.0, 0.0, 0.0, 0.0, 0.0, 0.0, 0.0, 0.0, 0.0, 0.0, 0.0, 0.0, 0.0, 0.0, 0.0, 2.39639364, 1.915741044, 15.428923344000001, 2.9508590519999998, 0.2162932992, 0.0, 0.0, 0.0, 0.0, 0.0, 0.0, 2.025604152, 2.0702358359999997, 0.0, 0.0514984176, 0.0, 0.0, 0.0, 0.0, 0.0, 0.0, 0.0, 4.3327332, 0.05321502, 0.7604603928, 0.0, 2.427292656, 0.2334598128, 1.4797216584000001, 0.1338957, 0.0, 0.0, 0.0, 0.0, 0.0, 0.0, 0.0, 0.75187584, 1.21192938, 0.0, 0.0, 0.0, 0.0, 0.0, 6.03733356, 0.19912726079999998, 0.19912716719999998, 0.0, 0.0, 0.0, 0.0, 0.0, 0.0, 3.48129, 0.0, 0.0, 0.0, 0.0, 0.0, 0.0, 1.138114872, 0.0, 0.0, 0.0, 0.0, 0.0, 0.302123952, 0.0, 0.0, 0.0, 4.772191643999999, 1.39045644, 0.0, 0.0, 0.0, 0.0, 0.0, 0.0, 0.93383712, 0.0, 0.24375888, 4.9970638944, 0.0, 0.0, 0.0, 0.0205993656, 0.0, 0.0, 0.0, 0.70038018, 23.682409200000002, 0.0, 0.0, 0.0, 1.56211992, 0.0514984176, 0.0, 0.0, 0.0, 0.0, 0.0, 0.0, 0.0, 0.024032592000000002, 0.0102996792, 0.0, 0.0, 0.0, 0.0, 0.0, 0.006866452800000001, 8.1024149448, 0.30899050559999997, 0.223160076, 0.0, 0.0, 5.72319072, 0.0, 0.0, 0.0, 0.0, 0.0, 0.0, 0.0, 0.0, 1.9912726584, 0.0, 0.0, 18.007305444, 0.0, 10.974311064, 0.10299686400000001, 0.0, 0.006866452800000001, 0.0, 0.0, 0.0, 0.0, 0.0, 0.29525742, 8.54186976, 0.0, 0.005149836, 0.44631972, 0.0, 0.0, 0.0, 1.94492376, 16.592791752, 29.17041336, 0.6694794, 0.0171661464, 0.0257492052, 8.728981452000001, 24.604230139200002, 0.0, 0.0, 0.0017166132000000001, 1.0437009264, 0.0, 0.0, 10.2687816528, 1.198196676, 0.0, 0.0017166132000000001, 0.0017166132000000001, 0.0, 0.0, 0.0, 0.0, 0.0, 0.0, 0.0, 0.0171661464, 1.023101784, 0.089263944, 13.19389308, 0.0, 0.7381431864, 0.0, 0.0, 0.0, 0.0, 0.0017166132000000001, 0.0, 0.0, 0.0, 0.0, 0.0, 0.0223159716, 0.0, 0.0, 0.0017166132000000001, 0.0, 0.9595868184, 0.0017166132000000001, 0.0, 0.0, 14.862444732, 20.834541, 0.0, 0.0, 0.0, 0.0, 0.0, 0.7759082159999999, 23.85749592, 18.36090036, 0.7278447312, 0.0017166132000000001, 0.0, 0.0, 0.0, 0.0017166132000000001, 0.0, 0.0, 0.0, 0.0, 0.0, 0.0, 0.0, 0.0, 0.0, 0.0, 0.0, 0.0, 0.0017166132000000001, 0.0034332264000000003, 8.1882513, 1.671982128, 1.0505678184, 0.0, 0.47378532240000004, 0.38108790000000003, 0.0, 0.30727371600000003, 0.0120162924, 0.0, 0.0, 0.0, 0.0, 1.057433832, 17.035674984, 0.0, 0.8377070040000001, 0.0, 0.0, 0.0, 0.0, 0.0, 0.0, 0.0, 0.072097776, 0.0, 2.29854528, 0.7621762823999999, 10.5194126304, 1.4831543375999998, 0.0686645352, 0.6076809288, 0.8668900223999999, 0.34503925679999997, 0.38623807439999996, 1.517486436, 1.9689558263999998, 0.315856944, 0.0, 12.220570753199999, 0.5802159024, 0.0, 1.205063352, 0.925254756, 1.572418008, 0.4943844, 0.1853942616, 0.3467558232, 0.106430076, 0.4634855064, 0.0, 0.315857088, 2.6779174703999997, 0.0, 0.0, 0.0034332264000000003, 0.0, 0.2454756624, 0.0, 0.0, 0.52528374, 2.54230524, 2.456474724, 0.401687676, 2.976608268, 0.1819610568, 1.0368345384, 7.70072634, 0.4480365384, 0.0034332264000000003, 0.0, 0.0, 0.0017166132000000001, 0.0, 0.0, 0.0, 0.0, 0.0, 0.0, 0.0, 0.0, 0.0, 0.0, 0.0, 0.0, 0.38452173840000003, 0.0, 0.15449526, 1.2050624664, 1.67541552, 0.6608965788000001, 0.8926392023999999, 0.6128313732, 0.8583069888, 0.21972655440000002, 0.078964236, 0.0, 0.0, 0.0, 0.2815247304, 0.5870820672, 7.168582044, 0.0, 0.0, 0.0, 0.0, 0.0, 0.13046256, 7.340240484, 0.0, 0.0, 0.0, 0.0, 0.0, 0.0, 0.0, 0.6025306824000001, 0.48408481439999995, 0.7175441448000001, 0.2540587464, 0.17166121199999998, 0.0, 0.6042486168, 2.0702346119999997, 0.0, 0.3690716616, 0.0, 0.0, 0.0, 0.0, 0.0, 0.0, 0.0, 0.0, 0.0, 0.0, 0.0, 0.0, 0.0, 0.0, 0.0, 0.0, 0.0034332264000000003, 0.0, 0.0, 0.0, 0.0, 0.0, 0.0017166132000000001, 0.0, 0.0, 0.0, 0.0, 0.0, 3.75423408, 1.86424272, 0.0, 0.0, 0.0, 0.0017166132000000001, 0.53558352, 0.9475702559999999, 0.0, 0.0, 0.0, 0.0, 0.0, 0.0, 1.9672433424000002, 0.2969741304, 0.0, 0.4720684572, 5.4416695104, 0.1819610496, 2.3071268519999997, 42.026165999999996, 0.3707884512, 0.085830696, 0.0, 0.0, 11.079027864, 4.100991444, 0.0, 0.0, 0.0017166132000000001, 0.0, 1.9432076328, 0.32958985679999997, 0.0, 0.0, 50.49936342, 22.568346, 1.19476296, 0.6248474064, 0.0, 0.0, 0.0, 6.411547839600001, 0.0, 0.0, 0.0, 0.0017166132000000001, 0.0, 0.2815243992, 0.49781797200000005, 0.0, 0.0, 0.0, 1.62735102, 0.0, 0.0, 0.0, 80.55897822, 0.0, 0.0, 0.0, 0.0, 0.0, 0.954437148, 5.1807411288, 28.47690288, 0.0, 0.0, 0.0, 0.051498338399999996, 0.1459122876, 0.0, 0.315857016, 0.0, 3.2341009824, 0.0, 0.0, 0.0, 0.0, 0.0, 0.08068086, 1.9603743191999998, 0.0, 0.0, 0.0017166132000000001, 0.0, 3.4143469848000003, 0.013732905600000001, 0.0, 0.0, 0.0, 0.0, 0.0, 0.0, 0.0, 0.0, 0.769042872, 10.57605678, 0.0034332264000000003, 0.0, 0.0, 0.0, 0.0, 0.0, 0.0, 0.0, 0.0, 0.0, 0.0, 0.0, 0.0, 0.0, 0.0, 0.0, 0.0034332264000000003, 21.9211848, 190.11498984, 0.0034332264000000003, 0.0, 0.0, 0.0017166132000000001, 0.0, 0.0, 1.5157703591999998, 0.0034332264000000003, 0.0, 15.5799853704, 0.0, 0.0, 8.974454832000001, 0.0, 0.0, 0.0, 0.0034332264000000003, 0.0, 0.7587432, 10.5606070128, 1.1260983815999999, 0.024032592000000002, 0.0291824244, 3.2014856592000003, 35.115044399999995, 5.064012, 0.0, 2.2281645888, 0.3021237864, 0.0, 0.0, 0.0, 0.0, 0.0, 0.0, 4.526712, 4.5524592, 1.9981395863999998, 0.0, 7.460406143999999, 20.697210396, 0.0, 0.0, 0.0, 0.0, 0.0, 0.0, 0.0, 19.6071651504, 1.0299690000000001, 0.0, 0.0, 0.0, 5.35926942, 13.4376516, 3.73191624, 0.3965377464, 0.0, 0.0, 0.0, 0.0, 5.28030504, 0.0, 0.0, 0.0, 0.0017166132000000001, 0.0, 0.0, 4.02545934, 5.833050227999999, 0.0, 0.0, 0.0, 0.0343322784, 0.0686645496, 0.0, 0.0, 0.0, 0.0, 0.0, 0.0, 0.8754732, 0.0, 0.0, 2.01187152, 0.0, 0.0, 0.0858306312, 0.046348596, 0.0, 1.69258176, 0.0, 7.973669664, 0.0, 0.0, 0.0, 0.0, 0.5149841615999999, 5.810740200000001, 0.0, 0.0, 0.0, 0.0, 0.9218209824, 1.4316556463999999, 0.0034332264000000003, 0.0, 0.24375931920000002, 0.0, 0.0, 0.0, 0.0, 0.0, 0.0, 0.048065184000000004, 0.0, 0.054931622400000005, 0.0, 0.0, 0.02918241, 0.006866452800000001, 0.0, 0.0, 0.0, 0.0, 0.14076234, 0.9819026208, 25.205025671999998, 0.02746584, 3.198051828, 0.3330231408, 1.938057084, 0.12187962, 0.6334302528, 1.3526922959999998, 1.376723844, 1.20849588, 1.2977606664, 0.7587433224, 0.0, 0.0, 0.0, 0.0, 0.0, 0.0, 0.0, 0.0, 0.0, 0.0, 0.0, 0.0, 0.0, 0.8548730784, 0.43945326, 1.1707302743999999, 0.8102415959999999, 0.44288658, 1.2153629664, 0.48580153200000004, 0.0, 0.0, 0.0, 0.0, 0.0, 0.12016296, 0.154495188, 0.0, 0.2849578344, 1.9397737080000002, 0.034332264, 0.5836483368, 1.617050052, 7.596014867999999, 0.0034332264000000003, 0.1974105612, 0.0, 0.0017166132000000001, 0.0, 0.0, 0.0, 0.0, 0.0, 0.0, 0.0, 0.0, 0.0, 0.0, 0.0, 0.0, 0.0, 0.0, 0.0, 0.0, 0.0, 0.151061976, 0.0, 0.0, 0.0, 0.0, 0.0, 0.0, 0.0, 0.0, 1.2702945023999999, 0.9029386079999999, 0.0, 1.02653532, 5.77812204, 11.27300364, 0.0, 0.0, 0.0, 0.0, 0.0, 0.0, 0.0377654832, 1.4591213424, 0.7467269616, 37.94748192, 0.0034332264000000003, 0.0, 0.0, 0.0, 0.0, 0.5218505568, 3.2924691864, 0.0, 0.0, 0.0, 0.0, 0.0017166132000000001, 0.0, 0.0, 0.0, 0.0, 0.5767819128, 0.03776544, 76.248579312, 20.954704032000002, 0.2660750064, 0.0, 0.387954864, 0.0, 0.0, 0.0, 0.0, 0.0, 0.0, 0.0, 0.35362206, 2.7019496232, 0.3398894928, 0.0017166132000000001, 0.0, 0.0, 0.0, 0.0, 0.0, 0.0, 0.0, 0.0, 0.0, 0.0, 0.0, 0.3433225968, 0.0, 0.0, 3.5345058552, 134.6975118, 30.28964652, 5.0262472656, 2.8324134504000003, 0.394821144, 0.0, 0.0, 0.0, 0.0, 4.902648732, 0.0, 0.0, 0.0, 1.7269137719999998, 2.2487669424, 3.0229561728, 19.778828076, 0.0017166132000000001, 0.0, 0.0, 0.0, 0.0, 0.12016296, 1.5037525872, 0.006866452800000001, 0.0034332264000000003, 0.0154495188, 0.0, 0.0, 0.0, 0.0, 0.0, 0.0, 0.0, 9.401888772000001, 0.6231305664, 0.0, 0.0, 0.0, 0.0, 0.0, 0.0017166132000000001, 0.08583066, 0.0, 0.0, 0.0, 0.0, 15.090749431199999, 0.0, 0.0, 0.0343322712, 0.0, 0.0, 0.68321304, 2.568053412, 0.1390457412, 0.0, 0.0034332264000000003, 10.27908468, 9.98726238, 1.4007565584000001, 21.770100432, 2.88047628, 0.0, 0.0, 0.394820964, 0.48065184, 0.0017166132000000001, 0.0, 0.0, 0.0, 0.0, 0.0, 0.0, 2.8873432439999998, 5.17043808, 0.0, 0.0, 0.0, 0.0, 0.0, 0.0017166132000000001, 0.0, 0.0, 0.0, 0.0, 0.67977864, 0.0, 0.0, 0.0, 0.0, 0.33817284, 5.224512096000001, 0.1390456152, 0.72612756, 0.0205993692, 0.0, 0.0, 0.0, 0.0, 0.0, 0.0, 0.0, 0.0, 0.0, 0.0, 0.0, 0.0, 0.0017166132000000001, 0.0, 0.032615676, 0.0102996756, 0.0, 0.0, 0.0, 0.1905441552, 0.008583084, 3.4915922532, 0.46691928, 2.7534467663999997, 0.0, 0.0, 0.0, 0.0, 0.0, 0.0, 0.0, 0.6694794288, 1.5483851999999998, 0.0, 0.0, 0.0, 0.0, 1.91574108, 1.7337811464, 27.03323844, 1.49517072, 1.4265061488, 0.037765512, 0.0, 0.0, 0.6866454023999999, 0.0, 0.0, 0.0, 0.0, 0.0, 5.99098356, 0.0, 0.0, 0.0, 0.0, 0.0, 0.0, 0.0, 1.2359636999999999, 0.0, 0.0051498396, 1.9105894548, 0.9578705184, 0.0, 0.0, 0.0, 0.0, 3.1654366992000003, 0.0, 0.0, 0.0017166132000000001, 0.013732905600000001, 0.0, 0.0308990376, 0.0, 0.0, 0.0, 0.0, 0.0, 2.85129828, 55.913537556, 0.1647949464, 0.0, 0.0, 0.0, 0.0, 0.0, 0.0, 0.0, 0.058365, 11.95106328, 0.2077100532, 0.0, 0.0, 0.0, 0.0, 0.0, 0.0, 0.0, 0.0, 0.0, 0.0, 0.0, 0.0, 0.0, 0.0034332264000000003, 3.913879428, 7.666401319199999, 0.0, 0.3330232488, 6.591801859199999, 3.448677528, 5.08117824, 0.00686646, 0.053215016399999995, 0.0, 0.0, 0.0, 0.0, 0.0, 0.0, 0.0, 0.0, 0.3158568504, 4.94041104, 0.0, 0.0, 0.0, 0.006866452800000001, 0.0, 0.013732905600000001, 0.0, 0.0, 0.0017166132000000001, 0.0, 0.7741925064, 0.0034332264000000003, 0.31242369600000003, 0.0, 0.0, 0.0, 0.0, 0.0, 0.0, 0.0, 0.0, 0.0, 0.0, 0.45146952, 5.80558644, 0.4454615016, 0.5424498972, 0.0205993584, 1.3475430144, 28.85798952, 1.188755316, 1.44367218, 0.0, 0.0720977292, 0.0, 0.0, 0.0, 0.0, 0.0, 0.0008583083999999999, 0.0, 0.0, 0.0, 0.3896714304, 0.0, 0.0, 0.0, 0.0, 0.5098343688, 7.441517952000001, 3.51905868, 0.425720376, 0.369071928, 0.0017166132000000001, 1.7612489664, 3.00064068, 3.211784352, 0.0, 0.058364892, 0.0, 0.0, 0.0, 0.0, 0.0, 0.0, 0.0, 0.0, 0.0, 0.0, 0.0, 0.0, 0.0017166132000000001, 0.0, 0.0, 0.0, 0.006866452800000001, 0.0, 0.49953475799999997, 0.0, 0.0, 0.0, 0.0, 0.0, 0.0480652128, 0.0, 0.0, 0.0, 0.0, 0.0, 0.0034332264000000003, 0.0, 0.0, 0.0, 0.0, 0.0, 0.0, 0.0, 0.0102996792, 0.0, 0.0, 0.0, 0.0, 0.0, 0.0, 0.0, 0.0, 0.0, 0.0, 0.0017166132000000001, 0.0, 0.0, 0.0, 0.0, 0.0, 0.0, 0.0, 0.0034332264000000003, 0.0, 0.0, 0.0686646, 3.9619470888, 0.2798079552, 0.137329164, 0.0, 0.0, 0.0, 0.0034332264000000003, 0.0, 0.0034332264000000003, 3.199769532, 0.0, 0.0, 0.0, 0.0, 0.0, 0.4789353744, 0.0, 0.0, 0.0, 0.0, 0.38452150799999996, 0.0, 0.0017166132000000001, 0.0, 0.0, 0.0, 1.3835913264, 6.238175076, 16.66489032, 0.0, 0.0377655264, 0.0, 0.0, 0.0, 0.0, 0.0, 0.0, 0.0583649064, 0.027465818399999998, 0.0, 0.0, 0.0, 0.363921912, 1.4436733248, 0.0, 0.0017166132000000001, 0.0, 0.034332264, 75.82628376, 65.2347573732, 0.0008583083999999999, 0.0, 0.0, 0.0, 0.0, 2.35176408, 7.28530848, 24.7793226984, 33.98894424, 1.3810160556, 0.0, 0.0, 0.0, 4.7739072132, 0.0, 0.0, 0.0343322676, 0.0034332264000000003, 0.0, 0.0, 0.0, 0.0, 0.0, 103.74182629200001, 18.33687036, 0.575065404, 0.0, 0.0, 0.0, 0.0, 0.0051498396, 0.0137329128, 0.0, 1.88141004, 0.0, 0.0, 0.0154495332, 132.2820721584, 0.0, 0.0, 0.0, 0.0017166132000000001, 0.0566482716, 0.0017166132000000001, 0.140762412, 0.0, 0.0017166132000000001, 0.0, 0.64716336, 0.0, 0.0, 0.0, 0.0, 0.0, 0.0, 1.234247076, 0.0, 2.0187378000000002, 0.0, 7.0003512, 0.0, 1.163864016, 0.0, 0.0, 0.0, 0.0, 1.3578425280000002, 2.013588, 0.0, 0.5493165624, 1.39732416, 0.0, 0.0, 0.0, 0.0, 0.0, 0.0, 0.0, 2.84614632, 0.83770812, 0.0, 0.0, 0.0017166132000000001, 12.754435586400001, 0.0, 2.3843783519999997, 0.741577176, 3.0967706880000003, 0.6866452008, 0.0240325848, 0.0, 0.0, 0.0755309808, 4.9198171319999995, 7.6389336, 0.01373292, 7.7384963592, 1.3080618, 0.0, 0.73471104, 8.48007594, 1.9638052343999999, 6.01330104, 0.0, 0.30555720000000003, 0.00686646, 0.2128601592, 80.34090714, 17.24509584, 1.3441103856, 0.0034332264000000003, 0.0, 0.0, 0.0, 5.146403292, 22.298814, 0.0, 0.0, 0.0, 0.506400786, 12.373345332000001, 1.1964798144, 0.0034332264000000003, 0.0, 0.0, 0.0, 0.0, 0.013732905600000001, 0.0, 0.0, 0.0, 0.006866452800000001, 70.789739796, 0.0, 0.0, 0.0, 0.0, 0.0, 0.0, 0.0, 0.0017166132000000001, 0.0, 0.0, 0.0, 0.0, 6.2519081184, 7.64407692, 2.55775464, 2.7225483048, 0.0, 0.9132385104, 0.8411402664000001, 0.140762376, 0.2506255848, 18.2750706864, 20.293792308, 87.88026509999999, 2.00500488, 0.0, 0.006866452800000001, 0.29525778, 0.0, 0.0, 0.0, 0.0, 0.0, 0.0, 0.0, 0.0, 0.0, 0.0034332264000000003, 0.006866452800000001, 0.0, 0.0, 0.0, 0.0, 0.135612378, 0.367355376, 7.271573990399999, 0.6557465447999999, 0.0034332264000000003, 0.0, 0.4463193024, 0.43945309439999997, 0.024032592000000002, 0.0, 0.0308990592, 0.0017166132000000001, 0.0, 3.3645654863999996, 10.41984504, 0.3158569728, 0.0257492016, 0.274658256, 2.64701808, 1.3011933815999999, 4.588509744, 0.0034332264000000003, 4.217720003999999, 3.6529545384, 3.28902912, 0.25749199440000003, 0.497818656, 0.0, 0.0, 0.0, 0.0, 0.0, 1.321792452, 2.097702252, 0.1373291496, 0.0, 0.0034332264000000003, 0.0, 1.452255804, 0.006866452800000001, 0.054931672800000005, 0.065231316, 0.0, 0.0, 0.8274077064, 2.80151244, 1.54838556, 0.0, 0.0, 0.0, 0.106430076, 0.0961304184, 0.0, 0.0, 0.0, 0.1819610064, 0.58536558, 0.2300262912, 2.4169927824, 0.3124236528, 0.0, 0.0, 0.0, 0.0017166132000000001, 0.0, 0.0, 0.5081169743999999, 0.732994452, 0.1321792704, 0.065231316, 0.0, 0.0, 0.0, 0.0, 0.12702967199999998, 2.51140536, 2.5714876464, 2.746582164, 3.8143160424, 0.01373292, 0.0, 0.0, 0.0, 0.0, 0.0, 0.0034332264000000003, 0.0343322712, 1.9878361128, 0.0, 0.0, 0.0, 0.0, 0.0, 0.20942699760000003, 2.204133084, 1.69257906], \"yaxis\": \"y\"}],\n",
              "                        {\"legend\": {\"tracegroupgap\": 0}, \"margin\": {\"t\": 60}, \"template\": {\"data\": {\"bar\": [{\"error_x\": {\"color\": \"#2a3f5f\"}, \"error_y\": {\"color\": \"#2a3f5f\"}, \"marker\": {\"line\": {\"color\": \"#E5ECF6\", \"width\": 0.5}}, \"type\": \"bar\"}], \"barpolar\": [{\"marker\": {\"line\": {\"color\": \"#E5ECF6\", \"width\": 0.5}}, \"type\": \"barpolar\"}], \"carpet\": [{\"aaxis\": {\"endlinecolor\": \"#2a3f5f\", \"gridcolor\": \"white\", \"linecolor\": \"white\", \"minorgridcolor\": \"white\", \"startlinecolor\": \"#2a3f5f\"}, \"baxis\": {\"endlinecolor\": \"#2a3f5f\", \"gridcolor\": \"white\", \"linecolor\": \"white\", \"minorgridcolor\": \"white\", \"startlinecolor\": \"#2a3f5f\"}, \"type\": \"carpet\"}], \"choropleth\": [{\"colorbar\": {\"outlinewidth\": 0, \"ticks\": \"\"}, \"type\": \"choropleth\"}], \"contour\": [{\"colorbar\": {\"outlinewidth\": 0, \"ticks\": \"\"}, \"colorscale\": [[0.0, \"#0d0887\"], [0.1111111111111111, \"#46039f\"], [0.2222222222222222, \"#7201a8\"], [0.3333333333333333, \"#9c179e\"], [0.4444444444444444, \"#bd3786\"], [0.5555555555555556, \"#d8576b\"], [0.6666666666666666, \"#ed7953\"], [0.7777777777777778, \"#fb9f3a\"], [0.8888888888888888, \"#fdca26\"], [1.0, \"#f0f921\"]], \"type\": \"contour\"}], \"contourcarpet\": [{\"colorbar\": {\"outlinewidth\": 0, \"ticks\": \"\"}, \"type\": \"contourcarpet\"}], \"heatmap\": [{\"colorbar\": {\"outlinewidth\": 0, \"ticks\": \"\"}, \"colorscale\": [[0.0, \"#0d0887\"], [0.1111111111111111, \"#46039f\"], [0.2222222222222222, \"#7201a8\"], [0.3333333333333333, \"#9c179e\"], [0.4444444444444444, \"#bd3786\"], [0.5555555555555556, \"#d8576b\"], [0.6666666666666666, \"#ed7953\"], [0.7777777777777778, \"#fb9f3a\"], [0.8888888888888888, \"#fdca26\"], [1.0, \"#f0f921\"]], \"type\": \"heatmap\"}], \"heatmapgl\": [{\"colorbar\": {\"outlinewidth\": 0, \"ticks\": \"\"}, \"colorscale\": [[0.0, \"#0d0887\"], [0.1111111111111111, \"#46039f\"], [0.2222222222222222, \"#7201a8\"], [0.3333333333333333, \"#9c179e\"], [0.4444444444444444, \"#bd3786\"], [0.5555555555555556, \"#d8576b\"], [0.6666666666666666, \"#ed7953\"], [0.7777777777777778, \"#fb9f3a\"], [0.8888888888888888, \"#fdca26\"], [1.0, \"#f0f921\"]], \"type\": \"heatmapgl\"}], \"histogram\": [{\"marker\": {\"colorbar\": {\"outlinewidth\": 0, \"ticks\": \"\"}}, \"type\": \"histogram\"}], \"histogram2d\": [{\"colorbar\": {\"outlinewidth\": 0, \"ticks\": \"\"}, \"colorscale\": [[0.0, \"#0d0887\"], [0.1111111111111111, \"#46039f\"], [0.2222222222222222, \"#7201a8\"], [0.3333333333333333, \"#9c179e\"], [0.4444444444444444, \"#bd3786\"], [0.5555555555555556, \"#d8576b\"], [0.6666666666666666, \"#ed7953\"], [0.7777777777777778, \"#fb9f3a\"], [0.8888888888888888, \"#fdca26\"], [1.0, \"#f0f921\"]], \"type\": \"histogram2d\"}], \"histogram2dcontour\": [{\"colorbar\": {\"outlinewidth\": 0, \"ticks\": \"\"}, \"colorscale\": [[0.0, \"#0d0887\"], [0.1111111111111111, \"#46039f\"], [0.2222222222222222, \"#7201a8\"], [0.3333333333333333, \"#9c179e\"], [0.4444444444444444, \"#bd3786\"], [0.5555555555555556, \"#d8576b\"], [0.6666666666666666, \"#ed7953\"], [0.7777777777777778, \"#fb9f3a\"], [0.8888888888888888, \"#fdca26\"], [1.0, \"#f0f921\"]], \"type\": \"histogram2dcontour\"}], \"mesh3d\": [{\"colorbar\": {\"outlinewidth\": 0, \"ticks\": \"\"}, \"type\": \"mesh3d\"}], \"parcoords\": [{\"line\": {\"colorbar\": {\"outlinewidth\": 0, \"ticks\": \"\"}}, \"type\": \"parcoords\"}], \"pie\": [{\"automargin\": true, \"type\": \"pie\"}], \"scatter\": [{\"marker\": {\"colorbar\": {\"outlinewidth\": 0, \"ticks\": \"\"}}, \"type\": \"scatter\"}], \"scatter3d\": [{\"line\": {\"colorbar\": {\"outlinewidth\": 0, \"ticks\": \"\"}}, \"marker\": {\"colorbar\": {\"outlinewidth\": 0, \"ticks\": \"\"}}, \"type\": \"scatter3d\"}], \"scattercarpet\": [{\"marker\": {\"colorbar\": {\"outlinewidth\": 0, \"ticks\": \"\"}}, \"type\": \"scattercarpet\"}], \"scattergeo\": [{\"marker\": {\"colorbar\": {\"outlinewidth\": 0, \"ticks\": \"\"}}, \"type\": \"scattergeo\"}], \"scattergl\": [{\"marker\": {\"colorbar\": {\"outlinewidth\": 0, \"ticks\": \"\"}}, \"type\": \"scattergl\"}], \"scattermapbox\": [{\"marker\": {\"colorbar\": {\"outlinewidth\": 0, \"ticks\": \"\"}}, \"type\": \"scattermapbox\"}], \"scatterpolar\": [{\"marker\": {\"colorbar\": {\"outlinewidth\": 0, \"ticks\": \"\"}}, \"type\": \"scatterpolar\"}], \"scatterpolargl\": [{\"marker\": {\"colorbar\": {\"outlinewidth\": 0, \"ticks\": \"\"}}, \"type\": \"scatterpolargl\"}], \"scatterternary\": [{\"marker\": {\"colorbar\": {\"outlinewidth\": 0, \"ticks\": \"\"}}, \"type\": \"scatterternary\"}], \"surface\": [{\"colorbar\": {\"outlinewidth\": 0, \"ticks\": \"\"}, \"colorscale\": [[0.0, \"#0d0887\"], [0.1111111111111111, \"#46039f\"], [0.2222222222222222, \"#7201a8\"], [0.3333333333333333, \"#9c179e\"], [0.4444444444444444, \"#bd3786\"], [0.5555555555555556, \"#d8576b\"], [0.6666666666666666, \"#ed7953\"], [0.7777777777777778, \"#fb9f3a\"], [0.8888888888888888, \"#fdca26\"], [1.0, \"#f0f921\"]], \"type\": \"surface\"}], \"table\": [{\"cells\": {\"fill\": {\"color\": \"#EBF0F8\"}, \"line\": {\"color\": \"white\"}}, \"header\": {\"fill\": {\"color\": \"#C8D4E3\"}, \"line\": {\"color\": \"white\"}}, \"type\": \"table\"}]}, \"layout\": {\"annotationdefaults\": {\"arrowcolor\": \"#2a3f5f\", \"arrowhead\": 0, \"arrowwidth\": 1}, \"coloraxis\": {\"colorbar\": {\"outlinewidth\": 0, \"ticks\": \"\"}}, \"colorscale\": {\"diverging\": [[0, \"#8e0152\"], [0.1, \"#c51b7d\"], [0.2, \"#de77ae\"], [0.3, \"#f1b6da\"], [0.4, \"#fde0ef\"], [0.5, \"#f7f7f7\"], [0.6, \"#e6f5d0\"], [0.7, \"#b8e186\"], [0.8, \"#7fbc41\"], [0.9, \"#4d9221\"], [1, \"#276419\"]], \"sequential\": [[0.0, \"#0d0887\"], [0.1111111111111111, \"#46039f\"], [0.2222222222222222, \"#7201a8\"], [0.3333333333333333, \"#9c179e\"], [0.4444444444444444, \"#bd3786\"], [0.5555555555555556, \"#d8576b\"], [0.6666666666666666, \"#ed7953\"], [0.7777777777777778, \"#fb9f3a\"], [0.8888888888888888, \"#fdca26\"], [1.0, \"#f0f921\"]], \"sequentialminus\": [[0.0, \"#0d0887\"], [0.1111111111111111, \"#46039f\"], [0.2222222222222222, \"#7201a8\"], [0.3333333333333333, \"#9c179e\"], [0.4444444444444444, \"#bd3786\"], [0.5555555555555556, \"#d8576b\"], [0.6666666666666666, \"#ed7953\"], [0.7777777777777778, \"#fb9f3a\"], [0.8888888888888888, \"#fdca26\"], [1.0, \"#f0f921\"]]}, \"colorway\": [\"#636efa\", \"#EF553B\", \"#00cc96\", \"#ab63fa\", \"#FFA15A\", \"#19d3f3\", \"#FF6692\", \"#B6E880\", \"#FF97FF\", \"#FECB52\"], \"font\": {\"color\": \"#2a3f5f\"}, \"geo\": {\"bgcolor\": \"white\", \"lakecolor\": \"white\", \"landcolor\": \"#E5ECF6\", \"showlakes\": true, \"showland\": true, \"subunitcolor\": \"white\"}, \"hoverlabel\": {\"align\": \"left\"}, \"hovermode\": \"closest\", \"mapbox\": {\"style\": \"light\"}, \"paper_bgcolor\": \"white\", \"plot_bgcolor\": \"#E5ECF6\", \"polar\": {\"angularaxis\": {\"gridcolor\": \"white\", \"linecolor\": \"white\", \"ticks\": \"\"}, \"bgcolor\": \"#E5ECF6\", \"radialaxis\": {\"gridcolor\": \"white\", \"linecolor\": \"white\", \"ticks\": \"\"}}, \"scene\": {\"xaxis\": {\"backgroundcolor\": \"#E5ECF6\", \"gridcolor\": \"white\", \"gridwidth\": 2, \"linecolor\": \"white\", \"showbackground\": true, \"ticks\": \"\", \"zerolinecolor\": \"white\"}, \"yaxis\": {\"backgroundcolor\": \"#E5ECF6\", \"gridcolor\": \"white\", \"gridwidth\": 2, \"linecolor\": \"white\", \"showbackground\": true, \"ticks\": \"\", \"zerolinecolor\": \"white\"}, \"zaxis\": {\"backgroundcolor\": \"#E5ECF6\", \"gridcolor\": \"white\", \"gridwidth\": 2, \"linecolor\": \"white\", \"showbackground\": true, \"ticks\": \"\", \"zerolinecolor\": \"white\"}}, \"shapedefaults\": {\"line\": {\"color\": \"#2a3f5f\"}}, \"ternary\": {\"aaxis\": {\"gridcolor\": \"white\", \"linecolor\": \"white\", \"ticks\": \"\"}, \"baxis\": {\"gridcolor\": \"white\", \"linecolor\": \"white\", \"ticks\": \"\"}, \"bgcolor\": \"#E5ECF6\", \"caxis\": {\"gridcolor\": \"white\", \"linecolor\": \"white\", \"ticks\": \"\"}}, \"title\": {\"x\": 0.05}, \"xaxis\": {\"automargin\": true, \"gridcolor\": \"white\", \"linecolor\": \"white\", \"ticks\": \"\", \"title\": {\"standoff\": 15}, \"zerolinecolor\": \"white\", \"zerolinewidth\": 2}, \"yaxis\": {\"automargin\": true, \"gridcolor\": \"white\", \"linecolor\": \"white\", \"ticks\": \"\", \"title\": {\"standoff\": 15}, \"zerolinecolor\": \"white\", \"zerolinewidth\": 2}}}, \"xaxis\": {\"anchor\": \"y\", \"domain\": [0.0, 1.0], \"title\": {\"text\": \"Date\"}}, \"yaxis\": {\"anchor\": \"x\", \"domain\": [0.0, 1.0], \"title\": {\"text\": \"Precipitation\"}}},\n",
              "                        {\"responsive\": true}\n",
              "                    ).then(function(){\n",
              "                            \n",
              "var gd = document.getElementById('ab450725-6ea8-4e4f-b216-358a111fd2c3');\n",
              "var x = new MutationObserver(function (mutations, observer) {{\n",
              "        var display = window.getComputedStyle(gd).display;\n",
              "        if (!display || display === 'none') {{\n",
              "            console.log([gd, 'removed!']);\n",
              "            Plotly.purge(gd);\n",
              "            observer.disconnect();\n",
              "        }}\n",
              "}});\n",
              "\n",
              "// Listen for the removal of the full notebook cells\n",
              "var notebookContainer = gd.closest('#notebook-container');\n",
              "if (notebookContainer) {{\n",
              "    x.observe(notebookContainer, {childList: true});\n",
              "}}\n",
              "\n",
              "// Listen for the clearing of the current output cell\n",
              "var outputEl = gd.closest('.output');\n",
              "if (outputEl) {{\n",
              "    x.observe(outputEl, {childList: true});\n",
              "}}\n",
              "\n",
              "                        })\n",
              "                };\n",
              "                \n",
              "            </script>\n",
              "        </div>\n",
              "</body>\n",
              "</html>"
            ]
          },
          "metadata": {}
        }
      ]
    },
    {
      "cell_type": "markdown",
      "source": [
        "## Levantando un EXCEL"
      ],
      "metadata": {
        "id": "Nas38piy-Vt0"
      }
    },
    {
      "cell_type": "code",
      "source": [
        "import pandas as pd\n",
        "datos = pd.read_excel('LAQUIACA-2019-JUNIO.xlsx')\n",
        "datos"
      ],
      "metadata": {
        "id": "YioZUrHf-ZSL"
      },
      "execution_count": null,
      "outputs": []
    },
    {
      "cell_type": "markdown",
      "source": [
        ""
      ],
      "metadata": {
        "id": "0elROlgO_Jvg"
      }
    },
    {
      "cell_type": "markdown",
      "source": [
        "## Más herramientas para aprender\n",
        "\n",
        "<img src=\"https://github.com/lux-org/lux-resources/raw/master/logo/logo.png?raw=true\" width=\"500\" alt=\"lux-widget-logo\">\n",
        "\n",
        "\n",
        "[lux-widget](https://github.com/lux-org/lux-widget)\n"
      ],
      "metadata": {
        "id": "QDEnAQaZ-NAD"
      }
    },
    {
      "cell_type": "code",
      "source": [
        "#!jupyter nbextension install --py luxwidget"
      ],
      "metadata": {
        "id": "HQM69Xa9-ih3"
      },
      "execution_count": null,
      "outputs": []
    },
    {
      "cell_type": "code",
      "source": [
        "#!jupyter nbextension enable --py luxwidget"
      ],
      "metadata": {
        "id": "oOyCytWY-j8J"
      },
      "execution_count": null,
      "outputs": []
    },
    {
      "cell_type": "code",
      "source": [
        "df = pd.read_csv(\"https://raw.githubusercontent.com/lux-org/lux-datasets/master/data/college.csv\")"
      ],
      "metadata": {
        "id": "gqnCboAt-SXj"
      },
      "execution_count": null,
      "outputs": []
    },
    {
      "cell_type": "code",
      "source": [
        "df"
      ],
      "metadata": {
        "id": "3jkRWN0F-peu"
      },
      "execution_count": null,
      "outputs": []
    }
  ]
}