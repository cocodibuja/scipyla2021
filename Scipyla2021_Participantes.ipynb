{
  "nbformat": 4,
  "nbformat_minor": 0,
  "metadata": {
    "colab": {
      "name": "Scipyla2021-Participantes",
      "provenance": [],
      "collapsed_sections": [],
      "authorship_tag": "ABX9TyP2WVuIzQ9nCoXc8NVGwdvT"
    },
    "kernelspec": {
      "name": "python3",
      "display_name": "Python 3"
    },
    "language_info": {
      "name": "python"
    }
  },
  "cells": [
    {
      "cell_type": "markdown",
      "source": [
        "# Taller: Análizando de datos desde un VPS \n",
        "📅12/12/2021\n",
        "\n",
        "\n",
        "*   Ariel Silvio Norberto Ramos\n",
        "*   Nico Quiroz\n",
        "\n"
      ],
      "metadata": {
        "id": "Cyws9ywWVmM4"
      }
    },
    {
      "cell_type": "markdown",
      "source": [
        "<img src=\"https://www.scipy.lat/es/_images/scipy.png\" alt=\"logo Scipy\">"
      ],
      "metadata": {
        "id": "vh5GUpmTVDGG"
      }
    },
    {
      "cell_type": "markdown",
      "source": [
        "\n",
        "Temario \n",
        "\n",
        "\n",
        "1.   Introducción VPS \n",
        "2.   Obtener los datos desde Weather ☀⛅🌦🌧\n",
        "3.   Abrir archivos con Pandas 🐼 📄**.csv**\n",
        "4.   Algo de matplotlib 📈\n",
        "5.   Algo de plotly📊🎈\n",
        "6.   Herramientas (Lux-API) y ejemplos para prácticar 🏠\n",
        "\n",
        "\n",
        "\n",
        "\n",
        "\n"
      ],
      "metadata": {
        "id": "tuXoJelOYnFZ"
      }
    },
    {
      "cell_type": "markdown",
      "source": [
        " ## VPS  Servidor Privado Virtual 🖥💻☁ ¿Qué es VPS y para que sirve?.¿Por que nos decidimos a utilizar el un VPS?👩‍⚕️👨‍⚕️\n",
        "\n",
        "<img src=\"https://tricolor-scilla-68c.notion.site/image/https%3A%2F%2Fs3-us-west-2.amazonaws.com%2Fsecure.notion-static.com%2F41a77e84-97a2-42a0-b0ed-f5d6d1ef88d2%2FUntitled.png?table=block&id=92db9c6b-2ace-4f67-853e-495ef70bd90e&spaceId=62aa27de-48fd-4703-8a40-2de64b627b11&width=1760&userId=&cache=v2\" width=\"500\" alt=\"VPS digitalexa.unsa\">\n",
        "\n"
      ],
      "metadata": {
        "id": "1fhn5sNBZbL2"
      }
    },
    {
      "cell_type": "code",
      "source": [
        "#  paquetes se han instalado\n",
        "!pip list"
      ],
      "metadata": {
        "id": "V9tgPyA6Mnyu"
      },
      "execution_count": null,
      "outputs": []
    },
    {
      "cell_type": "markdown",
      "source": [
        "## Obtener datos Global Weather Data for SWAT (repositorio de informacion meteorológica) 📩\n",
        "[Global Weather Data for SWAT](https://globalweather.tamu.edu/)\n",
        "\n",
        "\n",
        "<img src=\"https://tricolor-scilla-68c.notion.site/image/https%3A%2F%2Fs3-us-west-2.amazonaws.com%2Fsecure.notion-static.com%2Ff83f0d8e-b911-4e20-b7d2-07732acd305a%2FUntitled.png?table=block&id=500edae4-0d33-4373-8a8e-9f293a7b9f1e&spaceId=62aa27de-48fd-4703-8a40-2de64b627b11&width=1750&userId=&cache=v2\" width=\"500\" alt=\"Global Weather Data\">\n",
        "\n"
      ],
      "metadata": {
        "id": "Zwp_I_elZr-5"
      }
    },
    {
      "cell_type": "markdown",
      "source": [
        "### [Pandas](https://pandas.pydata.org/)\n",
        "\n",
        "<img src=\"https://tricolor-scilla-68c.notion.site/image/https%3A%2F%2Fs3-us-west-2.amazonaws.com%2Fsecure.notion-static.com%2Fdc0dd082-a3da-4d41-a435-3c36877fd4f6%2FUntitled.png?table=block&id=74c62c2e-c4c7-4cd5-831a-7ca72f759e5e&spaceId=62aa27de-48fd-4703-8a40-2de64b627b11&width=640&userId=&cache=v2\" width=\"500\" alt=\"Global Weather Data\">\n",
        "\n",
        "\n"
      ],
      "metadata": {
        "id": "s8Uo2eNdQA00"
      }
    },
    {
      "cell_type": "markdown",
      "source": [
        "Marc Garcia 🛩@datapythonista (telegram)"
      ],
      "metadata": {
        "id": "NSbd1D-VNNqW"
      }
    },
    {
      "cell_type": "code",
      "source": [
        "import pandas as pd"
      ],
      "metadata": {
        "id": "7fk8L4gUZajk"
      },
      "execution_count": 3,
      "outputs": []
    },
    {
      "cell_type": "code",
      "source": [
        "ruta = \"https://raw.githubusercontent.com/cocodibuja/scipyla2021/main/weatherdata--304-622.csv\"\n",
        "df_weather = pd.read_csv(ruta)\n",
        "print(df_weather)"
      ],
      "metadata": {
        "id": "Ho_l4WtTS79K"
      },
      "execution_count": null,
      "outputs": []
    },
    {
      "cell_type": "code",
      "source": [
        "# dimensiones / forma\n",
        "df_weather.shape"
      ],
      "metadata": {
        "id": "ZEzI2K-fWEXg"
      },
      "execution_count": null,
      "outputs": []
    },
    {
      "cell_type": "code",
      "source": [
        "#primeros valores\n",
        "df_weather.head(10)"
      ],
      "metadata": {
        "id": "qhA5FjV1TQWN"
      },
      "execution_count": null,
      "outputs": []
    },
    {
      "cell_type": "code",
      "source": [
        "#últimos valores\n",
        "df_weather.tail(5)"
      ],
      "metadata": {
        "id": "KXBPQsC1T7xu"
      },
      "execution_count": null,
      "outputs": []
    },
    {
      "cell_type": "code",
      "source": [
        "# nombres de las columnas\n",
        "print(df_weather.columns.values)"
      ],
      "metadata": {
        "id": "DLuZhqQ7Vo4w"
      },
      "execution_count": null,
      "outputs": []
    },
    {
      "cell_type": "code",
      "source": [
        "#borramos una columna en particular\n",
        "del df_weather['Unnamed: 10']"
      ],
      "metadata": {
        "id": "ZQ26jOlyZKnK"
      },
      "execution_count": 9,
      "outputs": []
    },
    {
      "cell_type": "code",
      "source": [
        "df_weather"
      ],
      "metadata": {
        "id": "s4RTLMVsZgGr"
      },
      "execution_count": null,
      "outputs": []
    },
    {
      "cell_type": "code",
      "source": [
        "### Veamos Longitude,Latitude,Elevation"
      ],
      "metadata": {
        "id": "4eLezeb7aT0Z"
      },
      "execution_count": 11,
      "outputs": []
    },
    {
      "cell_type": "code",
      "source": [
        "df_weather['Longitude'].plot()\n"
      ],
      "metadata": {
        "id": "8SiV0TEdZpVZ"
      },
      "execution_count": null,
      "outputs": []
    },
    {
      "cell_type": "code",
      "source": [
        "df_weather['Longitude'].unique()"
      ],
      "metadata": {
        "id": "w2DIIe5JareG"
      },
      "execution_count": null,
      "outputs": []
    },
    {
      "cell_type": "code",
      "source": [
        "print(df_weather['Latitude'].unique())\n",
        "df_weather['Latitude'].plot()"
      ],
      "metadata": {
        "id": "EC3Zn5Eea1_6"
      },
      "execution_count": null,
      "outputs": []
    },
    {
      "cell_type": "code",
      "source": [
        "print(df_weather['Elevation'].unique())\n",
        "df_weather['Elevation'].plot()"
      ],
      "metadata": {
        "id": "8GhrTUfLa_EI"
      },
      "execution_count": null,
      "outputs": []
    },
    {
      "cell_type": "markdown",
      "source": [
        "\n",
        "**Longitude** -30.442301  **Latitude** 75  **Elevation** 34.968"
      ],
      "metadata": {
        "id": "ETjexYLEbMZa"
      }
    },
    {
      "cell_type": "code",
      "source": [
        "#borramos varias columnas Longitude, Latitude, Elevation\n",
        "       \n",
        "df_weather = df_weather.drop(['Longitude', 'Latitude', 'Elevation'], axis =1)\n",
        "\n",
        "# en caso de tener muchas columnas que borrar... => solo nos quedamos con \n",
        "# aquellas columnas de nuestro interés\n",
        "\n",
        "df_opcion_2 = df_weather[['Date', 'Max Temperature',\n",
        "       'Min Temperature', 'Precipitation', 'Wind', 'Relative Humidity',\n",
        "       'Solar']]"
      ],
      "metadata": {
        "id": "w5jM_G7obcyG"
      },
      "execution_count": 16,
      "outputs": []
    },
    {
      "cell_type": "code",
      "source": [
        "df_weather.head()"
      ],
      "metadata": {
        "id": "CFgNalGUdVyI"
      },
      "execution_count": null,
      "outputs": []
    },
    {
      "cell_type": "code",
      "source": [
        "df_weather['Max Temperature'].max()"
      ],
      "metadata": {
        "id": "fMhp18UldNfi"
      },
      "execution_count": null,
      "outputs": []
    },
    {
      "cell_type": "code",
      "source": [
        "df_weather['Max Temperature'].min()"
      ],
      "metadata": {
        "id": "VVh2lvM8d-X1"
      },
      "execution_count": null,
      "outputs": []
    },
    {
      "cell_type": "code",
      "source": [
        "df_weather['Min Temperature'].max()"
      ],
      "metadata": {
        "id": "erYO2WlZed73"
      },
      "execution_count": null,
      "outputs": []
    },
    {
      "cell_type": "code",
      "source": [
        "df_weather['Min Temperature'].min()"
      ],
      "metadata": {
        "id": "O_TgUmhuel9I"
      },
      "execution_count": null,
      "outputs": []
    },
    {
      "cell_type": "markdown",
      "source": [
        "### Queremos saber cuando (que fecha) fue la temperatura más elevada de 'Max Temperatura'. 🌡📆"
      ],
      "metadata": {
        "id": "gSrOodvEffyX"
      }
    },
    {
      "cell_type": "code",
      "source": [
        "max_temperature_max = df_weather['Max Temperature'].max()"
      ],
      "metadata": {
        "id": "Qt4EuSq4eqi5"
      },
      "execution_count": 22,
      "outputs": []
    },
    {
      "cell_type": "code",
      "source": [
        "df_weather[df_weather['Max Temperature']==max_temperature_max]"
      ],
      "metadata": {
        "id": "uSP7brkQfO7M"
      },
      "execution_count": null,
      "outputs": []
    },
    {
      "cell_type": "code",
      "source": [
        "df_weather['Max Temperature'].plot();\n",
        "df_weather['Min Temperature'].plot();\n"
      ],
      "metadata": {
        "id": "Z0sq4xOzifM9"
      },
      "execution_count": null,
      "outputs": []
    },
    {
      "cell_type": "code",
      "source": [
        "df_weather.sort_values('Max Temperature')#,ascending=False)"
      ],
      "metadata": {
        "id": "_wDhm8z51A8a"
      },
      "execution_count": null,
      "outputs": []
    },
    {
      "cell_type": "markdown",
      "source": [
        "### ¿Max Temp >= Min Temp? "
      ],
      "metadata": {
        "id": "7MMN1H9nfz-8"
      }
    },
    {
      "cell_type": "code",
      "source": [
        "sum(df_weather['Max Temperature']>=df_weather['Min Temperature'])"
      ],
      "metadata": {
        "id": "nUJzze5zgDUI"
      },
      "execution_count": null,
      "outputs": []
    },
    {
      "cell_type": "markdown",
      "source": [
        "### ¿hubo muchas precipitaciones?  ==> 🌧>0"
      ],
      "metadata": {
        "id": "Fs9zh5hmgYX8"
      }
    },
    {
      "cell_type": "code",
      "source": [
        "dias_lluvia = sum(df_weather['Precipitation']>0)"
      ],
      "metadata": {
        "id": "87Z6C9VNg2h-"
      },
      "execution_count": 27,
      "outputs": []
    },
    {
      "cell_type": "code",
      "source": [
        "total_dias = df_weather.shape[0]\n",
        "porcentaje = dias_lluvia/total_dias*100\n",
        "porcentaje"
      ],
      "metadata": {
        "id": "O3BxWemZhHs1"
      },
      "execution_count": null,
      "outputs": []
    },
    {
      "cell_type": "markdown",
      "source": [
        "### Trabajemos con Días ¿ Cuántos años hay registrados?"
      ],
      "metadata": {
        "id": "JSVQW6Yrhm1e"
      }
    },
    {
      "cell_type": "code",
      "source": [
        "int(total_dias/365)"
      ],
      "metadata": {
        "id": "O2FMFd1Jhfud"
      },
      "execution_count": null,
      "outputs": []
    },
    {
      "cell_type": "code",
      "source": [
        "# ¿la última fecha?\n",
        "df_weather['Date'].max()"
      ],
      "metadata": {
        "id": "QLrnR68piIEU"
      },
      "execution_count": null,
      "outputs": []
    },
    {
      "cell_type": "code",
      "source": [
        "df_weather['Date'].tail(5)"
      ],
      "metadata": {
        "id": "PO7f6cCiiRgI"
      },
      "execution_count": null,
      "outputs": []
    },
    {
      "cell_type": "code",
      "source": [
        "# solucionemos el Date\n",
        "df_weather['Date'] = pd.to_datetime(df_weather['Date'])#.dt.date"
      ],
      "metadata": {
        "id": "UaQDCzEWiXRU"
      },
      "execution_count": 32,
      "outputs": []
    },
    {
      "cell_type": "code",
      "source": [
        "df_weather['Date'].max()"
      ],
      "metadata": {
        "colab": {
          "base_uri": "https://localhost:8080/"
        },
        "id": "7ahBSfkejJ1s",
        "outputId": "f0ab75f3-7b0d-4d0f-f9cd-accf5ef2605d"
      },
      "execution_count": 33,
      "outputs": [
        {
          "output_type": "execute_result",
          "data": {
            "text/plain": [
              "Timestamp('2014-07-31 00:00:00')"
            ]
          },
          "metadata": {},
          "execution_count": 33
        }
      ]
    },
    {
      "cell_type": "code",
      "source": [
        "!pip install funpymodeling #Pablo Casas\n",
        "from funpymodeling.exploratory import status\n",
        "# https://pypi.org/project/funpymodeling/"
      ],
      "metadata": {
        "id": "NxbhbkWlnS5n"
      },
      "execution_count": null,
      "outputs": []
    },
    {
      "cell_type": "code",
      "source": [
        "status(df_weather)"
      ],
      "metadata": {
        "id": "0bu-_El7n4Ma"
      },
      "execution_count": null,
      "outputs": []
    },
    {
      "cell_type": "markdown",
      "source": [
        "## Estaciones ☀⛅🌦🌧"
      ],
      "metadata": {
        "id": "CmSLK7wVzt55"
      }
    },
    {
      "cell_type": "markdown",
      "source": [
        "https://es.stackoverflow.com/"
      ],
      "metadata": {
        "id": "HSnvqtBv2aue"
      }
    },
    {
      "cell_type": "code",
      "source": [
        "\n",
        "# https://es.stackoverflow.com/questions/412121/convertir-fechas-a-estaciones\n",
        "from datetime import date, datetime\n",
        "\n",
        "\n",
        "def get_season(fecha):\n",
        "  '''ingresa una fecha y devuelve la estación del año'''\n",
        "  Y = fecha.year\n",
        "  estaciones = [('invierno', datetime(Y,  1,  1),  datetime(Y,  3, 20)),\n",
        "              ('primavera', datetime(Y,  3, 21),  datetime(Y,  6, 20)),\n",
        "              ('verano', datetime(Y,  6, 21),  datetime(Y,  9, 22)),\n",
        "              ('otoño', datetime(Y,  9, 23),  datetime(Y, 12, 20)),\n",
        "              ('invierno', datetime(Y, 12, 21),  datetime(Y, 12, 31))]\n",
        "\n",
        "  for estacion, inicio, fin in estaciones:\n",
        "    if inicio <= fecha <= fin:\n",
        "      return estacion"
      ],
      "metadata": {
        "id": "MdEPvXXprmaO"
      },
      "execution_count": 36,
      "outputs": []
    },
    {
      "cell_type": "code",
      "source": [
        "df_weather['Seasons'] = df_weather['Date'].apply(get_season)"
      ],
      "metadata": {
        "id": "iKAvdxlzyEM9"
      },
      "execution_count": 37,
      "outputs": []
    },
    {
      "cell_type": "code",
      "source": [
        "df_weather"
      ],
      "metadata": {
        "id": "gBL3iMED0lgU"
      },
      "execution_count": null,
      "outputs": []
    },
    {
      "cell_type": "code",
      "source": [
        "df_weather_1979 = df_weather[df_weather['Date'].dt.strftime('%Y') == '1979']\n",
        "df_weather_1979"
      ],
      "metadata": {
        "id": "ploLWn3Y7PT4"
      },
      "execution_count": null,
      "outputs": []
    },
    {
      "cell_type": "code",
      "source": [
        "sum(df_weather_1979['Precipitation'][df_weather_1979['Seasons'] == 'otoño']>0)"
      ],
      "metadata": {
        "id": "HRfYlK74IYeT"
      },
      "execution_count": null,
      "outputs": []
    },
    {
      "cell_type": "code",
      "source": [
        "sum(df_weather_1979['Precipitation'][df_weather_1979['Seasons'] == 'otoño']>0)/sum(df_weather_1979['Seasons'] == 'otoño')"
      ],
      "metadata": {
        "id": "1wsY5XvD82Ee"
      },
      "execution_count": null,
      "outputs": []
    },
    {
      "cell_type": "code",
      "source": [
        "def porcentaje_precipitaciones(df,estacion):\n",
        "  '''ingresa el df y devuelve el porcentaje \n",
        "  de precipitación(>0) de la estación ingresada'''\n",
        "  total_dias = sum(df_weather_1979['Seasons']==estacion)\n",
        "  total_lluvia = sum(df_weather_1979['Precipitation'][df_weather_1979['Seasons'] == estacion]>0)\n",
        "  total_sin_lluvia = total_dias - total_lluvia\n",
        "  p_lluvia = int(total_lluvia/total_dias*100)\n",
        "  return[p_lluvia,100-p_lluvia]\n"
      ],
      "metadata": {
        "id": "-MI0o7zFEGPL"
      },
      "execution_count": 42,
      "outputs": []
    },
    {
      "cell_type": "code",
      "source": [
        "porcentaje_precipitaciones(df_weather_1979,'invierno')"
      ],
      "metadata": {
        "id": "6DvK0mqaFTZC"
      },
      "execution_count": null,
      "outputs": []
    },
    {
      "cell_type": "markdown",
      "source": [
        "![](https://www.notion.so/image/https%3A%2F%2Fs3-us-west-2.amazonaws.com%2Fsecure.notion-static.com%2F17d6223b-b555-4abe-9b70-45c3cc77e20e%2FUntitled.png?table=block&id=5ac8cd71-ea26-4f9a-b719-7eac6264096d&spaceId=62aa27de-48fd-4703-8a40-2de64b627b11&width=1420&userId=&cache=v2)"
      ],
      "metadata": {
        "id": "kYe2QIPJS7-8"
      }
    },
    {
      "cell_type": "code",
      "source": [
        "import matplotlib.pyplot as plt\n",
        "\n",
        "# Pie chart, where the slices will be ordered and plotted counter-clockwise:\n",
        "labels = 'Lluvia', 'No lluvia'\n",
        "sizes = porcentaje_precipitaciones(df_weather_1979,'invierno')\n",
        "explode = (0.1, 0)  # only \"explode\" \n",
        "\n",
        "fig1, ax1 = plt.subplots()\n",
        "ax1.pie(sizes, explode=explode, labels=labels, autopct='%1.1f%%',\n",
        "        shadow=True, startangle=90)\n",
        "ax1.axis('equal')  # Equal aspect ratio ensures that pie is drawn as a circle.\n",
        "plt.title(\"Invierno 1979\", bbox={'facecolor':'0.9', 'pad':1})\n",
        "plt.show()"
      ],
      "metadata": {
        "id": "wRCwrk9Z9PPo"
      },
      "execution_count": null,
      "outputs": []
    },
    {
      "cell_type": "code",
      "source": [
        "# https://coderedirect.com/questions/364195/how-to-make-mxn-piechart-plots-with-one-legend-and-removed-y-axis-titles-in-matp\n",
        "\n",
        "estaciones = ['invierno','primavera','verano','otoño']\n",
        "\n",
        "fig, axes = plt.subplots(1,4, figsize=(20,5))\n",
        "for ax, estacion in zip(axes, estaciones):\n",
        "    ax.pie(porcentaje_precipitaciones(df_weather_1979,estacion), labels=['Lluvia', 'No lluvia'], autopct='%.2f')\n",
        "    ax.set(ylabel='', title=estacion, aspect='equal')\n",
        "\n",
        "axes[0].legend(bbox_to_anchor=(0, 0.5))\n",
        "\n",
        "\n",
        "plt.show()"
      ],
      "metadata": {
        "id": "RhdkxJMWGbpu"
      },
      "execution_count": null,
      "outputs": []
    },
    {
      "cell_type": "code",
      "source": [
        "fig, ax = plt.subplots()\n",
        "ax.plot(df_weather_1979['Date'], df_weather_1979['Precipitation'])\n",
        "plt.show()"
      ],
      "metadata": {
        "id": "JGWBSS3rHcRK"
      },
      "execution_count": null,
      "outputs": []
    },
    {
      "cell_type": "markdown",
      "metadata": {
        "id": "W_Ro76FDy_mv"
      },
      "source": [
        "\n",
        "\n",
        "![](https://www.notion.so/image/https%3A%2F%2Fs3-us-west-2.amazonaws.com%2Fsecure.notion-static.com%2Ffa3748de-b07b-4cef-a636-3c1063aa134f%2FUntitled.png?table=block&id=2c462201-ceb3-4c52-aaa4-214cf334dee5&spaceId=62aa27de-48fd-4703-8a40-2de64b627b11&width=330&userId=&cache=v2)\n",
        "\n",
        "[plotly](https://plotly.com/python/)"
      ]
    },
    {
      "cell_type": "code",
      "source": [
        "import plotly.express as px"
      ],
      "metadata": {
        "id": "VXWZWNYYjLMl"
      },
      "execution_count": 47,
      "outputs": []
    },
    {
      "cell_type": "code",
      "source": [
        "fig = px.line(df_weather, x='Date', y=\"Precipitation\")\n",
        "fig.show()"
      ],
      "metadata": {
        "id": "0vOreglalyFf"
      },
      "execution_count": null,
      "outputs": []
    },
    {
      "cell_type": "code",
      "source": [
        "fig = px.line(df_weather_1979, x='Date', y=\"Precipitation\")\n",
        "fig.show()"
      ],
      "metadata": {
        "id": "cGuDcAfoT8LY"
      },
      "execution_count": null,
      "outputs": []
    },
    {
      "cell_type": "markdown",
      "source": [
        "## Levantando un EXCEL"
      ],
      "metadata": {
        "id": "Nas38piy-Vt0"
      }
    },
    {
      "cell_type": "code",
      "source": [
        "import pandas as pd\n",
        "#datos = pd.read_excel('LAQUIACA-2019-JUNIO.xlsx')\n",
        "#datos"
      ],
      "metadata": {
        "id": "YioZUrHf-ZSL"
      },
      "execution_count": 49,
      "outputs": []
    },
    {
      "cell_type": "markdown",
      "source": [
        "## Más herramientas para aprender\n",
        "\n",
        "<img src=\"https://github.com/lux-org/lux-resources/raw/master/logo/logo.png?raw=true\" width=\"500\" alt=\"lux-widget-logo\">\n",
        "\n",
        "\n",
        "[lux-widget](https://github.com/lux-org/lux-widget)\n"
      ],
      "metadata": {
        "id": "QDEnAQaZ-NAD"
      }
    },
    {
      "cell_type": "code",
      "source": [
        "#!jupyter nbextension install --py luxwidget"
      ],
      "metadata": {
        "id": "HQM69Xa9-ih3"
      },
      "execution_count": 50,
      "outputs": []
    },
    {
      "cell_type": "code",
      "source": [
        "#!jupyter nbextension enable --py luxwidget"
      ],
      "metadata": {
        "id": "oOyCytWY-j8J"
      },
      "execution_count": 51,
      "outputs": []
    },
    {
      "cell_type": "code",
      "source": [
        "df = pd.read_csv(\"https://raw.githubusercontent.com/lux-org/lux-datasets/master/data/college.csv\")"
      ],
      "metadata": {
        "id": "gqnCboAt-SXj"
      },
      "execution_count": 52,
      "outputs": []
    },
    {
      "cell_type": "code",
      "source": [
        "df"
      ],
      "metadata": {
        "id": "3jkRWN0F-peu"
      },
      "execution_count": null,
      "outputs": []
    }
  ]
}